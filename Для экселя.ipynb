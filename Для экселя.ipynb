{
    "metadata": {
        "kernelspec": {
            "name": "python3",
            "display_name": "Python 3",
            "language": "python"
        },
        "language_info": {
            "name": "python",
            "version": "3.8.10",
            "mimetype": "text/x-python",
            "codemirror_mode": {
                "name": "ipython",
                "version": 3
            },
            "pygments_lexer": "ipython3",
            "nbconvert_exporter": "python",
            "file_extension": ".py"
        }
    },
    "nbformat_minor": 2,
    "nbformat": 4,
    "cells": [
        {
            "cell_type": "code",
            "source": [
                "    "
            ],
            "metadata": {
                "azdata_cell_guid": "09ea2a71-d9b2-43ed-8a76-9d8e4387425b",
                "language": "python"
            },
            "outputs": [],
            "execution_count": null
        },
        {
            "cell_type": "code",
            "source": [
                "import openpyxl\r\n",
                "\r\n",
                "# Открываем файл Excel\r\n",
                "workbook = openpyxl.load_workbook('C:\\\\Users\\\\Keller\\\\Desktop\\\\ВЭС.xlsx')\r\n",
                "\r\n",
                "# Выбираем активный лист (можете указать нужный лист по имени)\r\n",
                "sheet = workbook.active\r\n",
                "\r\n",
                "# Параметры для поиска и копирования\r\n",
                "start_row = 1  # Начальная строка\r\n",
                "end_row = 17000  # Конечная строка\r\n",
                "search_column = 'D'  # Столбец для поиска\r\n",
                "copy_columns = ['A', 'B', 'C', 'D', 'E', 'F', 'G', 'H', 'I', 'J'. 'K']  # Диапазон столбцов для копирования\r\n",
                "new_sheet_name = 'Урик'  # Имя нового листа\r\n",
                "\r\n",
                "# Создаем новый лист\r\n",
                "new_sheet = workbook.create_sheet(title=new_sheet_name)\r\n",
                "\r\n",
                "# Устанавливаем заголовки столбцов на новом листе\r\n",
                "header_row = new_sheet.append(['', '', 'ОБЪЕКТЫ', 'Имя', 'АОИ', 'Тип', 'Квант', 'Множитель', 'Смещение'])\r\n",
                "\r\n",
                "# Счетчик скопированных строк\r\n",
                "copied_rows = 0\r\n",
                "\r\n",
                "# Проходим по строкам и копируем соответствующие строки в новый лист, начиная со второй строки\r\n",
                "for row_index in range(start_row, end_row + 1):\r\n",
                "    cell_value = sheet[f'{search_column}{row_index}'].value\r\n",
                "    if cell_value is not None and ('ПС Урик' or 'ПСУрик' or 'ПС урик') in str(cell_value):\r\n",
                "        new_row = []\r\n",
                "        for copy_column in copy_columns:\r\n",
                "            new_row.append(sheet[f'{copy_column}{row_index}'].value)\r\n",
                "        new_sheet.append(new_row)\r\n",
                "        copied_rows += 1\r\n",
                "\r\n",
                "# Сохраняем изменения в файле\r\n",
                "workbook.save('C:\\\\Users\\\\Keller\\\\Desktop\\\\ВЭС.xlsx')\r\n",
                "\r\n",
                "# Закрываем файл\r\n",
                "workbook.close()\r\n",
                "\r\n",
                "# Выводим количество скопированных строк\r\n",
                "print(f'Скопировано {copied_rows} строк')"
            ],
            "metadata": {
                "language": "python",
                "azdata_cell_guid": "e4bfe4f8-e663-4f50-9d28-e823a213dcac"
            },
            "outputs": [
                {
                    "output_type": "stream",
                    "name": "stdout",
                    "text": "Скопировано 1142 строк\n"
                }
            ],
            "execution_count": 29
        }
    ]
}