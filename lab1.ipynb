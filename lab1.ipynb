{
    "metadata": {
        "kernelspec": {
            "name": "python3",
            "display_name": "Python 3",
            "language": "python"
        },
        "language_info": {
            "name": "python",
            "version": "3.8.10",
            "mimetype": "text/x-python",
            "codemirror_mode": {
                "name": "ipython",
                "version": 3
            },
            "pygments_lexer": "ipython3",
            "nbconvert_exporter": "python",
            "file_extension": ".py"
        }
    },
    "nbformat_minor": 2,
    "nbformat": 4,
    "cells": [
        {
            "cell_type": "code",
            "source": [
                "#  Задача 1\r\n",
                "c = 'stroka'\r\n",
                "a = 10\r\n",
                "b= 4.5\r\n",
                "\r\n",
                "print (a + b)\r\n",
                "print (a - b)\r\n",
                "print (a * b)\r\n",
                "print (a/b)\r\n",
                "print (a//b)\r\n",
                "print (a**b)\r\n",
                "print (a%b)\r\n",
                "print (c[1])\r\n",
                "print (a, b, c)\r\n",
                "print (a, \"\\n\", b, \"\\n\", c)\r\n",
                "\r\n",
                " #  Задача 2\r\n",
                "x = 42\r\n",
                "y = 42\r\n",
                "z= []\r\n",
                "z.append(y)\r\n",
                "z.append(x)\r\n",
                "q = x > y\r\n",
                "print (z[q])\r\n",
                ""
            ],
            "metadata": {
                "azdata_cell_guid": "cd3d06e5-2b24-4217-a238-c446a42d5413",
                "language": "python"
            },
            "outputs": [
                {
                    "name": "stdout",
                    "text": "14.5\n5.5\n45.0\n2.2222222222222223\n2.0\n31622.776601683792\n1.0\nt\n10 4.5 stroka\n10 \n 4.5 \n stroka\n42\n",
                    "output_type": "stream"
                }
            ],
            "execution_count": 40
        }
    ]
}