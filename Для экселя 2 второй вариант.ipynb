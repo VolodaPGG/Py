{
    "metadata": {
        "kernelspec": {
            "name": "python3",
            "display_name": "Python 3",
            "language": "python"
        },
        "language_info": {
            "name": "python",
            "version": "3.8.10",
            "mimetype": "text/x-python",
            "codemirror_mode": {
                "name": "ipython",
                "version": 3
            },
            "pygments_lexer": "ipython3",
            "nbconvert_exporter": "python",
            "file_extension": ".py"
        }
    },
    "nbformat_minor": 2,
    "nbformat": 4,
    "cells": [
        {
            "cell_type": "code",
            "source": [
                "import openpyxl\r\n",
                "import datetime\r\n",
                "\r\n",
                "# Опции программы\r\n",
                "start_row = 1  # Начальная строка сравнения\r\n",
                "end_row = 17000  # Последняя строка сравнения\r\n",
                "compare_column = 'D'  # Столбец для сравнения\r\n",
                "copy_columns = ['E', 'F', 'G', 'H', 'I', 'J', 'K']  # Столбцы для копирования\r\n",
                "target_columns = ['M', 'N', 'O', 'P', 'Q', 'R', 'S']  # Целевые столбцы для вставки\r\n",
                "\r\n",
                "# Открываем файл Excel\r\n",
                "wb = openpyxl.load_workbook('C:\\\\Users\\\\Keller\\\\Desktop\\\\тест\\\\ВЭСтест2.xlsx')\r\n",
                "sheet = wb.active\r\n",
                "\r\n",
                "# Счетчики для отслеживания количества удаленных строк и сравнений\r\n",
                "deleted_rows = 0\r\n",
                "comparisons = 0\r\n",
                "\r\n",
                "# Замеряем время начала выполнения программы\r\n",
                "start_time = datetime.datetime.now()\r\n",
                "\r\n",
                "# Начинаем сравнение\r\n",
                "for row in range(start_row, end_row 0+ 1):\r\n",
                "    cell = sheet[f'{compare_column}{row}']\r\n",
                "    if cell.value is None or cell.value == 'Имя':\r\n",
                "        continue  # Пропускаем пустые и \"Имя\" ячейки\r\n",
                "    \r\n",
                "    for compare_row in range(row + 1, end_row + 1):\r\n",
                "        comparisons += 1\r\n",
                "        compare_cell = sheet[f'{compare_column}{compare_row}']\r\n",
                "        \r\n",
                "        if compare_cell.value is None or compare_cell.value == 'Имя':\r\n",
                "            continue  # Пропускаем пустые и \"Имя\" ячейки\r\n",
                "        \r\n",
                "        if cell.value == compare_cell.value:\r\n",
                "            deleted_rows += 1\r\n",
                "            for i in range(len(copy_columns)):\r\n",
                "                source_col = copy_columns[i]\r\n",
                "                target_col = target_columns[i]\r\n",
                "                sheet[f'{target_col}{compare_row}'].value = sheet[f'{source_col}{row}'].value\r\n",
                "            \r\n",
                "            # Не удаляем строку, а помечаем ее для удаления\n",
                "            cell.value = None\n",
                "            \n",
                "            # Выводим сообщение о совпадении\n",
                "            print(f'Строка {row} совпадает со строкой {compare_row}')\n",
                "\n",
                "# Удаление помеченных строк\n",
                "for row in range(start_row, end_row + 1):\n",
                "    cell = sheet[f'{compare_column}{row}']\n",
                "    if cell.value is None:\n",
                "        sheet.delete_rows(row)\n",
                "        end_row -= 1  # Уменьшаем end_row, так как у нас одна строка удалилась\r\n",
                "\r\n",
                "# Сохраняем изменения\r\n",
                "wb.save('C:\\\\Users\\\\Keller\\\\Desktop\\\\тест\\\\ВЭСтест2.xlsx')\r\n",
                "\r\n",
                "# Завершаем измерение времени\r\n",
                "end_time = datetime.datetime.now()\r\n",
                "execution_time = end_time - start_time\r\n",
                "\r\n",
                "# Вывод результатов\r\n",
                "print(f'Количество удаленных строк: {deleted_rows}')\r\n",
                "print(f'Количество сравнений: {comparisons}')\r\n",
                "print(f'Время выполнения программы: {execution_time}')"
            ],
            "metadata": {
                "azdata_cell_guid": "ad61c5bf-8040-491f-b0d7-e5b6b559afe6",
                "language": "python"
            },
            "outputs": [
                {
                    "output_type": "stream",
                    "name": "stdout",
                    "text": "Строка 657 совпадает со строкой 658\n"
                },
                {
                    "output_type": "stream",
                    "name": "stdout",
                    "text": "Строка 663 совпадает со строкой 664\n"
                },
                {
                    "output_type": "stream",
                    "name": "stdout",
                    "text": "Строка 664 совпадает со строкой 665\n"
                },
                {
                    "output_type": "stream",
                    "name": "stdout",
                    "text": "Строка 665 совпадает со строкой 666\n"
                },
                {
                    "output_type": "stream",
                    "name": "stdout",
                    "text": "Строка 666 совпадает со строкой 667\n"
                },
                {
                    "output_type": "stream",
                    "name": "stdout",
                    "text": "Строка 667 совпадает со строкой 668\n"
                },
                {
                    "output_type": "stream",
                    "name": "stdout",
                    "text": "Строка 668 совпадает со строкой 669\n"
                },
                {
                    "output_type": "stream",
                    "name": "stdout",
                    "text": "Строка 669 совпадает со строкой 670\n"
                },
                {
                    "output_type": "stream",
                    "name": "stdout",
                    "text": "Строка 670 совпадает со строкой 671\n"
                },
                {
                    "output_type": "stream",
                    "name": "stdout",
                    "text": "Строка 671 совпадает со строкой 672\n"
                },
                {
                    "output_type": "stream",
                    "name": "stdout",
                    "text": "Строка 672 совпадает со строкой 673\n"
                },
                {
                    "output_type": "stream",
                    "name": "stdout",
                    "text": "Строка 673 совпадает со строкой 674\n"
                },
                {
                    "output_type": "stream",
                    "name": "stdout",
                    "text": "Строка 674 совпадает со строкой 675\n"
                },
                {
                    "output_type": "stream",
                    "name": "stdout",
                    "text": "Строка 675 совпадает со строкой 676\n"
                },
                {
                    "output_type": "stream",
                    "name": "stdout",
                    "text": "Строка 676 совпадает со строкой 677\n"
                },
                {
                    "output_type": "stream",
                    "name": "stdout",
                    "text": "Строка 677 совпадает со строкой 678\n"
                },
                {
                    "output_type": "stream",
                    "name": "stdout",
                    "text": "Строка 703 совпадает со строкой 704\n"
                },
                {
                    "output_type": "stream",
                    "name": "stdout",
                    "text": "Строка 704 совпадает со строкой 705\n"
                },
                {
                    "output_type": "stream",
                    "name": "stdout",
                    "text": "Строка 705 совпадает со строкой 706\n"
                },
                {
                    "output_type": "stream",
                    "name": "stdout",
                    "text": "Строка 731 совпадает со строкой 732\n"
                },
                {
                    "output_type": "stream",
                    "name": "stdout",
                    "text": "Строка 732 совпадает со строкой 733\n"
                },
                {
                    "output_type": "stream",
                    "name": "stdout",
                    "text": "Строка 733 совпадает со строкой 734\n"
                },
                {
                    "output_type": "stream",
                    "name": "stdout",
                    "text": "Строка 734 совпадает со строкой 735\n"
                },
                {
                    "output_type": "stream",
                    "name": "stdout",
                    "text": "Строка 735 совпадает со строкой 736\n"
                },
                {
                    "output_type": "stream",
                    "name": "stdout",
                    "text": "Строка 736 совпадает со строкой 737\n"
                },
                {
                    "output_type": "stream",
                    "name": "stdout",
                    "text": "Строка 737 совпадает со строкой 738\n"
                },
                {
                    "output_type": "stream",
                    "name": "stdout",
                    "text": "Строка 738 совпадает со строкой 739\n"
                },
                {
                    "output_type": "stream",
                    "name": "stdout",
                    "text": "Строка 739 совпадает со строкой 740\n"
                },
                {
                    "output_type": "stream",
                    "name": "stdout",
                    "text": "Строка 740 совпадает со строкой 741\n"
                },
                {
                    "output_type": "stream",
                    "name": "stdout",
                    "text": "Строка 741 совпадает со строкой 742\n"
                },
                {
                    "output_type": "stream",
                    "name": "stdout",
                    "text": "Строка 742 совпадает со строкой 743\n"
                },
                {
                    "output_type": "stream",
                    "name": "stdout",
                    "text": "Строка 743 совпадает со строкой 744\n"
                },
                {
                    "output_type": "stream",
                    "name": "stdout",
                    "text": "Строка 744 совпадает со строкой 745\n"
                },
                {
                    "output_type": "stream",
                    "name": "stdout",
                    "text": "Строка 745 совпадает со строкой 746\n"
                },
                {
                    "output_type": "stream",
                    "name": "stdout",
                    "text": "Строка 746 совпадает со строкой 747\n"
                },
                {
                    "output_type": "stream",
                    "name": "stdout",
                    "text": "Строка 747 совпадает со строкой 748\n"
                },
                {
                    "output_type": "stream",
                    "name": "stdout",
                    "text": "Строка 748 совпадает со строкой 749\n"
                },
                {
                    "output_type": "stream",
                    "name": "stdout",
                    "text": "Строка 749 совпадает со строкой 750\n"
                },
                {
                    "output_type": "stream",
                    "name": "stdout",
                    "text": "Строка 750 совпадает со строкой 751\n"
                },
                {
                    "output_type": "stream",
                    "name": "stdout",
                    "text": "Строка 751 совпадает со строкой 752\n"
                },
                {
                    "output_type": "stream",
                    "name": "stdout",
                    "text": "Строка 752 совпадает со строкой 753\n"
                },
                {
                    "output_type": "stream",
                    "name": "stdout",
                    "text": "Строка 753 совпадает со строкой 754\n"
                },
                {
                    "output_type": "stream",
                    "name": "stdout",
                    "text": "Строка 754 совпадает со строкой 755\n"
                },
                {
                    "output_type": "stream",
                    "name": "stdout",
                    "text": "Строка 755 совпадает со строкой 756\n"
                },
                {
                    "output_type": "stream",
                    "name": "stdout",
                    "text": "Строка 756 совпадает со строкой 757\n"
                },
                {
                    "output_type": "stream",
                    "name": "stdout",
                    "text": "Строка 757 совпадает со строкой 758\n"
                },
                {
                    "output_type": "stream",
                    "name": "stdout",
                    "text": "Строка 758 совпадает со строкой 759\n"
                },
                {
                    "output_type": "stream",
                    "name": "stdout",
                    "text": "Строка 759 совпадает со строкой 760\n"
                },
                {
                    "output_type": "stream",
                    "name": "stdout",
                    "text": "Строка 760 совпадает со строкой 761\n"
                },
                {
                    "output_type": "stream",
                    "name": "stdout",
                    "text": "Строка 762 совпадает со строкой 763\n"
                },
                {
                    "output_type": "stream",
                    "name": "stdout",
                    "text": "Строка 764 совпадает со строкой 765\n"
                },
                {
                    "output_type": "stream",
                    "name": "stdout",
                    "text": "Строка 767 совпадает со строкой 768\n"
                },
                {
                    "output_type": "stream",
                    "name": "stdout",
                    "text": "Строка 768 совпадает со строкой 769\n"
                },
                {
                    "output_type": "stream",
                    "name": "stdout",
                    "text": "Строка 769 совпадает со строкой 770\n"
                },
                {
                    "output_type": "stream",
                    "name": "stdout",
                    "text": "Строка 770 совпадает со строкой 771\n"
                },
                {
                    "output_type": "stream",
                    "name": "stdout",
                    "text": "Строка 771 совпадает со строкой 772\n"
                },
                {
                    "output_type": "stream",
                    "name": "stdout",
                    "text": "Строка 772 совпадает со строкой 773\n"
                },
                {
                    "output_type": "stream",
                    "name": "stdout",
                    "text": "Строка 773 совпадает со строкой 774\n"
                },
                {
                    "output_type": "stream",
                    "name": "stdout",
                    "text": "Строка 774 совпадает со строкой 775\n"
                },
                {
                    "output_type": "stream",
                    "name": "stdout",
                    "text": "Строка 775 совпадает со строкой 776\n"
                },
                {
                    "output_type": "stream",
                    "name": "stdout",
                    "text": "Строка 776 совпадает со строкой 777\n"
                },
                {
                    "output_type": "stream",
                    "name": "stdout",
                    "text": "Строка 777 совпадает со строкой 778\n"
                },
                {
                    "output_type": "stream",
                    "name": "stdout",
                    "text": "Строка 778 совпадает со строкой 779\n"
                },
                {
                    "output_type": "stream",
                    "name": "stdout",
                    "text": "Строка 779 совпадает со строкой 780\n"
                },
                {
                    "output_type": "stream",
                    "name": "stdout",
                    "text": "Строка 780 совпадает со строкой 781\n"
                },
                {
                    "output_type": "stream",
                    "name": "stdout",
                    "text": "Строка 781 совпадает со строкой 782\n"
                },
                {
                    "output_type": "stream",
                    "name": "stdout",
                    "text": "Строка 782 совпадает со строкой 783\n"
                },
                {
                    "output_type": "stream",
                    "name": "stdout",
                    "text": "Строка 801 совпадает со строкой 802\n"
                },
                {
                    "output_type": "stream",
                    "name": "stdout",
                    "text": "Строка 802 совпадает со строкой 803\n"
                },
                {
                    "output_type": "stream",
                    "name": "stdout",
                    "text": "Строка 803 совпадает со строкой 804\n"
                },
                {
                    "output_type": "stream",
                    "name": "stdout",
                    "text": "Строка 804 совпадает со строкой 805\n"
                },
                {
                    "output_type": "stream",
                    "name": "stdout",
                    "text": "Строка 823 совпадает со строкой 824\n"
                },
                {
                    "output_type": "stream",
                    "name": "stdout",
                    "text": "Строка 839 совпадает со строкой 840\n"
                },
                {
                    "output_type": "stream",
                    "name": "stdout",
                    "text": "Строка 855 совпадает со строкой 856\n"
                },
                {
                    "output_type": "stream",
                    "name": "stdout",
                    "text": "Строка 856 совпадает со строкой 857\n"
                },
                {
                    "output_type": "stream",
                    "name": "stdout",
                    "text": "Строка 857 совпадает со строкой 858\n"
                },
                {
                    "output_type": "stream",
                    "name": "stdout",
                    "text": "Строка 858 совпадает со строкой 859\n"
                },
                {
                    "output_type": "stream",
                    "name": "stdout",
                    "text": "Строка 859 совпадает со строкой 860\n"
                },
                {
                    "output_type": "stream",
                    "name": "stdout",
                    "text": "Строка 860 совпадает со строкой 861\n"
                },
                {
                    "output_type": "stream",
                    "name": "stdout",
                    "text": "Строка 861 совпадает со строкой 862\n"
                },
                {
                    "output_type": "stream",
                    "name": "stdout",
                    "text": "Строка 862 совпадает со строкой 863\n"
                },
                {
                    "output_type": "stream",
                    "name": "stdout",
                    "text": "Строка 863 совпадает со строкой 864\n"
                },
                {
                    "output_type": "stream",
                    "name": "stdout",
                    "text": "Строка 879 совпадает со строкой 880\n"
                },
                {
                    "output_type": "stream",
                    "name": "stdout",
                    "text": "Строка 895 совпадает со строкой 896\n"
                },
                {
                    "output_type": "stream",
                    "name": "stdout",
                    "text": "Строка 912 совпадает со строкой 913\n"
                },
                {
                    "output_type": "stream",
                    "name": "stdout",
                    "text": "Количество удаленных строк: 85\nКоличество сравнений: 431203\nВремя выполнения программы: 0:01:09.308862\n"
                }
            ],
            "execution_count": 4
        }
    ]
}