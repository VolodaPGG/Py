{
    "metadata": {
        "kernelspec": {
            "name": "python3",
            "display_name": "Python 3",
            "language": "python"
        },
        "language_info": {
            "name": "python",
            "version": "3.8.10",
            "mimetype": "text/x-python",
            "codemirror_mode": {
                "name": "ipython",
                "version": 3
            },
            "pygments_lexer": "ipython3",
            "nbconvert_exporter": "python",
            "file_extension": ".py"
        }
    },
    "nbformat_minor": 2,
    "nbformat": 4,
    "cells": [
        {
            "cell_type": "code",
            "source": [
                "import openpyxl\r\n",
                "\r\n",
                "# Открываем Excel файл\r\n",
                "workbook = openpyxl.load_workbook('C:\\\\Users\\\\Keller\\\\Desktop\\\\тест\\\\ключ.xlsx')\r\n",
                "sheet = workbook.active\r\n",
                "\r\n",
                "# Создаем новую страницу\r\n",
                "new_sheet = workbook.create_sheet('Разделенные данные')\r\n",
                "\r\n",
                "# Проходимся по каждой ячейке в столбце D с 1 по 1000 строку\r\n",
                "for row in sheet.iter_rows(min_row=1, max_row=1000, min_col=4, max_col=4, values_only=True):\r\n",
                "    cell_data = row[0]  # Получаем данные из столбца D\r\n",
                "    \r\n",
                "    # Проверка на None перед разделением строки\r\n",
                "    if cell_data:\r\n",
                "        # Разделяем ячейку на слова\r\n",
                "        words = cell_data.split(' ')\r\n",
                "\r\n",
                "        # Определяем приставки и ключевые слова\r\n",
                "        pristavki = []\r\n",
                "        ks_words = []\r\n",
                "        for word in words:\r\n",
                "            # Определите условия, по которым слово относится к приставке или к ключевому слову\r\n",
                "            if условие_приставки:\r\n",
                "                pristavki.append(word)\r\n",
                "            else:\r\n",
                "                ks_words.append(word)\r\n",
                "\r\n",
                "        # Записываем данные в новую таблицу\r\n",
                "        new_sheet.append(pristavki)\r\n",
                "        new_sheet.append(ks_words)\r\n",
                "\r\n",
                "# Сохраняем результат в новый файл\r\n",
                "workbook.save('C:\\\\Users\\\\Keller\\\\Desktop\\\\тест\\\\ключ.xlsx')"
            ],
            "metadata": {
                "azdata_cell_guid": "c5fcb60d-25c5-42bb-b6db-815303b57c90",
                "language": "python",
                "tags": []
            },
            "outputs": [
                {
                    "output_type": "error",
                    "ename": "NameError",
                    "evalue": "name 'условие_приставки' is not defined",
                    "traceback": [
                        "\u001b[1;31m---------------------------------------------------------------------------\u001b[0m",
                        "\u001b[1;31mNameError\u001b[0m                                 Traceback (most recent call last)",
                        "Cell \u001b[1;32mIn[5], line 24\u001b[0m\n\u001b[0;32m     21\u001b[0m ks_words \u001b[38;5;241m=\u001b[39m []\n\u001b[0;32m     22\u001b[0m \u001b[38;5;28;01mfor\u001b[39;00m word \u001b[38;5;129;01min\u001b[39;00m words:\n\u001b[0;32m     23\u001b[0m     \u001b[38;5;66;03m# Определите условия, по которым слово относится к приставке или к ключевому слову\u001b[39;00m\n\u001b[1;32m---> 24\u001b[0m     \u001b[38;5;28;01mif\u001b[39;00m \u001b[43mусловие_приставки\u001b[49m:\n\u001b[0;32m     25\u001b[0m         pristavki\u001b[38;5;241m.\u001b[39mappend(word)\n\u001b[0;32m     26\u001b[0m     \u001b[38;5;28;01melse\u001b[39;00m:\n",
                        "\u001b[1;31mNameError\u001b[0m: name 'условие_приставки' is not defined"
                    ]
                }
            ],
            "execution_count": 5
        }
    ]
}