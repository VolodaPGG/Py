{
    "metadata": {
        "kernelspec": {
            "name": "python3",
            "display_name": "Python 3",
            "language": "python"
        },
        "language_info": {
            "name": "python",
            "version": "3.8.10",
            "mimetype": "text/x-python",
            "codemirror_mode": {
                "name": "ipython",
                "version": 3
            },
            "pygments_lexer": "ipython3",
            "nbconvert_exporter": "python",
            "file_extension": ".py"
        }
    },
    "nbformat_minor": 2,
    "nbformat": 4,
    "cells": [
        {
            "cell_type": "code",
            "source": [
                "import openpyxl\r\n",
                "import datetime\r\n",
                "\r\n",
                "# Опции программы\r\n",
                "start_row = 1  # Начальная строка сравнения\r\n",
                "end_row = 1000  # Последняя строка сравнения\r\n",
                "compare_column = 'D'  # Столбец для сравнения\r\n",
                "copy_columns = ['E', 'F', 'G', 'H', 'I', 'J', 'K']  # Столбцы для копирования\r\n",
                "target_columns = ['M', 'N', 'O', 'P', 'Q', 'R', 'S']  # Целевые столбцы для вставки\r\n",
                "\r\n",
                "# Открываем файл Excel\r\n",
                "wb = openpyxl.load_workbook('C:\\\\Users\\\\Keller\\\\Desktop\\\\тест\\\\ВЭСтест2.xlsx')\r\n",
                "sheet = wb.active\r\n",
                "\r\n",
                "# Счетчики для отслеживания количества удаленных строк и сравнений\r\n",
                "deleted_rows = 0\r\n",
                "comparisons = 0\r\n",
                "\r\n",
                "# Замеряем время начала выполнения программы\r\n",
                "start_time = datetime.datetime.now()\r\n",
                "\r\n",
                "# Создаем список для хранения строк, которые нужно удалить\r\n",
                "rows_to_delete = []\r\n",
                "\r\n",
                "# Начинаем сравнение\r\n",
                "for row in range(start_row, end_row + 1):\r\n",
                "    cell = sheet[f'{compare_column}{row}']\r\n",
                "    if cell.value is None or cell.value == 'Имя':\r\n",
                "        continue  # Пропускаем пустые и \"Имя\" ячейки\r\n",
                "    \r\n",
                "    for compare_row in range(row + 1, end_row + 1):\r\n",
                "        comparisons += 1\r\n",
                "        compare_cell = sheet[f'{compare_column}{compare_row}']\r\n",
                "        \r\n",
                "        if compare_cell.value is None or compare_cell.value == 'Имя':\r\n",
                "            continue  # Пропускаем пустые и \"Имя\" ячейки\r\n",
                "        \r\n",
                "        if cell.value == compare_cell.value:\r\n",
                "            deleted_rows += 1\r\n",
                "            for i in range(len(copy_columns)):\r\n",
                "                source_col = copy_columns[i]\r\n",
                "                target_col = target_columns[i]\r\n",
                "                sheet[f'{target_col}{compare_row}'].value = sheet[f'{source_col}{row}'].value\r\n",
                "            \r\n",
                "            # Добавляем строку в список для удаления\r\n",
                "            rows_to_delete.append(row)\r\n",
                "\r\n",
                "# Удаление помеченных строк\r\n",
                "for row in reversed(rows_to_delete):\r\n",
                "    sheet.delete_rows(row)\r\n",
                "\r\n",
                "# Сохраняем изменения\r\n",
                "wb.save('C:\\\\Users\\\\Keller\\\\Desktop\\\\тест\\\\ВЭСтест2.xlsx')\r\n",
                "\r\n",
                "# Завершаем измерение времени\r\n",
                "end_time = datetime.datetime.now()\r\n",
                "execution_time = end_time - start_time\r\n",
                "\r\n",
                "# Вывод результатов\r\n",
                "print(f'Количество удаленных строк: {deleted_rows}')\r\n",
                "print(f'Количество сравнений: {comparisons}')\r\n",
                "print(f'Время выполнения программы: {execution_time}')"
            ],
            "metadata": {
                "azdata_cell_guid": "bfa78a0f-9dbe-477a-b431-c71b917b9a2c",
                "language": "python"
            },
            "outputs": [
                {
                    "traceback": [
                        "\u001b[1;31m---------------------------------------------------------------------------\u001b[0m",
                        "\u001b[1;31mPermissionError\u001b[0m                           Traceback (most recent call last)",
                        "Cell \u001b[1;32mIn[3], line 53\u001b[0m\n\u001b[0;32m     50\u001b[0m     sheet\u001b[38;5;241m.\u001b[39mdelete_rows(row)\n\u001b[0;32m     52\u001b[0m \u001b[38;5;66;03m# Сохраняем изменения\u001b[39;00m\n\u001b[1;32m---> 53\u001b[0m \u001b[43mwb\u001b[49m\u001b[38;5;241;43m.\u001b[39;49m\u001b[43msave\u001b[49m\u001b[43m(\u001b[49m\u001b[38;5;124;43m'\u001b[39;49m\u001b[38;5;124;43mC:\u001b[39;49m\u001b[38;5;130;43;01m\\\\\u001b[39;49;00m\u001b[38;5;124;43mUsers\u001b[39;49m\u001b[38;5;130;43;01m\\\\\u001b[39;49;00m\u001b[38;5;124;43mKeller\u001b[39;49m\u001b[38;5;130;43;01m\\\\\u001b[39;49;00m\u001b[38;5;124;43mDesktop\u001b[39;49m\u001b[38;5;130;43;01m\\\\\u001b[39;49;00m\u001b[38;5;124;43mтест\u001b[39;49m\u001b[38;5;130;43;01m\\\\\u001b[39;49;00m\u001b[38;5;124;43mВЭСтест2.xlsx\u001b[39;49m\u001b[38;5;124;43m'\u001b[39;49m\u001b[43m)\u001b[49m\n\u001b[0;32m     55\u001b[0m \u001b[38;5;66;03m# Завершаем измерение времени\u001b[39;00m\n\u001b[0;32m     56\u001b[0m end_time \u001b[38;5;241m=\u001b[39m datetime\u001b[38;5;241m.\u001b[39mdatetime\u001b[38;5;241m.\u001b[39mnow()\n",
                        "File \u001b[1;32m~\\azuredatastudio-python\\lib\\site-packages\\openpyxl\\workbook\\workbook.py:386\u001b[0m, in \u001b[0;36mWorkbook.save\u001b[1;34m(self, filename)\u001b[0m\n\u001b[0;32m    384\u001b[0m \u001b[38;5;28;01mif\u001b[39;00m \u001b[38;5;28mself\u001b[39m\u001b[38;5;241m.\u001b[39mwrite_only \u001b[38;5;129;01mand\u001b[39;00m \u001b[38;5;129;01mnot\u001b[39;00m \u001b[38;5;28mself\u001b[39m\u001b[38;5;241m.\u001b[39mworksheets:\n\u001b[0;32m    385\u001b[0m     \u001b[38;5;28mself\u001b[39m\u001b[38;5;241m.\u001b[39mcreate_sheet()\n\u001b[1;32m--> 386\u001b[0m \u001b[43msave_workbook\u001b[49m\u001b[43m(\u001b[49m\u001b[38;5;28;43mself\u001b[39;49m\u001b[43m,\u001b[49m\u001b[43m \u001b[49m\u001b[43mfilename\u001b[49m\u001b[43m)\u001b[49m\n",
                        "File \u001b[1;32m~\\azuredatastudio-python\\lib\\site-packages\\openpyxl\\writer\\excel.py:291\u001b[0m, in \u001b[0;36msave_workbook\u001b[1;34m(workbook, filename)\u001b[0m\n\u001b[0;32m    279\u001b[0m \u001b[38;5;28;01mdef\u001b[39;00m \u001b[38;5;21msave_workbook\u001b[39m(workbook, filename):\n\u001b[0;32m    280\u001b[0m \u001b[38;5;250m    \u001b[39m\u001b[38;5;124;03m\"\"\"Save the given workbook on the filesystem under the name filename.\u001b[39;00m\n\u001b[0;32m    281\u001b[0m \n\u001b[0;32m    282\u001b[0m \u001b[38;5;124;03m    :param workbook: the workbook to save\u001b[39;00m\n\u001b[1;32m   (...)\u001b[0m\n\u001b[0;32m    289\u001b[0m \n\u001b[0;32m    290\u001b[0m \u001b[38;5;124;03m    \"\"\"\u001b[39;00m\n\u001b[1;32m--> 291\u001b[0m     archive \u001b[38;5;241m=\u001b[39m \u001b[43mZipFile\u001b[49m\u001b[43m(\u001b[49m\u001b[43mfilename\u001b[49m\u001b[43m,\u001b[49m\u001b[43m \u001b[49m\u001b[38;5;124;43m'\u001b[39;49m\u001b[38;5;124;43mw\u001b[39;49m\u001b[38;5;124;43m'\u001b[39;49m\u001b[43m,\u001b[49m\u001b[43m \u001b[49m\u001b[43mZIP_DEFLATED\u001b[49m\u001b[43m,\u001b[49m\u001b[43m \u001b[49m\u001b[43mallowZip64\u001b[49m\u001b[38;5;241;43m=\u001b[39;49m\u001b[38;5;28;43;01mTrue\u001b[39;49;00m\u001b[43m)\u001b[49m\n\u001b[0;32m    292\u001b[0m     workbook\u001b[38;5;241m.\u001b[39mproperties\u001b[38;5;241m.\u001b[39mmodified \u001b[38;5;241m=\u001b[39m datetime\u001b[38;5;241m.\u001b[39mdatetime\u001b[38;5;241m.\u001b[39mutcnow()\n\u001b[0;32m    293\u001b[0m     writer \u001b[38;5;241m=\u001b[39m ExcelWriter(workbook, archive)\n",
                        "File \u001b[1;32m~\\azuredatastudio-python\\lib\\zipfile.py:1251\u001b[0m, in \u001b[0;36mZipFile.__init__\u001b[1;34m(self, file, mode, compression, allowZip64, compresslevel, strict_timestamps)\u001b[0m\n\u001b[0;32m   1249\u001b[0m \u001b[38;5;28;01mwhile\u001b[39;00m \u001b[38;5;28;01mTrue\u001b[39;00m:\n\u001b[0;32m   1250\u001b[0m     \u001b[38;5;28;01mtry\u001b[39;00m:\n\u001b[1;32m-> 1251\u001b[0m         \u001b[38;5;28mself\u001b[39m\u001b[38;5;241m.\u001b[39mfp \u001b[38;5;241m=\u001b[39m \u001b[43mio\u001b[49m\u001b[38;5;241;43m.\u001b[39;49m\u001b[43mopen\u001b[49m\u001b[43m(\u001b[49m\u001b[43mfile\u001b[49m\u001b[43m,\u001b[49m\u001b[43m \u001b[49m\u001b[43mfilemode\u001b[49m\u001b[43m)\u001b[49m\n\u001b[0;32m   1252\u001b[0m     \u001b[38;5;28;01mexcept\u001b[39;00m \u001b[38;5;167;01mOSError\u001b[39;00m:\n\u001b[0;32m   1253\u001b[0m         \u001b[38;5;28;01mif\u001b[39;00m filemode \u001b[38;5;129;01min\u001b[39;00m modeDict:\n",
                        "\u001b[1;31mPermissionError\u001b[0m: [Errno 13] Permission denied: 'C:\\\\Users\\\\Keller\\\\Desktop\\\\тест\\\\ВЭСтест2.xlsx'"
                    ],
                    "ename": "PermissionError",
                    "evalue": "[Errno 13] Permission denied: 'C:\\\\Users\\\\Keller\\\\Desktop\\\\тест\\\\ВЭСтест2.xlsx'",
                    "output_type": "error"
                }
            ],
            "execution_count": 3
        }
    ]
}