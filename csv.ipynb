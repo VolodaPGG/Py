{
    "metadata": {
        "kernelspec": {
            "name": "python3",
            "display_name": "Python 3",
            "language": "python"
        },
        "language_info": {
            "name": "python",
            "version": "3.8.10",
            "mimetype": "text/x-python",
            "codemirror_mode": {
                "name": "ipython",
                "version": 3
            },
            "pygments_lexer": "ipython3",
            "nbconvert_exporter": "python",
            "file_extension": ".py"
        }
    },
    "nbformat_minor": 2,
    "nbformat": 4,
    "cells": [
        {
            "cell_type": "code",
            "source": [
                "import csv\r\n",
                "\r\n",
                "# Открываем исходный CSV файл для чтения\r\n",
                "with open('C:\\\\Users\\\\Keller\\\\Downloads\\\\ВЭС.csv', mode='r', newline='') as input_csv_file:\r\n",
                "    csv_reader = csv.reader(input_csv_file)\r\n",
                "\r\n",
                "    # Создаем новый CSV файл для записи\r\n",
                "    with open('C:\\\\Users\\\\Keller\\\\Desktop\\\\ВЭС.csv', mode='w', newline='') as output_csv_file:\r\n",
                "        csv_writer = csv.writer(output_csv_file)\r\n",
                "\r\n",
                "        # Параметры для поиска и копирования\r\n",
                "        start_row = 1  # Начальная строка\r\n",
                "        end_row = 19000  # Конечная строка\r\n",
                "        search_column_index = 3  # Индекс столбца для поиска (нумерация с нуля)\r\n",
                "        copy_columns_indices = [0, 1, 2, 3, 4, 5, 6, 7, 8]  # Индексы столбцов для копирования\r\n",
                "        copied_rows = 0\r\n",
                "\r\n",
                "        # Читаем и записываем заголовок (строку с индексом 0)\r\n",
                "        header = next(csv_reader)\r\n",
                "        csv_writer.writerow([' ', ' ', 'ОБЪЕКТЫ', 'Имя', 'АОИ', 'Тип', 'Квант', 'Множитель', 'Смещение'])\r\n",
                "\r\n",
                "        # Пропускаем первую строку и начинаем запись со второй\r\n",
                "for row_index, row in enumerate(csv_reader, start=2):\r\n",
                "    if row_index > end_row:\r\n",
                "        break\r\n",
                "\r\n",
                "    if row_index >= start_row:\r\n",
                "        cell_value = row[search_column_index]\r\n",
                "        if cell_value is not None and cell_value.strip():  # Проверка на наличие и непустое значение\r\n",
                "            if 'ваше_ключевое_слово' in str(cell_value):\r\n",
                "                # Формируем новую строку для записи в новый CSV файл\r\n",
                "                new_row = [row[i] for i in copy_columns_indices]\r\n",
                "                csv_writer.writerow(new_row)\r\n",
                "                copied_rows += 1\r\n",
                "\r\n",
                "# Закрываем исходный файл после обработки данных\r\n",
                "input_csv_file.close()\r\n",
                "\r\n",
                "# Выводим количество скопированных строк\r\n",
                "print(f'Скопировано {copied_rows} строк')"
            ],
            "metadata": {
                "azdata_cell_guid": "70404627-d267-40f9-ac23-004e818b8214",
                "language": "python"
            },
            "outputs": [
                {
                    "traceback": [
                        "\u001b[1;31m---------------------------------------------------------------------------\u001b[0m",
                        "\u001b[1;31mValueError\u001b[0m                                Traceback (most recent call last)",
                        "Cell \u001b[1;32mIn[20], line 23\u001b[0m\n\u001b[0;32m     20\u001b[0m         csv_writer\u001b[38;5;241m.\u001b[39mwriterow([\u001b[38;5;124m'\u001b[39m\u001b[38;5;124m \u001b[39m\u001b[38;5;124m'\u001b[39m, \u001b[38;5;124m'\u001b[39m\u001b[38;5;124m \u001b[39m\u001b[38;5;124m'\u001b[39m, \u001b[38;5;124m'\u001b[39m\u001b[38;5;124mОБЪЕКТЫ\u001b[39m\u001b[38;5;124m'\u001b[39m, \u001b[38;5;124m'\u001b[39m\u001b[38;5;124mИмя\u001b[39m\u001b[38;5;124m'\u001b[39m, \u001b[38;5;124m'\u001b[39m\u001b[38;5;124mАОИ\u001b[39m\u001b[38;5;124m'\u001b[39m, \u001b[38;5;124m'\u001b[39m\u001b[38;5;124mТип\u001b[39m\u001b[38;5;124m'\u001b[39m, \u001b[38;5;124m'\u001b[39m\u001b[38;5;124mКвант\u001b[39m\u001b[38;5;124m'\u001b[39m, \u001b[38;5;124m'\u001b[39m\u001b[38;5;124mМножитель\u001b[39m\u001b[38;5;124m'\u001b[39m, \u001b[38;5;124m'\u001b[39m\u001b[38;5;124mСмещение\u001b[39m\u001b[38;5;124m'\u001b[39m])\n\u001b[0;32m     22\u001b[0m         \u001b[38;5;66;03m# Пропускаем первую строку и начинаем запись со второй\u001b[39;00m\n\u001b[1;32m---> 23\u001b[0m \u001b[38;5;28;01mfor\u001b[39;00m row_index, row \u001b[38;5;129;01min\u001b[39;00m \u001b[38;5;28menumerate\u001b[39m(csv_reader, start\u001b[38;5;241m=\u001b[39m\u001b[38;5;241m2\u001b[39m):\n\u001b[0;32m     24\u001b[0m     \u001b[38;5;28;01mif\u001b[39;00m row_index \u001b[38;5;241m>\u001b[39m end_row:\n\u001b[0;32m     25\u001b[0m         \u001b[38;5;28;01mbreak\u001b[39;00m\n",
                        "\u001b[1;31mValueError\u001b[0m: I/O operation on closed file."
                    ],
                    "ename": "ValueError",
                    "evalue": "I/O operation on closed file.",
                    "output_type": "error"
                }
            ],
            "execution_count": 20
        }
    ]
}