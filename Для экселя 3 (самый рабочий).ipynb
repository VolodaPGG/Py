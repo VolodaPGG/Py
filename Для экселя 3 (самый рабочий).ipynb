{
    "metadata": {
        "kernelspec": {
            "name": "python3",
            "display_name": "Python 3",
            "language": "python"
        },
        "language_info": {
            "name": "python",
            "version": "3.8.10",
            "mimetype": "text/x-python",
            "codemirror_mode": {
                "name": "ipython",
                "version": 3
            },
            "pygments_lexer": "ipython3",
            "nbconvert_exporter": "python",
            "file_extension": ".py"
        }
    },
    "nbformat_minor": 2,
    "nbformat": 4,
    "cells": [
        {
            "cell_type": "code",
            "source": [
                "import openpyxl\r\n",
                "import datetime\r\n",
                "\r\n",
                "# Опции программы\r\n",
                "start_row = 1  # Начальная строка сравнения\r\n",
                "end_row = 17000  # Последняя строка сравнения\r\n",
                "compare_column = 'D'  # Столбец для сравнения\r\n",
                "copy_columns = ['E', 'F', 'G', 'H', 'I', 'J', 'K']  # Столбцы для копирования\r\n",
                "target_columns = ['M', 'N', 'O', 'P', 'Q', 'R', 'S']  # Целевые столбцы для вставки\r\n",
                "\r\n",
                "# Открываем файл Excel\r\n",
                "wb = openpyxl.load_workbook('C:\\\\Users\\\\Keller\\\\Desktop\\\\тест\\\\ВЭСтест2.xlsx')\r\n",
                "sheet = wb.active\r\n",
                "\r\n",
                "# Счетчики для отслеживания количества удаленных строк и сравнений\r\n",
                "deleted_rows = 0\r\n",
                "comparisons = 0\r\n",
                "\r\n",
                "# Замеряем время начала выполнения программы\r\n",
                "start_time = datetime.datetime.now()\r\n",
                "\r\n",
                "# Создаем список для хранения строк, которые нужно удалить\r\n",
                "rows_to_delete = []\r\n",
                "\r\n",
                "# Начинаем сравнение\r\n",
                "for row in range(start_row, end_row + 1):\r\n",
                "    cell = sheet[f'{compare_column}{row}']\r\n",
                "    if cell.value is None or cell.value == 'Имя':\r\n",
                "        continue  # Пропускаем пустые и \"Имя\" ячейки\r\n",
                "    \r\n",
                "    for compare_row in range(row + 1, end_row + 1):\r\n",
                "        comparisons += 1\r\n",
                "        compare_cell = sheet[f'{compare_column}{compare_row}']\r\n",
                "        \r\n",
                "        if compare_cell.value is None or compare_cell.value == 'Имя':\r\n",
                "            continue  # Пропускаем пустые и \"Имя\" ячейки\r\n",
                "        \r\n",
                "        if cell.value == compare_cell.value:\r\n",
                "            deleted_rows += 1\r\n",
                "            for i in range(len(copy_columns)):\r\n",
                "                source_col = copy_columns[i]\r\n",
                "                target_col = target_columns[i]\r\n",
                "                # Копируем значение ячейки\r\n",
                "                sheet[f'{target_col}{compare_row}'].value = sheet[f'{source_col}{row}'].value\r\n",
                "            \r\n",
                "            # Добавляем строку в список для удаления\r\n",
                "            rows_to_delete.append(compare_row)\r\n",
                "            sheet.delete_rows(row)\r\n",
                "            print(f'Строка {row} совпадает со строкой {compare_row}')\r\n",
                "\r\n",
                "# Сохраняем изменения\r\n",
                "wb.save('C:\\\\Users\\\\Keller\\\\Desktop\\\\тест\\\\ВЭСтест2.xlsx')\r\n",
                "\r\n",
                "# Завершаем измерение времени\r\n",
                "end_time = datetime.datetime.now()\r\n",
                "execution_time = end_time - start_time\r\n",
                "\r\n",
                "# Вывод результатов\r\n",
                "print(f'Количество удаленных строк: {deleted_rows}')\r\n",
                "print(f'Количество сравнений: {comparisons}')\r\n",
                "print(f'Время выполнения программы: {execution_time}')"
            ],
            "metadata": {
                "azdata_cell_guid": "78a7c55f-996b-4716-9576-73f7bf923ed7",
                "language": "python"
            },
            "outputs": [
                {
                    "name": "stdout",
                    "text": "Строка 10 совпадает со строкой 12601\n",
                    "output_type": "stream"
                },
                {
                    "name": "stdout",
                    "text": "Строка 11 совпадает со строкой 12602\n",
                    "output_type": "stream"
                },
                {
                    "name": "stdout",
                    "text": "Строка 15 совпадает со строкой 12603\n",
                    "output_type": "stream"
                },
                {
                    "name": "stdout",
                    "text": "Строка 16 совпадает со строкой 12604\n",
                    "output_type": "stream"
                },
                {
                    "name": "stdout",
                    "text": "Строка 20 совпадает со строкой 12605\n",
                    "output_type": "stream"
                },
                {
                    "name": "stdout",
                    "text": "Строка 21 совпадает со строкой 12606\n",
                    "output_type": "stream"
                },
                {
                    "name": "stdout",
                    "text": "Строка 22 совпадает со строкой 12607\n",
                    "output_type": "stream"
                },
                {
                    "name": "stdout",
                    "text": "Строка 23 совпадает со строкой 12608\n",
                    "output_type": "stream"
                },
                {
                    "name": "stdout",
                    "text": "Строка 24 совпадает со строкой 12609\n",
                    "output_type": "stream"
                },
                {
                    "name": "stdout",
                    "text": "Строка 25 совпадает со строкой 12610\n",
                    "output_type": "stream"
                },
                {
                    "name": "stdout",
                    "text": "Строка 26 совпадает со строкой 12611\n",
                    "output_type": "stream"
                },
                {
                    "name": "stdout",
                    "text": "Строка 27 совпадает со строкой 12612\n",
                    "output_type": "stream"
                },
                {
                    "name": "stdout",
                    "text": "Строка 28 совпадает со строкой 12613\n",
                    "output_type": "stream"
                },
                {
                    "name": "stdout",
                    "text": "Строка 29 совпадает со строкой 12614\n",
                    "output_type": "stream"
                },
                {
                    "name": "stdout",
                    "text": "Строка 30 совпадает со строкой 12615\n",
                    "output_type": "stream"
                },
                {
                    "name": "stdout",
                    "text": "Строка 31 совпадает со строкой 12616\n",
                    "output_type": "stream"
                },
                {
                    "name": "stdout",
                    "text": "Строка 32 совпадает со строкой 12617\n",
                    "output_type": "stream"
                },
                {
                    "name": "stdout",
                    "text": "Строка 33 совпадает со строкой 12618\n",
                    "output_type": "stream"
                },
                {
                    "name": "stdout",
                    "text": "Строка 34 совпадает со строкой 12619\n",
                    "output_type": "stream"
                },
                {
                    "name": "stdout",
                    "text": "Строка 35 совпадает со строкой 12620\n",
                    "output_type": "stream"
                },
                {
                    "name": "stdout",
                    "text": "Строка 36 совпадает со строкой 12621\n",
                    "output_type": "stream"
                },
                {
                    "name": "stdout",
                    "text": "Строка 37 совпадает со строкой 12622\n",
                    "output_type": "stream"
                },
                {
                    "name": "stdout",
                    "text": "Строка 38 совпадает со строкой 12623\n",
                    "output_type": "stream"
                },
                {
                    "name": "stdout",
                    "text": "Строка 39 совпадает со строкой 12624\n",
                    "output_type": "stream"
                },
                {
                    "name": "stdout",
                    "text": "Строка 40 совпадает со строкой 12625\n",
                    "output_type": "stream"
                },
                {
                    "name": "stdout",
                    "text": "Строка 41 совпадает со строкой 12626\n",
                    "output_type": "stream"
                },
                {
                    "name": "stdout",
                    "text": "Строка 54 совпадает со строкой 12627\n",
                    "output_type": "stream"
                },
                {
                    "name": "stdout",
                    "text": "Строка 55 совпадает со строкой 12628\n",
                    "output_type": "stream"
                },
                {
                    "name": "stdout",
                    "text": "Строка 56 совпадает со строкой 12629\n",
                    "output_type": "stream"
                },
                {
                    "name": "stdout",
                    "text": "Строка 58 совпадает со строкой 12630\n",
                    "output_type": "stream"
                },
                {
                    "name": "stdout",
                    "text": "Строка 59 совпадает со строкой 12631\n",
                    "output_type": "stream"
                },
                {
                    "name": "stdout",
                    "text": "Строка 60 совпадает со строкой 12632\n",
                    "output_type": "stream"
                },
                {
                    "name": "stdout",
                    "text": "Строка 61 совпадает со строкой 12633\n",
                    "output_type": "stream"
                },
                {
                    "name": "stdout",
                    "text": "Строка 64 совпадает со строкой 12551\n",
                    "output_type": "stream"
                },
                {
                    "name": "stdout",
                    "text": "Строка 65 совпадает со строкой 12554\n",
                    "output_type": "stream"
                },
                {
                    "name": "stdout",
                    "text": "Строка 66 совпадает со строкой 12556\n",
                    "output_type": "stream"
                },
                {
                    "name": "stdout",
                    "text": "Строка 67 совпадает со строкой 12556\n",
                    "output_type": "stream"
                },
                {
                    "name": "stdout",
                    "text": "Строка 68 совпадает со строкой 12557\n",
                    "output_type": "stream"
                },
                {
                    "name": "stdout",
                    "text": "Строка 74 совпадает со строкой 12544\n",
                    "output_type": "stream"
                },
                {
                    "name": "stdout",
                    "text": "Строка 77 совпадает со строкой 12544\n",
                    "output_type": "stream"
                },
                {
                    "name": "stdout",
                    "text": "Строка 78 совпадает со строкой 12556\n",
                    "output_type": "stream"
                },
                {
                    "name": "stdout",
                    "text": "Строка 79 совпадает со строкой 12557\n",
                    "output_type": "stream"
                },
                {
                    "name": "stdout",
                    "text": "Строка 81 совпадает со строкой 12543\n",
                    "output_type": "stream"
                },
                {
                    "name": "stdout",
                    "text": "Строка 111 совпадает со строкой 12648\n",
                    "output_type": "stream"
                },
                {
                    "name": "stdout",
                    "text": "Строка 112 совпадает со строкой 12649\n",
                    "output_type": "stream"
                },
                {
                    "name": "stdout",
                    "text": "Строка 113 совпадает со строкой 12650\n",
                    "output_type": "stream"
                },
                {
                    "name": "stdout",
                    "text": "Строка 114 совпадает со строкой 12651\n",
                    "output_type": "stream"
                },
                {
                    "name": "stdout",
                    "text": "Строка 123 совпадает со строкой 12652\n",
                    "output_type": "stream"
                },
                {
                    "name": "stdout",
                    "text": "Строка 124 совпадает со строкой 12653\n",
                    "output_type": "stream"
                },
                {
                    "name": "stdout",
                    "text": "Строка 125 совпадает со строкой 12654\n",
                    "output_type": "stream"
                },
                {
                    "name": "stdout",
                    "text": "Строка 126 совпадает со строкой 12655\n",
                    "output_type": "stream"
                },
                {
                    "name": "stdout",
                    "text": "Строка 127 совпадает со строкой 12656\n",
                    "output_type": "stream"
                },
                {
                    "name": "stdout",
                    "text": "Строка 128 совпадает со строкой 12657\n",
                    "output_type": "stream"
                },
                {
                    "name": "stdout",
                    "text": "Строка 131 совпадает со строкой 12657\n",
                    "output_type": "stream"
                },
                {
                    "name": "stdout",
                    "text": "Строка 132 совпадает со строкой 12658\n",
                    "output_type": "stream"
                },
                {
                    "name": "stdout",
                    "text": "Строка 141 совпадает со строкой 12659\n",
                    "output_type": "stream"
                },
                {
                    "name": "stdout",
                    "text": "Строка 142 совпадает со строкой 12660\n",
                    "output_type": "stream"
                },
                {
                    "name": "stdout",
                    "text": "Строка 143 совпадает со строкой 12661\n",
                    "output_type": "stream"
                },
                {
                    "name": "stdout",
                    "text": "Строка 144 совпадает со строкой 12662\n",
                    "output_type": "stream"
                },
                {
                    "name": "stdout",
                    "text": "Строка 145 совпадает со строкой 12663\n",
                    "output_type": "stream"
                },
                {
                    "name": "stdout",
                    "text": "Строка 146 совпадает со строкой 12664\n",
                    "output_type": "stream"
                },
                {
                    "name": "stdout",
                    "text": "Строка 147 совпадает со строкой 12665\n",
                    "output_type": "stream"
                },
                {
                    "name": "stdout",
                    "text": "Строка 148 совпадает со строкой 12666\n",
                    "output_type": "stream"
                },
                {
                    "name": "stdout",
                    "text": "Строка 149 совпадает со строкой 12667\n",
                    "output_type": "stream"
                },
                {
                    "name": "stdout",
                    "text": "Строка 150 совпадает со строкой 12668\n",
                    "output_type": "stream"
                },
                {
                    "name": "stdout",
                    "text": "Строка 151 совпадает со строкой 12669\n",
                    "output_type": "stream"
                },
                {
                    "name": "stdout",
                    "text": "Строка 153 совпадает со строкой 12607\n",
                    "output_type": "stream"
                },
                {
                    "name": "stdout",
                    "text": "Строка 157 совпадает со строкой 12608\n",
                    "output_type": "stream"
                },
                {
                    "name": "stdout",
                    "text": "Строка 159 совпадает со строкой 12609\n",
                    "output_type": "stream"
                },
                {
                    "name": "stdout",
                    "text": "Строка 160 совпадает со строкой 12609\n",
                    "output_type": "stream"
                },
                {
                    "name": "stdout",
                    "text": "Строка 161 совпадает со строкой 12610\n",
                    "output_type": "stream"
                },
                {
                    "name": "stdout",
                    "text": "Строка 162 совпадает со строкой 12611\n",
                    "output_type": "stream"
                },
                {
                    "name": "stdout",
                    "text": "Строка 163 совпадает со строкой 12612\n",
                    "output_type": "stream"
                },
                {
                    "name": "stdout",
                    "text": "Строка 164 совпадает со строкой 12613\n",
                    "output_type": "stream"
                },
                {
                    "name": "stdout",
                    "text": "Строка 165 совпадает со строкой 12614\n",
                    "output_type": "stream"
                },
                {
                    "name": "stdout",
                    "text": "Строка 190 совпадает со строкой 12682\n",
                    "output_type": "stream"
                },
                {
                    "name": "stdout",
                    "text": "Строка 191 совпадает со строкой 12683\n",
                    "output_type": "stream"
                },
                {
                    "name": "stdout",
                    "text": "Строка 192 совпадает со строкой 12684\n",
                    "output_type": "stream"
                },
                {
                    "name": "stdout",
                    "text": "Строка 193 совпадает со строкой 12685\n",
                    "output_type": "stream"
                },
                {
                    "name": "stdout",
                    "text": "Строка 202 совпадает со строкой 12686\n",
                    "output_type": "stream"
                },
                {
                    "name": "stdout",
                    "text": "Строка 203 совпадает со строкой 12687\n",
                    "output_type": "stream"
                },
                {
                    "name": "stdout",
                    "text": "Строка 204 совпадает со строкой 12688\n",
                    "output_type": "stream"
                },
                {
                    "name": "stdout",
                    "text": "Строка 205 совпадает со строкой 12689\n",
                    "output_type": "stream"
                },
                {
                    "name": "stdout",
                    "text": "Строка 206 совпадает со строкой 12690\n",
                    "output_type": "stream"
                },
                {
                    "name": "stdout",
                    "text": "Строка 207 совпадает со строкой 12691\n",
                    "output_type": "stream"
                },
                {
                    "name": "stdout",
                    "text": "Строка 208 совпадает со строкой 12692\n",
                    "output_type": "stream"
                },
                {
                    "name": "stdout",
                    "text": "Строка 209 совпадает со строкой 12693\n",
                    "output_type": "stream"
                },
                {
                    "name": "stdout",
                    "text": "Строка 210 совпадает со строкой 12694\n",
                    "output_type": "stream"
                },
                {
                    "name": "stdout",
                    "text": "Строка 211 совпадает со строкой 12695\n",
                    "output_type": "stream"
                },
                {
                    "name": "stdout",
                    "text": "Строка 212 совпадает со строкой 12696\n",
                    "output_type": "stream"
                },
                {
                    "name": "stdout",
                    "text": "Строка 213 совпадает со строкой 12697\n",
                    "output_type": "stream"
                },
                {
                    "name": "stdout",
                    "text": "Строка 214 совпадает со строкой 12698\n",
                    "output_type": "stream"
                },
                {
                    "name": "stdout",
                    "text": "Строка 215 совпадает со строкой 12699\n",
                    "output_type": "stream"
                },
                {
                    "name": "stdout",
                    "text": "Строка 216 совпадает со строкой 12700\n",
                    "output_type": "stream"
                },
                {
                    "name": "stdout",
                    "text": "Строка 217 совпадает со строкой 12701\n",
                    "output_type": "stream"
                },
                {
                    "name": "stdout",
                    "text": "Строка 218 совпадает со строкой 12702\n",
                    "output_type": "stream"
                },
                {
                    "name": "stdout",
                    "text": "Строка 219 совпадает со строкой 12703\n",
                    "output_type": "stream"
                },
                {
                    "name": "stdout",
                    "text": "Строка 220 совпадает со строкой 12704\n",
                    "output_type": "stream"
                },
                {
                    "name": "stdout",
                    "text": "Строка 234 совпадает со строкой 12643\n",
                    "output_type": "stream"
                },
                {
                    "name": "stdout",
                    "text": "Строка 237 совпадает со строкой 12644\n",
                    "output_type": "stream"
                },
                {
                    "name": "stdout",
                    "text": "Строка 238 совпадает со строкой 12644\n",
                    "output_type": "stream"
                },
                {
                    "name": "stdout",
                    "text": "Строка 241 совпадает со строкой 12645\n",
                    "output_type": "stream"
                },
                {
                    "name": "stdout",
                    "text": "Строка 242 совпадает со строкой 12646\n",
                    "output_type": "stream"
                },
                {
                    "name": "stdout",
                    "text": "Строка 243 совпадает со строкой 12647\n",
                    "output_type": "stream"
                },
                {
                    "name": "stdout",
                    "text": "Строка 244 совпадает со строкой 12648\n",
                    "output_type": "stream"
                },
                {
                    "name": "stdout",
                    "text": "Строка 245 совпадает со строкой 12649\n",
                    "output_type": "stream"
                },
                {
                    "name": "stdout",
                    "text": "Строка 281 совпадает со строкой 6761\n",
                    "output_type": "stream"
                },
                {
                    "name": "stdout",
                    "text": "Строка 281 совпадает со строкой 13124\n",
                    "output_type": "stream"
                },
                {
                    "name": "stdout",
                    "text": "Строка 282 совпадает со строкой 6765\n",
                    "output_type": "stream"
                },
                {
                    "name": "stdout",
                    "text": "Строка 282 совпадает со строкой 13125\n",
                    "output_type": "stream"
                },
                {
                    "name": "stdout",
                    "text": "Строка 283 совпадает со строкой 6761\n",
                    "output_type": "stream"
                },
                {
                    "name": "stdout",
                    "text": "Строка 283 совпадает со строкой 13126\n",
                    "output_type": "stream"
                },
                {
                    "name": "stdout",
                    "text": "Строка 284 совпадает со строкой 6767\n",
                    "output_type": "stream"
                },
                {
                    "name": "stdout",
                    "text": "Строка 284 совпадает со строкой 13127\n",
                    "output_type": "stream"
                },
                {
                    "name": "stdout",
                    "text": "Строка 285 совпадает со строкой 6763\n",
                    "output_type": "stream"
                },
                {
                    "name": "stdout",
                    "text": "Строка 285 совпадает со строкой 13128\n",
                    "output_type": "stream"
                },
                {
                    "name": "stdout",
                    "text": "Строка 286 совпадает со строкой 6766\n",
                    "output_type": "stream"
                },
                {
                    "name": "stdout",
                    "text": "Строка 287 совпадает со строкой 6767\n",
                    "output_type": "stream"
                },
                {
                    "name": "stdout",
                    "text": "Строка 288 совпадает со строкой 6768\n",
                    "output_type": "stream"
                },
                {
                    "name": "stdout",
                    "text": "Строка 289 совпадает со строкой 6769\n",
                    "output_type": "stream"
                },
                {
                    "name": "stdout",
                    "text": "Строка 289 совпадает со строкой 13126\n",
                    "output_type": "stream"
                },
                {
                    "name": "stdout",
                    "text": "Строка 290 совпадает со строкой 6768\n",
                    "output_type": "stream"
                },
                {
                    "name": "stdout",
                    "text": "Строка 290 совпадает со строкой 13127\n",
                    "output_type": "stream"
                },
                {
                    "name": "stdout",
                    "text": "Строка 291 совпадает со строкой 6771\n",
                    "output_type": "stream"
                },
                {
                    "name": "stdout",
                    "text": "Строка 291 совпадает со строкой 13128\n",
                    "output_type": "stream"
                },
                {
                    "name": "stdout",
                    "text": "Строка 292 совпадает со строкой 6775\n",
                    "output_type": "stream"
                },
                {
                    "name": "stdout",
                    "text": "Строка 292 совпадает со строкой 13129\n",
                    "output_type": "stream"
                },
                {
                    "name": "stdout",
                    "text": "Строка 293 совпадает со строкой 6771\n",
                    "output_type": "stream"
                },
                {
                    "name": "stdout",
                    "text": "Строка 293 совпадает со строкой 13216\n",
                    "output_type": "stream"
                },
                {
                    "name": "stdout",
                    "text": "Строка 294 совпадает со строкой 13129\n",
                    "output_type": "stream"
                },
                {
                    "name": "stdout",
                    "text": "Строка 298 совпадает со строкой 13130\n",
                    "output_type": "stream"
                },
                {
                    "name": "stdout",
                    "text": "Строка 299 совпадает со строкой 13131\n",
                    "output_type": "stream"
                },
                {
                    "name": "stdout",
                    "text": "Строка 303 совпадает со строкой 6783\n",
                    "output_type": "stream"
                },
                {
                    "name": "stdout",
                    "text": "Строка 304 совпадает со строкой 6784\n",
                    "output_type": "stream"
                },
                {
                    "name": "stdout",
                    "text": "Строка 305 совпадает со строкой 6785\n",
                    "output_type": "stream"
                },
                {
                    "name": "stdout",
                    "text": "Строка 306 совпадает со строкой 13129\n",
                    "output_type": "stream"
                },
                {
                    "name": "stdout",
                    "text": "Строка 307 совпадает со строкой 13130\n",
                    "output_type": "stream"
                },
                {
                    "name": "stdout",
                    "text": "Строка 308 совпадает со строкой 13131\n",
                    "output_type": "stream"
                },
                {
                    "name": "stdout",
                    "text": "Строка 309 совпадает со строкой 13132\n",
                    "output_type": "stream"
                },
                {
                    "name": "stdout",
                    "text": "Строка 310 совпадает со строкой 13133\n",
                    "output_type": "stream"
                },
                {
                    "name": "stdout",
                    "text": "Строка 311 совпадает со строкой 13134\n",
                    "output_type": "stream"
                },
                {
                    "name": "stdout",
                    "text": "Строка 312 совпадает со строкой 13135\n",
                    "output_type": "stream"
                },
                {
                    "name": "stdout",
                    "text": "Строка 313 совпадает со строкой 13136\n",
                    "output_type": "stream"
                },
                {
                    "name": "stdout",
                    "text": "Строка 314 совпадает со строкой 13137\n",
                    "output_type": "stream"
                },
                {
                    "name": "stdout",
                    "text": "Строка 318 совпадает со строкой 13138\n",
                    "output_type": "stream"
                },
                {
                    "name": "stdout",
                    "text": "Строка 319 совпадает со строкой 13139\n",
                    "output_type": "stream"
                },
                {
                    "name": "stdout",
                    "text": "Строка 323 совпадает со строкой 13148\n",
                    "output_type": "stream"
                },
                {
                    "name": "stdout",
                    "text": "Строка 324 совпадает со строкой 13149\n",
                    "output_type": "stream"
                },
                {
                    "name": "stdout",
                    "text": "Строка 328 совпадает со строкой 13150\n",
                    "output_type": "stream"
                },
                {
                    "name": "stdout",
                    "text": "Строка 329 совпадает со строкой 13151\n",
                    "output_type": "stream"
                },
                {
                    "name": "stdout",
                    "text": "Строка 333 совпадает со строкой 13152\n",
                    "output_type": "stream"
                },
                {
                    "name": "stdout",
                    "text": "Строка 334 совпадает со строкой 13153\n",
                    "output_type": "stream"
                },
                {
                    "name": "stdout",
                    "text": "Строка 338 совпадает со строкой 13154\n",
                    "output_type": "stream"
                },
                {
                    "name": "stdout",
                    "text": "Строка 339 совпадает со строкой 13155\n",
                    "output_type": "stream"
                },
                {
                    "name": "stdout",
                    "text": "Строка 343 совпадает со строкой 13156\n",
                    "output_type": "stream"
                },
                {
                    "name": "stdout",
                    "text": "Строка 344 совпадает со строкой 13157\n",
                    "output_type": "stream"
                },
                {
                    "name": "stdout",
                    "text": "Строка 348 совпадает со строкой 6836\n",
                    "output_type": "stream"
                },
                {
                    "name": "stdout",
                    "text": "Строка 348 совпадает со строкой 13157\n",
                    "output_type": "stream"
                },
                {
                    "name": "stdout",
                    "text": "Строка 349 совпадает со строкой 6840\n",
                    "output_type": "stream"
                },
                {
                    "name": "stdout",
                    "text": "Строка 349 совпадает со строкой 13158\n",
                    "output_type": "stream"
                },
                {
                    "name": "stdout",
                    "text": "Строка 350 совпадает со строкой 6836\n",
                    "output_type": "stream"
                },
                {
                    "name": "stdout",
                    "text": "Строка 351 совпадает со строкой 13158\n",
                    "output_type": "stream"
                },
                {
                    "name": "stdout",
                    "text": "Строка 354 совпадает со строкой 13158\n",
                    "output_type": "stream"
                },
                {
                    "name": "stdout",
                    "text": "Строка 355 совпадает со строкой 13159\n",
                    "output_type": "stream"
                },
                {
                    "name": "stdout",
                    "text": "Строка 356 совпадает со строкой 13160\n",
                    "output_type": "stream"
                },
                {
                    "name": "stdout",
                    "text": "Строка 360 совпадает со строкой 13161\n",
                    "output_type": "stream"
                },
                {
                    "name": "stdout",
                    "text": "Строка 364 совпадает со строкой 13162\n",
                    "output_type": "stream"
                },
                {
                    "name": "stdout",
                    "text": "Строка 365 совпадает со строкой 13163\n",
                    "output_type": "stream"
                },
                {
                    "name": "stdout",
                    "text": "Строка 366 совпадает со строкой 13164\n",
                    "output_type": "stream"
                },
                {
                    "name": "stdout",
                    "text": "Строка 370 совпадает со строкой 6860\n",
                    "output_type": "stream"
                },
                {
                    "name": "stdout",
                    "text": "Строка 371 совпадает со строкой 6861\n",
                    "output_type": "stream"
                },
                {
                    "name": "stdout",
                    "text": "Строка 372 совпадает со строкой 6857\n",
                    "output_type": "stream"
                },
                {
                    "name": "stdout",
                    "text": "Строка 373 совпадает со строкой 6861\n",
                    "output_type": "stream"
                },
                {
                    "name": "stdout",
                    "text": "Строка 374 совпадает со строкой 6864\n",
                    "output_type": "stream"
                },
                {
                    "name": "stdout",
                    "text": "Строка 375 совпадает со строкой 6860\n",
                    "output_type": "stream"
                },
                {
                    "name": "stdout",
                    "text": "Строка 376 совпадает со строкой 6864\n",
                    "output_type": "stream"
                },
                {
                    "name": "stdout",
                    "text": "Строка 377 совпадает со строкой 6865\n",
                    "output_type": "stream"
                },
                {
                    "name": "stdout",
                    "text": "Строка 378 совпадает со строкой 6866\n",
                    "output_type": "stream"
                },
                {
                    "name": "stdout",
                    "text": "Строка 379 совпадает со строкой 6867\n",
                    "output_type": "stream"
                },
                {
                    "name": "stdout",
                    "text": "Строка 380 совпадает со строкой 13107\n",
                    "output_type": "stream"
                },
                {
                    "name": "stdout",
                    "text": "Строка 381 совпадает со строкой 13108\n",
                    "output_type": "stream"
                },
                {
                    "name": "stdout",
                    "text": "Строка 385 совпадает со строкой 13109\n",
                    "output_type": "stream"
                },
                {
                    "name": "stdout",
                    "text": "Строка 386 совпадает со строкой 13110\n",
                    "output_type": "stream"
                },
                {
                    "name": "stdout",
                    "text": "Строка 390 совпадает со строкой 6752\n",
                    "output_type": "stream"
                },
                {
                    "name": "stdout",
                    "text": "Строка 390 совпадает со строкой 13150\n",
                    "output_type": "stream"
                },
                {
                    "name": "stdout",
                    "text": "Строка 391 совпадает со строкой 6753\n",
                    "output_type": "stream"
                },
                {
                    "name": "stdout",
                    "text": "Строка 391 совпадает со строкой 13151\n",
                    "output_type": "stream"
                },
                {
                    "name": "stdout",
                    "text": "Строка 392 совпадает со строкой 6768\n",
                    "output_type": "stream"
                },
                {
                    "name": "stdout",
                    "text": "Строка 392 совпадает со строкой 13152\n",
                    "output_type": "stream"
                },
                {
                    "name": "stdout",
                    "text": "Строка 395 совпадает со строкой 6875\n",
                    "output_type": "stream"
                },
                {
                    "name": "stdout",
                    "text": "Строка 395 совпадает со строкой 13019\n",
                    "output_type": "stream"
                },
                {
                    "name": "stdout",
                    "text": "Строка 396 совпадает со строкой 6876\n",
                    "output_type": "stream"
                },
                {
                    "name": "stdout",
                    "text": "Строка 397 совпадает со строкой 6877\n",
                    "output_type": "stream"
                },
                {
                    "name": "stdout",
                    "text": "Строка 398 совпадает со строкой 13019\n",
                    "output_type": "stream"
                },
                {
                    "name": "stdout",
                    "text": "Строка 399 совпадает со строкой 13020\n",
                    "output_type": "stream"
                },
                {
                    "name": "stdout",
                    "text": "Строка 400 совпадает со строкой 13021\n",
                    "output_type": "stream"
                },
                {
                    "name": "stdout",
                    "text": "Строка 401 совпадает со строкой 13022\n",
                    "output_type": "stream"
                },
                {
                    "name": "stdout",
                    "text": "Строка 402 совпадает со строкой 13024\n",
                    "output_type": "stream"
                },
                {
                    "name": "stdout",
                    "text": "Строка 403 совпадает со строкой 13025\n",
                    "output_type": "stream"
                },
                {
                    "name": "stdout",
                    "text": "Строка 404 совпадает со строкой 6887\n",
                    "output_type": "stream"
                },
                {
                    "name": "stdout",
                    "text": "Строка 405 совпадает со строкой 6888\n",
                    "output_type": "stream"
                },
                {
                    "name": "stdout",
                    "text": "Строка 406 совпадает со строкой 6889\n",
                    "output_type": "stream"
                },
                {
                    "name": "stdout",
                    "text": "Строка 407 совпадает со строкой 13023\n",
                    "output_type": "stream"
                },
                {
                    "name": "stdout",
                    "text": "Строка 408 совпадает со строкой 6869\n",
                    "output_type": "stream"
                },
                {
                    "name": "stdout",
                    "text": "Строка 408 совпадает со строкой 13023\n",
                    "output_type": "stream"
                },
                {
                    "name": "stdout",
                    "text": "Строка 452 совпадает со строкой 453\n",
                    "output_type": "stream"
                },
                {
                    "name": "stdout",
                    "text": "Строка 458 совпадает со строкой 459\n",
                    "output_type": "stream"
                },
                {
                    "name": "stdout",
                    "text": "Строка 458 совпадает со строкой 13144\n",
                    "output_type": "stream"
                },
                {
                    "name": "stdout",
                    "text": "Строка 459 совпадает со строкой 13144\n",
                    "output_type": "stream"
                },
                {
                    "name": "stdout",
                    "text": "Строка 460 совпадает со строкой 13144\n",
                    "output_type": "stream"
                },
                {
                    "name": "stdout",
                    "text": "Строка 461 совпадает со строкой 13144\n",
                    "output_type": "stream"
                },
                {
                    "name": "stdout",
                    "text": "Строка 462 совпадает со строкой 13144\n",
                    "output_type": "stream"
                },
                {
                    "name": "stdout",
                    "text": "Строка 463 совпадает со строкой 13144\n",
                    "output_type": "stream"
                },
                {
                    "name": "stdout",
                    "text": "Строка 464 совпадает со строкой 13144\n",
                    "output_type": "stream"
                },
                {
                    "name": "stdout",
                    "text": "Строка 465 совпадает со строкой 13144\n",
                    "output_type": "stream"
                },
                {
                    "name": "stdout",
                    "text": "Строка 466 совпадает со строкой 13144\n",
                    "output_type": "stream"
                },
                {
                    "name": "stdout",
                    "text": "Строка 467 совпадает со строкой 13144\n",
                    "output_type": "stream"
                },
                {
                    "name": "stdout",
                    "text": "Строка 468 совпадает со строкой 13144\n",
                    "output_type": "stream"
                },
                {
                    "name": "stdout",
                    "text": "Строка 469 совпадает со строкой 13144\n",
                    "output_type": "stream"
                },
                {
                    "name": "stdout",
                    "text": "Строка 470 совпадает со строкой 13144\n",
                    "output_type": "stream"
                },
                {
                    "name": "stdout",
                    "text": "Строка 471 совпадает со строкой 13144\n",
                    "output_type": "stream"
                },
                {
                    "name": "stdout",
                    "text": "Строка 472 совпадает со строкой 13144\n",
                    "output_type": "stream"
                },
                {
                    "name": "stdout",
                    "text": "Строка 486 совпадает со строкой 13195\n",
                    "output_type": "stream"
                },
                {
                    "name": "stdout",
                    "text": "Строка 487 совпадает со строкой 13196\n",
                    "output_type": "stream"
                },
                {
                    "name": "stdout",
                    "text": "Строка 488 совпадает со строкой 13197\n",
                    "output_type": "stream"
                },
                {
                    "name": "stdout",
                    "text": "Строка 489 совпадает со строкой 13198\n",
                    "output_type": "stream"
                },
                {
                    "name": "stdout",
                    "text": "Строка 490 совпадает со строкой 13199\n",
                    "output_type": "stream"
                },
                {
                    "name": "stdout",
                    "text": "Строка 492 совпадает со строкой 493\n",
                    "output_type": "stream"
                },
                {
                    "name": "stdout",
                    "text": "Строка 492 совпадает со строкой 13138\n",
                    "output_type": "stream"
                },
                {
                    "name": "stdout",
                    "text": "Строка 493 совпадает со строкой 13138\n",
                    "output_type": "stream"
                },
                {
                    "name": "stdout",
                    "text": "Строка 494 совпадает со строкой 13138\n",
                    "output_type": "stream"
                },
                {
                    "name": "stdout",
                    "text": "Строка 508 совпадает со строкой 13195\n",
                    "output_type": "stream"
                },
                {
                    "name": "stdout",
                    "text": "Строка 509 совпадает со строкой 13196\n",
                    "output_type": "stream"
                },
                {
                    "name": "stdout",
                    "text": "Строка 510 совпадает со строкой 13197\n",
                    "output_type": "stream"
                },
                {
                    "name": "stdout",
                    "text": "Строка 511 совпадает со строкой 13198\n",
                    "output_type": "stream"
                },
                {
                    "name": "stdout",
                    "text": "Строка 512 совпадает со строкой 13199\n",
                    "output_type": "stream"
                },
                {
                    "name": "stdout",
                    "text": "Строка 514 совпадает со строкой 515\n",
                    "output_type": "stream"
                },
                {
                    "name": "stdout",
                    "text": "Строка 514 совпадает со строкой 13132\n",
                    "output_type": "stream"
                },
                {
                    "name": "stdout",
                    "text": "Строка 515 совпадает со строкой 13132\n",
                    "output_type": "stream"
                },
                {
                    "name": "stdout",
                    "text": "Строка 516 совпадает со строкой 13132\n",
                    "output_type": "stream"
                },
                {
                    "name": "stdout",
                    "text": "Строка 517 совпадает со строкой 13132\n",
                    "output_type": "stream"
                },
                {
                    "name": "stdout",
                    "text": "Строка 518 совпадает со строкой 13132\n",
                    "output_type": "stream"
                },
                {
                    "name": "stdout",
                    "text": "Строка 519 совпадает со строкой 13132\n",
                    "output_type": "stream"
                },
                {
                    "name": "stdout",
                    "text": "Строка 520 совпадает со строкой 13132\n",
                    "output_type": "stream"
                },
                {
                    "name": "stdout",
                    "text": "Строка 521 совпадает со строкой 13132\n",
                    "output_type": "stream"
                },
                {
                    "name": "stdout",
                    "text": "Строка 522 совпадает со строкой 13132\n",
                    "output_type": "stream"
                },
                {
                    "name": "stdout",
                    "text": "Строка 523 совпадает со строкой 13132\n",
                    "output_type": "stream"
                },
                {
                    "name": "stdout",
                    "text": "Строка 524 совпадает со строкой 13132\n",
                    "output_type": "stream"
                },
                {
                    "name": "stdout",
                    "text": "Строка 525 совпадает со строкой 13132\n",
                    "output_type": "stream"
                },
                {
                    "name": "stdout",
                    "text": "Строка 526 совпадает со строкой 13132\n",
                    "output_type": "stream"
                },
                {
                    "name": "stdout",
                    "text": "Строка 527 совпадает со строкой 13132\n",
                    "output_type": "stream"
                },
                {
                    "name": "stdout",
                    "text": "Строка 529 совпадает со строкой 530\n",
                    "output_type": "stream"
                },
                {
                    "name": "stdout",
                    "text": "Строка 530 совпадает со строкой 531\n",
                    "output_type": "stream"
                },
                {
                    "name": "stdout",
                    "text": "Строка 531 совпадает со строкой 532\n",
                    "output_type": "stream"
                },
                {
                    "name": "stdout",
                    "text": "Строка 532 совпадает со строкой 533\n",
                    "output_type": "stream"
                },
                {
                    "name": "stdout",
                    "text": "Строка 533 совпадает со строкой 534\n",
                    "output_type": "stream"
                },
                {
                    "name": "stdout",
                    "text": "Строка 534 совпадает со строкой 535\n",
                    "output_type": "stream"
                },
                {
                    "name": "stdout",
                    "text": "Строка 535 совпадает со строкой 536\n",
                    "output_type": "stream"
                },
                {
                    "name": "stdout",
                    "text": "Строка 536 совпадает со строкой 537\n",
                    "output_type": "stream"
                },
                {
                    "name": "stdout",
                    "text": "Строка 537 совпадает со строкой 538\n",
                    "output_type": "stream"
                },
                {
                    "name": "stdout",
                    "text": "Строка 538 совпадает со строкой 539\n",
                    "output_type": "stream"
                },
                {
                    "name": "stdout",
                    "text": "Строка 539 совпадает со строкой 540\n",
                    "output_type": "stream"
                },
                {
                    "name": "stdout",
                    "text": "Строка 540 совпадает со строкой 541\n",
                    "output_type": "stream"
                },
                {
                    "name": "stdout",
                    "text": "Строка 541 совпадает со строкой 542\n",
                    "output_type": "stream"
                },
                {
                    "name": "stdout",
                    "text": "Строка 542 совпадает со строкой 543\n",
                    "output_type": "stream"
                },
                {
                    "name": "stdout",
                    "text": "Строка 543 совпадает со строкой 544\n",
                    "output_type": "stream"
                },
                {
                    "name": "stdout",
                    "text": "Строка 545 совпадает со строкой 546\n",
                    "output_type": "stream"
                },
                {
                    "name": "stdout",
                    "text": "Строка 547 совпадает со строкой 548\n",
                    "output_type": "stream"
                },
                {
                    "name": "stdout",
                    "text": "Строка 550 совпадает со строкой 551\n",
                    "output_type": "stream"
                },
                {
                    "name": "stdout",
                    "text": "Строка 551 совпадает со строкой 552\n",
                    "output_type": "stream"
                },
                {
                    "name": "stdout",
                    "text": "Строка 552 совпадает со строкой 553\n",
                    "output_type": "stream"
                },
                {
                    "name": "stdout",
                    "text": "Строка 553 совпадает со строкой 554\n",
                    "output_type": "stream"
                },
                {
                    "name": "stdout",
                    "text": "Строка 554 совпадает со строкой 555\n",
                    "output_type": "stream"
                },
                {
                    "name": "stdout",
                    "text": "Строка 555 совпадает со строкой 556\n",
                    "output_type": "stream"
                },
                {
                    "name": "stdout",
                    "text": "Строка 556 совпадает со строкой 557\n",
                    "output_type": "stream"
                },
                {
                    "name": "stdout",
                    "text": "Строка 557 совпадает со строкой 558\n",
                    "output_type": "stream"
                },
                {
                    "name": "stdout",
                    "text": "Строка 558 совпадает со строкой 559\n",
                    "output_type": "stream"
                },
                {
                    "name": "stdout",
                    "text": "Строка 559 совпадает со строкой 560\n",
                    "output_type": "stream"
                },
                {
                    "name": "stdout",
                    "text": "Строка 560 совпадает со строкой 561\n",
                    "output_type": "stream"
                },
                {
                    "name": "stdout",
                    "text": "Строка 561 совпадает со строкой 562\n",
                    "output_type": "stream"
                },
                {
                    "name": "stdout",
                    "text": "Строка 562 совпадает со строкой 563\n",
                    "output_type": "stream"
                },
                {
                    "name": "stdout",
                    "text": "Строка 563 совпадает со строкой 564\n",
                    "output_type": "stream"
                },
                {
                    "name": "stdout",
                    "text": "Строка 564 совпадает со строкой 565\n",
                    "output_type": "stream"
                },
                {
                    "name": "stdout",
                    "text": "Строка 565 совпадает со строкой 566\n",
                    "output_type": "stream"
                },
                {
                    "name": "stdout",
                    "text": "Строка 565 совпадает со строкой 13099\n",
                    "output_type": "stream"
                },
                {
                    "name": "stdout",
                    "text": "Строка 569 совпадает со строкой 13150\n",
                    "output_type": "stream"
                },
                {
                    "name": "stdout",
                    "text": "Строка 570 совпадает со строкой 13151\n",
                    "output_type": "stream"
                },
                {
                    "name": "stdout",
                    "text": "Строка 571 совпадает со строкой 13152\n",
                    "output_type": "stream"
                },
                {
                    "name": "stdout",
                    "text": "Строка 572 совпадает со строкой 13153\n",
                    "output_type": "stream"
                },
                {
                    "name": "stdout",
                    "text": "Строка 579 совпадает со строкой 580\n",
                    "output_type": "stream"
                },
                {
                    "name": "stdout",
                    "text": "Строка 580 совпадает со строкой 581\n",
                    "output_type": "stream"
                },
                {
                    "name": "stdout",
                    "text": "Строка 581 совпадает со строкой 582\n",
                    "output_type": "stream"
                },
                {
                    "name": "stdout",
                    "text": "Строка 582 совпадает со строкой 583\n",
                    "output_type": "stream"
                },
                {
                    "name": "stdout",
                    "text": "Строка 582 совпадает со строкой 13091\n",
                    "output_type": "stream"
                },
                {
                    "name": "stdout",
                    "text": "Строка 586 совпадает со строкой 13149\n",
                    "output_type": "stream"
                },
                {
                    "name": "stdout",
                    "text": "Строка 587 совпадает со строкой 13150\n",
                    "output_type": "stream"
                },
                {
                    "name": "stdout",
                    "text": "Строка 588 совпадает со строкой 13151\n",
                    "output_type": "stream"
                },
                {
                    "name": "stdout",
                    "text": "Строка 589 совпадает со строкой 13152\n",
                    "output_type": "stream"
                },
                {
                    "name": "stdout",
                    "text": "Строка 596 совпадает со строкой 597\n",
                    "output_type": "stream"
                },
                {
                    "name": "stdout",
                    "text": "Строка 596 совпадает со строкой 13086\n",
                    "output_type": "stream"
                },
                {
                    "name": "stdout",
                    "text": "Строка 600 совпадает со строкой 13151\n",
                    "output_type": "stream"
                },
                {
                    "name": "stdout",
                    "text": "Строка 601 совпадает со строкой 13152\n",
                    "output_type": "stream"
                },
                {
                    "name": "stdout",
                    "text": "Строка 604 совпадает со строкой 13152\n",
                    "output_type": "stream"
                },
                {
                    "name": "stdout",
                    "text": "Строка 608 совпадает со строкой 609\n",
                    "output_type": "stream"
                },
                {
                    "name": "stdout",
                    "text": "Строка 608 совпадает со строкой 13082\n",
                    "output_type": "stream"
                },
                {
                    "name": "stdout",
                    "text": "Строка 612 совпадает со строкой 13151\n",
                    "output_type": "stream"
                },
                {
                    "name": "stdout",
                    "text": "Строка 613 совпадает со строкой 13152\n",
                    "output_type": "stream"
                },
                {
                    "name": "stdout",
                    "text": "Строка 616 совпадает со строкой 13152\n",
                    "output_type": "stream"
                },
                {
                    "name": "stdout",
                    "text": "Строка 620 совпадает со строкой 621\n",
                    "output_type": "stream"
                },
                {
                    "name": "stdout",
                    "text": "Строка 621 совпадает со строкой 622\n",
                    "output_type": "stream"
                },
                {
                    "name": "stdout",
                    "text": "Строка 622 совпадает со строкой 623\n",
                    "output_type": "stream"
                },
                {
                    "name": "stdout",
                    "text": "Строка 623 совпадает со строкой 624\n",
                    "output_type": "stream"
                },
                {
                    "name": "stdout",
                    "text": "Строка 624 совпадает со строкой 625\n",
                    "output_type": "stream"
                },
                {
                    "name": "stdout",
                    "text": "Строка 625 совпадает со строкой 626\n",
                    "output_type": "stream"
                },
                {
                    "name": "stdout",
                    "text": "Строка 626 совпадает со строкой 627\n",
                    "output_type": "stream"
                },
                {
                    "name": "stdout",
                    "text": "Строка 627 совпадает со строкой 628\n",
                    "output_type": "stream"
                },
                {
                    "name": "stdout",
                    "text": "Строка 628 совпадает со строкой 629\n",
                    "output_type": "stream"
                },
                {
                    "name": "stdout",
                    "text": "Строка 628 совпадает со строкой 13070\n",
                    "output_type": "stream"
                },
                {
                    "name": "stdout",
                    "text": "Строка 632 совпадает со строкой 13143\n",
                    "output_type": "stream"
                },
                {
                    "name": "stdout",
                    "text": "Строка 633 совпадает со строкой 13144\n",
                    "output_type": "stream"
                },
                {
                    "name": "stdout",
                    "text": "Строка 636 совпадает со строкой 13144\n",
                    "output_type": "stream"
                },
                {
                    "name": "stdout",
                    "text": "Строка 640 совпадает со строкой 641\n",
                    "output_type": "stream"
                },
                {
                    "name": "stdout",
                    "text": "Строка 640 совпадает со строкой 13066\n",
                    "output_type": "stream"
                },
                {
                    "name": "stdout",
                    "text": "Строка 644 совпадает со строкой 13143\n",
                    "output_type": "stream"
                },
                {
                    "name": "stdout",
                    "text": "Строка 645 совпадает со строкой 13144\n",
                    "output_type": "stream"
                },
                {
                    "name": "stdout",
                    "text": "Строка 648 совпадает со строкой 13144\n",
                    "output_type": "stream"
                },
                {
                    "name": "stdout",
                    "text": "Строка 652 совпадает со строкой 653\n",
                    "output_type": "stream"
                },
                {
                    "name": "stdout",
                    "text": "Строка 652 совпадает со строкой 13062\n",
                    "output_type": "stream"
                },
                {
                    "name": "stdout",
                    "text": "Строка 656 совпадает со строкой 13143\n",
                    "output_type": "stream"
                },
                {
                    "name": "stdout",
                    "text": "Строка 657 совпадает со строкой 13144\n",
                    "output_type": "stream"
                },
                {
                    "name": "stdout",
                    "text": "Строка 660 совпадает со строкой 13144\n",
                    "output_type": "stream"
                },
                {
                    "name": "stdout",
                    "text": "Строка 665 совпадает со строкой 666\n",
                    "output_type": "stream"
                },
                {
                    "name": "stdout",
                    "text": "Строка 665 совпадает со строкой 13058\n",
                    "output_type": "stream"
                },
                {
                    "name": "stdout",
                    "text": "Строка 669 совпадает со строкой 13143\n",
                    "output_type": "stream"
                },
                {
                    "name": "stdout",
                    "text": "Строка 670 совпадает со строкой 13144\n",
                    "output_type": "stream"
                },
                {
                    "name": "stdout",
                    "text": "Строка 673 совпадает со строкой 674\n",
                    "output_type": "stream"
                },
                {
                    "name": "stdout",
                    "text": "Строка 673 совпадает со строкой 13055\n",
                    "output_type": "stream"
                },
                {
                    "name": "stdout",
                    "text": "Строка 677 совпадает со строкой 13142\n",
                    "output_type": "stream"
                },
                {
                    "name": "stdout",
                    "text": "Строка 678 совпадает со строкой 13143\n",
                    "output_type": "stream"
                },
                {
                    "name": "stdout",
                    "text": "Строка 681 совпадает со строкой 682\n",
                    "output_type": "stream"
                },
                {
                    "name": "stdout",
                    "text": "Строка 681 совпадает со строкой 13052\n",
                    "output_type": "stream"
                },
                {
                    "name": "stdout",
                    "text": "Строка 685 совпадает со строкой 13141\n",
                    "output_type": "stream"
                },
                {
                    "name": "stdout",
                    "text": "Строка 686 совпадает со строкой 13142\n",
                    "output_type": "stream"
                },
                {
                    "name": "stdout",
                    "text": "Строка 689 совпадает со строкой 690\n",
                    "output_type": "stream"
                },
                {
                    "name": "stdout",
                    "text": "Строка 689 совпадает со строкой 13049\n",
                    "output_type": "stream"
                },
                {
                    "name": "stdout",
                    "text": "Строка 693 совпадает со строкой 13140\n",
                    "output_type": "stream"
                },
                {
                    "name": "stdout",
                    "text": "Строка 694 совпадает со строкой 13141\n",
                    "output_type": "stream"
                },
                {
                    "name": "stdout",
                    "text": "Строка 697 совпадает со строкой 698\n",
                    "output_type": "stream"
                },
                {
                    "name": "stdout",
                    "text": "Строка 697 совпадает со строкой 13046\n",
                    "output_type": "stream"
                },
                {
                    "name": "stdout",
                    "text": "Строка 702 совпадает со строкой 13139\n",
                    "output_type": "stream"
                },
                {
                    "name": "stdout",
                    "text": "Строка 703 совпадает со строкой 13140\n",
                    "output_type": "stream"
                },
                {
                    "name": "stdout",
                    "text": "Строка 704 совпадает со строкой 13141\n",
                    "output_type": "stream"
                },
                {
                    "name": "stdout",
                    "text": "Строка 713 совпадает со строкой 13141\n",
                    "output_type": "stream"
                },
                {
                    "name": "stdout",
                    "text": "Строка 714 совпадает со строкой 13142\n",
                    "output_type": "stream"
                },
                {
                    "name": "stdout",
                    "text": "Строка 720 совпадает со строкой 721\n",
                    "output_type": "stream"
                },
                {
                    "name": "stdout",
                    "text": "Строка 720 совпадает со строкой 13040\n",
                    "output_type": "stream"
                },
                {
                    "name": "stdout",
                    "text": "Строка 724 совпадает со строкой 13140\n",
                    "output_type": "stream"
                },
                {
                    "name": "stdout",
                    "text": "Строка 725 совпадает со строкой 13141\n",
                    "output_type": "stream"
                },
                {
                    "name": "stdout",
                    "text": "Строка 728 совпадает со строкой 729\n",
                    "output_type": "stream"
                },
                {
                    "name": "stdout",
                    "text": "Строка 728 совпадает со строкой 13037\n",
                    "output_type": "stream"
                },
                {
                    "name": "stdout",
                    "text": "Строка 732 совпадает со строкой 13139\n",
                    "output_type": "stream"
                },
                {
                    "name": "stdout",
                    "text": "Строка 733 совпадает со строкой 13140\n",
                    "output_type": "stream"
                },
                {
                    "name": "stdout",
                    "text": "Строка 736 совпадает со строкой 737\n",
                    "output_type": "stream"
                },
                {
                    "name": "stdout",
                    "text": "Строка 736 совпадает со строкой 13034\n",
                    "output_type": "stream"
                },
                {
                    "name": "stdout",
                    "text": "Строка 740 совпадает со строкой 13138\n",
                    "output_type": "stream"
                },
                {
                    "name": "stdout",
                    "text": "Строка 741 совпадает со строкой 13139\n",
                    "output_type": "stream"
                },
                {
                    "name": "stdout",
                    "text": "Строка 744 совпадает со строкой 745\n",
                    "output_type": "stream"
                },
                {
                    "name": "stdout",
                    "text": "Строка 744 совпадает со строкой 13031\n",
                    "output_type": "stream"
                },
                {
                    "name": "stdout",
                    "text": "Строка 748 совпадает со строкой 13137\n",
                    "output_type": "stream"
                },
                {
                    "name": "stdout",
                    "text": "Строка 749 совпадает со строкой 13138\n",
                    "output_type": "stream"
                },
                {
                    "name": "stdout",
                    "text": "Строка 752 совпадает со строкой 753\n",
                    "output_type": "stream"
                },
                {
                    "name": "stdout",
                    "text": "Строка 752 совпадает со строкой 13028\n",
                    "output_type": "stream"
                },
                {
                    "name": "stdout",
                    "text": "Строка 756 совпадает со строкой 13136\n",
                    "output_type": "stream"
                },
                {
                    "name": "stdout",
                    "text": "Строка 757 совпадает со строкой 13137\n",
                    "output_type": "stream"
                },
                {
                    "name": "stdout",
                    "text": "Строка 760 совпадает со строкой 761\n",
                    "output_type": "stream"
                },
                {
                    "name": "stdout",
                    "text": "Строка 760 совпадает со строкой 13025\n",
                    "output_type": "stream"
                },
                {
                    "name": "stdout",
                    "text": "Строка 766 совпадает со строкой 13135\n",
                    "output_type": "stream"
                },
                {
                    "name": "stdout",
                    "text": "Строка 767 совпадает со строкой 13136\n",
                    "output_type": "stream"
                },
                {
                    "name": "stdout",
                    "text": "Строка 770 совпадает со строкой 771\n",
                    "output_type": "stream"
                },
                {
                    "name": "stdout",
                    "text": "Строка 770 совпадает со строкой 13022\n",
                    "output_type": "stream"
                },
                {
                    "name": "stdout",
                    "text": "Строка 774 совпадает со строкой 13134\n",
                    "output_type": "stream"
                },
                {
                    "name": "stdout",
                    "text": "Строка 775 совпадает со строкой 13135\n",
                    "output_type": "stream"
                },
                {
                    "name": "stdout",
                    "text": "Строка 778 совпадает со строкой 779\n",
                    "output_type": "stream"
                },
                {
                    "name": "stdout",
                    "text": "Строка 778 совпадает со строкой 13019\n",
                    "output_type": "stream"
                },
                {
                    "name": "stdout",
                    "text": "Строка 782 совпадает со строкой 13133\n",
                    "output_type": "stream"
                },
                {
                    "name": "stdout",
                    "text": "Строка 783 совпадает со строкой 13134\n",
                    "output_type": "stream"
                },
                {
                    "name": "stdout",
                    "text": "Строка 786 совпадает со строкой 787\n",
                    "output_type": "stream"
                },
                {
                    "name": "stdout",
                    "text": "Строка 786 совпадает со строкой 13016\n",
                    "output_type": "stream"
                },
                {
                    "name": "stdout",
                    "text": "Строка 790 совпадает со строкой 13132\n",
                    "output_type": "stream"
                },
                {
                    "name": "stdout",
                    "text": "Строка 791 совпадает со строкой 13133\n",
                    "output_type": "stream"
                },
                {
                    "name": "stdout",
                    "text": "Строка 794 совпадает со строкой 795\n",
                    "output_type": "stream"
                },
                {
                    "name": "stdout",
                    "text": "Строка 794 совпадает со строкой 13013\n",
                    "output_type": "stream"
                },
                {
                    "name": "stdout",
                    "text": "Строка 798 совпадает со строкой 13131\n",
                    "output_type": "stream"
                },
                {
                    "name": "stdout",
                    "text": "Строка 799 совпадает со строкой 13132\n",
                    "output_type": "stream"
                },
                {
                    "name": "stdout",
                    "text": "Строка 802 совпадает со строкой 803\n",
                    "output_type": "stream"
                },
                {
                    "name": "stdout",
                    "text": "Строка 802 совпадает со строкой 13010\n",
                    "output_type": "stream"
                },
                {
                    "name": "stdout",
                    "text": "Строка 806 совпадает со строкой 13130\n",
                    "output_type": "stream"
                },
                {
                    "name": "stdout",
                    "text": "Строка 807 совпадает со строкой 13131\n",
                    "output_type": "stream"
                },
                {
                    "name": "stdout",
                    "text": "Строка 810 совпадает со строкой 811\n",
                    "output_type": "stream"
                },
                {
                    "name": "stdout",
                    "text": "Строка 810 совпадает со строкой 13007\n",
                    "output_type": "stream"
                },
                {
                    "name": "stdout",
                    "text": "Строка 814 совпадает со строкой 13129\n",
                    "output_type": "stream"
                },
                {
                    "name": "stdout",
                    "text": "Строка 815 совпадает со строкой 13130\n",
                    "output_type": "stream"
                },
                {
                    "name": "stdout",
                    "text": "Строка 818 совпадает со строкой 819\n",
                    "output_type": "stream"
                },
                {
                    "name": "stdout",
                    "text": "Строка 818 совпадает со строкой 13004\n",
                    "output_type": "stream"
                },
                {
                    "name": "stdout",
                    "text": "Строка 823 совпадает со строкой 13128\n",
                    "output_type": "stream"
                },
                {
                    "name": "stdout",
                    "text": "Строка 824 совпадает со строкой 13129\n",
                    "output_type": "stream"
                },
                {
                    "name": "stdout",
                    "text": "Строка 825 совпадает со строкой 13130\n",
                    "output_type": "stream"
                },
                {
                    "name": "stdout",
                    "text": "Строка 834 совпадает со строкой 13130\n",
                    "output_type": "stream"
                },
                {
                    "name": "stdout",
                    "text": "Строка 835 совпадает со строкой 13131\n",
                    "output_type": "stream"
                },
                {
                    "name": "stdout",
                    "text": "Строка 841 совпадает со строкой 842\n",
                    "output_type": "stream"
                },
                {
                    "name": "stdout",
                    "text": "Строка 841 совпадает со строкой 12998\n",
                    "output_type": "stream"
                },
                {
                    "name": "stdout",
                    "text": "Строка 845 совпадает со строкой 13129\n",
                    "output_type": "stream"
                },
                {
                    "name": "stdout",
                    "text": "Строка 846 совпадает со строкой 13130\n",
                    "output_type": "stream"
                },
                {
                    "name": "stdout",
                    "text": "Строка 849 совпадает со строкой 850\n",
                    "output_type": "stream"
                },
                {
                    "name": "stdout",
                    "text": "Строка 849 совпадает со строкой 12995\n",
                    "output_type": "stream"
                },
                {
                    "name": "stdout",
                    "text": "Строка 853 совпадает со строкой 13128\n",
                    "output_type": "stream"
                },
                {
                    "name": "stdout",
                    "text": "Строка 854 совпадает со строкой 13129\n",
                    "output_type": "stream"
                },
                {
                    "name": "stdout",
                    "text": "Строка 857 совпадает со строкой 858\n",
                    "output_type": "stream"
                },
                {
                    "name": "stdout",
                    "text": "Строка 857 совпадает со строкой 12992\n",
                    "output_type": "stream"
                },
                {
                    "name": "stdout",
                    "text": "Строка 861 совпадает со строкой 13127\n",
                    "output_type": "stream"
                },
                {
                    "name": "stdout",
                    "text": "Строка 862 совпадает со строкой 13128\n",
                    "output_type": "stream"
                },
                {
                    "name": "stdout",
                    "text": "Строка 865 совпадает со строкой 866\n",
                    "output_type": "stream"
                },
                {
                    "name": "stdout",
                    "text": "Строка 865 совпадает со строкой 12989\n",
                    "output_type": "stream"
                },
                {
                    "name": "stdout",
                    "text": "Строка 869 совпадает со строкой 13126\n",
                    "output_type": "stream"
                },
                {
                    "name": "stdout",
                    "text": "Строка 870 совпадает со строкой 13127\n",
                    "output_type": "stream"
                },
                {
                    "name": "stdout",
                    "text": "Строка 873 совпадает со строкой 874\n",
                    "output_type": "stream"
                },
                {
                    "name": "stdout",
                    "text": "Строка 873 совпадает со строкой 12986\n",
                    "output_type": "stream"
                },
                {
                    "name": "stdout",
                    "text": "Строка 877 совпадает со строкой 13125\n",
                    "output_type": "stream"
                },
                {
                    "name": "stdout",
                    "text": "Строка 878 совпадает со строкой 13126\n",
                    "output_type": "stream"
                },
                {
                    "name": "stdout",
                    "text": "Строка 894 совпадает со строкой 895\n",
                    "output_type": "stream"
                },
                {
                    "name": "stdout",
                    "text": "Строка 896 совпадает со строкой 897\n",
                    "output_type": "stream"
                },
                {
                    "name": "stdout",
                    "text": "Строка 898 совпадает со строкой 901\n",
                    "output_type": "stream"
                },
                {
                    "name": "stdout",
                    "text": "Строка 898 совпадает со строкой 903\n",
                    "output_type": "stream"
                },
                {
                    "name": "stdout",
                    "text": "Строка 899 совпадает со строкой 902\n",
                    "output_type": "stream"
                },
                {
                    "name": "stdout",
                    "text": "Строка 900 совпадает со строкой 903\n",
                    "output_type": "stream"
                },
                {
                    "name": "stdout",
                    "text": "Строка 905 совпадает со строкой 906\n",
                    "output_type": "stream"
                },
                {
                    "name": "stdout",
                    "text": "Строка 1014 совпадает со строкой 1022\n",
                    "output_type": "stream"
                },
                {
                    "name": "stdout",
                    "text": "Строка 1209 совпадает со строкой 1210\n",
                    "output_type": "stream"
                },
                {
                    "name": "stdout",
                    "text": "Строка 1209 совпадает со строкой 1211\n",
                    "output_type": "stream"
                },
                {
                    "name": "stdout",
                    "text": "Строка 1247 совпадает со строкой 1391\n",
                    "output_type": "stream"
                },
                {
                    "name": "stdout",
                    "text": "Строка 1368 совпадает со строкой 1369\n",
                    "output_type": "stream"
                },
                {
                    "name": "stdout",
                    "text": "Строка 1368 совпадает со строкой 1410\n",
                    "output_type": "stream"
                },
                {
                    "name": "stdout",
                    "text": "Строка 1368 совпадает со строкой 1529\n",
                    "output_type": "stream"
                },
                {
                    "name": "stdout",
                    "text": "Строка 1408 совпадает со строкой 1528\n",
                    "output_type": "stream"
                },
                {
                    "name": "stdout",
                    "text": "Строка 1570 совпадает со строкой 1578\n",
                    "output_type": "stream"
                },
                {
                    "name": "stdout",
                    "text": "Строка 1571 совпадает со строкой 1575\n",
                    "output_type": "stream"
                },
                {
                    "name": "stdout",
                    "text": "Строка 1580 совпадает со строкой 1585\n",
                    "output_type": "stream"
                },
                {
                    "name": "stdout",
                    "text": "Строка 1629 совпадает со строкой 1844\n",
                    "output_type": "stream"
                },
                {
                    "name": "stdout",
                    "text": "Строка 1667 совпадает со строкой 1754\n",
                    "output_type": "stream"
                },
                {
                    "name": "stdout",
                    "text": "Строка 1677 совпадает со строкой 1765\n",
                    "output_type": "stream"
                },
                {
                    "name": "stdout",
                    "text": "Строка 1677 совпадает со строкой 1766\n",
                    "output_type": "stream"
                },
                {
                    "name": "stdout",
                    "text": "Строка 1680 совпадает со строкой 1681\n",
                    "output_type": "stream"
                },
                {
                    "name": "stdout",
                    "text": "Строка 1685 совпадает со строкой 1694\n",
                    "output_type": "stream"
                },
                {
                    "name": "stdout",
                    "text": "Строка 1692 совпадает со строкой 1834\n",
                    "output_type": "stream"
                },
                {
                    "name": "stdout",
                    "text": "Строка 1745 совпадает со строкой 1746\n",
                    "output_type": "stream"
                },
                {
                    "name": "stdout",
                    "text": "Строка 1759 совпадает со строкой 1760\n",
                    "output_type": "stream"
                },
                {
                    "name": "stdout",
                    "text": "Строка 1793 совпадает со строкой 1826\n",
                    "output_type": "stream"
                },
                {
                    "name": "stdout",
                    "text": "Строка 1857 совпадает со строкой 13225\n",
                    "output_type": "stream"
                },
                {
                    "name": "stdout",
                    "text": "Строка 1858 совпадает со строкой 13226\n",
                    "output_type": "stream"
                },
                {
                    "name": "stdout",
                    "text": "Строка 1859 совпадает со строкой 13227\n",
                    "output_type": "stream"
                },
                {
                    "name": "stdout",
                    "text": "Строка 1860 совпадает со строкой 13228\n",
                    "output_type": "stream"
                },
                {
                    "name": "stdout",
                    "text": "Строка 1861 совпадает со строкой 13229\n",
                    "output_type": "stream"
                },
                {
                    "name": "stdout",
                    "text": "Строка 1862 совпадает со строкой 13230\n",
                    "output_type": "stream"
                },
                {
                    "name": "stdout",
                    "text": "Строка 1863 совпадает со строкой 13231\n",
                    "output_type": "stream"
                },
                {
                    "name": "stdout",
                    "text": "Строка 1864 совпадает со строкой 13232\n",
                    "output_type": "stream"
                },
                {
                    "name": "stdout",
                    "text": "Строка 1865 совпадает со строкой 13233\n",
                    "output_type": "stream"
                },
                {
                    "name": "stdout",
                    "text": "Строка 1868 совпадает со строкой 13234\n",
                    "output_type": "stream"
                },
                {
                    "name": "stdout",
                    "text": "Строка 1869 совпадает со строкой 13235\n",
                    "output_type": "stream"
                },
                {
                    "name": "stdout",
                    "text": "Строка 1870 совпадает со строкой 13236\n",
                    "output_type": "stream"
                },
                {
                    "name": "stdout",
                    "text": "Строка 1873 совпадает со строкой 13100\n",
                    "output_type": "stream"
                },
                {
                    "name": "stdout",
                    "text": "Строка 1874 совпадает со строкой 13101\n",
                    "output_type": "stream"
                },
                {
                    "name": "stdout",
                    "text": "Строка 1875 совпадает со строкой 13102\n",
                    "output_type": "stream"
                },
                {
                    "name": "stdout",
                    "text": "Строка 1876 совпадает со строкой 13103\n",
                    "output_type": "stream"
                },
                {
                    "name": "stdout",
                    "text": "Строка 1898 совпадает со строкой 13127\n",
                    "output_type": "stream"
                },
                {
                    "name": "stdout",
                    "text": "Строка 1899 совпадает со строкой 13128\n",
                    "output_type": "stream"
                },
                {
                    "name": "stdout",
                    "text": "Строка 1900 совпадает со строкой 13129\n",
                    "output_type": "stream"
                },
                {
                    "name": "stdout",
                    "text": "Строка 1901 совпадает со строкой 13130\n",
                    "output_type": "stream"
                },
                {
                    "name": "stdout",
                    "text": "Строка 1902 совпадает со строкой 13131\n",
                    "output_type": "stream"
                },
                {
                    "name": "stdout",
                    "text": "Строка 1903 совпадает со строкой 13132\n",
                    "output_type": "stream"
                },
                {
                    "name": "stdout",
                    "text": "Строка 1926 совпадает со строкой 13082\n",
                    "output_type": "stream"
                },
                {
                    "name": "stdout",
                    "text": "Строка 1927 совпадает со строкой 13083\n",
                    "output_type": "stream"
                },
                {
                    "name": "stdout",
                    "text": "Строка 1928 совпадает со строкой 13084\n",
                    "output_type": "stream"
                },
                {
                    "name": "stdout",
                    "text": "Строка 1929 совпадает со строкой 13085\n",
                    "output_type": "stream"
                },
                {
                    "name": "stdout",
                    "text": "Строка 1971 совпадает со строкой 13129\n",
                    "output_type": "stream"
                },
                {
                    "name": "stdout",
                    "text": "Строка 1972 совпадает со строкой 13130\n",
                    "output_type": "stream"
                },
                {
                    "name": "stdout",
                    "text": "Строка 1973 совпадает со строкой 13131\n",
                    "output_type": "stream"
                },
                {
                    "name": "stdout",
                    "text": "Строка 1974 совпадает со строкой 13132\n",
                    "output_type": "stream"
                },
                {
                    "name": "stdout",
                    "text": "Строка 1975 совпадает со строкой 13133\n",
                    "output_type": "stream"
                },
                {
                    "name": "stdout",
                    "text": "Строка 1976 совпадает со строкой 13134\n",
                    "output_type": "stream"
                },
                {
                    "name": "stdout",
                    "text": "Строка 1977 совпадает со строкой 13135\n",
                    "output_type": "stream"
                },
                {
                    "name": "stdout",
                    "text": "Строка 1978 совпадает со строкой 13136\n",
                    "output_type": "stream"
                },
                {
                    "name": "stdout",
                    "text": "Строка 1979 совпадает со строкой 13137\n",
                    "output_type": "stream"
                },
                {
                    "name": "stdout",
                    "text": "Строка 1980 совпадает со строкой 13138\n",
                    "output_type": "stream"
                },
                {
                    "name": "stdout",
                    "text": "Строка 1981 совпадает со строкой 13139\n",
                    "output_type": "stream"
                },
                {
                    "name": "stdout",
                    "text": "Строка 1982 совпадает со строкой 13140\n",
                    "output_type": "stream"
                },
                {
                    "name": "stdout",
                    "text": "Строка 1983 совпадает со строкой 13141\n",
                    "output_type": "stream"
                },
                {
                    "name": "stdout",
                    "text": "Строка 1984 совпадает со строкой 13142\n",
                    "output_type": "stream"
                },
                {
                    "name": "stdout",
                    "text": "Строка 1985 совпадает со строкой 13143\n",
                    "output_type": "stream"
                },
                {
                    "name": "stdout",
                    "text": "Строка 1986 совпадает со строкой 13144\n",
                    "output_type": "stream"
                },
                {
                    "name": "stdout",
                    "text": "Строка 1987 совпадает со строкой 13145\n",
                    "output_type": "stream"
                },
                {
                    "name": "stdout",
                    "text": "Строка 1988 совпадает со строкой 13146\n",
                    "output_type": "stream"
                },
                {
                    "name": "stdout",
                    "text": "Строка 1989 совпадает со строкой 13147\n",
                    "output_type": "stream"
                },
                {
                    "name": "stdout",
                    "text": "Строка 1990 совпадает со строкой 13148\n",
                    "output_type": "stream"
                },
                {
                    "name": "stdout",
                    "text": "Строка 1991 совпадает со строкой 13149\n",
                    "output_type": "stream"
                },
                {
                    "name": "stdout",
                    "text": "Строка 1992 совпадает со строкой 13150\n",
                    "output_type": "stream"
                },
                {
                    "name": "stdout",
                    "text": "Строка 1993 совпадает со строкой 13151\n",
                    "output_type": "stream"
                },
                {
                    "name": "stdout",
                    "text": "Строка 1994 совпадает со строкой 13152\n",
                    "output_type": "stream"
                },
                {
                    "name": "stdout",
                    "text": "Строка 1995 совпадает со строкой 13153\n",
                    "output_type": "stream"
                },
                {
                    "name": "stdout",
                    "text": "Строка 1996 совпадает со строкой 13154\n",
                    "output_type": "stream"
                },
                {
                    "name": "stdout",
                    "text": "Строка 1997 совпадает со строкой 13155\n",
                    "output_type": "stream"
                },
                {
                    "name": "stdout",
                    "text": "Строка 1998 совпадает со строкой 13156\n",
                    "output_type": "stream"
                },
                {
                    "name": "stdout",
                    "text": "Строка 1999 совпадает со строкой 13157\n",
                    "output_type": "stream"
                },
                {
                    "name": "stdout",
                    "text": "Строка 2000 совпадает со строкой 13158\n",
                    "output_type": "stream"
                },
                {
                    "name": "stdout",
                    "text": "Строка 2001 совпадает со строкой 13159\n",
                    "output_type": "stream"
                },
                {
                    "name": "stdout",
                    "text": "Строка 2002 совпадает со строкой 13160\n",
                    "output_type": "stream"
                },
                {
                    "name": "stdout",
                    "text": "Строка 2003 совпадает со строкой 13161\n",
                    "output_type": "stream"
                },
                {
                    "name": "stdout",
                    "text": "Строка 2004 совпадает со строкой 13162\n",
                    "output_type": "stream"
                },
                {
                    "name": "stdout",
                    "text": "Строка 2005 совпадает со строкой 13163\n",
                    "output_type": "stream"
                },
                {
                    "name": "stdout",
                    "text": "Строка 2008 совпадает со строкой 13059\n",
                    "output_type": "stream"
                },
                {
                    "name": "stdout",
                    "text": "Строка 2009 совпадает со строкой 13060\n",
                    "output_type": "stream"
                },
                {
                    "name": "stdout",
                    "text": "Строка 2010 совпадает со строкой 13061\n",
                    "output_type": "stream"
                },
                {
                    "name": "stdout",
                    "text": "Строка 2011 совпадает со строкой 13062\n",
                    "output_type": "stream"
                },
                {
                    "name": "stdout",
                    "text": "Строка 2012 совпадает со строкой 13063\n",
                    "output_type": "stream"
                },
                {
                    "name": "stdout",
                    "text": "Строка 2013 совпадает со строкой 13064\n",
                    "output_type": "stream"
                },
                {
                    "name": "stdout",
                    "text": "Строка 2014 совпадает со строкой 13065\n",
                    "output_type": "stream"
                },
                {
                    "name": "stdout",
                    "text": "Строка 2015 совпадает со строкой 13066\n",
                    "output_type": "stream"
                },
                {
                    "name": "stdout",
                    "text": "Строка 2016 совпадает со строкой 13067\n",
                    "output_type": "stream"
                },
                {
                    "name": "stdout",
                    "text": "Строка 2017 совпадает со строкой 13068\n",
                    "output_type": "stream"
                },
                {
                    "name": "stdout",
                    "text": "Строка 2018 совпадает со строкой 13069\n",
                    "output_type": "stream"
                },
                {
                    "name": "stdout",
                    "text": "Строка 2053 совпадает со строкой 13273\n",
                    "output_type": "stream"
                },
                {
                    "name": "stdout",
                    "text": "Строка 2054 совпадает со строкой 13274\n",
                    "output_type": "stream"
                },
                {
                    "name": "stdout",
                    "text": "Строка 2055 совпадает со строкой 13275\n",
                    "output_type": "stream"
                },
                {
                    "name": "stdout",
                    "text": "Строка 2056 совпадает со строкой 13276\n",
                    "output_type": "stream"
                },
                {
                    "name": "stdout",
                    "text": "Строка 2057 совпадает со строкой 13277\n",
                    "output_type": "stream"
                },
                {
                    "name": "stdout",
                    "text": "Строка 2058 совпадает со строкой 13278\n",
                    "output_type": "stream"
                },
                {
                    "name": "stdout",
                    "text": "Строка 2059 совпадает со строкой 13279\n",
                    "output_type": "stream"
                },
                {
                    "name": "stdout",
                    "text": "Строка 2060 совпадает со строкой 13280\n",
                    "output_type": "stream"
                },
                {
                    "name": "stdout",
                    "text": "Строка 2061 совпадает со строкой 13281\n",
                    "output_type": "stream"
                },
                {
                    "name": "stdout",
                    "text": "Строка 2062 совпадает со строкой 13282\n",
                    "output_type": "stream"
                },
                {
                    "name": "stdout",
                    "text": "Строка 2063 совпадает со строкой 13283\n",
                    "output_type": "stream"
                },
                {
                    "name": "stdout",
                    "text": "Строка 2064 совпадает со строкой 13284\n",
                    "output_type": "stream"
                },
                {
                    "name": "stdout",
                    "text": "Строка 2065 совпадает со строкой 13285\n",
                    "output_type": "stream"
                },
                {
                    "name": "stdout",
                    "text": "Строка 2066 совпадает со строкой 13286\n",
                    "output_type": "stream"
                },
                {
                    "name": "stdout",
                    "text": "Строка 2067 совпадает со строкой 13287\n",
                    "output_type": "stream"
                },
                {
                    "name": "stdout",
                    "text": "Строка 2068 совпадает со строкой 13288\n",
                    "output_type": "stream"
                },
                {
                    "name": "stdout",
                    "text": "Строка 2069 совпадает со строкой 13289\n",
                    "output_type": "stream"
                },
                {
                    "name": "stdout",
                    "text": "Строка 2070 совпадает со строкой 13290\n",
                    "output_type": "stream"
                },
                {
                    "name": "stdout",
                    "text": "Строка 2071 совпадает со строкой 13291\n",
                    "output_type": "stream"
                },
                {
                    "name": "stdout",
                    "text": "Строка 2072 совпадает со строкой 13292\n",
                    "output_type": "stream"
                },
                {
                    "name": "stdout",
                    "text": "Строка 2073 совпадает со строкой 13293\n",
                    "output_type": "stream"
                },
                {
                    "name": "stdout",
                    "text": "Строка 2074 совпадает со строкой 13294\n",
                    "output_type": "stream"
                },
                {
                    "name": "stdout",
                    "text": "Строка 2075 совпадает со строкой 13295\n",
                    "output_type": "stream"
                },
                {
                    "name": "stdout",
                    "text": "Строка 2076 совпадает со строкой 13296\n",
                    "output_type": "stream"
                },
                {
                    "name": "stdout",
                    "text": "Строка 2077 совпадает со строкой 13297\n",
                    "output_type": "stream"
                },
                {
                    "name": "stdout",
                    "text": "Строка 2093 совпадает со строкой 13297\n",
                    "output_type": "stream"
                },
                {
                    "name": "stdout",
                    "text": "Строка 2094 совпадает со строкой 13298\n",
                    "output_type": "stream"
                },
                {
                    "name": "stdout",
                    "text": "Строка 2095 совпадает со строкой 13299\n",
                    "output_type": "stream"
                },
                {
                    "name": "stdout",
                    "text": "Строка 2096 совпадает со строкой 13300\n",
                    "output_type": "stream"
                },
                {
                    "name": "stdout",
                    "text": "Строка 2097 совпадает со строкой 13301\n",
                    "output_type": "stream"
                },
                {
                    "name": "stdout",
                    "text": "Строка 2098 совпадает со строкой 13302\n",
                    "output_type": "stream"
                },
                {
                    "name": "stdout",
                    "text": "Строка 2099 совпадает со строкой 13303\n",
                    "output_type": "stream"
                },
                {
                    "name": "stdout",
                    "text": "Строка 2100 совпадает со строкой 13304\n",
                    "output_type": "stream"
                },
                {
                    "name": "stdout",
                    "text": "Строка 2101 совпадает со строкой 13305\n",
                    "output_type": "stream"
                },
                {
                    "name": "stdout",
                    "text": "Строка 2102 совпадает со строкой 13306\n",
                    "output_type": "stream"
                },
                {
                    "name": "stdout",
                    "text": "Строка 2103 совпадает со строкой 13307\n",
                    "output_type": "stream"
                },
                {
                    "name": "stdout",
                    "text": "Строка 2105 совпадает со строкой 13222\n",
                    "output_type": "stream"
                },
                {
                    "name": "stdout",
                    "text": "Строка 2108 совпадает со строкой 13222\n",
                    "output_type": "stream"
                },
                {
                    "name": "stdout",
                    "text": "Строка 2109 совпадает со строкой 13222\n",
                    "output_type": "stream"
                },
                {
                    "name": "stdout",
                    "text": "Строка 2112 совпадает со строкой 13222\n",
                    "output_type": "stream"
                },
                {
                    "name": "stdout",
                    "text": "Строка 2115 совпадает со строкой 13222\n",
                    "output_type": "stream"
                },
                {
                    "name": "stdout",
                    "text": "Строка 2118 совпадает со строкой 13222\n",
                    "output_type": "stream"
                },
                {
                    "name": "stdout",
                    "text": "Строка 2126 совпадает со строкой 13222\n",
                    "output_type": "stream"
                },
                {
                    "name": "stdout",
                    "text": "Строка 2130 совпадает со строкой 13222\n",
                    "output_type": "stream"
                },
                {
                    "name": "stdout",
                    "text": "Строка 2139 совпадает со строкой 13222\n",
                    "output_type": "stream"
                },
                {
                    "name": "stdout",
                    "text": "Строка 2145 совпадает со строкой 13223\n",
                    "output_type": "stream"
                },
                {
                    "name": "stdout",
                    "text": "Строка 2149 совпадает со строкой 13224\n",
                    "output_type": "stream"
                },
                {
                    "name": "stdout",
                    "text": "Строка 2182 совпадает со строкой 13156\n",
                    "output_type": "stream"
                },
                {
                    "name": "stdout",
                    "text": "Строка 2183 совпадает со строкой 13157\n",
                    "output_type": "stream"
                },
                {
                    "name": "stdout",
                    "text": "Строка 2184 совпадает со строкой 13158\n",
                    "output_type": "stream"
                },
                {
                    "name": "stdout",
                    "text": "Строка 2185 совпадает со строкой 13159\n",
                    "output_type": "stream"
                },
                {
                    "name": "stdout",
                    "text": "Строка 2186 совпадает со строкой 13160\n",
                    "output_type": "stream"
                },
                {
                    "name": "stdout",
                    "text": "Строка 2187 совпадает со строкой 13197\n",
                    "output_type": "stream"
                },
                {
                    "name": "stdout",
                    "text": "Строка 2190 совпадает со строкой 13159\n",
                    "output_type": "stream"
                },
                {
                    "name": "stdout",
                    "text": "Строка 2191 совпадает со строкой 13160\n",
                    "output_type": "stream"
                },
                {
                    "name": "stdout",
                    "text": "Строка 2192 совпадает со строкой 13161\n",
                    "output_type": "stream"
                },
                {
                    "name": "stdout",
                    "text": "Строка 2198 совпадает со строкой 13161\n",
                    "output_type": "stream"
                },
                {
                    "name": "stdout",
                    "text": "Строка 2199 совпадает со строкой 13162\n",
                    "output_type": "stream"
                },
                {
                    "name": "stdout",
                    "text": "Строка 2203 совпадает со строкой 13163\n",
                    "output_type": "stream"
                },
                {
                    "name": "stdout",
                    "text": "Строка 2204 совпадает со строкой 13164\n",
                    "output_type": "stream"
                },
                {
                    "name": "stdout",
                    "text": "Строка 2205 совпадает со строкой 13165\n",
                    "output_type": "stream"
                },
                {
                    "name": "stdout",
                    "text": "Строка 2206 совпадает со строкой 13166\n",
                    "output_type": "stream"
                },
                {
                    "name": "stdout",
                    "text": "Строка 2207 совпадает со строкой 13167\n",
                    "output_type": "stream"
                },
                {
                    "name": "stdout",
                    "text": "Строка 2208 совпадает со строкой 13188\n",
                    "output_type": "stream"
                },
                {
                    "name": "stdout",
                    "text": "Строка 2209 совпадает со строкой 13167\n",
                    "output_type": "stream"
                },
                {
                    "name": "stdout",
                    "text": "Строка 2210 совпадает со строкой 13168\n",
                    "output_type": "stream"
                },
                {
                    "name": "stdout",
                    "text": "Строка 2211 совпадает со строкой 13169\n",
                    "output_type": "stream"
                },
                {
                    "name": "stdout",
                    "text": "Строка 2212 совпадает со строкой 13170\n",
                    "output_type": "stream"
                },
                {
                    "name": "stdout",
                    "text": "Строка 2213 совпадает со строкой 13171\n",
                    "output_type": "stream"
                },
                {
                    "name": "stdout",
                    "text": "Строка 2214 совпадает со строкой 13172\n",
                    "output_type": "stream"
                },
                {
                    "name": "stdout",
                    "text": "Строка 2215 совпадает со строкой 13173\n",
                    "output_type": "stream"
                },
                {
                    "name": "stdout",
                    "text": "Строка 2216 совпадает со строкой 13174\n",
                    "output_type": "stream"
                },
                {
                    "name": "stdout",
                    "text": "Строка 2217 совпадает со строкой 13175\n",
                    "output_type": "stream"
                },
                {
                    "name": "stdout",
                    "text": "Строка 2219 совпадает со строкой 13110\n",
                    "output_type": "stream"
                },
                {
                    "name": "stdout",
                    "text": "Строка 2220 совпадает со строкой 13111\n",
                    "output_type": "stream"
                },
                {
                    "name": "stdout",
                    "text": "Строка 2221 совпадает со строкой 13112\n",
                    "output_type": "stream"
                },
                {
                    "name": "stdout",
                    "text": "Строка 2222 совпадает со строкой 13113\n",
                    "output_type": "stream"
                },
                {
                    "name": "stdout",
                    "text": "Строка 2224 совпадает со строкой 13113\n",
                    "output_type": "stream"
                },
                {
                    "name": "stdout",
                    "text": "Строка 2225 совпадает со строкой 13114\n",
                    "output_type": "stream"
                },
                {
                    "name": "stdout",
                    "text": "Строка 2227 совпадает со строкой 13114\n",
                    "output_type": "stream"
                },
                {
                    "name": "stdout",
                    "text": "Строка 2228 совпадает со строкой 13115\n",
                    "output_type": "stream"
                },
                {
                    "name": "stdout",
                    "text": "Строка 2230 совпадает со строкой 13115\n",
                    "output_type": "stream"
                },
                {
                    "name": "stdout",
                    "text": "Строка 2231 совпадает со строкой 13115\n",
                    "output_type": "stream"
                },
                {
                    "name": "stdout",
                    "text": "Строка 2232 совпадает со строкой 13116\n",
                    "output_type": "stream"
                },
                {
                    "name": "stdout",
                    "text": "Строка 2234 совпадает со строкой 13116\n",
                    "output_type": "stream"
                },
                {
                    "name": "stdout",
                    "text": "Строка 2267 совпадает со строкой 2268\n",
                    "output_type": "stream"
                },
                {
                    "name": "stdout",
                    "text": "Строка 2267 совпадает со строкой 12369\n",
                    "output_type": "stream"
                },
                {
                    "name": "stdout",
                    "text": "Строка 2268 совпадает со строкой 12369\n",
                    "output_type": "stream"
                },
                {
                    "name": "stdout",
                    "text": "Строка 2269 совпадает со строкой 12369\n",
                    "output_type": "stream"
                },
                {
                    "name": "stdout",
                    "text": "Строка 2270 совпадает со строкой 12369\n",
                    "output_type": "stream"
                },
                {
                    "name": "stdout",
                    "text": "Строка 2271 совпадает со строкой 12369\n",
                    "output_type": "stream"
                },
                {
                    "name": "stdout",
                    "text": "Строка 2272 совпадает со строкой 12369\n",
                    "output_type": "stream"
                },
                {
                    "name": "stdout",
                    "text": "Строка 2273 совпадает со строкой 12369\n",
                    "output_type": "stream"
                },
                {
                    "name": "stdout",
                    "text": "Строка 2274 совпадает со строкой 12369\n",
                    "output_type": "stream"
                },
                {
                    "name": "stdout",
                    "text": "Строка 2275 совпадает со строкой 12369\n",
                    "output_type": "stream"
                },
                {
                    "name": "stdout",
                    "text": "Строка 2276 совпадает со строкой 12369\n",
                    "output_type": "stream"
                },
                {
                    "name": "stdout",
                    "text": "Строка 2277 совпадает со строкой 12369\n",
                    "output_type": "stream"
                },
                {
                    "name": "stdout",
                    "text": "Строка 2278 совпадает со строкой 12369\n",
                    "output_type": "stream"
                },
                {
                    "name": "stdout",
                    "text": "Строка 2279 совпадает со строкой 12369\n",
                    "output_type": "stream"
                },
                {
                    "name": "stdout",
                    "text": "Строка 2280 совпадает со строкой 12369\n",
                    "output_type": "stream"
                },
                {
                    "name": "stdout",
                    "text": "Строка 2281 совпадает со строкой 12369\n",
                    "output_type": "stream"
                },
                {
                    "name": "stdout",
                    "text": "Строка 2282 совпадает со строкой 12369\n",
                    "output_type": "stream"
                },
                {
                    "name": "stdout",
                    "text": "Строка 2283 совпадает со строкой 12369\n",
                    "output_type": "stream"
                },
                {
                    "name": "stdout",
                    "text": "Строка 2284 совпадает со строкой 12369\n",
                    "output_type": "stream"
                },
                {
                    "name": "stdout",
                    "text": "Строка 2285 совпадает со строкой 12369\n",
                    "output_type": "stream"
                },
                {
                    "name": "stdout",
                    "text": "Строка 2286 совпадает со строкой 12369\n",
                    "output_type": "stream"
                },
                {
                    "name": "stdout",
                    "text": "Строка 2287 совпадает со строкой 12369\n",
                    "output_type": "stream"
                },
                {
                    "name": "stdout",
                    "text": "Строка 2288 совпадает со строкой 12369\n",
                    "output_type": "stream"
                },
                {
                    "name": "stdout",
                    "text": "Строка 2289 совпадает со строкой 12369\n",
                    "output_type": "stream"
                },
                {
                    "name": "stdout",
                    "text": "Строка 2290 совпадает со строкой 12369\n",
                    "output_type": "stream"
                },
                {
                    "name": "stdout",
                    "text": "Строка 2291 совпадает со строкой 12369\n",
                    "output_type": "stream"
                },
                {
                    "name": "stdout",
                    "text": "Строка 2292 совпадает со строкой 12369\n",
                    "output_type": "stream"
                },
                {
                    "name": "stdout",
                    "text": "Строка 2293 совпадает со строкой 12369\n",
                    "output_type": "stream"
                },
                {
                    "name": "stdout",
                    "text": "Строка 2294 совпадает со строкой 12369\n",
                    "output_type": "stream"
                },
                {
                    "name": "stdout",
                    "text": "Строка 2295 совпадает со строкой 12369\n",
                    "output_type": "stream"
                },
                {
                    "name": "stdout",
                    "text": "Строка 2296 совпадает со строкой 12369\n",
                    "output_type": "stream"
                },
                {
                    "name": "stdout",
                    "text": "Строка 2297 совпадает со строкой 12369\n",
                    "output_type": "stream"
                },
                {
                    "name": "stdout",
                    "text": "Строка 2298 совпадает со строкой 12369\n",
                    "output_type": "stream"
                },
                {
                    "name": "stdout",
                    "text": "Строка 2299 совпадает со строкой 12369\n",
                    "output_type": "stream"
                },
                {
                    "name": "stdout",
                    "text": "Строка 2300 совпадает со строкой 12369\n",
                    "output_type": "stream"
                },
                {
                    "name": "stdout",
                    "text": "Строка 2301 совпадает со строкой 12369\n",
                    "output_type": "stream"
                },
                {
                    "name": "stdout",
                    "text": "Строка 2302 совпадает со строкой 12369\n",
                    "output_type": "stream"
                },
                {
                    "name": "stdout",
                    "text": "Строка 2303 совпадает со строкой 12369\n",
                    "output_type": "stream"
                },
                {
                    "name": "stdout",
                    "text": "Строка 2304 совпадает со строкой 12369\n",
                    "output_type": "stream"
                },
                {
                    "name": "stdout",
                    "text": "Строка 2305 совпадает со строкой 12369\n",
                    "output_type": "stream"
                },
                {
                    "name": "stdout",
                    "text": "Строка 2306 совпадает со строкой 12369\n",
                    "output_type": "stream"
                },
                {
                    "name": "stdout",
                    "text": "Строка 2307 совпадает со строкой 12369\n",
                    "output_type": "stream"
                },
                {
                    "name": "stdout",
                    "text": "Строка 2308 совпадает со строкой 12369\n",
                    "output_type": "stream"
                },
                {
                    "name": "stdout",
                    "text": "Строка 2309 совпадает со строкой 12369\n",
                    "output_type": "stream"
                },
                {
                    "name": "stdout",
                    "text": "Строка 2310 совпадает со строкой 12369\n",
                    "output_type": "stream"
                },
                {
                    "name": "stdout",
                    "text": "Строка 2311 совпадает со строкой 12369\n",
                    "output_type": "stream"
                },
                {
                    "name": "stdout",
                    "text": "Строка 2312 совпадает со строкой 12369\n",
                    "output_type": "stream"
                },
                {
                    "name": "stdout",
                    "text": "Строка 2313 совпадает со строкой 12369\n",
                    "output_type": "stream"
                },
                {
                    "name": "stdout",
                    "text": "Строка 2314 совпадает со строкой 12369\n",
                    "output_type": "stream"
                },
                {
                    "name": "stdout",
                    "text": "Строка 2315 совпадает со строкой 12369\n",
                    "output_type": "stream"
                },
                {
                    "name": "stdout",
                    "text": "Строка 2317 совпадает со строкой 12371\n",
                    "output_type": "stream"
                },
                {
                    "name": "stdout",
                    "text": "Строка 2318 совпадает со строкой 12372\n",
                    "output_type": "stream"
                },
                {
                    "name": "stdout",
                    "text": "Строка 2319 совпадает со строкой 12373\n",
                    "output_type": "stream"
                },
                {
                    "name": "stdout",
                    "text": "Строка 2320 совпадает со строкой 12374\n",
                    "output_type": "stream"
                },
                {
                    "name": "stdout",
                    "text": "Строка 2321 совпадает со строкой 12375\n",
                    "output_type": "stream"
                },
                {
                    "name": "stdout",
                    "text": "Строка 2322 совпадает со строкой 12376\n",
                    "output_type": "stream"
                },
                {
                    "name": "stdout",
                    "text": "Строка 2323 совпадает со строкой 12377\n",
                    "output_type": "stream"
                },
                {
                    "name": "stdout",
                    "text": "Строка 2324 совпадает со строкой 12378\n",
                    "output_type": "stream"
                },
                {
                    "name": "stdout",
                    "text": "Строка 2325 совпадает со строкой 12379\n",
                    "output_type": "stream"
                },
                {
                    "name": "stdout",
                    "text": "Строка 2326 совпадает со строкой 12380\n",
                    "output_type": "stream"
                },
                {
                    "name": "stdout",
                    "text": "Строка 2327 совпадает со строкой 12381\n",
                    "output_type": "stream"
                },
                {
                    "name": "stdout",
                    "text": "Строка 2328 совпадает со строкой 12382\n",
                    "output_type": "stream"
                },
                {
                    "name": "stdout",
                    "text": "Строка 2329 совпадает со строкой 12383\n",
                    "output_type": "stream"
                },
                {
                    "name": "stdout",
                    "text": "Строка 2330 совпадает со строкой 12384\n",
                    "output_type": "stream"
                },
                {
                    "name": "stdout",
                    "text": "Строка 2331 совпадает со строкой 12385\n",
                    "output_type": "stream"
                },
                {
                    "name": "stdout",
                    "text": "Строка 2332 совпадает со строкой 12386\n",
                    "output_type": "stream"
                },
                {
                    "name": "stdout",
                    "text": "Строка 2333 совпадает со строкой 12387\n",
                    "output_type": "stream"
                },
                {
                    "name": "stdout",
                    "text": "Строка 2334 совпадает со строкой 12388\n",
                    "output_type": "stream"
                },
                {
                    "name": "stdout",
                    "text": "Строка 2335 совпадает со строкой 12389\n",
                    "output_type": "stream"
                },
                {
                    "name": "stdout",
                    "text": "Строка 2336 совпадает со строкой 12390\n",
                    "output_type": "stream"
                },
                {
                    "name": "stdout",
                    "text": "Строка 2337 совпадает со строкой 12391\n",
                    "output_type": "stream"
                },
                {
                    "name": "stdout",
                    "text": "Строка 2338 совпадает со строкой 12392\n",
                    "output_type": "stream"
                },
                {
                    "name": "stdout",
                    "text": "Строка 2339 совпадает со строкой 12393\n",
                    "output_type": "stream"
                },
                {
                    "name": "stdout",
                    "text": "Строка 2340 совпадает со строкой 12394\n",
                    "output_type": "stream"
                },
                {
                    "name": "stdout",
                    "text": "Строка 2341 совпадает со строкой 12395\n",
                    "output_type": "stream"
                },
                {
                    "name": "stdout",
                    "text": "Строка 2351 совпадает со строкой 2352\n",
                    "output_type": "stream"
                },
                {
                    "name": "stdout",
                    "text": "Строка 2351 совпадает со строкой 12119\n",
                    "output_type": "stream"
                },
                {
                    "name": "stdout",
                    "text": "Строка 2352 совпадает со строкой 12119\n",
                    "output_type": "stream"
                },
                {
                    "name": "stdout",
                    "text": "Строка 2353 совпадает со строкой 12119\n",
                    "output_type": "stream"
                },
                {
                    "name": "stdout",
                    "text": "Строка 2354 совпадает со строкой 12119\n",
                    "output_type": "stream"
                },
                {
                    "name": "stdout",
                    "text": "Строка 2355 совпадает со строкой 12119\n",
                    "output_type": "stream"
                },
                {
                    "name": "stdout",
                    "text": "Строка 2356 совпадает со строкой 12119\n",
                    "output_type": "stream"
                },
                {
                    "name": "stdout",
                    "text": "Строка 2357 совпадает со строкой 12119\n",
                    "output_type": "stream"
                },
                {
                    "name": "stdout",
                    "text": "Строка 2358 совпадает со строкой 12119\n",
                    "output_type": "stream"
                },
                {
                    "name": "stdout",
                    "text": "Строка 2359 совпадает со строкой 12119\n",
                    "output_type": "stream"
                },
                {
                    "name": "stdout",
                    "text": "Строка 2360 совпадает со строкой 12119\n",
                    "output_type": "stream"
                },
                {
                    "name": "stdout",
                    "text": "Строка 2361 совпадает со строкой 12119\n",
                    "output_type": "stream"
                },
                {
                    "name": "stdout",
                    "text": "Строка 2362 совпадает со строкой 12119\n",
                    "output_type": "stream"
                },
                {
                    "name": "stdout",
                    "text": "Строка 2363 совпадает со строкой 12119\n",
                    "output_type": "stream"
                },
                {
                    "name": "stdout",
                    "text": "Строка 2364 совпадает со строкой 12119\n",
                    "output_type": "stream"
                },
                {
                    "name": "stdout",
                    "text": "Строка 2365 совпадает со строкой 12119\n",
                    "output_type": "stream"
                },
                {
                    "name": "stdout",
                    "text": "Строка 2366 совпадает со строкой 12119\n",
                    "output_type": "stream"
                },
                {
                    "name": "stdout",
                    "text": "Строка 2367 совпадает со строкой 12119\n",
                    "output_type": "stream"
                },
                {
                    "name": "stdout",
                    "text": "Строка 2368 совпадает со строкой 12119\n",
                    "output_type": "stream"
                },
                {
                    "name": "stdout",
                    "text": "Строка 2369 совпадает со строкой 12119\n",
                    "output_type": "stream"
                },
                {
                    "name": "stdout",
                    "text": "Строка 2370 совпадает со строкой 12119\n",
                    "output_type": "stream"
                },
                {
                    "name": "stdout",
                    "text": "Строка 2371 совпадает со строкой 12119\n",
                    "output_type": "stream"
                },
                {
                    "name": "stdout",
                    "text": "Строка 2372 совпадает со строкой 12119\n",
                    "output_type": "stream"
                },
                {
                    "name": "stdout",
                    "text": "Строка 2373 совпадает со строкой 12119\n",
                    "output_type": "stream"
                },
                {
                    "name": "stdout",
                    "text": "Строка 2374 совпадает со строкой 12119\n",
                    "output_type": "stream"
                },
                {
                    "name": "stdout",
                    "text": "Строка 2375 совпадает со строкой 12119\n",
                    "output_type": "stream"
                },
                {
                    "name": "stdout",
                    "text": "Строка 2376 совпадает со строкой 12119\n",
                    "output_type": "stream"
                },
                {
                    "name": "stdout",
                    "text": "Строка 2377 совпадает со строкой 12119\n",
                    "output_type": "stream"
                },
                {
                    "name": "stdout",
                    "text": "Строка 2378 совпадает со строкой 12119\n",
                    "output_type": "stream"
                },
                {
                    "name": "stdout",
                    "text": "Строка 2379 совпадает со строкой 12119\n",
                    "output_type": "stream"
                },
                {
                    "name": "stdout",
                    "text": "Строка 2380 совпадает со строкой 12119\n",
                    "output_type": "stream"
                },
                {
                    "name": "stdout",
                    "text": "Строка 2381 совпадает со строкой 12119\n",
                    "output_type": "stream"
                },
                {
                    "name": "stdout",
                    "text": "Строка 2382 совпадает со строкой 12119\n",
                    "output_type": "stream"
                },
                {
                    "name": "stdout",
                    "text": "Строка 2383 совпадает со строкой 12119\n",
                    "output_type": "stream"
                },
                {
                    "name": "stdout",
                    "text": "Строка 2384 совпадает со строкой 12119\n",
                    "output_type": "stream"
                },
                {
                    "name": "stdout",
                    "text": "Строка 2385 совпадает со строкой 12119\n",
                    "output_type": "stream"
                },
                {
                    "name": "stdout",
                    "text": "Строка 2386 совпадает со строкой 12119\n",
                    "output_type": "stream"
                },
                {
                    "name": "stdout",
                    "text": "Строка 2387 совпадает со строкой 12119\n",
                    "output_type": "stream"
                },
                {
                    "name": "stdout",
                    "text": "Строка 2388 совпадает со строкой 12119\n",
                    "output_type": "stream"
                },
                {
                    "name": "stdout",
                    "text": "Строка 2389 совпадает со строкой 12119\n",
                    "output_type": "stream"
                },
                {
                    "name": "stdout",
                    "text": "Строка 2390 совпадает со строкой 12119\n",
                    "output_type": "stream"
                },
                {
                    "name": "stdout",
                    "text": "Строка 2391 совпадает со строкой 12119\n",
                    "output_type": "stream"
                },
                {
                    "name": "stdout",
                    "text": "Строка 2392 совпадает со строкой 12119\n",
                    "output_type": "stream"
                },
                {
                    "name": "stdout",
                    "text": "Строка 2393 совпадает со строкой 12119\n",
                    "output_type": "stream"
                },
                {
                    "name": "stdout",
                    "text": "Строка 2394 совпадает со строкой 12119\n",
                    "output_type": "stream"
                },
                {
                    "name": "stdout",
                    "text": "Строка 2395 совпадает со строкой 12119\n",
                    "output_type": "stream"
                },
                {
                    "name": "stdout",
                    "text": "Строка 2396 совпадает со строкой 12119\n",
                    "output_type": "stream"
                },
                {
                    "name": "stdout",
                    "text": "Строка 2397 совпадает со строкой 12119\n",
                    "output_type": "stream"
                },
                {
                    "name": "stdout",
                    "text": "Строка 2398 совпадает со строкой 12119\n",
                    "output_type": "stream"
                },
                {
                    "name": "stdout",
                    "text": "Строка 2399 совпадает со строкой 12119\n",
                    "output_type": "stream"
                },
                {
                    "name": "stdout",
                    "text": "Строка 2400 совпадает со строкой 12119\n",
                    "output_type": "stream"
                },
                {
                    "name": "stdout",
                    "text": "Строка 2401 совпадает со строкой 12119\n",
                    "output_type": "stream"
                },
                {
                    "name": "stdout",
                    "text": "Строка 2402 совпадает со строкой 12119\n",
                    "output_type": "stream"
                },
                {
                    "name": "stdout",
                    "text": "Строка 2403 совпадает со строкой 12119\n",
                    "output_type": "stream"
                },
                {
                    "name": "stdout",
                    "text": "Строка 2404 совпадает со строкой 12119\n",
                    "output_type": "stream"
                },
                {
                    "name": "stdout",
                    "text": "Строка 2405 совпадает со строкой 12119\n",
                    "output_type": "stream"
                },
                {
                    "name": "stdout",
                    "text": "Строка 2406 совпадает со строкой 12119\n",
                    "output_type": "stream"
                },
                {
                    "name": "stdout",
                    "text": "Строка 2407 совпадает со строкой 12119\n",
                    "output_type": "stream"
                },
                {
                    "name": "stdout",
                    "text": "Строка 2408 совпадает со строкой 12119\n",
                    "output_type": "stream"
                },
                {
                    "name": "stdout",
                    "text": "Строка 2409 совпадает со строкой 12119\n",
                    "output_type": "stream"
                },
                {
                    "name": "stdout",
                    "text": "Строка 2410 совпадает со строкой 12119\n",
                    "output_type": "stream"
                },
                {
                    "name": "stdout",
                    "text": "Строка 2411 совпадает со строкой 12119\n",
                    "output_type": "stream"
                },
                {
                    "name": "stdout",
                    "text": "Строка 2412 совпадает со строкой 12119\n",
                    "output_type": "stream"
                },
                {
                    "name": "stdout",
                    "text": "Строка 2413 совпадает со строкой 12119\n",
                    "output_type": "stream"
                },
                {
                    "name": "stdout",
                    "text": "Строка 2414 совпадает со строкой 12119\n",
                    "output_type": "stream"
                },
                {
                    "name": "stdout",
                    "text": "Строка 2415 совпадает со строкой 12119\n",
                    "output_type": "stream"
                },
                {
                    "name": "stdout",
                    "text": "Строка 2416 совпадает со строкой 12119\n",
                    "output_type": "stream"
                },
                {
                    "name": "stdout",
                    "text": "Строка 2417 совпадает со строкой 12119\n",
                    "output_type": "stream"
                },
                {
                    "name": "stdout",
                    "text": "Строка 2418 совпадает со строкой 12119\n",
                    "output_type": "stream"
                },
                {
                    "name": "stdout",
                    "text": "Строка 2419 совпадает со строкой 12119\n",
                    "output_type": "stream"
                },
                {
                    "name": "stdout",
                    "text": "Строка 2420 совпадает со строкой 12119\n",
                    "output_type": "stream"
                },
                {
                    "name": "stdout",
                    "text": "Строка 2421 совпадает со строкой 12119\n",
                    "output_type": "stream"
                },
                {
                    "name": "stdout",
                    "text": "Строка 2422 совпадает со строкой 12119\n",
                    "output_type": "stream"
                },
                {
                    "name": "stdout",
                    "text": "Строка 2423 совпадает со строкой 12119\n",
                    "output_type": "stream"
                },
                {
                    "name": "stdout",
                    "text": "Строка 2424 совпадает со строкой 12119\n",
                    "output_type": "stream"
                },
                {
                    "name": "stdout",
                    "text": "Строка 2425 совпадает со строкой 12119\n",
                    "output_type": "stream"
                },
                {
                    "name": "stdout",
                    "text": "Строка 2426 совпадает со строкой 12119\n",
                    "output_type": "stream"
                },
                {
                    "name": "stdout",
                    "text": "Строка 2427 совпадает со строкой 12119\n",
                    "output_type": "stream"
                },
                {
                    "name": "stdout",
                    "text": "Строка 2428 совпадает со строкой 12119\n",
                    "output_type": "stream"
                },
                {
                    "name": "stdout",
                    "text": "Строка 2429 совпадает со строкой 12119\n",
                    "output_type": "stream"
                },
                {
                    "name": "stdout",
                    "text": "Строка 2430 совпадает со строкой 12119\n",
                    "output_type": "stream"
                },
                {
                    "name": "stdout",
                    "text": "Строка 2431 совпадает со строкой 12119\n",
                    "output_type": "stream"
                },
                {
                    "name": "stdout",
                    "text": "Строка 2432 совпадает со строкой 12119\n",
                    "output_type": "stream"
                },
                {
                    "name": "stdout",
                    "text": "Строка 2433 совпадает со строкой 12119\n",
                    "output_type": "stream"
                },
                {
                    "name": "stdout",
                    "text": "Строка 2434 совпадает со строкой 12119\n",
                    "output_type": "stream"
                },
                {
                    "name": "stdout",
                    "text": "Строка 2435 совпадает со строкой 12119\n",
                    "output_type": "stream"
                },
                {
                    "name": "stdout",
                    "text": "Строка 2436 совпадает со строкой 12119\n",
                    "output_type": "stream"
                },
                {
                    "name": "stdout",
                    "text": "Строка 2437 совпадает со строкой 12119\n",
                    "output_type": "stream"
                },
                {
                    "name": "stdout",
                    "text": "Строка 2438 совпадает со строкой 12119\n",
                    "output_type": "stream"
                },
                {
                    "name": "stdout",
                    "text": "Строка 2439 совпадает со строкой 12119\n",
                    "output_type": "stream"
                },
                {
                    "name": "stdout",
                    "text": "Строка 2440 совпадает со строкой 12119\n",
                    "output_type": "stream"
                },
                {
                    "name": "stdout",
                    "text": "Строка 2441 совпадает со строкой 12119\n",
                    "output_type": "stream"
                },
                {
                    "name": "stdout",
                    "text": "Строка 2442 совпадает со строкой 12119\n",
                    "output_type": "stream"
                },
                {
                    "name": "stdout",
                    "text": "Строка 2443 совпадает со строкой 12119\n",
                    "output_type": "stream"
                },
                {
                    "name": "stdout",
                    "text": "Строка 2444 совпадает со строкой 12119\n",
                    "output_type": "stream"
                },
                {
                    "name": "stdout",
                    "text": "Строка 2445 совпадает со строкой 12119\n",
                    "output_type": "stream"
                },
                {
                    "name": "stdout",
                    "text": "Строка 2446 совпадает со строкой 12119\n",
                    "output_type": "stream"
                },
                {
                    "name": "stdout",
                    "text": "Строка 2447 совпадает со строкой 12119\n",
                    "output_type": "stream"
                },
                {
                    "name": "stdout",
                    "text": "Строка 2448 совпадает со строкой 12119\n",
                    "output_type": "stream"
                },
                {
                    "name": "stdout",
                    "text": "Строка 2449 совпадает со строкой 12119\n",
                    "output_type": "stream"
                },
                {
                    "name": "stdout",
                    "text": "Строка 2450 совпадает со строкой 12119\n",
                    "output_type": "stream"
                },
                {
                    "name": "stdout",
                    "text": "Строка 2451 совпадает со строкой 12119\n",
                    "output_type": "stream"
                },
                {
                    "name": "stdout",
                    "text": "Строка 2453 совпадает со строкой 12123\n",
                    "output_type": "stream"
                },
                {
                    "name": "stdout",
                    "text": "Строка 2454 совпадает со строкой 12124\n",
                    "output_type": "stream"
                },
                {
                    "name": "stdout",
                    "text": "Строка 2455 совпадает со строкой 12125\n",
                    "output_type": "stream"
                },
                {
                    "name": "stdout",
                    "text": "Строка 2456 совпадает со строкой 12126\n",
                    "output_type": "stream"
                },
                {
                    "name": "stdout",
                    "text": "Строка 2457 совпадает со строкой 12127\n",
                    "output_type": "stream"
                },
                {
                    "name": "stdout",
                    "text": "Строка 2458 совпадает со строкой 12128\n",
                    "output_type": "stream"
                },
                {
                    "name": "stdout",
                    "text": "Строка 2459 совпадает со строкой 12129\n",
                    "output_type": "stream"
                },
                {
                    "name": "stdout",
                    "text": "Строка 2460 совпадает со строкой 12130\n",
                    "output_type": "stream"
                },
                {
                    "name": "stdout",
                    "text": "Строка 2461 совпадает со строкой 12131\n",
                    "output_type": "stream"
                },
                {
                    "name": "stdout",
                    "text": "Строка 2462 совпадает со строкой 12132\n",
                    "output_type": "stream"
                },
                {
                    "name": "stdout",
                    "text": "Строка 2463 совпадает со строкой 12133\n",
                    "output_type": "stream"
                },
                {
                    "name": "stdout",
                    "text": "Строка 2464 совпадает со строкой 12134\n",
                    "output_type": "stream"
                },
                {
                    "name": "stdout",
                    "text": "Строка 2465 совпадает со строкой 12135\n",
                    "output_type": "stream"
                },
                {
                    "name": "stdout",
                    "text": "Строка 2466 совпадает со строкой 12136\n",
                    "output_type": "stream"
                },
                {
                    "name": "stdout",
                    "text": "Строка 2467 совпадает со строкой 12137\n",
                    "output_type": "stream"
                },
                {
                    "name": "stdout",
                    "text": "Строка 2468 совпадает со строкой 12138\n",
                    "output_type": "stream"
                },
                {
                    "name": "stdout",
                    "text": "Строка 2469 совпадает со строкой 12139\n",
                    "output_type": "stream"
                },
                {
                    "name": "stdout",
                    "text": "Строка 2470 совпадает со строкой 12140\n",
                    "output_type": "stream"
                },
                {
                    "name": "stdout",
                    "text": "Строка 2471 совпадает со строкой 12141\n",
                    "output_type": "stream"
                },
                {
                    "name": "stdout",
                    "text": "Строка 2472 совпадает со строкой 12142\n",
                    "output_type": "stream"
                },
                {
                    "name": "stdout",
                    "text": "Строка 2473 совпадает со строкой 12143\n",
                    "output_type": "stream"
                },
                {
                    "name": "stdout",
                    "text": "Строка 2474 совпадает со строкой 12144\n",
                    "output_type": "stream"
                },
                {
                    "name": "stdout",
                    "text": "Строка 2475 совпадает со строкой 12145\n",
                    "output_type": "stream"
                },
                {
                    "name": "stdout",
                    "text": "Строка 2476 совпадает со строкой 12146\n",
                    "output_type": "stream"
                },
                {
                    "name": "stdout",
                    "text": "Строка 2477 совпадает со строкой 12147\n",
                    "output_type": "stream"
                },
                {
                    "name": "stdout",
                    "text": "Строка 2478 совпадает со строкой 12148\n",
                    "output_type": "stream"
                },
                {
                    "name": "stdout",
                    "text": "Строка 2479 совпадает со строкой 12149\n",
                    "output_type": "stream"
                },
                {
                    "name": "stdout",
                    "text": "Строка 2480 совпадает со строкой 12150\n",
                    "output_type": "stream"
                },
                {
                    "name": "stdout",
                    "text": "Строка 2481 совпадает со строкой 12151\n",
                    "output_type": "stream"
                },
                {
                    "name": "stdout",
                    "text": "Строка 2482 совпадает со строкой 12152\n",
                    "output_type": "stream"
                },
                {
                    "name": "stdout",
                    "text": "Строка 2483 совпадает со строкой 12153\n",
                    "output_type": "stream"
                },
                {
                    "name": "stdout",
                    "text": "Строка 2484 совпадает со строкой 12154\n",
                    "output_type": "stream"
                },
                {
                    "name": "stdout",
                    "text": "Строка 2512 совпадает со строкой 2539\n",
                    "output_type": "stream"
                },
                {
                    "name": "stdout",
                    "text": "Строка 2513 совпадает со строкой 2540\n",
                    "output_type": "stream"
                },
                {
                    "name": "stdout",
                    "text": "Строка 2514 совпадает со строкой 2541\n",
                    "output_type": "stream"
                },
                {
                    "name": "stdout",
                    "text": "Строка 2515 совпадает со строкой 2542\n",
                    "output_type": "stream"
                },
                {
                    "name": "stdout",
                    "text": "Строка 2516 совпадает со строкой 2543\n",
                    "output_type": "stream"
                },
                {
                    "name": "stdout",
                    "text": "Строка 2586 совпадает со строкой 2588\n",
                    "output_type": "stream"
                },
                {
                    "name": "stdout",
                    "text": "Строка 2601 совпадает со строкой 12081\n",
                    "output_type": "stream"
                },
                {
                    "name": "stdout",
                    "text": "Строка 2650 совпадает со строкой 13134\n",
                    "output_type": "stream"
                },
                {
                    "name": "stdout",
                    "text": "Строка 2665 совпадает со строкой 13134\n",
                    "output_type": "stream"
                },
                {
                    "name": "stdout",
                    "text": "Строка 2671 совпадает со строкой 13134\n",
                    "output_type": "stream"
                },
                {
                    "name": "stdout",
                    "text": "Строка 2675 совпадает со строкой 13134\n",
                    "output_type": "stream"
                },
                {
                    "name": "stdout",
                    "text": "Строка 2679 совпадает со строкой 13134\n",
                    "output_type": "stream"
                },
                {
                    "name": "stdout",
                    "text": "Строка 2683 совпадает со строкой 13134\n",
                    "output_type": "stream"
                },
                {
                    "name": "stdout",
                    "text": "Строка 2687 совпадает со строкой 13134\n",
                    "output_type": "stream"
                },
                {
                    "name": "stdout",
                    "text": "Строка 2691 совпадает со строкой 13134\n",
                    "output_type": "stream"
                },
                {
                    "name": "stdout",
                    "text": "Строка 2695 совпадает со строкой 13134\n",
                    "output_type": "stream"
                },
                {
                    "name": "stdout",
                    "text": "Строка 2699 совпадает со строкой 13134\n",
                    "output_type": "stream"
                },
                {
                    "name": "stdout",
                    "text": "Строка 2703 совпадает со строкой 13134\n",
                    "output_type": "stream"
                },
                {
                    "name": "stdout",
                    "text": "Строка 2707 совпадает со строкой 13134\n",
                    "output_type": "stream"
                },
                {
                    "name": "stdout",
                    "text": "Строка 2711 совпадает со строкой 13134\n",
                    "output_type": "stream"
                },
                {
                    "name": "stdout",
                    "text": "Строка 2715 совпадает со строкой 13134\n",
                    "output_type": "stream"
                },
                {
                    "name": "stdout",
                    "text": "Строка 2719 совпадает со строкой 13134\n",
                    "output_type": "stream"
                },
                {
                    "name": "stdout",
                    "text": "Строка 2728 совпадает со строкой 13135\n",
                    "output_type": "stream"
                },
                {
                    "name": "stdout",
                    "text": "Строка 2737 совпадает со строкой 13136\n",
                    "output_type": "stream"
                },
                {
                    "name": "stdout",
                    "text": "Строка 2741 совпадает со строкой 13136\n",
                    "output_type": "stream"
                },
                {
                    "name": "stdout",
                    "text": "Строка 2747 совпадает со строкой 13136\n",
                    "output_type": "stream"
                },
                {
                    "name": "stdout",
                    "text": "Строка 2751 совпадает со строкой 13136\n",
                    "output_type": "stream"
                },
                {
                    "name": "stdout",
                    "text": "Строка 2755 совпадает со строкой 13136\n",
                    "output_type": "stream"
                },
                {
                    "name": "stdout",
                    "text": "Строка 2759 совпадает со строкой 13136\n",
                    "output_type": "stream"
                },
                {
                    "name": "stdout",
                    "text": "Строка 2763 совпадает со строкой 13136\n",
                    "output_type": "stream"
                },
                {
                    "name": "stdout",
                    "text": "Строка 2764 совпадает со строкой 2765\n",
                    "output_type": "stream"
                },
                {
                    "name": "stdout",
                    "text": "Строка 2764 совпадает со строкой 13135\n",
                    "output_type": "stream"
                },
                {
                    "name": "stdout",
                    "text": "Строка 2765 совпадает со строкой 13135\n",
                    "output_type": "stream"
                },
                {
                    "name": "stdout",
                    "text": "Строка 2766 совпадает со строкой 13135\n",
                    "output_type": "stream"
                },
                {
                    "name": "stdout",
                    "text": "Строка 2767 совпадает со строкой 13135\n",
                    "output_type": "stream"
                },
                {
                    "name": "stdout",
                    "text": "Строка 2768 совпадает со строкой 13135\n",
                    "output_type": "stream"
                },
                {
                    "name": "stdout",
                    "text": "Строка 2769 совпадает со строкой 13135\n",
                    "output_type": "stream"
                },
                {
                    "name": "stdout",
                    "text": "Строка 2770 совпадает со строкой 13135\n",
                    "output_type": "stream"
                },
                {
                    "name": "stdout",
                    "text": "Строка 2772 совпадает со строкой 2773\n",
                    "output_type": "stream"
                },
                {
                    "name": "stdout",
                    "text": "Строка 2772 совпадает со строкой 13135\n",
                    "output_type": "stream"
                },
                {
                    "name": "stdout",
                    "text": "Строка 2773 совпадает со строкой 13135\n",
                    "output_type": "stream"
                },
                {
                    "name": "stdout",
                    "text": "Строка 2774 совпадает со строкой 13135\n",
                    "output_type": "stream"
                },
                {
                    "name": "stdout",
                    "text": "Строка 2775 совпадает со строкой 13135\n",
                    "output_type": "stream"
                },
                {
                    "name": "stdout",
                    "text": "Строка 2776 совпадает со строкой 13135\n",
                    "output_type": "stream"
                },
                {
                    "name": "stdout",
                    "text": "Строка 2777 совпадает со строкой 13135\n",
                    "output_type": "stream"
                },
                {
                    "name": "stdout",
                    "text": "Строка 2778 совпадает со строкой 13135\n",
                    "output_type": "stream"
                },
                {
                    "name": "stdout",
                    "text": "Строка 2779 совпадает со строкой 13135\n",
                    "output_type": "stream"
                },
                {
                    "name": "stdout",
                    "text": "Строка 2780 совпадает со строкой 13135\n",
                    "output_type": "stream"
                },
                {
                    "name": "stdout",
                    "text": "Строка 2781 совпадает со строкой 13136\n",
                    "output_type": "stream"
                },
                {
                    "name": "stdout",
                    "text": "Строка 2854 совпадает со строкой 13138\n",
                    "output_type": "stream"
                },
                {
                    "name": "stdout",
                    "text": "Строка 2860 совпадает со строкой 13140\n",
                    "output_type": "stream"
                },
                {
                    "name": "stdout",
                    "text": "Строка 2861 совпадает со строкой 13141\n",
                    "output_type": "stream"
                },
                {
                    "name": "stdout",
                    "text": "Строка 2862 совпадает со строкой 13142\n",
                    "output_type": "stream"
                },
                {
                    "name": "stdout",
                    "text": "Строка 2876 совпадает со строкой 13143\n",
                    "output_type": "stream"
                },
                {
                    "name": "stdout",
                    "text": "Строка 2877 совпадает со строкой 13144\n",
                    "output_type": "stream"
                },
                {
                    "name": "stdout",
                    "text": "Строка 2882 совпадает со строкой 13145\n",
                    "output_type": "stream"
                },
                {
                    "name": "stdout",
                    "text": "Строка 2883 совпадает со строкой 13146\n",
                    "output_type": "stream"
                },
                {
                    "name": "stdout",
                    "text": "Строка 2884 совпадает со строкой 13146\n",
                    "output_type": "stream"
                },
                {
                    "name": "stdout",
                    "text": "Строка 2885 совпадает со строкой 13147\n",
                    "output_type": "stream"
                },
                {
                    "name": "stdout",
                    "text": "Строка 2886 совпадает со строкой 13148\n",
                    "output_type": "stream"
                },
                {
                    "name": "stdout",
                    "text": "Строка 2890 совпадает со строкой 13148\n",
                    "output_type": "stream"
                },
                {
                    "name": "stdout",
                    "text": "Строка 2891 совпадает со строкой 13149\n",
                    "output_type": "stream"
                },
                {
                    "name": "stdout",
                    "text": "Строка 2892 совпадает со строкой 13150\n",
                    "output_type": "stream"
                },
                {
                    "name": "stdout",
                    "text": "Строка 2896 совпадает со строкой 13150\n",
                    "output_type": "stream"
                },
                {
                    "name": "stdout",
                    "text": "Строка 2897 совпадает со строкой 13151\n",
                    "output_type": "stream"
                },
                {
                    "name": "stdout",
                    "text": "Строка 2898 совпадает со строкой 13152\n",
                    "output_type": "stream"
                },
                {
                    "name": "stdout",
                    "text": "Строка 2902 совпадает со строкой 13152\n",
                    "output_type": "stream"
                },
                {
                    "name": "stdout",
                    "text": "Строка 2903 совпадает со строкой 13153\n",
                    "output_type": "stream"
                },
                {
                    "name": "stdout",
                    "text": "Строка 2904 совпадает со строкой 13154\n",
                    "output_type": "stream"
                },
                {
                    "name": "stdout",
                    "text": "Строка 2908 совпадает со строкой 13154\n",
                    "output_type": "stream"
                },
                {
                    "name": "stdout",
                    "text": "Строка 2909 совпадает со строкой 13155\n",
                    "output_type": "stream"
                },
                {
                    "name": "stdout",
                    "text": "Строка 2910 совпадает со строкой 13156\n",
                    "output_type": "stream"
                },
                {
                    "name": "stdout",
                    "text": "Строка 2914 совпадает со строкой 13156\n",
                    "output_type": "stream"
                },
                {
                    "name": "stdout",
                    "text": "Строка 2915 совпадает со строкой 13157\n",
                    "output_type": "stream"
                },
                {
                    "name": "stdout",
                    "text": "Строка 2916 совпадает со строкой 13158\n",
                    "output_type": "stream"
                },
                {
                    "name": "stdout",
                    "text": "Строка 2920 совпадает со строкой 13158\n",
                    "output_type": "stream"
                },
                {
                    "name": "stdout",
                    "text": "Строка 2921 совпадает со строкой 13159\n",
                    "output_type": "stream"
                },
                {
                    "name": "stdout",
                    "text": "Строка 2922 совпадает со строкой 13160\n",
                    "output_type": "stream"
                },
                {
                    "name": "stdout",
                    "text": "Строка 2926 совпадает со строкой 13160\n",
                    "output_type": "stream"
                },
                {
                    "name": "stdout",
                    "text": "Строка 2927 совпадает со строкой 13161\n",
                    "output_type": "stream"
                },
                {
                    "name": "stdout",
                    "text": "Строка 2928 совпадает со строкой 13162\n",
                    "output_type": "stream"
                },
                {
                    "name": "stdout",
                    "text": "Строка 2932 совпадает со строкой 13162\n",
                    "output_type": "stream"
                },
                {
                    "name": "stdout",
                    "text": "Строка 2933 совпадает со строкой 13163\n",
                    "output_type": "stream"
                },
                {
                    "name": "stdout",
                    "text": "Строка 2934 совпадает со строкой 13164\n",
                    "output_type": "stream"
                },
                {
                    "name": "stdout",
                    "text": "Строка 2938 совпадает со строкой 13164\n",
                    "output_type": "stream"
                },
                {
                    "name": "stdout",
                    "text": "Строка 2939 совпадает со строкой 13165\n",
                    "output_type": "stream"
                },
                {
                    "name": "stdout",
                    "text": "Строка 2940 совпадает со строкой 13166\n",
                    "output_type": "stream"
                },
                {
                    "name": "stdout",
                    "text": "Строка 2944 совпадает со строкой 13166\n",
                    "output_type": "stream"
                },
                {
                    "name": "stdout",
                    "text": "Строка 2945 совпадает со строкой 13167\n",
                    "output_type": "stream"
                },
                {
                    "name": "stdout",
                    "text": "Строка 2946 совпадает со строкой 13168\n",
                    "output_type": "stream"
                },
                {
                    "name": "stdout",
                    "text": "Строка 2950 совпадает со строкой 13168\n",
                    "output_type": "stream"
                },
                {
                    "name": "stdout",
                    "text": "Строка 2951 совпадает со строкой 13169\n",
                    "output_type": "stream"
                },
                {
                    "name": "stdout",
                    "text": "Строка 2952 совпадает со строкой 13170\n",
                    "output_type": "stream"
                },
                {
                    "name": "stdout",
                    "text": "Строка 2956 совпадает со строкой 13170\n",
                    "output_type": "stream"
                },
                {
                    "name": "stdout",
                    "text": "Строка 2957 совпадает со строкой 13171\n",
                    "output_type": "stream"
                },
                {
                    "name": "stdout",
                    "text": "Строка 2958 совпадает со строкой 13172\n",
                    "output_type": "stream"
                },
                {
                    "name": "stdout",
                    "text": "Строка 2962 совпадает со строкой 13172\n",
                    "output_type": "stream"
                },
                {
                    "name": "stdout",
                    "text": "Строка 2963 совпадает со строкой 13173\n",
                    "output_type": "stream"
                },
                {
                    "name": "stdout",
                    "text": "Строка 2964 совпадает со строкой 13174\n",
                    "output_type": "stream"
                },
                {
                    "name": "stdout",
                    "text": "Строка 2968 совпадает со строкой 13174\n",
                    "output_type": "stream"
                },
                {
                    "name": "stdout",
                    "text": "Строка 2969 совпадает со строкой 13175\n",
                    "output_type": "stream"
                },
                {
                    "name": "stdout",
                    "text": "Строка 2970 совпадает со строкой 13176\n",
                    "output_type": "stream"
                },
                {
                    "name": "stdout",
                    "text": "Строка 2983 совпадает со строкой 13181\n",
                    "output_type": "stream"
                },
                {
                    "name": "stdout",
                    "text": "Строка 2984 совпадает со строкой 13182\n",
                    "output_type": "stream"
                },
                {
                    "name": "stdout",
                    "text": "Строка 2985 совпадает со строкой 13183\n",
                    "output_type": "stream"
                },
                {
                    "name": "stdout",
                    "text": "Строка 2989 совпадает со строкой 13183\n",
                    "output_type": "stream"
                },
                {
                    "name": "stdout",
                    "text": "Строка 2990 совпадает со строкой 13184\n",
                    "output_type": "stream"
                },
                {
                    "name": "stdout",
                    "text": "Строка 2991 совпадает со строкой 13185\n",
                    "output_type": "stream"
                },
                {
                    "name": "stdout",
                    "text": "Строка 2995 совпадает со строкой 13185\n",
                    "output_type": "stream"
                },
                {
                    "name": "stdout",
                    "text": "Строка 2996 совпадает со строкой 13186\n",
                    "output_type": "stream"
                },
                {
                    "name": "stdout",
                    "text": "Строка 2997 совпадает со строкой 13186\n",
                    "output_type": "stream"
                },
                {
                    "name": "stdout",
                    "text": "Строка 2998 совпадает со строкой 13187\n",
                    "output_type": "stream"
                },
                {
                    "name": "stdout",
                    "text": "Строка 2999 совпадает со строкой 13188\n",
                    "output_type": "stream"
                },
                {
                    "name": "stdout",
                    "text": "Строка 3003 совпадает со строкой 13188\n",
                    "output_type": "stream"
                },
                {
                    "name": "stdout",
                    "text": "Строка 3004 совпадает со строкой 13189\n",
                    "output_type": "stream"
                },
                {
                    "name": "stdout",
                    "text": "Строка 3005 совпадает со строкой 13190\n",
                    "output_type": "stream"
                },
                {
                    "name": "stdout",
                    "text": "Строка 3009 совпадает со строкой 13190\n",
                    "output_type": "stream"
                },
                {
                    "name": "stdout",
                    "text": "Строка 3010 совпадает со строкой 13191\n",
                    "output_type": "stream"
                },
                {
                    "name": "stdout",
                    "text": "Строка 3011 совпадает со строкой 13192\n",
                    "output_type": "stream"
                },
                {
                    "name": "stdout",
                    "text": "Строка 3015 совпадает со строкой 13192\n",
                    "output_type": "stream"
                },
                {
                    "name": "stdout",
                    "text": "Строка 3016 совпадает со строкой 13193\n",
                    "output_type": "stream"
                },
                {
                    "name": "stdout",
                    "text": "Строка 3017 совпадает со строкой 13194\n",
                    "output_type": "stream"
                },
                {
                    "name": "stdout",
                    "text": "Строка 3021 совпадает со строкой 13194\n",
                    "output_type": "stream"
                },
                {
                    "name": "stdout",
                    "text": "Строка 3022 совпадает со строкой 13195\n",
                    "output_type": "stream"
                },
                {
                    "name": "stdout",
                    "text": "Строка 3023 совпадает со строкой 13196\n",
                    "output_type": "stream"
                },
                {
                    "name": "stdout",
                    "text": "Строка 3024 совпадает со строкой 13197\n",
                    "output_type": "stream"
                },
                {
                    "name": "stdout",
                    "text": "Строка 3029 совпадает со строкой 13198\n",
                    "output_type": "stream"
                },
                {
                    "name": "stdout",
                    "text": "Строка 3032 совпадает со строкой 13198\n",
                    "output_type": "stream"
                },
                {
                    "name": "stdout",
                    "text": "Строка 3033 совпадает со строкой 13199\n",
                    "output_type": "stream"
                },
                {
                    "name": "stdout",
                    "text": "Строка 3034 совпадает со строкой 13200\n",
                    "output_type": "stream"
                },
                {
                    "name": "stdout",
                    "text": "Строка 3035 совпадает со строкой 13201\n",
                    "output_type": "stream"
                },
                {
                    "name": "stdout",
                    "text": "Строка 3040 совпадает со строкой 13202\n",
                    "output_type": "stream"
                },
                {
                    "name": "stdout",
                    "text": "Строка 3091 совпадает со строкой 12942\n",
                    "output_type": "stream"
                },
                {
                    "name": "stdout",
                    "text": "Строка 3092 совпадает со строкой 12943\n",
                    "output_type": "stream"
                },
                {
                    "name": "stdout",
                    "text": "Строка 3093 совпадает со строкой 12944\n",
                    "output_type": "stream"
                },
                {
                    "name": "stdout",
                    "text": "Строка 3094 совпадает со строкой 12945\n",
                    "output_type": "stream"
                },
                {
                    "name": "stdout",
                    "text": "Строка 3095 совпадает со строкой 12946\n",
                    "output_type": "stream"
                },
                {
                    "name": "stdout",
                    "text": "Строка 3096 совпадает со строкой 12947\n",
                    "output_type": "stream"
                },
                {
                    "name": "stdout",
                    "text": "Строка 3097 совпадает со строкой 12948\n",
                    "output_type": "stream"
                },
                {
                    "name": "stdout",
                    "text": "Строка 3098 совпадает со строкой 12949\n",
                    "output_type": "stream"
                },
                {
                    "name": "stdout",
                    "text": "Строка 3108 совпадает со строкой 12950\n",
                    "output_type": "stream"
                },
                {
                    "name": "stdout",
                    "text": "Строка 3109 совпадает со строкой 12951\n",
                    "output_type": "stream"
                },
                {
                    "name": "stdout",
                    "text": "Строка 3110 совпадает со строкой 12952\n",
                    "output_type": "stream"
                },
                {
                    "name": "stdout",
                    "text": "Строка 3111 совпадает со строкой 12953\n",
                    "output_type": "stream"
                },
                {
                    "name": "stdout",
                    "text": "Строка 3112 совпадает со строкой 12954\n",
                    "output_type": "stream"
                },
                {
                    "name": "stdout",
                    "text": "Строка 3113 совпадает со строкой 12955\n",
                    "output_type": "stream"
                },
                {
                    "name": "stdout",
                    "text": "Строка 3114 совпадает со строкой 12956\n",
                    "output_type": "stream"
                },
                {
                    "name": "stdout",
                    "text": "Строка 3115 совпадает со строкой 12957\n",
                    "output_type": "stream"
                },
                {
                    "name": "stdout",
                    "text": "Строка 3116 совпадает со строкой 12958\n",
                    "output_type": "stream"
                },
                {
                    "name": "stdout",
                    "text": "Строка 3117 совпадает со строкой 12959\n",
                    "output_type": "stream"
                },
                {
                    "name": "stdout",
                    "text": "Строка 3121 совпадает со строкой 12960\n",
                    "output_type": "stream"
                },
                {
                    "name": "stdout",
                    "text": "Строка 3122 совпадает со строкой 12961\n",
                    "output_type": "stream"
                },
                {
                    "name": "stdout",
                    "text": "Строка 3123 совпадает со строкой 12962\n",
                    "output_type": "stream"
                },
                {
                    "name": "stdout",
                    "text": "Строка 3124 совпадает со строкой 12963\n",
                    "output_type": "stream"
                },
                {
                    "name": "stdout",
                    "text": "Строка 3131 совпадает со строкой 12968\n",
                    "output_type": "stream"
                },
                {
                    "name": "stdout",
                    "text": "Строка 3132 совпадает со строкой 12975\n",
                    "output_type": "stream"
                },
                {
                    "name": "stdout",
                    "text": "Строка 3133 совпадает со строкой 12967\n",
                    "output_type": "stream"
                },
                {
                    "name": "stdout",
                    "text": "Строка 3134 совпадает со строкой 12968\n",
                    "output_type": "stream"
                },
                {
                    "name": "stdout",
                    "text": "Строка 3135 совпадает со строкой 12975\n",
                    "output_type": "stream"
                },
                {
                    "name": "stdout",
                    "text": "Строка 3136 совпадает со строкой 12967\n",
                    "output_type": "stream"
                },
                {
                    "name": "stdout",
                    "text": "Строка 3137 совпадает со строкой 12968\n",
                    "output_type": "stream"
                },
                {
                    "name": "stdout",
                    "text": "Строка 3138 совпадает со строкой 12958\n",
                    "output_type": "stream"
                },
                {
                    "name": "stdout",
                    "text": "Строка 3139 совпадает со строкой 12959\n",
                    "output_type": "stream"
                },
                {
                    "name": "stdout",
                    "text": "Строка 3141 совпадает со строкой 12892\n",
                    "output_type": "stream"
                },
                {
                    "name": "stdout",
                    "text": "Строка 3142 совпадает со строкой 12893\n",
                    "output_type": "stream"
                },
                {
                    "name": "stdout",
                    "text": "Строка 3144 совпадает со строкой 12893\n",
                    "output_type": "stream"
                },
                {
                    "name": "stdout",
                    "text": "Строка 3145 совпадает со строкой 12894\n",
                    "output_type": "stream"
                },
                {
                    "name": "stdout",
                    "text": "Строка 3146 совпадает со строкой 12895\n",
                    "output_type": "stream"
                },
                {
                    "name": "stdout",
                    "text": "Строка 3148 совпадает со строкой 12895\n",
                    "output_type": "stream"
                },
                {
                    "name": "stdout",
                    "text": "Строка 3151 совпадает со строкой 12896\n",
                    "output_type": "stream"
                },
                {
                    "name": "stdout",
                    "text": "Строка 3152 совпадает со строкой 12897\n",
                    "output_type": "stream"
                },
                {
                    "name": "stdout",
                    "text": "Строка 3153 совпадает со строкой 12898\n",
                    "output_type": "stream"
                },
                {
                    "name": "stdout",
                    "text": "Строка 3154 совпадает со строкой 12899\n",
                    "output_type": "stream"
                },
                {
                    "name": "stdout",
                    "text": "Строка 3186 совпадает со строкой 13167\n",
                    "output_type": "stream"
                },
                {
                    "name": "stdout",
                    "text": "Строка 3189 совпадает со строкой 13167\n",
                    "output_type": "stream"
                },
                {
                    "name": "stdout",
                    "text": "Строка 3194 совпадает со строкой 13167\n",
                    "output_type": "stream"
                },
                {
                    "name": "stdout",
                    "text": "Строка 3197 совпадает со строкой 13167\n",
                    "output_type": "stream"
                },
                {
                    "name": "stdout",
                    "text": "Строка 3200 совпадает со строкой 13167\n",
                    "output_type": "stream"
                },
                {
                    "name": "stdout",
                    "text": "Строка 3203 совпадает со строкой 13167\n",
                    "output_type": "stream"
                },
                {
                    "name": "stdout",
                    "text": "Строка 3206 совпадает со строкой 13167\n",
                    "output_type": "stream"
                },
                {
                    "name": "stdout",
                    "text": "Строка 3209 совпадает со строкой 13167\n",
                    "output_type": "stream"
                },
                {
                    "name": "stdout",
                    "text": "Строка 3212 совпадает со строкой 13167\n",
                    "output_type": "stream"
                },
                {
                    "name": "stdout",
                    "text": "Строка 3215 совпадает со строкой 13167\n",
                    "output_type": "stream"
                },
                {
                    "name": "stdout",
                    "text": "Строка 3218 совпадает со строкой 13167\n",
                    "output_type": "stream"
                },
                {
                    "name": "stdout",
                    "text": "Строка 3221 совпадает со строкой 13167\n",
                    "output_type": "stream"
                },
                {
                    "name": "stdout",
                    "text": "Строка 3226 совпадает со строкой 13167\n",
                    "output_type": "stream"
                },
                {
                    "name": "stdout",
                    "text": "Строка 3239 совпадает со строкой 13169\n",
                    "output_type": "stream"
                },
                {
                    "name": "stdout",
                    "text": "Строка 3251 совпадает со строкой 13172\n",
                    "output_type": "stream"
                },
                {
                    "name": "stdout",
                    "text": "Строка 3259 совпадает со строкой 13176\n",
                    "output_type": "stream"
                },
                {
                    "name": "stdout",
                    "text": "Строка 3260 совпадает со строкой 13177\n",
                    "output_type": "stream"
                },
                {
                    "name": "stdout",
                    "text": "Строка 3261 совпадает со строкой 13178\n",
                    "output_type": "stream"
                },
                {
                    "name": "stdout",
                    "text": "Строка 3262 совпадает со строкой 13178\n",
                    "output_type": "stream"
                },
                {
                    "name": "stdout",
                    "text": "Строка 3263 совпадает со строкой 13179\n",
                    "output_type": "stream"
                },
                {
                    "name": "stdout",
                    "text": "Строка 3266 совпадает со строкой 13181\n",
                    "output_type": "stream"
                },
                {
                    "name": "stdout",
                    "text": "Строка 3267 совпадает со строкой 13182\n",
                    "output_type": "stream"
                },
                {
                    "name": "stdout",
                    "text": "Строка 3270 совпадает со строкой 13184\n",
                    "output_type": "stream"
                },
                {
                    "name": "stdout",
                    "text": "Строка 3271 совпадает со строкой 13185\n",
                    "output_type": "stream"
                },
                {
                    "name": "stdout",
                    "text": "Строка 3272 совпадает со строкой 13186\n",
                    "output_type": "stream"
                },
                {
                    "name": "stdout",
                    "text": "Строка 3273 совпадает со строкой 13186\n",
                    "output_type": "stream"
                },
                {
                    "name": "stdout",
                    "text": "Строка 3274 совпадает со строкой 13187\n",
                    "output_type": "stream"
                },
                {
                    "name": "stdout",
                    "text": "Строка 3277 совпадает со строкой 13189\n",
                    "output_type": "stream"
                },
                {
                    "name": "stdout",
                    "text": "Строка 3279 совпадает со строкой 13191\n",
                    "output_type": "stream"
                },
                {
                    "name": "stdout",
                    "text": "Строка 3281 совпадает со строкой 13192\n",
                    "output_type": "stream"
                },
                {
                    "name": "stdout",
                    "text": "Строка 3282 совпадает со строкой 13193\n",
                    "output_type": "stream"
                },
                {
                    "name": "stdout",
                    "text": "Строка 3283 совпадает со строкой 13194\n",
                    "output_type": "stream"
                },
                {
                    "name": "stdout",
                    "text": "Строка 3284 совпадает со строкой 13194\n",
                    "output_type": "stream"
                },
                {
                    "name": "stdout",
                    "text": "Строка 3285 совпадает со строкой 13195\n",
                    "output_type": "stream"
                },
                {
                    "name": "stdout",
                    "text": "Строка 3286 совпадает со строкой 13196\n",
                    "output_type": "stream"
                },
                {
                    "name": "stdout",
                    "text": "Строка 3287 совпадает со строкой 13196\n",
                    "output_type": "stream"
                },
                {
                    "name": "stdout",
                    "text": "Строка 3288 совпадает со строкой 13197\n",
                    "output_type": "stream"
                },
                {
                    "name": "stdout",
                    "text": "Строка 3289 совпадает со строкой 13198\n",
                    "output_type": "stream"
                },
                {
                    "name": "stdout",
                    "text": "Строка 3290 совпадает со строкой 13198\n",
                    "output_type": "stream"
                },
                {
                    "name": "stdout",
                    "text": "Строка 3291 совпадает со строкой 13199\n",
                    "output_type": "stream"
                },
                {
                    "name": "stdout",
                    "text": "Строка 3292 совпадает со строкой 13200\n",
                    "output_type": "stream"
                },
                {
                    "name": "stdout",
                    "text": "Строка 3293 совпадает со строкой 13200\n",
                    "output_type": "stream"
                },
                {
                    "name": "stdout",
                    "text": "Строка 3294 совпадает со строкой 13201\n",
                    "output_type": "stream"
                },
                {
                    "name": "stdout",
                    "text": "Строка 3295 совпадает со строкой 13202\n",
                    "output_type": "stream"
                },
                {
                    "name": "stdout",
                    "text": "Строка 3296 совпадает со строкой 13202\n",
                    "output_type": "stream"
                },
                {
                    "name": "stdout",
                    "text": "Строка 3297 совпадает со строкой 13203\n",
                    "output_type": "stream"
                },
                {
                    "name": "stdout",
                    "text": "Строка 3298 совпадает со строкой 13204\n",
                    "output_type": "stream"
                },
                {
                    "name": "stdout",
                    "text": "Строка 3299 совпадает со строкой 13204\n",
                    "output_type": "stream"
                },
                {
                    "name": "stdout",
                    "text": "Строка 3300 совпадает со строкой 13205\n",
                    "output_type": "stream"
                },
                {
                    "name": "stdout",
                    "text": "Строка 3301 совпадает со строкой 13206\n",
                    "output_type": "stream"
                },
                {
                    "name": "stdout",
                    "text": "Строка 3305 совпадает со строкой 13210\n",
                    "output_type": "stream"
                },
                {
                    "name": "stdout",
                    "text": "Строка 3306 совпадает со строкой 13211\n",
                    "output_type": "stream"
                },
                {
                    "name": "stdout",
                    "text": "Строка 3310 совпадает со строкой 13211\n",
                    "output_type": "stream"
                },
                {
                    "name": "stdout",
                    "text": "Строка 3311 совпадает со строкой 13212\n",
                    "output_type": "stream"
                },
                {
                    "name": "stdout",
                    "text": "Строка 3338 совпадает со строкой 13202\n",
                    "output_type": "stream"
                },
                {
                    "name": "stdout",
                    "text": "Строка 3339 совпадает со строкой 13203\n",
                    "output_type": "stream"
                },
                {
                    "name": "stdout",
                    "text": "Строка 3343 совпадает со строкой 13210\n",
                    "output_type": "stream"
                },
                {
                    "name": "stdout",
                    "text": "Строка 3381 совпадает со строкой 13230\n",
                    "output_type": "stream"
                },
                {
                    "name": "stdout",
                    "text": "Строка 3382 совпадает со строкой 13231\n",
                    "output_type": "stream"
                },
                {
                    "name": "stdout",
                    "text": "Строка 3383 совпадает со строкой 13232\n",
                    "output_type": "stream"
                },
                {
                    "name": "stdout",
                    "text": "Строка 3384 совпадает со строкой 13233\n",
                    "output_type": "stream"
                },
                {
                    "name": "stdout",
                    "text": "Строка 3385 совпадает со строкой 13234\n",
                    "output_type": "stream"
                },
                {
                    "name": "stdout",
                    "text": "Строка 3394 совпадает со строкой 13235\n",
                    "output_type": "stream"
                },
                {
                    "name": "stdout",
                    "text": "Строка 3395 совпадает со строкой 13236\n",
                    "output_type": "stream"
                },
                {
                    "name": "stdout",
                    "text": "Строка 3396 совпадает со строкой 13237\n",
                    "output_type": "stream"
                },
                {
                    "name": "stdout",
                    "text": "Строка 3397 совпадает со строкой 13238\n",
                    "output_type": "stream"
                },
                {
                    "name": "stdout",
                    "text": "Строка 3398 совпадает со строкой 13239\n",
                    "output_type": "stream"
                },
                {
                    "name": "stdout",
                    "text": "Строка 3399 совпадает со строкой 13240\n",
                    "output_type": "stream"
                },
                {
                    "name": "stdout",
                    "text": "Строка 3400 совпадает со строкой 13241\n",
                    "output_type": "stream"
                },
                {
                    "name": "stdout",
                    "text": "Строка 3404 совпадает со строкой 13242\n",
                    "output_type": "stream"
                },
                {
                    "name": "stdout",
                    "text": "Строка 3405 совпадает со строкой 13243\n",
                    "output_type": "stream"
                },
                {
                    "name": "stdout",
                    "text": "Строка 3410 совпадает со строкой 13202\n",
                    "output_type": "stream"
                },
                {
                    "name": "stdout",
                    "text": "Строка 3411 совпадает со строкой 13203\n",
                    "output_type": "stream"
                },
                {
                    "name": "stdout",
                    "text": "Строка 3412 совпадает со строкой 13204\n",
                    "output_type": "stream"
                },
                {
                    "name": "stdout",
                    "text": "Строка 3414 совпадает со строкой 13204\n",
                    "output_type": "stream"
                },
                {
                    "name": "stdout",
                    "text": "Строка 3415 совпадает со строкой 13205\n",
                    "output_type": "stream"
                },
                {
                    "name": "stdout",
                    "text": "Строка 3416 совпадает со строкой 13206\n",
                    "output_type": "stream"
                },
                {
                    "name": "stdout",
                    "text": "Строка 3417 совпадает со строкой 13207\n",
                    "output_type": "stream"
                },
                {
                    "name": "stdout",
                    "text": "Строка 3479 совпадает со строкой 3480\n",
                    "output_type": "stream"
                },
                {
                    "name": "stdout",
                    "text": "Строка 3481 совпадает со строкой 3482\n",
                    "output_type": "stream"
                },
                {
                    "name": "stdout",
                    "text": "Строка 3483 совпадает со строкой 3486\n",
                    "output_type": "stream"
                },
                {
                    "name": "stdout",
                    "text": "Строка 3483 совпадает со строкой 3488\n",
                    "output_type": "stream"
                },
                {
                    "name": "stdout",
                    "text": "Строка 3484 совпадает со строкой 3487\n",
                    "output_type": "stream"
                },
                {
                    "name": "stdout",
                    "text": "Строка 3485 совпадает со строкой 3488\n",
                    "output_type": "stream"
                },
                {
                    "name": "stdout",
                    "text": "Строка 3490 совпадает со строкой 3491\n",
                    "output_type": "stream"
                },
                {
                    "name": "stdout",
                    "text": "Строка 3508 совпадает со строкой 12032\n",
                    "output_type": "stream"
                },
                {
                    "name": "stdout",
                    "text": "Строка 3509 совпадает со строкой 12033\n",
                    "output_type": "stream"
                },
                {
                    "name": "stdout",
                    "text": "Строка 3510 совпадает со строкой 12034\n",
                    "output_type": "stream"
                },
                {
                    "name": "stdout",
                    "text": "Строка 3511 совпадает со строкой 12035\n",
                    "output_type": "stream"
                },
                {
                    "name": "stdout",
                    "text": "Строка 3512 совпадает со строкой 12036\n",
                    "output_type": "stream"
                },
                {
                    "name": "stdout",
                    "text": "Строка 3513 совпадает со строкой 12037\n",
                    "output_type": "stream"
                },
                {
                    "name": "stdout",
                    "text": "Строка 3514 совпадает со строкой 12038\n",
                    "output_type": "stream"
                },
                {
                    "name": "stdout",
                    "text": "Строка 3515 совпадает со строкой 12039\n",
                    "output_type": "stream"
                },
                {
                    "name": "stdout",
                    "text": "Строка 3516 совпадает со строкой 12040\n",
                    "output_type": "stream"
                },
                {
                    "name": "stdout",
                    "text": "Строка 3517 совпадает со строкой 12041\n",
                    "output_type": "stream"
                },
                {
                    "name": "stdout",
                    "text": "Строка 3518 совпадает со строкой 12042\n",
                    "output_type": "stream"
                },
                {
                    "name": "stdout",
                    "text": "Строка 3519 совпадает со строкой 12043\n",
                    "output_type": "stream"
                },
                {
                    "name": "stdout",
                    "text": "Строка 3520 совпадает со строкой 12044\n",
                    "output_type": "stream"
                },
                {
                    "name": "stdout",
                    "text": "Строка 3521 совпадает со строкой 12045\n",
                    "output_type": "stream"
                },
                {
                    "name": "stdout",
                    "text": "Строка 3522 совпадает со строкой 12046\n",
                    "output_type": "stream"
                },
                {
                    "name": "stdout",
                    "text": "Строка 3523 совпадает со строкой 12047\n",
                    "output_type": "stream"
                },
                {
                    "name": "stdout",
                    "text": "Строка 3524 совпадает со строкой 12048\n",
                    "output_type": "stream"
                },
                {
                    "name": "stdout",
                    "text": "Строка 3525 совпадает со строкой 12049\n",
                    "output_type": "stream"
                },
                {
                    "name": "stdout",
                    "text": "Строка 3526 совпадает со строкой 12050\n",
                    "output_type": "stream"
                },
                {
                    "name": "stdout",
                    "text": "Строка 3527 совпадает со строкой 12051\n",
                    "output_type": "stream"
                },
                {
                    "name": "stdout",
                    "text": "Строка 3528 совпадает со строкой 12052\n",
                    "output_type": "stream"
                },
                {
                    "name": "stdout",
                    "text": "Строка 3529 совпадает со строкой 12053\n",
                    "output_type": "stream"
                },
                {
                    "name": "stdout",
                    "text": "Строка 3530 совпадает со строкой 12054\n",
                    "output_type": "stream"
                },
                {
                    "name": "stdout",
                    "text": "Строка 3531 совпадает со строкой 12055\n",
                    "output_type": "stream"
                },
                {
                    "name": "stdout",
                    "text": "Строка 3532 совпадает со строкой 12056\n",
                    "output_type": "stream"
                },
                {
                    "name": "stdout",
                    "text": "Строка 3533 совпадает со строкой 12057\n",
                    "output_type": "stream"
                },
                {
                    "name": "stdout",
                    "text": "Строка 3534 совпадает со строкой 12058\n",
                    "output_type": "stream"
                },
                {
                    "name": "stdout",
                    "text": "Строка 3535 совпадает со строкой 12059\n",
                    "output_type": "stream"
                },
                {
                    "name": "stdout",
                    "text": "Строка 3536 совпадает со строкой 12060\n",
                    "output_type": "stream"
                },
                {
                    "name": "stdout",
                    "text": "Строка 3537 совпадает со строкой 12061\n",
                    "output_type": "stream"
                },
                {
                    "name": "stdout",
                    "text": "Строка 3538 совпадает со строкой 12062\n",
                    "output_type": "stream"
                },
                {
                    "name": "stdout",
                    "text": "Строка 3539 совпадает со строкой 12063\n",
                    "output_type": "stream"
                },
                {
                    "name": "stdout",
                    "text": "Строка 3540 совпадает со строкой 12064\n",
                    "output_type": "stream"
                },
                {
                    "name": "stdout",
                    "text": "Строка 3541 совпадает со строкой 12065\n",
                    "output_type": "stream"
                },
                {
                    "name": "stdout",
                    "text": "Строка 3542 совпадает со строкой 12066\n",
                    "output_type": "stream"
                },
                {
                    "name": "stdout",
                    "text": "Строка 3543 совпадает со строкой 12067\n",
                    "output_type": "stream"
                },
                {
                    "name": "stdout",
                    "text": "Строка 3544 совпадает со строкой 12068\n",
                    "output_type": "stream"
                },
                {
                    "name": "stdout",
                    "text": "Строка 3545 совпадает со строкой 12069\n",
                    "output_type": "stream"
                },
                {
                    "name": "stdout",
                    "text": "Строка 3546 совпадает со строкой 12070\n",
                    "output_type": "stream"
                },
                {
                    "name": "stdout",
                    "text": "Строка 3547 совпадает со строкой 12071\n",
                    "output_type": "stream"
                },
                {
                    "name": "stdout",
                    "text": "Строка 3548 совпадает со строкой 12072\n",
                    "output_type": "stream"
                },
                {
                    "name": "stdout",
                    "text": "Строка 3549 совпадает со строкой 12073\n",
                    "output_type": "stream"
                },
                {
                    "name": "stdout",
                    "text": "Строка 3550 совпадает со строкой 12074\n",
                    "output_type": "stream"
                },
                {
                    "name": "stdout",
                    "text": "Строка 3551 совпадает со строкой 12075\n",
                    "output_type": "stream"
                },
                {
                    "name": "stdout",
                    "text": "Строка 3552 совпадает со строкой 12076\n",
                    "output_type": "stream"
                },
                {
                    "name": "stdout",
                    "text": "Строка 3556 совпадает со строкой 11964\n",
                    "output_type": "stream"
                },
                {
                    "name": "stdout",
                    "text": "Строка 3558 совпадает со строкой 11964\n",
                    "output_type": "stream"
                },
                {
                    "name": "stdout",
                    "text": "Строка 3560 совпадает со строкой 11964\n",
                    "output_type": "stream"
                },
                {
                    "name": "stdout",
                    "text": "Строка 3562 совпадает со строкой 11964\n",
                    "output_type": "stream"
                },
                {
                    "name": "stdout",
                    "text": "Строка 3564 совпадает со строкой 11964\n",
                    "output_type": "stream"
                },
                {
                    "name": "stdout",
                    "text": "Строка 3566 совпадает со строкой 11964\n",
                    "output_type": "stream"
                },
                {
                    "name": "stdout",
                    "text": "Строка 3568 совпадает со строкой 11964\n",
                    "output_type": "stream"
                },
                {
                    "name": "stdout",
                    "text": "Строка 3570 совпадает со строкой 11964\n",
                    "output_type": "stream"
                },
                {
                    "name": "stdout",
                    "text": "Строка 3572 совпадает со строкой 11964\n",
                    "output_type": "stream"
                },
                {
                    "name": "stdout",
                    "text": "Строка 3574 совпадает со строкой 11964\n",
                    "output_type": "stream"
                },
                {
                    "name": "stdout",
                    "text": "Строка 3576 совпадает со строкой 11964\n",
                    "output_type": "stream"
                },
                {
                    "name": "stdout",
                    "text": "Строка 3578 совпадает со строкой 11964\n",
                    "output_type": "stream"
                },
                {
                    "name": "stdout",
                    "text": "Строка 3580 совпадает со строкой 11964\n",
                    "output_type": "stream"
                },
                {
                    "name": "stdout",
                    "text": "Строка 3582 совпадает со строкой 11964\n",
                    "output_type": "stream"
                },
                {
                    "name": "stdout",
                    "text": "Строка 3584 совпадает со строкой 11964\n",
                    "output_type": "stream"
                },
                {
                    "name": "stdout",
                    "text": "Строка 3586 совпадает со строкой 11964\n",
                    "output_type": "stream"
                },
                {
                    "name": "stdout",
                    "text": "Строка 3588 совпадает со строкой 11964\n",
                    "output_type": "stream"
                },
                {
                    "name": "stdout",
                    "text": "Строка 3590 совпадает со строкой 11964\n",
                    "output_type": "stream"
                },
                {
                    "name": "stdout",
                    "text": "Строка 3592 совпадает со строкой 11964\n",
                    "output_type": "stream"
                },
                {
                    "name": "stdout",
                    "text": "Строка 3594 совпадает со строкой 11964\n",
                    "output_type": "stream"
                },
                {
                    "name": "stdout",
                    "text": "Строка 3596 совпадает со строкой 11964\n",
                    "output_type": "stream"
                },
                {
                    "name": "stdout",
                    "text": "Строка 3638 совпадает со строкой 14727\n",
                    "output_type": "stream"
                },
                {
                    "name": "stdout",
                    "text": "Строка 3639 совпадает со строкой 14728\n",
                    "output_type": "stream"
                },
                {
                    "name": "stdout",
                    "text": "Строка 3640 совпадает со строкой 14729\n",
                    "output_type": "stream"
                },
                {
                    "name": "stdout",
                    "text": "Строка 3641 совпадает со строкой 14730\n",
                    "output_type": "stream"
                },
                {
                    "name": "stdout",
                    "text": "Строка 3642 совпадает со строкой 14731\n",
                    "output_type": "stream"
                },
                {
                    "name": "stdout",
                    "text": "Строка 3645 совпадает со строкой 14856\n",
                    "output_type": "stream"
                },
                {
                    "name": "stdout",
                    "text": "Строка 3646 совпадает со строкой 14857\n",
                    "output_type": "stream"
                },
                {
                    "name": "stdout",
                    "text": "Строка 3647 совпадает со строкой 14858\n",
                    "output_type": "stream"
                },
                {
                    "name": "stdout",
                    "text": "Строка 3654 совпадает со строкой 14729\n",
                    "output_type": "stream"
                },
                {
                    "name": "stdout",
                    "text": "Строка 3655 совпадает со строкой 14730\n",
                    "output_type": "stream"
                },
                {
                    "name": "stdout",
                    "text": "Строка 3656 совпадает со строкой 14731\n",
                    "output_type": "stream"
                },
                {
                    "name": "stdout",
                    "text": "Строка 3657 совпадает со строкой 14732\n",
                    "output_type": "stream"
                },
                {
                    "name": "stdout",
                    "text": "Строка 3658 совпадает со строкой 14733\n",
                    "output_type": "stream"
                },
                {
                    "name": "stdout",
                    "text": "Строка 3661 совпадает со строкой 14853\n",
                    "output_type": "stream"
                },
                {
                    "name": "stdout",
                    "text": "Строка 3662 совпадает со строкой 14854\n",
                    "output_type": "stream"
                },
                {
                    "name": "stdout",
                    "text": "Строка 3663 совпадает со строкой 14855\n",
                    "output_type": "stream"
                },
                {
                    "name": "stdout",
                    "text": "Строка 3670 совпадает со строкой 14731\n",
                    "output_type": "stream"
                },
                {
                    "name": "stdout",
                    "text": "Строка 3675 совпадает со строкой 14732\n",
                    "output_type": "stream"
                },
                {
                    "name": "stdout",
                    "text": "Строка 3676 совпадает со строкой 14733\n",
                    "output_type": "stream"
                },
                {
                    "name": "stdout",
                    "text": "Строка 3681 совпадает со строкой 14852\n",
                    "output_type": "stream"
                },
                {
                    "name": "stdout",
                    "text": "Строка 3682 совпадает со строкой 14853\n",
                    "output_type": "stream"
                },
                {
                    "name": "stdout",
                    "text": "Строка 3683 совпадает со строкой 14854\n",
                    "output_type": "stream"
                },
                {
                    "name": "stdout",
                    "text": "Строка 3690 совпадает со строкой 14731\n",
                    "output_type": "stream"
                },
                {
                    "name": "stdout",
                    "text": "Строка 3695 совпадает со строкой 14732\n",
                    "output_type": "stream"
                },
                {
                    "name": "stdout",
                    "text": "Строка 3696 совпадает со строкой 14733\n",
                    "output_type": "stream"
                },
                {
                    "name": "stdout",
                    "text": "Строка 3701 совпадает со строкой 14851\n",
                    "output_type": "stream"
                },
                {
                    "name": "stdout",
                    "text": "Строка 3702 совпадает со строкой 14852\n",
                    "output_type": "stream"
                },
                {
                    "name": "stdout",
                    "text": "Строка 3703 совпадает со строкой 14853\n",
                    "output_type": "stream"
                },
                {
                    "name": "stdout",
                    "text": "Строка 3710 совпадает со строкой 14731\n",
                    "output_type": "stream"
                },
                {
                    "name": "stdout",
                    "text": "Строка 3715 совпадает со строкой 14732\n",
                    "output_type": "stream"
                },
                {
                    "name": "stdout",
                    "text": "Строка 3716 совпадает со строкой 14733\n",
                    "output_type": "stream"
                },
                {
                    "name": "stdout",
                    "text": "Строка 3721 совпадает со строкой 14850\n",
                    "output_type": "stream"
                },
                {
                    "name": "stdout",
                    "text": "Строка 3722 совпадает со строкой 14851\n",
                    "output_type": "stream"
                },
                {
                    "name": "stdout",
                    "text": "Строка 3723 совпадает со строкой 14852\n",
                    "output_type": "stream"
                },
                {
                    "name": "stdout",
                    "text": "Строка 3730 совпадает со строкой 14731\n",
                    "output_type": "stream"
                },
                {
                    "name": "stdout",
                    "text": "Строка 3735 совпадает со строкой 14732\n",
                    "output_type": "stream"
                },
                {
                    "name": "stdout",
                    "text": "Строка 3736 совпадает со строкой 14733\n",
                    "output_type": "stream"
                },
                {
                    "name": "stdout",
                    "text": "Строка 3741 совпадает со строкой 14849\n",
                    "output_type": "stream"
                },
                {
                    "name": "stdout",
                    "text": "Строка 3742 совпадает со строкой 14850\n",
                    "output_type": "stream"
                },
                {
                    "name": "stdout",
                    "text": "Строка 3743 совпадает со строкой 14851\n",
                    "output_type": "stream"
                },
                {
                    "name": "stdout",
                    "text": "Строка 3750 совпадает со строкой 14731\n",
                    "output_type": "stream"
                },
                {
                    "name": "stdout",
                    "text": "Строка 3755 совпадает со строкой 14732\n",
                    "output_type": "stream"
                },
                {
                    "name": "stdout",
                    "text": "Строка 3756 совпадает со строкой 14733\n",
                    "output_type": "stream"
                },
                {
                    "name": "stdout",
                    "text": "Строка 3761 совпадает со строкой 14848\n",
                    "output_type": "stream"
                },
                {
                    "name": "stdout",
                    "text": "Строка 3762 совпадает со строкой 14849\n",
                    "output_type": "stream"
                },
                {
                    "name": "stdout",
                    "text": "Строка 3763 совпадает со строкой 14850\n",
                    "output_type": "stream"
                },
                {
                    "name": "stdout",
                    "text": "Строка 3770 совпадает со строкой 14731\n",
                    "output_type": "stream"
                },
                {
                    "name": "stdout",
                    "text": "Строка 3775 совпадает со строкой 14732\n",
                    "output_type": "stream"
                },
                {
                    "name": "stdout",
                    "text": "Строка 3776 совпадает со строкой 14733\n",
                    "output_type": "stream"
                },
                {
                    "name": "stdout",
                    "text": "Строка 3781 совпадает со строкой 14847\n",
                    "output_type": "stream"
                },
                {
                    "name": "stdout",
                    "text": "Строка 3782 совпадает со строкой 14848\n",
                    "output_type": "stream"
                },
                {
                    "name": "stdout",
                    "text": "Строка 3783 совпадает со строкой 14849\n",
                    "output_type": "stream"
                },
                {
                    "name": "stdout",
                    "text": "Строка 3790 совпадает со строкой 14731\n",
                    "output_type": "stream"
                },
                {
                    "name": "stdout",
                    "text": "Строка 3795 совпадает со строкой 14732\n",
                    "output_type": "stream"
                },
                {
                    "name": "stdout",
                    "text": "Строка 3798 совпадает со строкой 14847\n",
                    "output_type": "stream"
                },
                {
                    "name": "stdout",
                    "text": "Строка 3799 совпадает со строкой 14848\n",
                    "output_type": "stream"
                },
                {
                    "name": "stdout",
                    "text": "Строка 3800 совпадает со строкой 14849\n",
                    "output_type": "stream"
                },
                {
                    "name": "stdout",
                    "text": "Строка 3805 совпадает со строкой 14730\n",
                    "output_type": "stream"
                },
                {
                    "name": "stdout",
                    "text": "Строка 3806 совпадает со строкой 14731\n",
                    "output_type": "stream"
                },
                {
                    "name": "stdout",
                    "text": "Строка 3807 совпадает со строкой 14732\n",
                    "output_type": "stream"
                },
                {
                    "name": "stdout",
                    "text": "Строка 3810 совпадает со строкой 14846\n",
                    "output_type": "stream"
                },
                {
                    "name": "stdout",
                    "text": "Строка 3811 совпадает со строкой 14847\n",
                    "output_type": "stream"
                },
                {
                    "name": "stdout",
                    "text": "Строка 3817 совпадает со строкой 14731\n",
                    "output_type": "stream"
                },
                {
                    "name": "stdout",
                    "text": "Строка 3818 совпадает со строкой 14732\n",
                    "output_type": "stream"
                },
                {
                    "name": "stdout",
                    "text": "Строка 3819 совпадает со строкой 14733\n",
                    "output_type": "stream"
                },
                {
                    "name": "stdout",
                    "text": "Строка 3822 совпадает со строкой 14845\n",
                    "output_type": "stream"
                },
                {
                    "name": "stdout",
                    "text": "Строка 3823 совпадает со строкой 14846\n",
                    "output_type": "stream"
                },
                {
                    "name": "stdout",
                    "text": "Строка 3829 совпадает со строкой 14732\n",
                    "output_type": "stream"
                },
                {
                    "name": "stdout",
                    "text": "Строка 3836 совпадает со строкой 14846\n",
                    "output_type": "stream"
                },
                {
                    "name": "stdout",
                    "text": "Строка 3837 совпадает со строкой 14847\n",
                    "output_type": "stream"
                },
                {
                    "name": "stdout",
                    "text": "Строка 3843 совпадает со строкой 14731\n",
                    "output_type": "stream"
                },
                {
                    "name": "stdout",
                    "text": "Строка 3850 совпадает со строкой 14847\n",
                    "output_type": "stream"
                },
                {
                    "name": "stdout",
                    "text": "Строка 3851 совпадает со строкой 14848\n",
                    "output_type": "stream"
                },
                {
                    "name": "stdout",
                    "text": "Строка 3857 совпадает со строкой 14730\n",
                    "output_type": "stream"
                },
                {
                    "name": "stdout",
                    "text": "Строка 3862 совпадает со строкой 3863\n",
                    "output_type": "stream"
                },
                {
                    "name": "stdout",
                    "text": "Строка 3863 совпадает со строкой 3864\n",
                    "output_type": "stream"
                },
                {
                    "name": "stdout",
                    "text": "Строка 3864 совпадает со строкой 3865\n",
                    "output_type": "stream"
                },
                {
                    "name": "stdout",
                    "text": "Строка 3865 совпадает со строкой 3866\n",
                    "output_type": "stream"
                },
                {
                    "name": "stdout",
                    "text": "Строка 3866 совпадает со строкой 3867\n",
                    "output_type": "stream"
                },
                {
                    "name": "stdout",
                    "text": "Строка 3867 совпадает со строкой 3868\n",
                    "output_type": "stream"
                },
                {
                    "name": "stdout",
                    "text": "Строка 3868 совпадает со строкой 3869\n",
                    "output_type": "stream"
                },
                {
                    "name": "stdout",
                    "text": "Строка 3869 совпадает со строкой 3870\n",
                    "output_type": "stream"
                },
                {
                    "name": "stdout",
                    "text": "Строка 3870 совпадает со строкой 3871\n",
                    "output_type": "stream"
                },
                {
                    "name": "stdout",
                    "text": "Строка 3871 совпадает со строкой 3872\n",
                    "output_type": "stream"
                },
                {
                    "name": "stdout",
                    "text": "Строка 3872 совпадает со строкой 3873\n",
                    "output_type": "stream"
                },
                {
                    "name": "stdout",
                    "text": "Строка 3873 совпадает со строкой 3874\n",
                    "output_type": "stream"
                },
                {
                    "name": "stdout",
                    "text": "Строка 3874 совпадает со строкой 3875\n",
                    "output_type": "stream"
                },
                {
                    "name": "stdout",
                    "text": "Строка 3875 совпадает со строкой 14718\n",
                    "output_type": "stream"
                },
                {
                    "name": "stdout",
                    "text": "Строка 3876 совпадает со строкой 14719\n",
                    "output_type": "stream"
                },
                {
                    "name": "stdout",
                    "text": "Строка 3879 совпадает со строкой 14720\n",
                    "output_type": "stream"
                },
                {
                    "name": "stdout",
                    "text": "Строка 3880 совпадает со строкой 14721\n",
                    "output_type": "stream"
                },
                {
                    "name": "stdout",
                    "text": "Строка 3881 совпадает со строкой 14722\n",
                    "output_type": "stream"
                },
                {
                    "name": "stdout",
                    "text": "Строка 3882 совпадает со строкой 14723\n",
                    "output_type": "stream"
                },
                {
                    "name": "stdout",
                    "text": "Строка 3883 совпадает со строкой 14724\n",
                    "output_type": "stream"
                },
                {
                    "name": "stdout",
                    "text": "Строка 3884 совпадает со строкой 14725\n",
                    "output_type": "stream"
                },
                {
                    "name": "stdout",
                    "text": "Строка 3889 совпадает со строкой 14726\n",
                    "output_type": "stream"
                },
                {
                    "name": "stdout",
                    "text": "Строка 3897 совпадает со строкой 14826\n",
                    "output_type": "stream"
                },
                {
                    "name": "stdout",
                    "text": "Строка 3898 совпадает со строкой 14827\n",
                    "output_type": "stream"
                },
                {
                    "name": "stdout",
                    "text": "Строка 3899 совпадает со строкой 14828\n",
                    "output_type": "stream"
                },
                {
                    "name": "stdout",
                    "text": "Строка 3918 совпадает со строкой 14828\n",
                    "output_type": "stream"
                },
                {
                    "name": "stdout",
                    "text": "Строка 3919 совпадает со строкой 14829\n",
                    "output_type": "stream"
                },
                {
                    "name": "stdout",
                    "text": "Строка 3927 совпадает со строкой 14722\n",
                    "output_type": "stream"
                },
                {
                    "name": "stdout",
                    "text": "Строка 3930 совпадает со строкой 3931\n",
                    "output_type": "stream"
                },
                {
                    "name": "stdout",
                    "text": "Строка 3937 совпадает со строкой 14828\n",
                    "output_type": "stream"
                },
                {
                    "name": "stdout",
                    "text": "Строка 3938 совпадает со строкой 14829\n",
                    "output_type": "stream"
                },
                {
                    "name": "stdout",
                    "text": "Строка 3939 совпадает со строкой 14830\n",
                    "output_type": "stream"
                },
                {
                    "name": "stdout",
                    "text": "Строка 3968 совпадает со строкой 14719\n",
                    "output_type": "stream"
                },
                {
                    "name": "stdout",
                    "text": "Строка 3976 совпадает со строкой 14829\n",
                    "output_type": "stream"
                },
                {
                    "name": "stdout",
                    "text": "Строка 3977 совпадает со строкой 14830\n",
                    "output_type": "stream"
                },
                {
                    "name": "stdout",
                    "text": "Строка 3978 совпадает со строкой 14831\n",
                    "output_type": "stream"
                },
                {
                    "name": "stdout",
                    "text": "Строка 3989 совпадает со строкой 14717\n",
                    "output_type": "stream"
                },
                {
                    "name": "stdout",
                    "text": "Строка 3997 совпадает со строкой 14830\n",
                    "output_type": "stream"
                },
                {
                    "name": "stdout",
                    "text": "Строка 3998 совпадает со строкой 14831\n",
                    "output_type": "stream"
                },
                {
                    "name": "stdout",
                    "text": "Строка 3999 совпадает со строкой 14832\n",
                    "output_type": "stream"
                },
                {
                    "name": "stdout",
                    "text": "Строка 4010 совпадает со строкой 14715\n",
                    "output_type": "stream"
                },
                {
                    "name": "stdout",
                    "text": "Строка 4018 совпадает со строкой 14831\n",
                    "output_type": "stream"
                },
                {
                    "name": "stdout",
                    "text": "Строка 4019 совпадает со строкой 14832\n",
                    "output_type": "stream"
                },
                {
                    "name": "stdout",
                    "text": "Строка 4020 совпадает со строкой 14833\n",
                    "output_type": "stream"
                },
                {
                    "name": "stdout",
                    "text": "Строка 4031 совпадает со строкой 14713\n",
                    "output_type": "stream"
                },
                {
                    "name": "stdout",
                    "text": "Строка 4039 совпадает со строкой 14832\n",
                    "output_type": "stream"
                },
                {
                    "name": "stdout",
                    "text": "Строка 4040 совпадает со строкой 14833\n",
                    "output_type": "stream"
                },
                {
                    "name": "stdout",
                    "text": "Строка 4041 совпадает со строкой 14834\n",
                    "output_type": "stream"
                },
                {
                    "name": "stdout",
                    "text": "Строка 4052 совпадает со строкой 14711\n",
                    "output_type": "stream"
                },
                {
                    "name": "stdout",
                    "text": "Строка 4060 совпадает со строкой 14833\n",
                    "output_type": "stream"
                },
                {
                    "name": "stdout",
                    "text": "Строка 4061 совпадает со строкой 14834\n",
                    "output_type": "stream"
                },
                {
                    "name": "stdout",
                    "text": "Строка 4062 совпадает со строкой 14835\n",
                    "output_type": "stream"
                },
                {
                    "name": "stdout",
                    "text": "Строка 4073 совпадает со строкой 14709\n",
                    "output_type": "stream"
                },
                {
                    "name": "stdout",
                    "text": "Строка 4081 совпадает со строкой 14834\n",
                    "output_type": "stream"
                },
                {
                    "name": "stdout",
                    "text": "Строка 4082 совпадает со строкой 14835\n",
                    "output_type": "stream"
                },
                {
                    "name": "stdout",
                    "text": "Строка 4083 совпадает со строкой 14836\n",
                    "output_type": "stream"
                },
                {
                    "name": "stdout",
                    "text": "Строка 4094 совпадает со строкой 14707\n",
                    "output_type": "stream"
                },
                {
                    "name": "stdout",
                    "text": "Строка 4102 совпадает со строкой 14835\n",
                    "output_type": "stream"
                },
                {
                    "name": "stdout",
                    "text": "Строка 4103 совпадает со строкой 14836\n",
                    "output_type": "stream"
                },
                {
                    "name": "stdout",
                    "text": "Строка 4104 совпадает со строкой 14837\n",
                    "output_type": "stream"
                },
                {
                    "name": "stdout",
                    "text": "Строка 4113 совпадает со строкой 14705\n",
                    "output_type": "stream"
                },
                {
                    "name": "stdout",
                    "text": "Строка 4126 совпадает со строкой 14836\n",
                    "output_type": "stream"
                },
                {
                    "name": "stdout",
                    "text": "Строка 4127 совпадает со строкой 14837\n",
                    "output_type": "stream"
                },
                {
                    "name": "stdout",
                    "text": "Строка 4128 совпадает со строкой 14838\n",
                    "output_type": "stream"
                },
                {
                    "name": "stdout",
                    "text": "Строка 4137 совпадает со строкой 14703\n",
                    "output_type": "stream"
                },
                {
                    "name": "stdout",
                    "text": "Строка 4145 совпадает со строкой 14837\n",
                    "output_type": "stream"
                },
                {
                    "name": "stdout",
                    "text": "Строка 4146 совпадает со строкой 14838\n",
                    "output_type": "stream"
                },
                {
                    "name": "stdout",
                    "text": "Строка 4147 совпадает со строкой 14839\n",
                    "output_type": "stream"
                },
                {
                    "name": "stdout",
                    "text": "Строка 4166 совпадает со строкой 14839\n",
                    "output_type": "stream"
                },
                {
                    "name": "stdout",
                    "text": "Строка 4167 совпадает со строкой 14840\n",
                    "output_type": "stream"
                },
                {
                    "name": "stdout",
                    "text": "Строка 4175 совпадает со строкой 14699\n",
                    "output_type": "stream"
                },
                {
                    "name": "stdout",
                    "text": "Строка 4178 совпадает со строкой 4179\n",
                    "output_type": "stream"
                },
                {
                    "name": "stdout",
                    "text": "Строка 4185 совпадает со строкой 14839\n",
                    "output_type": "stream"
                },
                {
                    "name": "stdout",
                    "text": "Строка 4186 совпадает со строкой 14840\n",
                    "output_type": "stream"
                },
                {
                    "name": "stdout",
                    "text": "Строка 4187 совпадает со строкой 14841\n",
                    "output_type": "stream"
                },
                {
                    "name": "stdout",
                    "text": "Строка 4216 совпадает со строкой 14696\n",
                    "output_type": "stream"
                },
                {
                    "name": "stdout",
                    "text": "Строка 4224 совпадает со строкой 14840\n",
                    "output_type": "stream"
                },
                {
                    "name": "stdout",
                    "text": "Строка 4225 совпадает со строкой 14841\n",
                    "output_type": "stream"
                },
                {
                    "name": "stdout",
                    "text": "Строка 4226 совпадает со строкой 14842\n",
                    "output_type": "stream"
                },
                {
                    "name": "stdout",
                    "text": "Строка 4237 совпадает со строкой 14694\n",
                    "output_type": "stream"
                },
                {
                    "name": "stdout",
                    "text": "Строка 4245 совпадает со строкой 14841\n",
                    "output_type": "stream"
                },
                {
                    "name": "stdout",
                    "text": "Строка 4246 совпадает со строкой 14842\n",
                    "output_type": "stream"
                },
                {
                    "name": "stdout",
                    "text": "Строка 4247 совпадает со строкой 14843\n",
                    "output_type": "stream"
                },
                {
                    "name": "stdout",
                    "text": "Строка 4258 совпадает со строкой 14692\n",
                    "output_type": "stream"
                },
                {
                    "name": "stdout",
                    "text": "Строка 4266 совпадает со строкой 14842\n",
                    "output_type": "stream"
                },
                {
                    "name": "stdout",
                    "text": "Строка 4267 совпадает со строкой 14843\n",
                    "output_type": "stream"
                },
                {
                    "name": "stdout",
                    "text": "Строка 4268 совпадает со строкой 14844\n",
                    "output_type": "stream"
                },
                {
                    "name": "stdout",
                    "text": "Строка 4279 совпадает со строкой 14690\n",
                    "output_type": "stream"
                },
                {
                    "name": "stdout",
                    "text": "Строка 4287 совпадает со строкой 14843\n",
                    "output_type": "stream"
                },
                {
                    "name": "stdout",
                    "text": "Строка 4288 совпадает со строкой 14844\n",
                    "output_type": "stream"
                },
                {
                    "name": "stdout",
                    "text": "Строка 4289 совпадает со строкой 14845\n",
                    "output_type": "stream"
                },
                {
                    "name": "stdout",
                    "text": "Строка 4300 совпадает со строкой 14688\n",
                    "output_type": "stream"
                },
                {
                    "name": "stdout",
                    "text": "Строка 4308 совпадает со строкой 14844\n",
                    "output_type": "stream"
                },
                {
                    "name": "stdout",
                    "text": "Строка 4309 совпадает со строкой 14845\n",
                    "output_type": "stream"
                },
                {
                    "name": "stdout",
                    "text": "Строка 4310 совпадает со строкой 14846\n",
                    "output_type": "stream"
                },
                {
                    "name": "stdout",
                    "text": "Строка 4321 совпадает со строкой 14686\n",
                    "output_type": "stream"
                },
                {
                    "name": "stdout",
                    "text": "Строка 4329 совпадает со строкой 14845\n",
                    "output_type": "stream"
                },
                {
                    "name": "stdout",
                    "text": "Строка 4330 совпадает со строкой 14846\n",
                    "output_type": "stream"
                },
                {
                    "name": "stdout",
                    "text": "Строка 4331 совпадает со строкой 14847\n",
                    "output_type": "stream"
                },
                {
                    "name": "stdout",
                    "text": "Строка 4342 совпадает со строкой 14684\n",
                    "output_type": "stream"
                },
                {
                    "name": "stdout",
                    "text": "Строка 4350 совпадает со строкой 14846\n",
                    "output_type": "stream"
                },
                {
                    "name": "stdout",
                    "text": "Строка 4351 совпадает со строкой 14847\n",
                    "output_type": "stream"
                },
                {
                    "name": "stdout",
                    "text": "Строка 4352 совпадает со строкой 14848\n",
                    "output_type": "stream"
                },
                {
                    "name": "stdout",
                    "text": "Строка 4651 совпадает со строкой 14854\n",
                    "output_type": "stream"
                },
                {
                    "name": "stdout",
                    "text": "Строка 4652 совпадает со строкой 14855\n",
                    "output_type": "stream"
                },
                {
                    "name": "stdout",
                    "text": "Строка 4656 совпадает со строкой 14855\n",
                    "output_type": "stream"
                },
                {
                    "name": "stdout",
                    "text": "Строка 4659 совпадает со строкой 14855\n",
                    "output_type": "stream"
                },
                {
                    "name": "stdout",
                    "text": "Строка 4668 совпадает со строкой 14855\n",
                    "output_type": "stream"
                },
                {
                    "name": "stdout",
                    "text": "Строка 4669 совпадает со строкой 14856\n",
                    "output_type": "stream"
                },
                {
                    "name": "stdout",
                    "text": "Строка 4673 совпадает со строкой 14856\n",
                    "output_type": "stream"
                },
                {
                    "name": "stdout",
                    "text": "Строка 4676 совпадает со строкой 14856\n",
                    "output_type": "stream"
                },
                {
                    "name": "stdout",
                    "text": "Строка 4685 совпадает со строкой 14856\n",
                    "output_type": "stream"
                },
                {
                    "name": "stdout",
                    "text": "Строка 4686 совпадает со строкой 14857\n",
                    "output_type": "stream"
                },
                {
                    "name": "stdout",
                    "text": "Строка 4690 совпадает со строкой 14857\n",
                    "output_type": "stream"
                },
                {
                    "name": "stdout",
                    "text": "Строка 4693 совпадает со строкой 14857\n",
                    "output_type": "stream"
                },
                {
                    "name": "stdout",
                    "text": "Строка 4698 совпадает со строкой 14857\n",
                    "output_type": "stream"
                },
                {
                    "name": "stdout",
                    "text": "Строка 4699 совпадает со строкой 14858\n",
                    "output_type": "stream"
                },
                {
                    "name": "stdout",
                    "text": "Строка 4709 совпадает со строкой 14858\n",
                    "output_type": "stream"
                },
                {
                    "name": "stdout",
                    "text": "Строка 4710 совпадает со строкой 14859\n",
                    "output_type": "stream"
                },
                {
                    "name": "stdout",
                    "text": "Строка 4714 совпадает со строкой 14859\n",
                    "output_type": "stream"
                },
                {
                    "name": "stdout",
                    "text": "Строка 4717 совпадает со строкой 14859\n",
                    "output_type": "stream"
                },
                {
                    "name": "stdout",
                    "text": "Строка 4726 совпадает со строкой 14859\n",
                    "output_type": "stream"
                },
                {
                    "name": "stdout",
                    "text": "Строка 4727 совпадает со строкой 14860\n",
                    "output_type": "stream"
                },
                {
                    "name": "stdout",
                    "text": "Строка 4731 совпадает со строкой 14860\n",
                    "output_type": "stream"
                },
                {
                    "name": "stdout",
                    "text": "Строка 4734 совпадает со строкой 14860\n",
                    "output_type": "stream"
                },
                {
                    "name": "stdout",
                    "text": "Строка 4743 совпадает со строкой 14860\n",
                    "output_type": "stream"
                },
                {
                    "name": "stdout",
                    "text": "Строка 4744 совпадает со строкой 14861\n",
                    "output_type": "stream"
                },
                {
                    "name": "stdout",
                    "text": "Строка 4748 совпадает со строкой 14861\n",
                    "output_type": "stream"
                },
                {
                    "name": "stdout",
                    "text": "Строка 4751 совпадает со строкой 14861\n",
                    "output_type": "stream"
                },
                {
                    "name": "stdout",
                    "text": "Строка 4760 совпадает со строкой 14861\n",
                    "output_type": "stream"
                },
                {
                    "name": "stdout",
                    "text": "Строка 4761 совпадает со строкой 14862\n",
                    "output_type": "stream"
                },
                {
                    "name": "stdout",
                    "text": "Строка 4765 совпадает со строкой 14862\n",
                    "output_type": "stream"
                },
                {
                    "name": "stdout",
                    "text": "Строка 4768 совпадает со строкой 14862\n",
                    "output_type": "stream"
                },
                {
                    "name": "stdout",
                    "text": "Строка 4777 совпадает со строкой 14862\n",
                    "output_type": "stream"
                },
                {
                    "name": "stdout",
                    "text": "Строка 4778 совпадает со строкой 14863\n",
                    "output_type": "stream"
                },
                {
                    "name": "stdout",
                    "text": "Строка 4782 совпадает со строкой 14863\n",
                    "output_type": "stream"
                },
                {
                    "name": "stdout",
                    "text": "Строка 4785 совпадает со строкой 14863\n",
                    "output_type": "stream"
                },
                {
                    "name": "stdout",
                    "text": "Строка 4794 совпадает со строкой 14863\n",
                    "output_type": "stream"
                },
                {
                    "name": "stdout",
                    "text": "Строка 4795 совпадает со строкой 14864\n",
                    "output_type": "stream"
                },
                {
                    "name": "stdout",
                    "text": "Строка 4799 совпадает со строкой 14864\n",
                    "output_type": "stream"
                },
                {
                    "name": "stdout",
                    "text": "Строка 4802 совпадает со строкой 14864\n",
                    "output_type": "stream"
                },
                {
                    "name": "stdout",
                    "text": "Строка 4811 совпадает со строкой 14864\n",
                    "output_type": "stream"
                },
                {
                    "name": "stdout",
                    "text": "Строка 4812 совпадает со строкой 14865\n",
                    "output_type": "stream"
                },
                {
                    "name": "stdout",
                    "text": "Строка 4816 совпадает со строкой 14865\n",
                    "output_type": "stream"
                },
                {
                    "name": "stdout",
                    "text": "Строка 4819 совпадает со строкой 14865\n",
                    "output_type": "stream"
                },
                {
                    "name": "stdout",
                    "text": "Строка 4824 совпадает со строкой 14865\n",
                    "output_type": "stream"
                },
                {
                    "name": "stdout",
                    "text": "Строка 4825 совпадает со строкой 14866\n",
                    "output_type": "stream"
                },
                {
                    "name": "stdout",
                    "text": "Строка 4835 совпадает со строкой 14866\n",
                    "output_type": "stream"
                },
                {
                    "name": "stdout",
                    "text": "Строка 4836 совпадает со строкой 14867\n",
                    "output_type": "stream"
                },
                {
                    "name": "stdout",
                    "text": "Строка 4840 совпадает со строкой 14867\n",
                    "output_type": "stream"
                },
                {
                    "name": "stdout",
                    "text": "Строка 4843 совпадает со строкой 14867\n",
                    "output_type": "stream"
                },
                {
                    "name": "stdout",
                    "text": "Строка 4852 совпадает со строкой 14867\n",
                    "output_type": "stream"
                },
                {
                    "name": "stdout",
                    "text": "Строка 4853 совпадает со строкой 14868\n",
                    "output_type": "stream"
                },
                {
                    "name": "stdout",
                    "text": "Строка 4857 совпадает со строкой 14868\n",
                    "output_type": "stream"
                },
                {
                    "name": "stdout",
                    "text": "Строка 4860 совпадает со строкой 14868\n",
                    "output_type": "stream"
                },
                {
                    "name": "stdout",
                    "text": "Строка 4869 совпадает со строкой 14868\n",
                    "output_type": "stream"
                },
                {
                    "name": "stdout",
                    "text": "Строка 4870 совпадает со строкой 14869\n",
                    "output_type": "stream"
                },
                {
                    "name": "stdout",
                    "text": "Строка 4874 совпадает со строкой 14869\n",
                    "output_type": "stream"
                },
                {
                    "name": "stdout",
                    "text": "Строка 4877 совпадает со строкой 14869\n",
                    "output_type": "stream"
                },
                {
                    "name": "stdout",
                    "text": "Строка 4884 совпадает со строкой 14871\n",
                    "output_type": "stream"
                },
                {
                    "name": "stdout",
                    "text": "Строка 4891 совпадает со строкой 14872\n",
                    "output_type": "stream"
                },
                {
                    "name": "stdout",
                    "text": "Строка 4898 совпадает со строкой 14873\n",
                    "output_type": "stream"
                },
                {
                    "name": "stdout",
                    "text": "Строка 4905 совпадает со строкой 4906\n",
                    "output_type": "stream"
                },
                {
                    "name": "stdout",
                    "text": "Строка 4912 совпадает со строкой 14873\n",
                    "output_type": "stream"
                },
                {
                    "name": "stdout",
                    "text": "Строка 4919 совпадает со строкой 14874\n",
                    "output_type": "stream"
                },
                {
                    "name": "stdout",
                    "text": "Строка 4926 совпадает со строкой 14875\n",
                    "output_type": "stream"
                },
                {
                    "name": "stdout",
                    "text": "Строка 4933 совпадает со строкой 14876\n",
                    "output_type": "stream"
                },
                {
                    "name": "stdout",
                    "text": "Строка 4940 совпадает со строкой 14877\n",
                    "output_type": "stream"
                },
                {
                    "name": "stdout",
                    "text": "Строка 4947 совпадает со строкой 14878\n",
                    "output_type": "stream"
                },
                {
                    "name": "stdout",
                    "text": "Строка 4954 совпадает со строкой 14879\n",
                    "output_type": "stream"
                },
                {
                    "name": "stdout",
                    "text": "Строка 4961 совпадает со строкой 4962\n",
                    "output_type": "stream"
                },
                {
                    "name": "stdout",
                    "text": "Строка 4968 совпадает со строкой 14879\n",
                    "output_type": "stream"
                },
                {
                    "name": "stdout",
                    "text": "Строка 4975 совпадает со строкой 14880\n",
                    "output_type": "stream"
                },
                {
                    "name": "stdout",
                    "text": "Строка 4982 совпадает со строкой 14881\n",
                    "output_type": "stream"
                },
                {
                    "name": "stdout",
                    "text": "Строка 4992 совпадает со строкой 4993\n",
                    "output_type": "stream"
                },
                {
                    "name": "stdout",
                    "text": "Строка 5000 совпадает со строкой 14881\n",
                    "output_type": "stream"
                },
                {
                    "name": "stdout",
                    "text": "Строка 5026 совпадает со строкой 6554\n",
                    "output_type": "stream"
                },
                {
                    "name": "stdout",
                    "text": "Строка 5027 совпадает со строкой 6555\n",
                    "output_type": "stream"
                },
                {
                    "name": "stdout",
                    "text": "Строка 5037 совпадает со строкой 14886\n",
                    "output_type": "stream"
                },
                {
                    "name": "stdout",
                    "text": "Строка 5038 совпадает со строкой 14887\n",
                    "output_type": "stream"
                },
                {
                    "name": "stdout",
                    "text": "Строка 5039 совпадает со строкой 14888\n",
                    "output_type": "stream"
                },
                {
                    "name": "stdout",
                    "text": "Строка 5040 совпадает со строкой 14889\n",
                    "output_type": "stream"
                },
                {
                    "name": "stdout",
                    "text": "Строка 5041 совпадает со строкой 14890\n",
                    "output_type": "stream"
                },
                {
                    "name": "stdout",
                    "text": "Строка 5042 совпадает со строкой 14891\n",
                    "output_type": "stream"
                },
                {
                    "name": "stdout",
                    "text": "Строка 5043 совпадает со строкой 14892\n",
                    "output_type": "stream"
                },
                {
                    "name": "stdout",
                    "text": "Строка 5044 совпадает со строкой 14893\n",
                    "output_type": "stream"
                },
                {
                    "name": "stdout",
                    "text": "Строка 5045 совпадает со строкой 14894\n",
                    "output_type": "stream"
                },
                {
                    "name": "stdout",
                    "text": "Строка 5046 совпадает со строкой 14895\n",
                    "output_type": "stream"
                },
                {
                    "name": "stdout",
                    "text": "Строка 5047 совпадает со строкой 14896\n",
                    "output_type": "stream"
                },
                {
                    "name": "stdout",
                    "text": "Строка 5048 совпадает со строкой 14897\n",
                    "output_type": "stream"
                },
                {
                    "name": "stdout",
                    "text": "Строка 5049 совпадает со строкой 14898\n",
                    "output_type": "stream"
                },
                {
                    "name": "stdout",
                    "text": "Строка 5050 совпадает со строкой 14899\n",
                    "output_type": "stream"
                },
                {
                    "name": "stdout",
                    "text": "Строка 5051 совпадает со строкой 14900\n",
                    "output_type": "stream"
                },
                {
                    "name": "stdout",
                    "text": "Строка 5052 совпадает со строкой 14901\n",
                    "output_type": "stream"
                },
                {
                    "name": "stdout",
                    "text": "Строка 5053 совпадает со строкой 14902\n",
                    "output_type": "stream"
                },
                {
                    "name": "stdout",
                    "text": "Строка 5054 совпадает со строкой 14903\n",
                    "output_type": "stream"
                },
                {
                    "name": "stdout",
                    "text": "Строка 5055 совпадает со строкой 14904\n",
                    "output_type": "stream"
                },
                {
                    "name": "stdout",
                    "text": "Строка 5056 совпадает со строкой 14905\n",
                    "output_type": "stream"
                },
                {
                    "name": "stdout",
                    "text": "Строка 5057 совпадает со строкой 14906\n",
                    "output_type": "stream"
                },
                {
                    "name": "stdout",
                    "text": "Строка 5058 совпадает со строкой 14907\n",
                    "output_type": "stream"
                },
                {
                    "name": "stdout",
                    "text": "Строка 5059 совпадает со строкой 14908\n",
                    "output_type": "stream"
                },
                {
                    "name": "stdout",
                    "text": "Строка 5060 совпадает со строкой 14909\n",
                    "output_type": "stream"
                },
                {
                    "name": "stdout",
                    "text": "Строка 5061 совпадает со строкой 14910\n",
                    "output_type": "stream"
                },
                {
                    "name": "stdout",
                    "text": "Строка 5062 совпадает со строкой 14911\n",
                    "output_type": "stream"
                },
                {
                    "name": "stdout",
                    "text": "Строка 5063 совпадает со строкой 14912\n",
                    "output_type": "stream"
                },
                {
                    "name": "stdout",
                    "text": "Строка 5064 совпадает со строкой 14913\n",
                    "output_type": "stream"
                },
                {
                    "name": "stdout",
                    "text": "Строка 5065 совпадает со строкой 14914\n",
                    "output_type": "stream"
                },
                {
                    "name": "stdout",
                    "text": "Строка 5066 совпадает со строкой 14915\n",
                    "output_type": "stream"
                },
                {
                    "name": "stdout",
                    "text": "Строка 5067 совпадает со строкой 14916\n",
                    "output_type": "stream"
                },
                {
                    "name": "stdout",
                    "text": "Строка 5068 совпадает со строкой 14917\n",
                    "output_type": "stream"
                },
                {
                    "name": "stdout",
                    "text": "Строка 5069 совпадает со строкой 14918\n",
                    "output_type": "stream"
                },
                {
                    "name": "stdout",
                    "text": "Строка 5070 совпадает со строкой 14919\n",
                    "output_type": "stream"
                },
                {
                    "name": "stdout",
                    "text": "Строка 5071 совпадает со строкой 14920\n",
                    "output_type": "stream"
                },
                {
                    "name": "stdout",
                    "text": "Строка 5072 совпадает со строкой 14921\n",
                    "output_type": "stream"
                },
                {
                    "name": "stdout",
                    "text": "Строка 5073 совпадает со строкой 14922\n",
                    "output_type": "stream"
                },
                {
                    "name": "stdout",
                    "text": "Строка 5074 совпадает со строкой 14923\n",
                    "output_type": "stream"
                },
                {
                    "name": "stdout",
                    "text": "Строка 5075 совпадает со строкой 14924\n",
                    "output_type": "stream"
                },
                {
                    "name": "stdout",
                    "text": "Строка 5076 совпадает со строкой 14925\n",
                    "output_type": "stream"
                },
                {
                    "name": "stdout",
                    "text": "Строка 5077 совпадает со строкой 14926\n",
                    "output_type": "stream"
                },
                {
                    "name": "stdout",
                    "text": "Строка 5078 совпадает со строкой 14927\n",
                    "output_type": "stream"
                },
                {
                    "name": "stdout",
                    "text": "Строка 5079 совпадает со строкой 14928\n",
                    "output_type": "stream"
                },
                {
                    "name": "stdout",
                    "text": "Строка 5080 совпадает со строкой 14929\n",
                    "output_type": "stream"
                },
                {
                    "name": "stdout",
                    "text": "Строка 5081 совпадает со строкой 14930\n",
                    "output_type": "stream"
                },
                {
                    "name": "stdout",
                    "text": "Строка 5082 совпадает со строкой 14931\n",
                    "output_type": "stream"
                },
                {
                    "name": "stdout",
                    "text": "Строка 5083 совпадает со строкой 14932\n",
                    "output_type": "stream"
                },
                {
                    "name": "stdout",
                    "text": "Строка 5084 совпадает со строкой 14933\n",
                    "output_type": "stream"
                },
                {
                    "name": "stdout",
                    "text": "Строка 5085 совпадает со строкой 14934\n",
                    "output_type": "stream"
                },
                {
                    "name": "stdout",
                    "text": "Строка 5086 совпадает со строкой 14935\n",
                    "output_type": "stream"
                },
                {
                    "name": "stdout",
                    "text": "Строка 5087 совпадает со строкой 14936\n",
                    "output_type": "stream"
                },
                {
                    "name": "stdout",
                    "text": "Строка 5088 совпадает со строкой 14937\n",
                    "output_type": "stream"
                },
                {
                    "name": "stdout",
                    "text": "Строка 5089 совпадает со строкой 14938\n",
                    "output_type": "stream"
                },
                {
                    "name": "stdout",
                    "text": "Строка 5090 совпадает со строкой 14939\n",
                    "output_type": "stream"
                },
                {
                    "name": "stdout",
                    "text": "Строка 5091 совпадает со строкой 14940\n",
                    "output_type": "stream"
                },
                {
                    "name": "stdout",
                    "text": "Строка 5092 совпадает со строкой 14941\n",
                    "output_type": "stream"
                },
                {
                    "name": "stdout",
                    "text": "Строка 5093 совпадает со строкой 14942\n",
                    "output_type": "stream"
                },
                {
                    "name": "stdout",
                    "text": "Строка 5094 совпадает со строкой 14943\n",
                    "output_type": "stream"
                },
                {
                    "name": "stdout",
                    "text": "Строка 5095 совпадает со строкой 14944\n",
                    "output_type": "stream"
                },
                {
                    "name": "stdout",
                    "text": "Строка 5096 совпадает со строкой 14945\n",
                    "output_type": "stream"
                },
                {
                    "name": "stdout",
                    "text": "Строка 5097 совпадает со строкой 14946\n",
                    "output_type": "stream"
                },
                {
                    "name": "stdout",
                    "text": "Строка 5098 совпадает со строкой 14947\n",
                    "output_type": "stream"
                },
                {
                    "name": "stdout",
                    "text": "Строка 5099 совпадает со строкой 14948\n",
                    "output_type": "stream"
                },
                {
                    "name": "stdout",
                    "text": "Строка 5100 совпадает со строкой 14949\n",
                    "output_type": "stream"
                },
                {
                    "name": "stdout",
                    "text": "Строка 5101 совпадает со строкой 14950\n",
                    "output_type": "stream"
                },
                {
                    "name": "stdout",
                    "text": "Строка 5102 совпадает со строкой 14951\n",
                    "output_type": "stream"
                },
                {
                    "name": "stdout",
                    "text": "Строка 5103 совпадает со строкой 14952\n",
                    "output_type": "stream"
                },
                {
                    "name": "stdout",
                    "text": "Строка 5104 совпадает со строкой 14953\n",
                    "output_type": "stream"
                },
                {
                    "name": "stdout",
                    "text": "Строка 5105 совпадает со строкой 14954\n",
                    "output_type": "stream"
                },
                {
                    "name": "stdout",
                    "text": "Строка 5106 совпадает со строкой 14955\n",
                    "output_type": "stream"
                },
                {
                    "name": "stdout",
                    "text": "Строка 5107 совпадает со строкой 14956\n",
                    "output_type": "stream"
                },
                {
                    "name": "stdout",
                    "text": "Строка 5108 совпадает со строкой 14957\n",
                    "output_type": "stream"
                },
                {
                    "name": "stdout",
                    "text": "Строка 5109 совпадает со строкой 14958\n",
                    "output_type": "stream"
                },
                {
                    "name": "stdout",
                    "text": "Строка 5110 совпадает со строкой 14959\n",
                    "output_type": "stream"
                },
                {
                    "name": "stdout",
                    "text": "Строка 5111 совпадает со строкой 14960\n",
                    "output_type": "stream"
                },
                {
                    "name": "stdout",
                    "text": "Строка 5112 совпадает со строкой 14961\n",
                    "output_type": "stream"
                },
                {
                    "name": "stdout",
                    "text": "Строка 5113 совпадает со строкой 14962\n",
                    "output_type": "stream"
                },
                {
                    "name": "stdout",
                    "text": "Строка 5114 совпадает со строкой 14963\n",
                    "output_type": "stream"
                },
                {
                    "name": "stdout",
                    "text": "Строка 5115 совпадает со строкой 14964\n",
                    "output_type": "stream"
                },
                {
                    "name": "stdout",
                    "text": "Строка 5116 совпадает со строкой 14965\n",
                    "output_type": "stream"
                },
                {
                    "name": "stdout",
                    "text": "Строка 5117 совпадает со строкой 14966\n",
                    "output_type": "stream"
                },
                {
                    "name": "stdout",
                    "text": "Строка 5119 совпадает со строкой 14968\n",
                    "output_type": "stream"
                },
                {
                    "name": "stdout",
                    "text": "Строка 5120 совпадает со строкой 14969\n",
                    "output_type": "stream"
                },
                {
                    "name": "stdout",
                    "text": "Строка 5121 совпадает со строкой 14970\n",
                    "output_type": "stream"
                },
                {
                    "name": "stdout",
                    "text": "Строка 5122 совпадает со строкой 14971\n",
                    "output_type": "stream"
                },
                {
                    "name": "stdout",
                    "text": "Строка 5123 совпадает со строкой 14972\n",
                    "output_type": "stream"
                },
                {
                    "name": "stdout",
                    "text": "Строка 5131 совпадает со строкой 14980\n",
                    "output_type": "stream"
                },
                {
                    "name": "stdout",
                    "text": "Строка 5132 совпадает со строкой 14981\n",
                    "output_type": "stream"
                },
                {
                    "name": "stdout",
                    "text": "Строка 5133 совпадает со строкой 14982\n",
                    "output_type": "stream"
                },
                {
                    "name": "stdout",
                    "text": "Строка 5134 совпадает со строкой 14983\n",
                    "output_type": "stream"
                },
                {
                    "name": "stdout",
                    "text": "Строка 5135 совпадает со строкой 14984\n",
                    "output_type": "stream"
                },
                {
                    "name": "stdout",
                    "text": "Строка 5136 совпадает со строкой 14985\n",
                    "output_type": "stream"
                },
                {
                    "name": "stdout",
                    "text": "Строка 5137 совпадает со строкой 14986\n",
                    "output_type": "stream"
                },
                {
                    "name": "stdout",
                    "text": "Строка 5138 совпадает со строкой 14987\n",
                    "output_type": "stream"
                },
                {
                    "name": "stdout",
                    "text": "Строка 5139 совпадает со строкой 14988\n",
                    "output_type": "stream"
                },
                {
                    "name": "stdout",
                    "text": "Строка 5140 совпадает со строкой 14989\n",
                    "output_type": "stream"
                },
                {
                    "name": "stdout",
                    "text": "Строка 5141 совпадает со строкой 14990\n",
                    "output_type": "stream"
                },
                {
                    "name": "stdout",
                    "text": "Строка 5142 совпадает со строкой 14991\n",
                    "output_type": "stream"
                },
                {
                    "name": "stdout",
                    "text": "Строка 5143 совпадает со строкой 14992\n",
                    "output_type": "stream"
                },
                {
                    "name": "stdout",
                    "text": "Строка 5144 совпадает со строкой 14993\n",
                    "output_type": "stream"
                },
                {
                    "name": "stdout",
                    "text": "Строка 5145 совпадает со строкой 14994\n",
                    "output_type": "stream"
                },
                {
                    "name": "stdout",
                    "text": "Строка 5146 совпадает со строкой 14995\n",
                    "output_type": "stream"
                },
                {
                    "name": "stdout",
                    "text": "Строка 5147 совпадает со строкой 14996\n",
                    "output_type": "stream"
                },
                {
                    "name": "stdout",
                    "text": "Строка 5148 совпадает со строкой 14997\n",
                    "output_type": "stream"
                },
                {
                    "name": "stdout",
                    "text": "Строка 5149 совпадает со строкой 14998\n",
                    "output_type": "stream"
                },
                {
                    "name": "stdout",
                    "text": "Строка 5150 совпадает со строкой 14999\n",
                    "output_type": "stream"
                },
                {
                    "name": "stdout",
                    "text": "Строка 5151 совпадает со строкой 15000\n",
                    "output_type": "stream"
                },
                {
                    "name": "stdout",
                    "text": "Строка 5152 совпадает со строкой 15001\n",
                    "output_type": "stream"
                },
                {
                    "name": "stdout",
                    "text": "Строка 5153 совпадает со строкой 15002\n",
                    "output_type": "stream"
                },
                {
                    "name": "stdout",
                    "text": "Строка 5154 совпадает со строкой 15003\n",
                    "output_type": "stream"
                },
                {
                    "name": "stdout",
                    "text": "Строка 5155 совпадает со строкой 15004\n",
                    "output_type": "stream"
                },
                {
                    "name": "stdout",
                    "text": "Строка 5156 совпадает со строкой 15005\n",
                    "output_type": "stream"
                },
                {
                    "name": "stdout",
                    "text": "Строка 5157 совпадает со строкой 15006\n",
                    "output_type": "stream"
                },
                {
                    "name": "stdout",
                    "text": "Строка 5158 совпадает со строкой 15007\n",
                    "output_type": "stream"
                },
                {
                    "name": "stdout",
                    "text": "Строка 5159 совпадает со строкой 15008\n",
                    "output_type": "stream"
                },
                {
                    "name": "stdout",
                    "text": "Строка 5160 совпадает со строкой 15009\n",
                    "output_type": "stream"
                },
                {
                    "name": "stdout",
                    "text": "Строка 5161 совпадает со строкой 15010\n",
                    "output_type": "stream"
                },
                {
                    "name": "stdout",
                    "text": "Строка 5162 совпадает со строкой 15011\n",
                    "output_type": "stream"
                },
                {
                    "name": "stdout",
                    "text": "Строка 5163 совпадает со строкой 15012\n",
                    "output_type": "stream"
                },
                {
                    "name": "stdout",
                    "text": "Строка 5164 совпадает со строкой 15013\n",
                    "output_type": "stream"
                },
                {
                    "name": "stdout",
                    "text": "Строка 5165 совпадает со строкой 15014\n",
                    "output_type": "stream"
                },
                {
                    "name": "stdout",
                    "text": "Строка 5166 совпадает со строкой 15015\n",
                    "output_type": "stream"
                },
                {
                    "name": "stdout",
                    "text": "Строка 5167 совпадает со строкой 15016\n",
                    "output_type": "stream"
                },
                {
                    "name": "stdout",
                    "text": "Строка 5168 совпадает со строкой 15017\n",
                    "output_type": "stream"
                },
                {
                    "name": "stdout",
                    "text": "Строка 5169 совпадает со строкой 15018\n",
                    "output_type": "stream"
                },
                {
                    "name": "stdout",
                    "text": "Строка 5170 совпадает со строкой 15019\n",
                    "output_type": "stream"
                },
                {
                    "name": "stdout",
                    "text": "Строка 5171 совпадает со строкой 15020\n",
                    "output_type": "stream"
                },
                {
                    "name": "stdout",
                    "text": "Строка 5172 совпадает со строкой 15021\n",
                    "output_type": "stream"
                },
                {
                    "name": "stdout",
                    "text": "Строка 5173 совпадает со строкой 15022\n",
                    "output_type": "stream"
                },
                {
                    "name": "stdout",
                    "text": "Строка 5174 совпадает со строкой 15023\n",
                    "output_type": "stream"
                },
                {
                    "name": "stdout",
                    "text": "Строка 5175 совпадает со строкой 15024\n",
                    "output_type": "stream"
                },
                {
                    "name": "stdout",
                    "text": "Строка 5176 совпадает со строкой 15025\n",
                    "output_type": "stream"
                },
                {
                    "name": "stdout",
                    "text": "Строка 5177 совпадает со строкой 15026\n",
                    "output_type": "stream"
                },
                {
                    "name": "stdout",
                    "text": "Строка 5178 совпадает со строкой 15027\n",
                    "output_type": "stream"
                },
                {
                    "name": "stdout",
                    "text": "Строка 5182 совпадает со строкой 15027\n",
                    "output_type": "stream"
                },
                {
                    "name": "stdout",
                    "text": "Строка 5183 совпадает со строкой 15028\n",
                    "output_type": "stream"
                },
                {
                    "name": "stdout",
                    "text": "Строка 5184 совпадает со строкой 15029\n",
                    "output_type": "stream"
                },
                {
                    "name": "stdout",
                    "text": "Строка 5185 совпадает со строкой 15030\n",
                    "output_type": "stream"
                },
                {
                    "name": "stdout",
                    "text": "Строка 5186 совпадает со строкой 15031\n",
                    "output_type": "stream"
                },
                {
                    "name": "stdout",
                    "text": "Строка 5187 совпадает со строкой 15032\n",
                    "output_type": "stream"
                },
                {
                    "name": "stdout",
                    "text": "Строка 5188 совпадает со строкой 15033\n",
                    "output_type": "stream"
                },
                {
                    "name": "stdout",
                    "text": "Строка 5189 совпадает со строкой 15034\n",
                    "output_type": "stream"
                },
                {
                    "name": "stdout",
                    "text": "Строка 5190 совпадает со строкой 15035\n",
                    "output_type": "stream"
                },
                {
                    "name": "stdout",
                    "text": "Строка 5191 совпадает со строкой 15036\n",
                    "output_type": "stream"
                },
                {
                    "name": "stdout",
                    "text": "Строка 5192 совпадает со строкой 15037\n",
                    "output_type": "stream"
                },
                {
                    "name": "stdout",
                    "text": "Строка 5193 совпадает со строкой 15038\n",
                    "output_type": "stream"
                },
                {
                    "name": "stdout",
                    "text": "Строка 5194 совпадает со строкой 15039\n",
                    "output_type": "stream"
                },
                {
                    "name": "stdout",
                    "text": "Строка 5195 совпадает со строкой 15040\n",
                    "output_type": "stream"
                },
                {
                    "name": "stdout",
                    "text": "Строка 5196 совпадает со строкой 15041\n",
                    "output_type": "stream"
                },
                {
                    "name": "stdout",
                    "text": "Строка 5197 совпадает со строкой 15042\n",
                    "output_type": "stream"
                },
                {
                    "name": "stdout",
                    "text": "Строка 5198 совпадает со строкой 15043\n",
                    "output_type": "stream"
                },
                {
                    "name": "stdout",
                    "text": "Строка 5199 совпадает со строкой 15044\n",
                    "output_type": "stream"
                },
                {
                    "name": "stdout",
                    "text": "Строка 5200 совпадает со строкой 15045\n",
                    "output_type": "stream"
                },
                {
                    "name": "stdout",
                    "text": "Строка 5201 совпадает со строкой 15046\n",
                    "output_type": "stream"
                },
                {
                    "name": "stdout",
                    "text": "Строка 5202 совпадает со строкой 15047\n",
                    "output_type": "stream"
                },
                {
                    "name": "stdout",
                    "text": "Строка 5203 совпадает со строкой 15048\n",
                    "output_type": "stream"
                },
                {
                    "name": "stdout",
                    "text": "Строка 5204 совпадает со строкой 15048\n",
                    "output_type": "stream"
                },
                {
                    "name": "stdout",
                    "text": "Строка 5205 совпадает со строкой 15049\n",
                    "output_type": "stream"
                },
                {
                    "name": "stdout",
                    "text": "Строка 5206 совпадает со строкой 15050\n",
                    "output_type": "stream"
                },
                {
                    "name": "stdout",
                    "text": "Строка 5207 совпадает со строкой 15051\n",
                    "output_type": "stream"
                },
                {
                    "name": "stdout",
                    "text": "Строка 5208 совпадает со строкой 15052\n",
                    "output_type": "stream"
                },
                {
                    "name": "stdout",
                    "text": "Строка 5209 совпадает со строкой 15053\n",
                    "output_type": "stream"
                },
                {
                    "name": "stdout",
                    "text": "Строка 5210 совпадает со строкой 15054\n",
                    "output_type": "stream"
                },
                {
                    "name": "stdout",
                    "text": "Строка 5211 совпадает со строкой 15055\n",
                    "output_type": "stream"
                },
                {
                    "name": "stdout",
                    "text": "Строка 5212 совпадает со строкой 15056\n",
                    "output_type": "stream"
                },
                {
                    "name": "stdout",
                    "text": "Строка 5213 совпадает со строкой 15057\n",
                    "output_type": "stream"
                },
                {
                    "name": "stdout",
                    "text": "Строка 5214 совпадает со строкой 15058\n",
                    "output_type": "stream"
                },
                {
                    "name": "stdout",
                    "text": "Строка 5215 совпадает со строкой 15059\n",
                    "output_type": "stream"
                },
                {
                    "name": "stdout",
                    "text": "Строка 5216 совпадает со строкой 15060\n",
                    "output_type": "stream"
                },
                {
                    "name": "stdout",
                    "text": "Строка 5226 совпадает со строкой 15366\n",
                    "output_type": "stream"
                },
                {
                    "name": "stdout",
                    "text": "Строка 5227 совпадает со строкой 15367\n",
                    "output_type": "stream"
                },
                {
                    "name": "stdout",
                    "text": "Строка 5228 совпадает со строкой 15368\n",
                    "output_type": "stream"
                },
                {
                    "name": "stdout",
                    "text": "Строка 5229 совпадает со строкой 15369\n",
                    "output_type": "stream"
                },
                {
                    "name": "stdout",
                    "text": "Строка 5230 совпадает со строкой 15370\n",
                    "output_type": "stream"
                },
                {
                    "name": "stdout",
                    "text": "Строка 5231 совпадает со строкой 15371\n",
                    "output_type": "stream"
                },
                {
                    "name": "stdout",
                    "text": "Строка 5232 совпадает со строкой 15372\n",
                    "output_type": "stream"
                },
                {
                    "name": "stdout",
                    "text": "Строка 5235 совпадает со строкой 15387\n",
                    "output_type": "stream"
                },
                {
                    "name": "stdout",
                    "text": "Строка 5236 совпадает со строкой 15388\n",
                    "output_type": "stream"
                },
                {
                    "name": "stdout",
                    "text": "Строка 5237 совпадает со строкой 15389\n",
                    "output_type": "stream"
                },
                {
                    "name": "stdout",
                    "text": "Строка 5238 совпадает со строкой 15390\n",
                    "output_type": "stream"
                },
                {
                    "name": "stdout",
                    "text": "Строка 5241 совпадает со строкой 15369\n",
                    "output_type": "stream"
                },
                {
                    "name": "stdout",
                    "text": "Строка 5242 совпадает со строкой 15370\n",
                    "output_type": "stream"
                },
                {
                    "name": "stdout",
                    "text": "Строка 5244 совпадает со строкой 15389\n",
                    "output_type": "stream"
                },
                {
                    "name": "stdout",
                    "text": "Строка 5245 совпадает со строкой 15390\n",
                    "output_type": "stream"
                },
                {
                    "name": "stdout",
                    "text": "Строка 5246 совпадает со строкой 15391\n",
                    "output_type": "stream"
                },
                {
                    "name": "stdout",
                    "text": "Строка 5247 совпадает со строкой 15392\n",
                    "output_type": "stream"
                },
                {
                    "name": "stdout",
                    "text": "Строка 5248 совпадает со строкой 15393\n",
                    "output_type": "stream"
                },
                {
                    "name": "stdout",
                    "text": "Строка 5249 совпадает со строкой 15394\n",
                    "output_type": "stream"
                },
                {
                    "name": "stdout",
                    "text": "Строка 5250 совпадает со строкой 15395\n",
                    "output_type": "stream"
                },
                {
                    "name": "stdout",
                    "text": "Строка 5251 совпадает со строкой 15396\n",
                    "output_type": "stream"
                },
                {
                    "name": "stdout",
                    "text": "Строка 5261 совпадает со строкой 15363\n",
                    "output_type": "stream"
                },
                {
                    "name": "stdout",
                    "text": "Строка 5262 совпадает со строкой 15364\n",
                    "output_type": "stream"
                },
                {
                    "name": "stdout",
                    "text": "Строка 5263 совпадает со строкой 15365\n",
                    "output_type": "stream"
                },
                {
                    "name": "stdout",
                    "text": "Строка 5264 совпадает со строкой 15366\n",
                    "output_type": "stream"
                },
                {
                    "name": "stdout",
                    "text": "Строка 5274 совпадает со строкой 11638\n",
                    "output_type": "stream"
                },
                {
                    "name": "stdout",
                    "text": "Строка 5275 совпадает со строкой 11641\n",
                    "output_type": "stream"
                },
                {
                    "name": "stdout",
                    "text": "Строка 5276 совпадает со строкой 11642\n",
                    "output_type": "stream"
                },
                {
                    "name": "stdout",
                    "text": "Строка 5277 совпадает со строкой 11638\n",
                    "output_type": "stream"
                },
                {
                    "name": "stdout",
                    "text": "Строка 5278 совпадает со строкой 11642\n",
                    "output_type": "stream"
                },
                {
                    "name": "stdout",
                    "text": "Строка 5279 совпадает со строкой 11645\n",
                    "output_type": "stream"
                },
                {
                    "name": "stdout",
                    "text": "Строка 5280 совпадает со строкой 11641\n",
                    "output_type": "stream"
                },
                {
                    "name": "stdout",
                    "text": "Строка 5287 совпадает со строкой 11645\n",
                    "output_type": "stream"
                },
                {
                    "name": "stdout",
                    "text": "Строка 5288 совпадает со строкой 11648\n",
                    "output_type": "stream"
                },
                {
                    "name": "stdout",
                    "text": "Строка 5289 совпадает со строкой 11649\n",
                    "output_type": "stream"
                },
                {
                    "name": "stdout",
                    "text": "Строка 5290 совпадает со строкой 11645\n",
                    "output_type": "stream"
                },
                {
                    "name": "stdout",
                    "text": "Строка 5291 совпадает со строкой 11649\n",
                    "output_type": "stream"
                },
                {
                    "name": "stdout",
                    "text": "Строка 5292 совпадает со строкой 11738\n",
                    "output_type": "stream"
                },
                {
                    "name": "stdout",
                    "text": "Строка 5293 совпадает со строкой 11648\n",
                    "output_type": "stream"
                },
                {
                    "name": "stdout",
                    "text": "Строка 5328 совпадает со строкой 11727\n",
                    "output_type": "stream"
                },
                {
                    "name": "stdout",
                    "text": "Строка 5329 совпадает со строкой 11728\n",
                    "output_type": "stream"
                },
                {
                    "name": "stdout",
                    "text": "Строка 5344 совпадает со строкой 11729\n",
                    "output_type": "stream"
                },
                {
                    "name": "stdout",
                    "text": "Строка 5345 совпадает со строкой 11730\n",
                    "output_type": "stream"
                },
                {
                    "name": "stdout",
                    "text": "Строка 5381 совпадает со строкой 11703\n",
                    "output_type": "stream"
                },
                {
                    "name": "stdout",
                    "text": "Строка 5385 совпадает со строкой 11704\n",
                    "output_type": "stream"
                },
                {
                    "name": "stdout",
                    "text": "Строка 5451 совпадает со строкой 11596\n",
                    "output_type": "stream"
                },
                {
                    "name": "stdout",
                    "text": "Строка 5458 совпадает со строкой 11613\n",
                    "output_type": "stream"
                },
                {
                    "name": "stdout",
                    "text": "Строка 5460 совпадает со строкой 11613\n",
                    "output_type": "stream"
                },
                {
                    "name": "stdout",
                    "text": "Строка 5465 совпадает со строкой 11604\n",
                    "output_type": "stream"
                },
                {
                    "name": "stdout",
                    "text": "Строка 5519 совпадает со строкой 5544\n",
                    "output_type": "stream"
                },
                {
                    "name": "stdout",
                    "text": "Строка 5520 совпадает со строкой 5545\n",
                    "output_type": "stream"
                },
                {
                    "name": "stdout",
                    "text": "Строка 5521 совпадает со строкой 5546\n",
                    "output_type": "stream"
                },
                {
                    "name": "stdout",
                    "text": "Строка 5522 совпадает со строкой 5547\n",
                    "output_type": "stream"
                },
                {
                    "name": "stdout",
                    "text": "Строка 5523 совпадает со строкой 5548\n",
                    "output_type": "stream"
                },
                {
                    "name": "stdout",
                    "text": "Строка 5524 совпадает со строкой 5549\n",
                    "output_type": "stream"
                },
                {
                    "name": "stdout",
                    "text": "Строка 5527 совпадает со строкой 5552\n",
                    "output_type": "stream"
                },
                {
                    "name": "stdout",
                    "text": "Строка 5528 совпадает со строкой 5553\n",
                    "output_type": "stream"
                },
                {
                    "name": "stdout",
                    "text": "Строка 5529 совпадает со строкой 5554\n",
                    "output_type": "stream"
                },
                {
                    "name": "stdout",
                    "text": "Строка 5530 совпадает со строкой 5555\n",
                    "output_type": "stream"
                },
                {
                    "name": "stdout",
                    "text": "Строка 5531 совпадает со строкой 5556\n",
                    "output_type": "stream"
                },
                {
                    "name": "stdout",
                    "text": "Строка 5941 совпадает со строкой 15159\n",
                    "output_type": "stream"
                },
                {
                    "name": "stdout",
                    "text": "Строка 5942 совпадает со строкой 15160\n",
                    "output_type": "stream"
                },
                {
                    "name": "stdout",
                    "text": "Строка 5943 совпадает со строкой 15161\n",
                    "output_type": "stream"
                },
                {
                    "name": "stdout",
                    "text": "Строка 5944 совпадает со строкой 15162\n",
                    "output_type": "stream"
                },
                {
                    "name": "stdout",
                    "text": "Строка 5945 совпадает со строкой 15163\n",
                    "output_type": "stream"
                },
                {
                    "name": "stdout",
                    "text": "Строка 5946 совпадает со строкой 15164\n",
                    "output_type": "stream"
                },
                {
                    "name": "stdout",
                    "text": "Строка 5947 совпадает со строкой 15165\n",
                    "output_type": "stream"
                },
                {
                    "name": "stdout",
                    "text": "Строка 5948 совпадает со строкой 15166\n",
                    "output_type": "stream"
                },
                {
                    "name": "stdout",
                    "text": "Строка 5949 совпадает со строкой 15167\n",
                    "output_type": "stream"
                },
                {
                    "name": "stdout",
                    "text": "Строка 5950 совпадает со строкой 15168\n",
                    "output_type": "stream"
                },
                {
                    "name": "stdout",
                    "text": "Строка 5951 совпадает со строкой 15169\n",
                    "output_type": "stream"
                },
                {
                    "name": "stdout",
                    "text": "Строка 5952 совпадает со строкой 15170\n",
                    "output_type": "stream"
                },
                {
                    "name": "stdout",
                    "text": "Строка 5953 совпадает со строкой 15171\n",
                    "output_type": "stream"
                },
                {
                    "name": "stdout",
                    "text": "Строка 5954 совпадает со строкой 15172\n",
                    "output_type": "stream"
                },
                {
                    "name": "stdout",
                    "text": "Строка 5955 совпадает со строкой 15173\n",
                    "output_type": "stream"
                },
                {
                    "name": "stdout",
                    "text": "Строка 5956 совпадает со строкой 15174\n",
                    "output_type": "stream"
                },
                {
                    "name": "stdout",
                    "text": "Строка 5957 совпадает со строкой 15175\n",
                    "output_type": "stream"
                },
                {
                    "name": "stdout",
                    "text": "Строка 5958 совпадает со строкой 15176\n",
                    "output_type": "stream"
                },
                {
                    "name": "stdout",
                    "text": "Строка 5959 совпадает со строкой 15177\n",
                    "output_type": "stream"
                },
                {
                    "name": "stdout",
                    "text": "Строка 5960 совпадает со строкой 15178\n",
                    "output_type": "stream"
                },
                {
                    "name": "stdout",
                    "text": "Строка 5961 совпадает со строкой 15179\n",
                    "output_type": "stream"
                },
                {
                    "name": "stdout",
                    "text": "Строка 5962 совпадает со строкой 15180\n",
                    "output_type": "stream"
                },
                {
                    "name": "stdout",
                    "text": "Строка 5963 совпадает со строкой 15181\n",
                    "output_type": "stream"
                },
                {
                    "name": "stdout",
                    "text": "Строка 5964 совпадает со строкой 15182\n",
                    "output_type": "stream"
                },
                {
                    "name": "stdout",
                    "text": "Строка 5965 совпадает со строкой 15183\n",
                    "output_type": "stream"
                },
                {
                    "name": "stdout",
                    "text": "Строка 5966 совпадает со строкой 15184\n",
                    "output_type": "stream"
                },
                {
                    "name": "stdout",
                    "text": "Строка 5967 совпадает со строкой 15185\n",
                    "output_type": "stream"
                },
                {
                    "name": "stdout",
                    "text": "Строка 5968 совпадает со строкой 15186\n",
                    "output_type": "stream"
                },
                {
                    "name": "stdout",
                    "text": "Строка 5969 совпадает со строкой 15187\n",
                    "output_type": "stream"
                },
                {
                    "name": "stdout",
                    "text": "Строка 5970 совпадает со строкой 15188\n",
                    "output_type": "stream"
                },
                {
                    "name": "stdout",
                    "text": "Строка 5971 совпадает со строкой 15189\n",
                    "output_type": "stream"
                },
                {
                    "name": "stdout",
                    "text": "Строка 5972 совпадает со строкой 15190\n",
                    "output_type": "stream"
                },
                {
                    "name": "stdout",
                    "text": "Строка 5973 совпадает со строкой 15191\n",
                    "output_type": "stream"
                },
                {
                    "name": "stdout",
                    "text": "Строка 5974 совпадает со строкой 15192\n",
                    "output_type": "stream"
                },
                {
                    "name": "stdout",
                    "text": "Строка 5975 совпадает со строкой 15193\n",
                    "output_type": "stream"
                },
                {
                    "name": "stdout",
                    "text": "Строка 5976 совпадает со строкой 15194\n",
                    "output_type": "stream"
                },
                {
                    "name": "stdout",
                    "text": "Строка 5977 совпадает со строкой 15195\n",
                    "output_type": "stream"
                },
                {
                    "name": "stdout",
                    "text": "Строка 5978 совпадает со строкой 15196\n",
                    "output_type": "stream"
                },
                {
                    "name": "stdout",
                    "text": "Строка 5979 совпадает со строкой 15197\n",
                    "output_type": "stream"
                },
                {
                    "name": "stdout",
                    "text": "Строка 5980 совпадает со строкой 15198\n",
                    "output_type": "stream"
                },
                {
                    "name": "stdout",
                    "text": "Строка 5981 совпадает со строкой 15199\n",
                    "output_type": "stream"
                },
                {
                    "name": "stdout",
                    "text": "Строка 5982 совпадает со строкой 15200\n",
                    "output_type": "stream"
                },
                {
                    "name": "stdout",
                    "text": "Строка 5983 совпадает со строкой 15201\n",
                    "output_type": "stream"
                },
                {
                    "name": "stdout",
                    "text": "Строка 5984 совпадает со строкой 15202\n",
                    "output_type": "stream"
                },
                {
                    "name": "stdout",
                    "text": "Строка 5985 совпадает со строкой 15203\n",
                    "output_type": "stream"
                },
                {
                    "name": "stdout",
                    "text": "Строка 5986 совпадает со строкой 15204\n",
                    "output_type": "stream"
                },
                {
                    "name": "stdout",
                    "text": "Строка 5987 совпадает со строкой 15205\n",
                    "output_type": "stream"
                },
                {
                    "name": "stdout",
                    "text": "Строка 5988 совпадает со строкой 15206\n",
                    "output_type": "stream"
                },
                {
                    "name": "stdout",
                    "text": "Строка 5989 совпадает со строкой 15207\n",
                    "output_type": "stream"
                },
                {
                    "name": "stdout",
                    "text": "Строка 5990 совпадает со строкой 15208\n",
                    "output_type": "stream"
                },
                {
                    "name": "stdout",
                    "text": "Строка 5991 совпадает со строкой 15209\n",
                    "output_type": "stream"
                },
                {
                    "name": "stdout",
                    "text": "Строка 5992 совпадает со строкой 15210\n",
                    "output_type": "stream"
                },
                {
                    "name": "stdout",
                    "text": "Строка 5993 совпадает со строкой 15211\n",
                    "output_type": "stream"
                },
                {
                    "name": "stdout",
                    "text": "Строка 5994 совпадает со строкой 15212\n",
                    "output_type": "stream"
                },
                {
                    "name": "stdout",
                    "text": "Строка 5995 совпадает со строкой 15213\n",
                    "output_type": "stream"
                },
                {
                    "name": "stdout",
                    "text": "Строка 5996 совпадает со строкой 15214\n",
                    "output_type": "stream"
                },
                {
                    "name": "stdout",
                    "text": "Строка 5997 совпадает со строкой 15215\n",
                    "output_type": "stream"
                },
                {
                    "name": "stdout",
                    "text": "Строка 5998 совпадает со строкой 15216\n",
                    "output_type": "stream"
                },
                {
                    "name": "stdout",
                    "text": "Строка 5999 совпадает со строкой 15217\n",
                    "output_type": "stream"
                },
                {
                    "name": "stdout",
                    "text": "Строка 6000 совпадает со строкой 15218\n",
                    "output_type": "stream"
                },
                {
                    "name": "stdout",
                    "text": "Строка 6001 совпадает со строкой 15219\n",
                    "output_type": "stream"
                },
                {
                    "name": "stdout",
                    "text": "Строка 6002 совпадает со строкой 15220\n",
                    "output_type": "stream"
                },
                {
                    "name": "stdout",
                    "text": "Строка 6003 совпадает со строкой 15221\n",
                    "output_type": "stream"
                },
                {
                    "name": "stdout",
                    "text": "Строка 6004 совпадает со строкой 15222\n",
                    "output_type": "stream"
                },
                {
                    "name": "stdout",
                    "text": "Строка 6005 совпадает со строкой 15223\n",
                    "output_type": "stream"
                },
                {
                    "name": "stdout",
                    "text": "Строка 6006 совпадает со строкой 15224\n",
                    "output_type": "stream"
                },
                {
                    "name": "stdout",
                    "text": "Строка 6007 совпадает со строкой 15225\n",
                    "output_type": "stream"
                },
                {
                    "name": "stdout",
                    "text": "Строка 6008 совпадает со строкой 15226\n",
                    "output_type": "stream"
                },
                {
                    "name": "stdout",
                    "text": "Строка 6009 совпадает со строкой 15227\n",
                    "output_type": "stream"
                },
                {
                    "name": "stdout",
                    "text": "Строка 6011 совпадает со строкой 14937\n",
                    "output_type": "stream"
                },
                {
                    "name": "stdout",
                    "text": "Строка 6012 совпадает со строкой 14938\n",
                    "output_type": "stream"
                },
                {
                    "name": "stdout",
                    "text": "Строка 6013 совпадает со строкой 14939\n",
                    "output_type": "stream"
                },
                {
                    "name": "stdout",
                    "text": "Строка 6014 совпадает со строкой 14940\n",
                    "output_type": "stream"
                },
                {
                    "name": "stdout",
                    "text": "Строка 6015 совпадает со строкой 14941\n",
                    "output_type": "stream"
                },
                {
                    "name": "stdout",
                    "text": "Строка 6016 совпадает со строкой 14942\n",
                    "output_type": "stream"
                },
                {
                    "name": "stdout",
                    "text": "Строка 6017 совпадает со строкой 14943\n",
                    "output_type": "stream"
                },
                {
                    "name": "stdout",
                    "text": "Строка 6018 совпадает со строкой 14944\n",
                    "output_type": "stream"
                },
                {
                    "name": "stdout",
                    "text": "Строка 6019 совпадает со строкой 14945\n",
                    "output_type": "stream"
                },
                {
                    "name": "stdout",
                    "text": "Строка 6020 совпадает со строкой 14946\n",
                    "output_type": "stream"
                },
                {
                    "name": "stdout",
                    "text": "Строка 6021 совпадает со строкой 14947\n",
                    "output_type": "stream"
                },
                {
                    "name": "stdout",
                    "text": "Строка 6022 совпадает со строкой 14948\n",
                    "output_type": "stream"
                },
                {
                    "name": "stdout",
                    "text": "Строка 6023 совпадает со строкой 14949\n",
                    "output_type": "stream"
                },
                {
                    "name": "stdout",
                    "text": "Строка 6024 совпадает со строкой 14950\n",
                    "output_type": "stream"
                },
                {
                    "name": "stdout",
                    "text": "Строка 6025 совпадает со строкой 14951\n",
                    "output_type": "stream"
                },
                {
                    "name": "stdout",
                    "text": "Строка 6026 совпадает со строкой 14952\n",
                    "output_type": "stream"
                },
                {
                    "name": "stdout",
                    "text": "Строка 6027 совпадает со строкой 14953\n",
                    "output_type": "stream"
                },
                {
                    "name": "stdout",
                    "text": "Строка 6028 совпадает со строкой 14954\n",
                    "output_type": "stream"
                },
                {
                    "name": "stdout",
                    "text": "Строка 6029 совпадает со строкой 14955\n",
                    "output_type": "stream"
                },
                {
                    "name": "stdout",
                    "text": "Строка 6030 совпадает со строкой 14956\n",
                    "output_type": "stream"
                },
                {
                    "name": "stdout",
                    "text": "Строка 6031 совпадает со строкой 14957\n",
                    "output_type": "stream"
                },
                {
                    "name": "stdout",
                    "text": "Строка 6032 совпадает со строкой 14958\n",
                    "output_type": "stream"
                },
                {
                    "name": "stdout",
                    "text": "Строка 6033 совпадает со строкой 14959\n",
                    "output_type": "stream"
                },
                {
                    "name": "stdout",
                    "text": "Строка 6034 совпадает со строкой 14960\n",
                    "output_type": "stream"
                },
                {
                    "name": "stdout",
                    "text": "Строка 6035 совпадает со строкой 14961\n",
                    "output_type": "stream"
                },
                {
                    "name": "stdout",
                    "text": "Строка 6036 совпадает со строкой 14962\n",
                    "output_type": "stream"
                },
                {
                    "name": "stdout",
                    "text": "Строка 6037 совпадает со строкой 14963\n",
                    "output_type": "stream"
                },
                {
                    "name": "stdout",
                    "text": "Строка 6038 совпадает со строкой 14964\n",
                    "output_type": "stream"
                },
                {
                    "name": "stdout",
                    "text": "Строка 6039 совпадает со строкой 14965\n",
                    "output_type": "stream"
                },
                {
                    "name": "stdout",
                    "text": "Строка 6040 совпадает со строкой 14966\n",
                    "output_type": "stream"
                },
                {
                    "name": "stdout",
                    "text": "Строка 6041 совпадает со строкой 14967\n",
                    "output_type": "stream"
                },
                {
                    "name": "stdout",
                    "text": "Строка 6042 совпадает со строкой 14968\n",
                    "output_type": "stream"
                },
                {
                    "name": "stdout",
                    "text": "Строка 6043 совпадает со строкой 14969\n",
                    "output_type": "stream"
                },
                {
                    "name": "stdout",
                    "text": "Строка 6044 совпадает со строкой 14970\n",
                    "output_type": "stream"
                },
                {
                    "name": "stdout",
                    "text": "Строка 6045 совпадает со строкой 14971\n",
                    "output_type": "stream"
                },
                {
                    "name": "stdout",
                    "text": "Строка 6046 совпадает со строкой 14972\n",
                    "output_type": "stream"
                },
                {
                    "name": "stdout",
                    "text": "Строка 6047 совпадает со строкой 14973\n",
                    "output_type": "stream"
                },
                {
                    "name": "stdout",
                    "text": "Строка 6048 совпадает со строкой 14974\n",
                    "output_type": "stream"
                },
                {
                    "name": "stdout",
                    "text": "Строка 6049 совпадает со строкой 14975\n",
                    "output_type": "stream"
                },
                {
                    "name": "stdout",
                    "text": "Строка 6050 совпадает со строкой 14976\n",
                    "output_type": "stream"
                },
                {
                    "name": "stdout",
                    "text": "Строка 6051 совпадает со строкой 14977\n",
                    "output_type": "stream"
                },
                {
                    "name": "stdout",
                    "text": "Строка 6052 совпадает со строкой 14978\n",
                    "output_type": "stream"
                },
                {
                    "name": "stdout",
                    "text": "Строка 6053 совпадает со строкой 14979\n",
                    "output_type": "stream"
                },
                {
                    "name": "stdout",
                    "text": "Строка 6054 совпадает со строкой 14980\n",
                    "output_type": "stream"
                },
                {
                    "name": "stdout",
                    "text": "Строка 6055 совпадает со строкой 14981\n",
                    "output_type": "stream"
                },
                {
                    "name": "stdout",
                    "text": "Строка 6056 совпадает со строкой 14982\n",
                    "output_type": "stream"
                },
                {
                    "name": "stdout",
                    "text": "Строка 6057 совпадает со строкой 14983\n",
                    "output_type": "stream"
                },
                {
                    "name": "stdout",
                    "text": "Строка 6058 совпадает со строкой 14984\n",
                    "output_type": "stream"
                },
                {
                    "name": "stdout",
                    "text": "Строка 6059 совпадает со строкой 14985\n",
                    "output_type": "stream"
                },
                {
                    "name": "stdout",
                    "text": "Строка 6060 совпадает со строкой 14986\n",
                    "output_type": "stream"
                },
                {
                    "name": "stdout",
                    "text": "Строка 6061 совпадает со строкой 14987\n",
                    "output_type": "stream"
                },
                {
                    "name": "stdout",
                    "text": "Строка 6062 совпадает со строкой 14988\n",
                    "output_type": "stream"
                },
                {
                    "name": "stdout",
                    "text": "Строка 6063 совпадает со строкой 14989\n",
                    "output_type": "stream"
                },
                {
                    "name": "stdout",
                    "text": "Строка 6064 совпадает со строкой 14990\n",
                    "output_type": "stream"
                },
                {
                    "name": "stdout",
                    "text": "Строка 6065 совпадает со строкой 14991\n",
                    "output_type": "stream"
                },
                {
                    "name": "stdout",
                    "text": "Строка 6066 совпадает со строкой 14992\n",
                    "output_type": "stream"
                },
                {
                    "name": "stdout",
                    "text": "Строка 6067 совпадает со строкой 14993\n",
                    "output_type": "stream"
                },
                {
                    "name": "stdout",
                    "text": "Строка 6068 совпадает со строкой 14994\n",
                    "output_type": "stream"
                },
                {
                    "name": "stdout",
                    "text": "Строка 6070 совпадает со строкой 14995\n",
                    "output_type": "stream"
                },
                {
                    "name": "stdout",
                    "text": "Строка 6071 совпадает со строкой 14996\n",
                    "output_type": "stream"
                },
                {
                    "name": "stdout",
                    "text": "Строка 6072 совпадает со строкой 14997\n",
                    "output_type": "stream"
                },
                {
                    "name": "stdout",
                    "text": "Строка 6073 совпадает со строкой 14998\n",
                    "output_type": "stream"
                },
                {
                    "name": "stdout",
                    "text": "Строка 6074 совпадает со строкой 14999\n",
                    "output_type": "stream"
                },
                {
                    "name": "stdout",
                    "text": "Строка 6075 совпадает со строкой 15000\n",
                    "output_type": "stream"
                },
                {
                    "name": "stdout",
                    "text": "Строка 6077 совпадает со строкой 15002\n",
                    "output_type": "stream"
                },
                {
                    "name": "stdout",
                    "text": "Строка 6078 совпадает со строкой 15003\n",
                    "output_type": "stream"
                },
                {
                    "name": "stdout",
                    "text": "Строка 6079 совпадает со строкой 15004\n",
                    "output_type": "stream"
                },
                {
                    "name": "stdout",
                    "text": "Строка 6080 совпадает со строкой 15005\n",
                    "output_type": "stream"
                },
                {
                    "name": "stdout",
                    "text": "Строка 6081 совпадает со строкой 15006\n",
                    "output_type": "stream"
                },
                {
                    "name": "stdout",
                    "text": "Строка 6082 совпадает со строкой 15007\n",
                    "output_type": "stream"
                },
                {
                    "name": "stdout",
                    "text": "Строка 6083 совпадает со строкой 15008\n",
                    "output_type": "stream"
                },
                {
                    "name": "stdout",
                    "text": "Строка 6084 совпадает со строкой 15009\n",
                    "output_type": "stream"
                },
                {
                    "name": "stdout",
                    "text": "Строка 6085 совпадает со строкой 15010\n",
                    "output_type": "stream"
                },
                {
                    "name": "stdout",
                    "text": "Строка 6086 совпадает со строкой 15011\n",
                    "output_type": "stream"
                },
                {
                    "name": "stdout",
                    "text": "Строка 6087 совпадает со строкой 15012\n",
                    "output_type": "stream"
                },
                {
                    "name": "stdout",
                    "text": "Строка 6194 совпадает со строкой 6812\n",
                    "output_type": "stream"
                },
                {
                    "name": "stdout",
                    "text": "Строка 6194 совпадает со строкой 12552\n",
                    "output_type": "stream"
                },
                {
                    "name": "stdout",
                    "text": "Строка 6200 совпадает со строкой 6802\n",
                    "output_type": "stream"
                },
                {
                    "name": "stdout",
                    "text": "Строка 6200 совпадает со строкой 12542\n",
                    "output_type": "stream"
                },
                {
                    "name": "stdout",
                    "text": "Строка 6202 совпадает со строкой 6801\n",
                    "output_type": "stream"
                },
                {
                    "name": "stdout",
                    "text": "Строка 6202 совпадает со строкой 12541\n",
                    "output_type": "stream"
                },
                {
                    "name": "stdout",
                    "text": "Строка 6203 совпадает со строкой 6800\n",
                    "output_type": "stream"
                },
                {
                    "name": "stdout",
                    "text": "Строка 6203 совпадает со строкой 12540\n",
                    "output_type": "stream"
                },
                {
                    "name": "stdout",
                    "text": "Строка 6204 совпадает со строкой 6799\n",
                    "output_type": "stream"
                },
                {
                    "name": "stdout",
                    "text": "Строка 6204 совпадает со строкой 12539\n",
                    "output_type": "stream"
                },
                {
                    "name": "stdout",
                    "text": "Строка 6205 совпадает со строкой 6799\n",
                    "output_type": "stream"
                },
                {
                    "name": "stdout",
                    "text": "Строка 6205 совпадает со строкой 12539\n",
                    "output_type": "stream"
                },
                {
                    "name": "stdout",
                    "text": "Строка 6222 совпадает со строкой 6804\n",
                    "output_type": "stream"
                },
                {
                    "name": "stdout",
                    "text": "Строка 6222 совпадает со строкой 12544\n",
                    "output_type": "stream"
                },
                {
                    "name": "stdout",
                    "text": "Строка 6223 совпадает со строкой 6805\n",
                    "output_type": "stream"
                },
                {
                    "name": "stdout",
                    "text": "Строка 6223 совпадает со строкой 12545\n",
                    "output_type": "stream"
                },
                {
                    "name": "stdout",
                    "text": "Строка 6224 совпадает со строкой 6806\n",
                    "output_type": "stream"
                },
                {
                    "name": "stdout",
                    "text": "Строка 6224 совпадает со строкой 12546\n",
                    "output_type": "stream"
                },
                {
                    "name": "stdout",
                    "text": "Строка 6225 совпадает со строкой 6807\n",
                    "output_type": "stream"
                },
                {
                    "name": "stdout",
                    "text": "Строка 6225 совпадает со строкой 12547\n",
                    "output_type": "stream"
                },
                {
                    "name": "stdout",
                    "text": "Строка 6226 совпадает со строкой 6808\n",
                    "output_type": "stream"
                },
                {
                    "name": "stdout",
                    "text": "Строка 6226 совпадает со строкой 12548\n",
                    "output_type": "stream"
                },
                {
                    "name": "stdout",
                    "text": "Строка 6227 совпадает со строкой 6809\n",
                    "output_type": "stream"
                },
                {
                    "name": "stdout",
                    "text": "Строка 6227 совпадает со строкой 12549\n",
                    "output_type": "stream"
                },
                {
                    "name": "stdout",
                    "text": "Строка 6228 совпадает со строкой 6810\n",
                    "output_type": "stream"
                },
                {
                    "name": "stdout",
                    "text": "Строка 6228 совпадает со строкой 12550\n",
                    "output_type": "stream"
                },
                {
                    "name": "stdout",
                    "text": "Строка 6229 совпадает со строкой 6811\n",
                    "output_type": "stream"
                },
                {
                    "name": "stdout",
                    "text": "Строка 6229 совпадает со строкой 12551\n",
                    "output_type": "stream"
                },
                {
                    "name": "stdout",
                    "text": "Строка 6230 совпадает со строкой 6812\n",
                    "output_type": "stream"
                },
                {
                    "name": "stdout",
                    "text": "Строка 6230 совпадает со строкой 12552\n",
                    "output_type": "stream"
                },
                {
                    "name": "stdout",
                    "text": "Строка 6234 совпадает со строкой 6813\n",
                    "output_type": "stream"
                },
                {
                    "name": "stdout",
                    "text": "Строка 6234 совпадает со строкой 12553\n",
                    "output_type": "stream"
                },
                {
                    "name": "stdout",
                    "text": "Строка 6244 совпадает со строкой 6820\n",
                    "output_type": "stream"
                },
                {
                    "name": "stdout",
                    "text": "Строка 6244 совпадает со строкой 12560\n",
                    "output_type": "stream"
                },
                {
                    "name": "stdout",
                    "text": "Строка 6246 совпадает со строкой 6819\n",
                    "output_type": "stream"
                },
                {
                    "name": "stdout",
                    "text": "Строка 6246 совпадает со строкой 12559\n",
                    "output_type": "stream"
                },
                {
                    "name": "stdout",
                    "text": "Строка 6251 совпадает со строкой 6819\n",
                    "output_type": "stream"
                },
                {
                    "name": "stdout",
                    "text": "Строка 6251 совпадает со строкой 12559\n",
                    "output_type": "stream"
                },
                {
                    "name": "stdout",
                    "text": "Строка 6255 совпадает со строкой 6818\n",
                    "output_type": "stream"
                },
                {
                    "name": "stdout",
                    "text": "Строка 6255 совпадает со строкой 12558\n",
                    "output_type": "stream"
                },
                {
                    "name": "stdout",
                    "text": "Строка 6258 совпадает со строкой 6819\n",
                    "output_type": "stream"
                },
                {
                    "name": "stdout",
                    "text": "Строка 6258 совпадает со строкой 12559\n",
                    "output_type": "stream"
                },
                {
                    "name": "stdout",
                    "text": "Строка 6277 совпадает со строкой 6820\n",
                    "output_type": "stream"
                },
                {
                    "name": "stdout",
                    "text": "Строка 6277 совпадает со строкой 12560\n",
                    "output_type": "stream"
                },
                {
                    "name": "stdout",
                    "text": "Строка 6278 совпадает со строкой 6821\n",
                    "output_type": "stream"
                },
                {
                    "name": "stdout",
                    "text": "Строка 6278 совпадает со строкой 12561\n",
                    "output_type": "stream"
                },
                {
                    "name": "stdout",
                    "text": "Строка 6279 совпадает со строкой 6822\n",
                    "output_type": "stream"
                },
                {
                    "name": "stdout",
                    "text": "Строка 6279 совпадает со строкой 12562\n",
                    "output_type": "stream"
                },
                {
                    "name": "stdout",
                    "text": "Строка 6280 совпадает со строкой 6823\n",
                    "output_type": "stream"
                },
                {
                    "name": "stdout",
                    "text": "Строка 6280 совпадает со строкой 12563\n",
                    "output_type": "stream"
                },
                {
                    "name": "stdout",
                    "text": "Строка 6281 совпадает со строкой 6824\n",
                    "output_type": "stream"
                },
                {
                    "name": "stdout",
                    "text": "Строка 6281 совпадает со строкой 12564\n",
                    "output_type": "stream"
                },
                {
                    "name": "stdout",
                    "text": "Строка 6282 совпадает со строкой 6825\n",
                    "output_type": "stream"
                },
                {
                    "name": "stdout",
                    "text": "Строка 6282 совпадает со строкой 12565\n",
                    "output_type": "stream"
                },
                {
                    "name": "stdout",
                    "text": "Строка 6283 совпадает со строкой 6826\n",
                    "output_type": "stream"
                },
                {
                    "name": "stdout",
                    "text": "Строка 6283 совпадает со строкой 12566\n",
                    "output_type": "stream"
                },
                {
                    "name": "stdout",
                    "text": "Строка 6284 совпадает со строкой 6827\n",
                    "output_type": "stream"
                },
                {
                    "name": "stdout",
                    "text": "Строка 6284 совпадает со строкой 12567\n",
                    "output_type": "stream"
                },
                {
                    "name": "stdout",
                    "text": "Строка 6285 совпадает со строкой 6828\n",
                    "output_type": "stream"
                },
                {
                    "name": "stdout",
                    "text": "Строка 6285 совпадает со строкой 12568\n",
                    "output_type": "stream"
                },
                {
                    "name": "stdout",
                    "text": "Строка 6286 совпадает со строкой 6829\n",
                    "output_type": "stream"
                },
                {
                    "name": "stdout",
                    "text": "Строка 6286 совпадает со строкой 12569\n",
                    "output_type": "stream"
                },
                {
                    "name": "stdout",
                    "text": "Строка 6304 совпадает со строкой 6835\n",
                    "output_type": "stream"
                },
                {
                    "name": "stdout",
                    "text": "Строка 6304 совпадает со строкой 12575\n",
                    "output_type": "stream"
                },
                {
                    "name": "stdout",
                    "text": "Строка 6305 совпадает со строкой 6836\n",
                    "output_type": "stream"
                },
                {
                    "name": "stdout",
                    "text": "Строка 6305 совпадает со строкой 12576\n",
                    "output_type": "stream"
                },
                {
                    "name": "stdout",
                    "text": "Строка 6306 совпадает со строкой 6836\n",
                    "output_type": "stream"
                },
                {
                    "name": "stdout",
                    "text": "Строка 6306 совпадает со строкой 12576\n",
                    "output_type": "stream"
                },
                {
                    "name": "stdout",
                    "text": "Строка 6307 совпадает со строкой 6837\n",
                    "output_type": "stream"
                },
                {
                    "name": "stdout",
                    "text": "Строка 6307 совпадает со строкой 12577\n",
                    "output_type": "stream"
                },
                {
                    "name": "stdout",
                    "text": "Строка 6308 совпадает со строкой 6837\n",
                    "output_type": "stream"
                },
                {
                    "name": "stdout",
                    "text": "Строка 6308 совпадает со строкой 12577\n",
                    "output_type": "stream"
                },
                {
                    "name": "stdout",
                    "text": "Строка 6323 совпадает со строкой 6838\n",
                    "output_type": "stream"
                },
                {
                    "name": "stdout",
                    "text": "Строка 6323 совпадает со строкой 12578\n",
                    "output_type": "stream"
                },
                {
                    "name": "stdout",
                    "text": "Строка 6326 совпадает со строкой 6838\n",
                    "output_type": "stream"
                },
                {
                    "name": "stdout",
                    "text": "Строка 6326 совпадает со строкой 12578\n",
                    "output_type": "stream"
                },
                {
                    "name": "stdout",
                    "text": "Строка 6331 совпадает со строкой 6839\n",
                    "output_type": "stream"
                },
                {
                    "name": "stdout",
                    "text": "Строка 6331 совпадает со строкой 12579\n",
                    "output_type": "stream"
                },
                {
                    "name": "stdout",
                    "text": "Строка 6332 совпадает со строкой 6840\n",
                    "output_type": "stream"
                },
                {
                    "name": "stdout",
                    "text": "Строка 6332 совпадает со строкой 12580\n",
                    "output_type": "stream"
                },
                {
                    "name": "stdout",
                    "text": "Строка 6337 совпадает со строкой 6841\n",
                    "output_type": "stream"
                },
                {
                    "name": "stdout",
                    "text": "Строка 6337 совпадает со строкой 12581\n",
                    "output_type": "stream"
                },
                {
                    "name": "stdout",
                    "text": "Строка 6341 совпадает со строкой 6842\n",
                    "output_type": "stream"
                },
                {
                    "name": "stdout",
                    "text": "Строка 6341 совпадает со строкой 12582\n",
                    "output_type": "stream"
                },
                {
                    "name": "stdout",
                    "text": "Строка 6342 совпадает со строкой 6843\n",
                    "output_type": "stream"
                },
                {
                    "name": "stdout",
                    "text": "Строка 6342 совпадает со строкой 12583\n",
                    "output_type": "stream"
                },
                {
                    "name": "stdout",
                    "text": "Строка 6353 совпадает со строкой 6849\n",
                    "output_type": "stream"
                },
                {
                    "name": "stdout",
                    "text": "Строка 6353 совпадает со строкой 12589\n",
                    "output_type": "stream"
                },
                {
                    "name": "stdout",
                    "text": "Строка 6357 совпадает со строкой 6848\n",
                    "output_type": "stream"
                },
                {
                    "name": "stdout",
                    "text": "Строка 6357 совпадает со строкой 12588\n",
                    "output_type": "stream"
                },
                {
                    "name": "stdout",
                    "text": "Строка 6358 совпадает со строкой 6849\n",
                    "output_type": "stream"
                },
                {
                    "name": "stdout",
                    "text": "Строка 6358 совпадает со строкой 12589\n",
                    "output_type": "stream"
                },
                {
                    "name": "stdout",
                    "text": "Строка 6359 совпадает со строкой 6850\n",
                    "output_type": "stream"
                },
                {
                    "name": "stdout",
                    "text": "Строка 6359 совпадает со строкой 12590\n",
                    "output_type": "stream"
                },
                {
                    "name": "stdout",
                    "text": "Строка 6369 совпадает со строкой 6850\n",
                    "output_type": "stream"
                },
                {
                    "name": "stdout",
                    "text": "Строка 6369 совпадает со строкой 12590\n",
                    "output_type": "stream"
                },
                {
                    "name": "stdout",
                    "text": "Строка 6373 совпадает со строкой 6849\n",
                    "output_type": "stream"
                },
                {
                    "name": "stdout",
                    "text": "Строка 6373 совпадает со строкой 12589\n",
                    "output_type": "stream"
                },
                {
                    "name": "stdout",
                    "text": "Строка 6377 совпадает со строкой 6849\n",
                    "output_type": "stream"
                },
                {
                    "name": "stdout",
                    "text": "Строка 6377 совпадает со строкой 12589\n",
                    "output_type": "stream"
                },
                {
                    "name": "stdout",
                    "text": "Строка 6378 совпадает со строкой 6848\n",
                    "output_type": "stream"
                },
                {
                    "name": "stdout",
                    "text": "Строка 6378 совпадает со строкой 12588\n",
                    "output_type": "stream"
                },
                {
                    "name": "stdout",
                    "text": "Строка 6382 совпадает со строкой 6848\n",
                    "output_type": "stream"
                },
                {
                    "name": "stdout",
                    "text": "Строка 6382 совпадает со строкой 12588\n",
                    "output_type": "stream"
                },
                {
                    "name": "stdout",
                    "text": "Строка 6402 совпадает со строкой 6847\n",
                    "output_type": "stream"
                },
                {
                    "name": "stdout",
                    "text": "Строка 6402 совпадает со строкой 12587\n",
                    "output_type": "stream"
                },
                {
                    "name": "stdout",
                    "text": "Строка 6405 совпадает со строкой 6847\n",
                    "output_type": "stream"
                },
                {
                    "name": "stdout",
                    "text": "Строка 6405 совпадает со строкой 12587\n",
                    "output_type": "stream"
                },
                {
                    "name": "stdout",
                    "text": "Строка 6406 совпадает со строкой 6848\n",
                    "output_type": "stream"
                },
                {
                    "name": "stdout",
                    "text": "Строка 6406 совпадает со строкой 12588\n",
                    "output_type": "stream"
                },
                {
                    "name": "stdout",
                    "text": "Строка 6407 совпадает со строкой 6849\n",
                    "output_type": "stream"
                },
                {
                    "name": "stdout",
                    "text": "Строка 6407 совпадает со строкой 12589\n",
                    "output_type": "stream"
                },
                {
                    "name": "stdout",
                    "text": "Строка 6429 совпадает со строкой 6852\n",
                    "output_type": "stream"
                },
                {
                    "name": "stdout",
                    "text": "Строка 6429 совпадает со строкой 12592\n",
                    "output_type": "stream"
                },
                {
                    "name": "stdout",
                    "text": "Строка 6430 совпадает со строкой 6857\n",
                    "output_type": "stream"
                },
                {
                    "name": "stdout",
                    "text": "Строка 6430 совпадает со строкой 12597\n",
                    "output_type": "stream"
                },
                {
                    "name": "stdout",
                    "text": "Строка 6431 совпадает со строкой 6860\n",
                    "output_type": "stream"
                },
                {
                    "name": "stdout",
                    "text": "Строка 6431 совпадает со строкой 12600\n",
                    "output_type": "stream"
                },
                {
                    "name": "stdout",
                    "text": "Строка 6432 совпадает со строкой 6867\n",
                    "output_type": "stream"
                },
                {
                    "name": "stdout",
                    "text": "Строка 6432 совпадает со строкой 12607\n",
                    "output_type": "stream"
                },
                {
                    "name": "stdout",
                    "text": "Строка 6433 совпадает со строкой 6874\n",
                    "output_type": "stream"
                },
                {
                    "name": "stdout",
                    "text": "Строка 6433 совпадает со строкой 12614\n",
                    "output_type": "stream"
                },
                {
                    "name": "stdout",
                    "text": "Строка 6434 совпадает со строкой 6875\n",
                    "output_type": "stream"
                },
                {
                    "name": "stdout",
                    "text": "Строка 6434 совпадает со строкой 12615\n",
                    "output_type": "stream"
                },
                {
                    "name": "stdout",
                    "text": "Строка 6435 совпадает со строкой 6876\n",
                    "output_type": "stream"
                },
                {
                    "name": "stdout",
                    "text": "Строка 6435 совпадает со строкой 12616\n",
                    "output_type": "stream"
                },
                {
                    "name": "stdout",
                    "text": "Строка 6436 совпадает со строкой 6877\n",
                    "output_type": "stream"
                },
                {
                    "name": "stdout",
                    "text": "Строка 6436 совпадает со строкой 12617\n",
                    "output_type": "stream"
                },
                {
                    "name": "stdout",
                    "text": "Строка 6438 совпадает со строкой 6878\n",
                    "output_type": "stream"
                },
                {
                    "name": "stdout",
                    "text": "Строка 6438 совпадает со строкой 12618\n",
                    "output_type": "stream"
                },
                {
                    "name": "stdout",
                    "text": "Строка 6441 совпадает со строкой 6883\n",
                    "output_type": "stream"
                },
                {
                    "name": "stdout",
                    "text": "Строка 6441 совпадает со строкой 12623\n",
                    "output_type": "stream"
                },
                {
                    "name": "stdout",
                    "text": "Строка 6442 совпадает со строкой 6884\n",
                    "output_type": "stream"
                },
                {
                    "name": "stdout",
                    "text": "Строка 6442 совпадает со строкой 12624\n",
                    "output_type": "stream"
                },
                {
                    "name": "stdout",
                    "text": "Строка 6443 совпадает со строкой 6885\n",
                    "output_type": "stream"
                },
                {
                    "name": "stdout",
                    "text": "Строка 6443 совпадает со строкой 12625\n",
                    "output_type": "stream"
                },
                {
                    "name": "stdout",
                    "text": "Строка 6444 совпадает со строкой 6886\n",
                    "output_type": "stream"
                },
                {
                    "name": "stdout",
                    "text": "Строка 6444 совпадает со строкой 12626\n",
                    "output_type": "stream"
                },
                {
                    "name": "stdout",
                    "text": "Строка 6445 совпадает со строкой 6887\n",
                    "output_type": "stream"
                },
                {
                    "name": "stdout",
                    "text": "Строка 6445 совпадает со строкой 12627\n",
                    "output_type": "stream"
                },
                {
                    "name": "stdout",
                    "text": "Строка 6446 совпадает со строкой 6888\n",
                    "output_type": "stream"
                },
                {
                    "name": "stdout",
                    "text": "Строка 6446 совпадает со строкой 12628\n",
                    "output_type": "stream"
                },
                {
                    "name": "stdout",
                    "text": "Строка 6447 совпадает со строкой 6889\n",
                    "output_type": "stream"
                },
                {
                    "name": "stdout",
                    "text": "Строка 6447 совпадает со строкой 12629\n",
                    "output_type": "stream"
                },
                {
                    "name": "stdout",
                    "text": "Строка 6448 совпадает со строкой 6890\n",
                    "output_type": "stream"
                },
                {
                    "name": "stdout",
                    "text": "Строка 6448 совпадает со строкой 12630\n",
                    "output_type": "stream"
                },
                {
                    "name": "stdout",
                    "text": "Строка 6449 совпадает со строкой 6891\n",
                    "output_type": "stream"
                },
                {
                    "name": "stdout",
                    "text": "Строка 6449 совпадает со строкой 12631\n",
                    "output_type": "stream"
                },
                {
                    "name": "stdout",
                    "text": "Строка 6450 совпадает со строкой 6892\n",
                    "output_type": "stream"
                },
                {
                    "name": "stdout",
                    "text": "Строка 6450 совпадает со строкой 12632\n",
                    "output_type": "stream"
                },
                {
                    "name": "stdout",
                    "text": "Строка 6451 совпадает со строкой 6893\n",
                    "output_type": "stream"
                },
                {
                    "name": "stdout",
                    "text": "Строка 6451 совпадает со строкой 12633\n",
                    "output_type": "stream"
                },
                {
                    "name": "stdout",
                    "text": "Строка 6452 совпадает со строкой 6894\n",
                    "output_type": "stream"
                },
                {
                    "name": "stdout",
                    "text": "Строка 6452 совпадает со строкой 12634\n",
                    "output_type": "stream"
                },
                {
                    "name": "stdout",
                    "text": "Строка 6453 совпадает со строкой 6895\n",
                    "output_type": "stream"
                },
                {
                    "name": "stdout",
                    "text": "Строка 6453 совпадает со строкой 12635\n",
                    "output_type": "stream"
                },
                {
                    "name": "stdout",
                    "text": "Строка 6458 совпадает со строкой 6900\n",
                    "output_type": "stream"
                },
                {
                    "name": "stdout",
                    "text": "Строка 6458 совпадает со строкой 12640\n",
                    "output_type": "stream"
                },
                {
                    "name": "stdout",
                    "text": "Строка 6459 совпадает со строкой 6461\n",
                    "output_type": "stream"
                },
                {
                    "name": "stdout",
                    "text": "Строка 6459 совпадает со строкой 6462\n",
                    "output_type": "stream"
                },
                {
                    "name": "stdout",
                    "text": "Строка 6459 совпадает со строкой 6463\n",
                    "output_type": "stream"
                },
                {
                    "name": "stdout",
                    "text": "Строка 6459 совпадает со строкой 6464\n",
                    "output_type": "stream"
                },
                {
                    "name": "stdout",
                    "text": "Строка 6459 совпадает со строкой 6469\n",
                    "output_type": "stream"
                },
                {
                    "name": "stdout",
                    "text": "Строка 6459 совпадает со строкой 6470\n",
                    "output_type": "stream"
                },
                {
                    "name": "stdout",
                    "text": "Строка 6459 совпадает со строкой 6471\n",
                    "output_type": "stream"
                },
                {
                    "name": "stdout",
                    "text": "Строка 6459 совпадает со строкой 6472\n",
                    "output_type": "stream"
                },
                {
                    "name": "stdout",
                    "text": "Строка 6459 совпадает со строкой 6473\n",
                    "output_type": "stream"
                },
                {
                    "name": "stdout",
                    "text": "Строка 6459 совпадает со строкой 6474\n",
                    "output_type": "stream"
                },
                {
                    "name": "stdout",
                    "text": "Строка 6459 совпадает со строкой 6475\n",
                    "output_type": "stream"
                },
                {
                    "name": "stdout",
                    "text": "Строка 6459 совпадает со строкой 6476\n",
                    "output_type": "stream"
                },
                {
                    "name": "stdout",
                    "text": "Строка 6459 совпадает со строкой 6477\n",
                    "output_type": "stream"
                },
                {
                    "name": "stdout",
                    "text": "Строка 6459 совпадает со строкой 6478\n",
                    "output_type": "stream"
                },
                {
                    "name": "stdout",
                    "text": "Строка 6459 совпадает со строкой 6479\n",
                    "output_type": "stream"
                },
                {
                    "name": "stdout",
                    "text": "Строка 6459 совпадает со строкой 6480\n",
                    "output_type": "stream"
                },
                {
                    "name": "stdout",
                    "text": "Строка 6459 совпадает со строкой 6481\n",
                    "output_type": "stream"
                },
                {
                    "name": "stdout",
                    "text": "Строка 6459 совпадает со строкой 6482\n",
                    "output_type": "stream"
                },
                {
                    "name": "stdout",
                    "text": "Строка 6459 совпадает со строкой 6483\n",
                    "output_type": "stream"
                },
                {
                    "name": "stdout",
                    "text": "Строка 6459 совпадает со строкой 6484\n",
                    "output_type": "stream"
                },
                {
                    "name": "stdout",
                    "text": "Строка 6459 совпадает со строкой 6487\n",
                    "output_type": "stream"
                },
                {
                    "name": "stdout",
                    "text": "Строка 6460 совпадает со строкой 6461\n",
                    "output_type": "stream"
                },
                {
                    "name": "stdout",
                    "text": "Строка 6460 совпадает со строкой 6463\n",
                    "output_type": "stream"
                },
                {
                    "name": "stdout",
                    "text": "Строка 6460 совпадает со строкой 6464\n",
                    "output_type": "stream"
                },
                {
                    "name": "stdout",
                    "text": "Строка 6460 совпадает со строкой 6465\n",
                    "output_type": "stream"
                },
                {
                    "name": "stdout",
                    "text": "Строка 6460 совпадает со строкой 6466\n",
                    "output_type": "stream"
                },
                {
                    "name": "stdout",
                    "text": "Строка 6460 совпадает со строкой 6467\n",
                    "output_type": "stream"
                },
                {
                    "name": "stdout",
                    "text": "Строка 6460 совпадает со строкой 6468\n",
                    "output_type": "stream"
                },
                {
                    "name": "stdout",
                    "text": "Строка 6460 совпадает со строкой 6469\n",
                    "output_type": "stream"
                },
                {
                    "name": "stdout",
                    "text": "Строка 6460 совпадает со строкой 6470\n",
                    "output_type": "stream"
                },
                {
                    "name": "stdout",
                    "text": "Строка 6460 совпадает со строкой 6471\n",
                    "output_type": "stream"
                },
                {
                    "name": "stdout",
                    "text": "Строка 6460 совпадает со строкой 6472\n",
                    "output_type": "stream"
                },
                {
                    "name": "stdout",
                    "text": "Строка 6460 совпадает со строкой 6475\n",
                    "output_type": "stream"
                },
                {
                    "name": "stdout",
                    "text": "Строка 6461 совпадает со строкой 6462\n",
                    "output_type": "stream"
                },
                {
                    "name": "stdout",
                    "text": "Строка 6461 совпадает со строкой 6463\n",
                    "output_type": "stream"
                },
                {
                    "name": "stdout",
                    "text": "Строка 6461 совпадает со строкой 6464\n",
                    "output_type": "stream"
                },
                {
                    "name": "stdout",
                    "text": "Строка 6461 совпадает со строкой 6465\n",
                    "output_type": "stream"
                },
                {
                    "name": "stdout",
                    "text": "Строка 6461 совпадает со строкой 6466\n",
                    "output_type": "stream"
                },
                {
                    "name": "stdout",
                    "text": "Строка 6461 совпадает со строкой 6469\n",
                    "output_type": "stream"
                },
                {
                    "name": "stdout",
                    "text": "Строка 6462 совпадает со строкой 6463\n",
                    "output_type": "stream"
                },
                {
                    "name": "stdout",
                    "text": "Строка 6462 совпадает со строкой 6467\n",
                    "output_type": "stream"
                },
                {
                    "name": "stdout",
                    "text": "Строка 6463 совпадает со строкой 6865\n",
                    "output_type": "stream"
                },
                {
                    "name": "stdout",
                    "text": "Строка 6463 совпадает со строкой 12605\n",
                    "output_type": "stream"
                },
                {
                    "name": "stdout",
                    "text": "Строка 6482 совпадает со строкой 6867\n",
                    "output_type": "stream"
                },
                {
                    "name": "stdout",
                    "text": "Строка 6482 совпадает со строкой 12607\n",
                    "output_type": "stream"
                },
                {
                    "name": "stdout",
                    "text": "Строка 6483 совпадает со строкой 6868\n",
                    "output_type": "stream"
                },
                {
                    "name": "stdout",
                    "text": "Строка 6483 совпадает со строкой 12608\n",
                    "output_type": "stream"
                },
                {
                    "name": "stdout",
                    "text": "Строка 6488 совпадает со строкой 6512\n",
                    "output_type": "stream"
                },
                {
                    "name": "stdout",
                    "text": "Строка 6489 совпадает со строкой 6868\n",
                    "output_type": "stream"
                },
                {
                    "name": "stdout",
                    "text": "Строка 6489 совпадает со строкой 12608\n",
                    "output_type": "stream"
                },
                {
                    "name": "stdout",
                    "text": "Строка 6493 совпадает со строкой 6869\n",
                    "output_type": "stream"
                },
                {
                    "name": "stdout",
                    "text": "Строка 6493 совпадает со строкой 12609\n",
                    "output_type": "stream"
                },
                {
                    "name": "stdout",
                    "text": "Строка 6494 совпадает со строкой 6868\n",
                    "output_type": "stream"
                },
                {
                    "name": "stdout",
                    "text": "Строка 6494 совпадает со строкой 12608\n",
                    "output_type": "stream"
                },
                {
                    "name": "stdout",
                    "text": "Строка 6498 совпадает со строкой 6869\n",
                    "output_type": "stream"
                },
                {
                    "name": "stdout",
                    "text": "Строка 6498 совпадает со строкой 12609\n",
                    "output_type": "stream"
                },
                {
                    "name": "stdout",
                    "text": "Строка 6506 совпадает со строкой 6870\n",
                    "output_type": "stream"
                },
                {
                    "name": "stdout",
                    "text": "Строка 6506 совпадает со строкой 12610\n",
                    "output_type": "stream"
                },
                {
                    "name": "stdout",
                    "text": "Строка 6522 совпадает со строкой 6877\n",
                    "output_type": "stream"
                },
                {
                    "name": "stdout",
                    "text": "Строка 6522 совпадает со строкой 12617\n",
                    "output_type": "stream"
                },
                {
                    "name": "stdout",
                    "text": "Строка 6523 совпадает со строкой 6878\n",
                    "output_type": "stream"
                },
                {
                    "name": "stdout",
                    "text": "Строка 6523 совпадает со строкой 12618\n",
                    "output_type": "stream"
                },
                {
                    "name": "stdout",
                    "text": "Строка 6533 совпадает со строкой 6881\n",
                    "output_type": "stream"
                },
                {
                    "name": "stdout",
                    "text": "Строка 6533 совпадает со строкой 12621\n",
                    "output_type": "stream"
                },
                {
                    "name": "stdout",
                    "text": "Строка 6534 совпадает со строкой 6882\n",
                    "output_type": "stream"
                },
                {
                    "name": "stdout",
                    "text": "Строка 6534 совпадает со строкой 12622\n",
                    "output_type": "stream"
                },
                {
                    "name": "stdout",
                    "text": "Строка 6535 совпадает со строкой 6883\n",
                    "output_type": "stream"
                },
                {
                    "name": "stdout",
                    "text": "Строка 6535 совпадает со строкой 12623\n",
                    "output_type": "stream"
                },
                {
                    "name": "stdout",
                    "text": "Строка 6536 совпадает со строкой 6884\n",
                    "output_type": "stream"
                },
                {
                    "name": "stdout",
                    "text": "Строка 6536 совпадает со строкой 12624\n",
                    "output_type": "stream"
                },
                {
                    "name": "stdout",
                    "text": "Строка 6537 совпадает со строкой 6885\n",
                    "output_type": "stream"
                },
                {
                    "name": "stdout",
                    "text": "Строка 6537 совпадает со строкой 12625\n",
                    "output_type": "stream"
                },
                {
                    "name": "stdout",
                    "text": "Строка 6544 совпадает со строкой 6929\n",
                    "output_type": "stream"
                },
                {
                    "name": "stdout",
                    "text": "Строка 6544 совпадает со строкой 7734\n",
                    "output_type": "stream"
                },
                {
                    "name": "stdout",
                    "text": "Строка 6544 совпадает со строкой 12733\n",
                    "output_type": "stream"
                },
                {
                    "name": "stdout",
                    "text": "Строка 6545 совпадает со строкой 6931\n",
                    "output_type": "stream"
                },
                {
                    "name": "stdout",
                    "text": "Строка 6546 совпадает со строкой 7095\n",
                    "output_type": "stream"
                },
                {
                    "name": "stdout",
                    "text": "Строка 6547 совпадает со строкой 7096\n",
                    "output_type": "stream"
                },
                {
                    "name": "stdout",
                    "text": "Строка 6548 совпадает со строкой 7157\n",
                    "output_type": "stream"
                },
                {
                    "name": "stdout",
                    "text": "Строка 6548 совпадает со строкой 7638\n",
                    "output_type": "stream"
                },
                {
                    "name": "stdout",
                    "text": "Строка 6548 совпадает со строкой 12637\n",
                    "output_type": "stream"
                },
                {
                    "name": "stdout",
                    "text": "Строка 6549 совпадает со строкой 7409\n",
                    "output_type": "stream"
                },
                {
                    "name": "stdout",
                    "text": "Строка 6549 совпадает со строкой 7850\n",
                    "output_type": "stream"
                },
                {
                    "name": "stdout",
                    "text": "Строка 6549 совпадает со строкой 12849\n",
                    "output_type": "stream"
                },
                {
                    "name": "stdout",
                    "text": "Строка 6550 совпадает со строкой 7583\n",
                    "output_type": "stream"
                },
                {
                    "name": "stdout",
                    "text": "Строка 6550 совпадает со строкой 7783\n",
                    "output_type": "stream"
                },
                {
                    "name": "stdout",
                    "text": "Строка 6550 совпадает со строкой 12782\n",
                    "output_type": "stream"
                },
                {
                    "name": "stdout",
                    "text": "Строка 6559 совпадает со строкой 12300\n",
                    "output_type": "stream"
                },
                {
                    "name": "stdout",
                    "text": "Строка 6560 совпадает со строкой 12301\n",
                    "output_type": "stream"
                },
                {
                    "name": "stdout",
                    "text": "Строка 6561 совпадает со строкой 12302\n",
                    "output_type": "stream"
                },
                {
                    "name": "stdout",
                    "text": "Строка 6562 совпадает со строкой 12303\n",
                    "output_type": "stream"
                },
                {
                    "name": "stdout",
                    "text": "Строка 6563 совпадает со строкой 12304\n",
                    "output_type": "stream"
                },
                {
                    "name": "stdout",
                    "text": "Строка 6566 совпадает со строкой 12307\n",
                    "output_type": "stream"
                },
                {
                    "name": "stdout",
                    "text": "Строка 6567 совпадает со строкой 12308\n",
                    "output_type": "stream"
                },
                {
                    "name": "stdout",
                    "text": "Строка 6568 совпадает со строкой 12309\n",
                    "output_type": "stream"
                },
                {
                    "name": "stdout",
                    "text": "Строка 6569 совпадает со строкой 12310\n",
                    "output_type": "stream"
                },
                {
                    "name": "stdout",
                    "text": "Строка 6570 совпадает со строкой 12311\n",
                    "output_type": "stream"
                },
                {
                    "name": "stdout",
                    "text": "Строка 6571 совпадает со строкой 12312\n",
                    "output_type": "stream"
                },
                {
                    "name": "stdout",
                    "text": "Строка 6572 совпадает со строкой 12313\n",
                    "output_type": "stream"
                },
                {
                    "name": "stdout",
                    "text": "Строка 6573 совпадает со строкой 12314\n",
                    "output_type": "stream"
                },
                {
                    "name": "stdout",
                    "text": "Строка 6574 совпадает со строкой 12315\n",
                    "output_type": "stream"
                },
                {
                    "name": "stdout",
                    "text": "Строка 6575 совпадает со строкой 12316\n",
                    "output_type": "stream"
                },
                {
                    "name": "stdout",
                    "text": "Строка 6576 совпадает со строкой 12317\n",
                    "output_type": "stream"
                },
                {
                    "name": "stdout",
                    "text": "Строка 6577 совпадает со строкой 12318\n",
                    "output_type": "stream"
                },
                {
                    "name": "stdout",
                    "text": "Строка 6578 совпадает со строкой 12319\n",
                    "output_type": "stream"
                },
                {
                    "name": "stdout",
                    "text": "Строка 6579 совпадает со строкой 12320\n",
                    "output_type": "stream"
                },
                {
                    "name": "stdout",
                    "text": "Строка 6580 совпадает со строкой 12321\n",
                    "output_type": "stream"
                },
                {
                    "name": "stdout",
                    "text": "Строка 6587 совпадает со строкой 12328\n",
                    "output_type": "stream"
                },
                {
                    "name": "stdout",
                    "text": "Строка 6588 совпадает со строкой 12329\n",
                    "output_type": "stream"
                },
                {
                    "name": "stdout",
                    "text": "Строка 6589 совпадает со строкой 12330\n",
                    "output_type": "stream"
                },
                {
                    "name": "stdout",
                    "text": "Строка 6590 совпадает со строкой 12331\n",
                    "output_type": "stream"
                },
                {
                    "name": "stdout",
                    "text": "Строка 6593 совпадает со строкой 12334\n",
                    "output_type": "stream"
                },
                {
                    "name": "stdout",
                    "text": "Строка 6594 совпадает со строкой 12335\n",
                    "output_type": "stream"
                },
                {
                    "name": "stdout",
                    "text": "Строка 6595 совпадает со строкой 12336\n",
                    "output_type": "stream"
                },
                {
                    "name": "stdout",
                    "text": "Строка 6596 совпадает со строкой 12337\n",
                    "output_type": "stream"
                },
                {
                    "name": "stdout",
                    "text": "Строка 6597 совпадает со строкой 12338\n",
                    "output_type": "stream"
                },
                {
                    "name": "stdout",
                    "text": "Строка 6598 совпадает со строкой 12339\n",
                    "output_type": "stream"
                },
                {
                    "name": "stdout",
                    "text": "Строка 6599 совпадает со строкой 12340\n",
                    "output_type": "stream"
                },
                {
                    "name": "stdout",
                    "text": "Строка 6600 совпадает со строкой 12341\n",
                    "output_type": "stream"
                },
                {
                    "name": "stdout",
                    "text": "Строка 6601 совпадает со строкой 12342\n",
                    "output_type": "stream"
                },
                {
                    "name": "stdout",
                    "text": "Строка 6602 совпадает со строкой 12343\n",
                    "output_type": "stream"
                },
                {
                    "name": "stdout",
                    "text": "Строка 6603 совпадает со строкой 12344\n",
                    "output_type": "stream"
                },
                {
                    "name": "stdout",
                    "text": "Строка 6604 совпадает со строкой 12345\n",
                    "output_type": "stream"
                },
                {
                    "name": "stdout",
                    "text": "Строка 6605 совпадает со строкой 12346\n",
                    "output_type": "stream"
                },
                {
                    "name": "stdout",
                    "text": "Строка 6606 совпадает со строкой 12347\n",
                    "output_type": "stream"
                },
                {
                    "name": "stdout",
                    "text": "Строка 6607 совпадает со строкой 12348\n",
                    "output_type": "stream"
                },
                {
                    "name": "stdout",
                    "text": "Строка 6613 совпадает со строкой 12354\n",
                    "output_type": "stream"
                },
                {
                    "name": "stdout",
                    "text": "Строка 6614 совпадает со строкой 12355\n",
                    "output_type": "stream"
                },
                {
                    "name": "stdout",
                    "text": "Строка 6615 совпадает со строкой 12356\n",
                    "output_type": "stream"
                },
                {
                    "name": "stdout",
                    "text": "Строка 6616 совпадает со строкой 12357\n",
                    "output_type": "stream"
                },
                {
                    "name": "stdout",
                    "text": "Строка 6617 совпадает со строкой 12358\n",
                    "output_type": "stream"
                },
                {
                    "name": "stdout",
                    "text": "Строка 6618 совпадает со строкой 12359\n",
                    "output_type": "stream"
                },
                {
                    "name": "stdout",
                    "text": "Строка 6620 совпадает со строкой 12361\n",
                    "output_type": "stream"
                },
                {
                    "name": "stdout",
                    "text": "Строка 6621 совпадает со строкой 12362\n",
                    "output_type": "stream"
                },
                {
                    "name": "stdout",
                    "text": "Строка 6622 совпадает со строкой 12363\n",
                    "output_type": "stream"
                },
                {
                    "name": "stdout",
                    "text": "Строка 6623 совпадает со строкой 12364\n",
                    "output_type": "stream"
                },
                {
                    "name": "stdout",
                    "text": "Строка 6624 совпадает со строкой 12365\n",
                    "output_type": "stream"
                },
                {
                    "name": "stdout",
                    "text": "Строка 6625 совпадает со строкой 12366\n",
                    "output_type": "stream"
                },
                {
                    "name": "stdout",
                    "text": "Строка 6626 совпадает со строкой 12367\n",
                    "output_type": "stream"
                },
                {
                    "name": "stdout",
                    "text": "Строка 6627 совпадает со строкой 12368\n",
                    "output_type": "stream"
                },
                {
                    "name": "stdout",
                    "text": "Строка 6628 совпадает со строкой 12369\n",
                    "output_type": "stream"
                },
                {
                    "name": "stdout",
                    "text": "Строка 6629 совпадает со строкой 12370\n",
                    "output_type": "stream"
                },
                {
                    "name": "stdout",
                    "text": "Строка 6635 совпадает со строкой 12376\n",
                    "output_type": "stream"
                },
                {
                    "name": "stdout",
                    "text": "Строка 6636 совпадает со строкой 12377\n",
                    "output_type": "stream"
                },
                {
                    "name": "stdout",
                    "text": "Строка 6637 совпадает со строкой 12378\n",
                    "output_type": "stream"
                },
                {
                    "name": "stdout",
                    "text": "Строка 6638 совпадает со строкой 12379\n",
                    "output_type": "stream"
                },
                {
                    "name": "stdout",
                    "text": "Строка 6639 совпадает со строкой 12380\n",
                    "output_type": "stream"
                },
                {
                    "name": "stdout",
                    "text": "Строка 6640 совпадает со строкой 12381\n",
                    "output_type": "stream"
                },
                {
                    "name": "stdout",
                    "text": "Строка 6641 совпадает со строкой 12382\n",
                    "output_type": "stream"
                },
                {
                    "name": "stdout",
                    "text": "Строка 6642 совпадает со строкой 12383\n",
                    "output_type": "stream"
                },
                {
                    "name": "stdout",
                    "text": "Строка 6643 совпадает со строкой 12384\n",
                    "output_type": "stream"
                },
                {
                    "name": "stdout",
                    "text": "Строка 6644 совпадает со строкой 12385\n",
                    "output_type": "stream"
                },
                {
                    "name": "stdout",
                    "text": "Строка 6645 совпадает со строкой 12386\n",
                    "output_type": "stream"
                },
                {
                    "name": "stdout",
                    "text": "Строка 6646 совпадает со строкой 12387\n",
                    "output_type": "stream"
                },
                {
                    "name": "stdout",
                    "text": "Строка 6647 совпадает со строкой 12388\n",
                    "output_type": "stream"
                },
                {
                    "name": "stdout",
                    "text": "Строка 6648 совпадает со строкой 12389\n",
                    "output_type": "stream"
                },
                {
                    "name": "stdout",
                    "text": "Строка 6650 совпадает со строкой 12391\n",
                    "output_type": "stream"
                },
                {
                    "name": "stdout",
                    "text": "Строка 6651 совпадает со строкой 12392\n",
                    "output_type": "stream"
                },
                {
                    "name": "stdout",
                    "text": "Строка 6652 совпадает со строкой 12393\n",
                    "output_type": "stream"
                },
                {
                    "name": "stdout",
                    "text": "Строка 6653 совпадает со строкой 12394\n",
                    "output_type": "stream"
                },
                {
                    "name": "stdout",
                    "text": "Строка 6654 совпадает со строкой 12395\n",
                    "output_type": "stream"
                },
                {
                    "name": "stdout",
                    "text": "Строка 6655 совпадает со строкой 12396\n",
                    "output_type": "stream"
                },
                {
                    "name": "stdout",
                    "text": "Строка 6656 совпадает со строкой 12397\n",
                    "output_type": "stream"
                },
                {
                    "name": "stdout",
                    "text": "Строка 6657 совпадает со строкой 12398\n",
                    "output_type": "stream"
                },
                {
                    "name": "stdout",
                    "text": "Строка 6658 совпадает со строкой 12399\n",
                    "output_type": "stream"
                },
                {
                    "name": "stdout",
                    "text": "Строка 6659 совпадает со строкой 12400\n",
                    "output_type": "stream"
                },
                {
                    "name": "stdout",
                    "text": "Строка 6660 совпадает со строкой 12401\n",
                    "output_type": "stream"
                },
                {
                    "name": "stdout",
                    "text": "Строка 6661 совпадает со строкой 12402\n",
                    "output_type": "stream"
                },
                {
                    "name": "stdout",
                    "text": "Строка 6662 совпадает со строкой 12403\n",
                    "output_type": "stream"
                },
                {
                    "name": "stdout",
                    "text": "Строка 6663 совпадает со строкой 12404\n",
                    "output_type": "stream"
                },
                {
                    "name": "stdout",
                    "text": "Строка 6664 совпадает со строкой 12405\n",
                    "output_type": "stream"
                },
                {
                    "name": "stdout",
                    "text": "Строка 6665 совпадает со строкой 12406\n",
                    "output_type": "stream"
                },
                {
                    "name": "stdout",
                    "text": "Строка 6666 совпадает со строкой 12407\n",
                    "output_type": "stream"
                },
                {
                    "name": "stdout",
                    "text": "Строка 6667 совпадает со строкой 12408\n",
                    "output_type": "stream"
                },
                {
                    "name": "stdout",
                    "text": "Строка 6668 совпадает со строкой 12409\n",
                    "output_type": "stream"
                },
                {
                    "name": "stdout",
                    "text": "Строка 6669 совпадает со строкой 12410\n",
                    "output_type": "stream"
                },
                {
                    "name": "stdout",
                    "text": "Строка 6670 совпадает со строкой 12411\n",
                    "output_type": "stream"
                },
                {
                    "name": "stdout",
                    "text": "Строка 6671 совпадает со строкой 12412\n",
                    "output_type": "stream"
                },
                {
                    "name": "stdout",
                    "text": "Строка 6672 совпадает со строкой 12413\n",
                    "output_type": "stream"
                },
                {
                    "name": "stdout",
                    "text": "Строка 6673 совпадает со строкой 12414\n",
                    "output_type": "stream"
                },
                {
                    "name": "stdout",
                    "text": "Строка 6674 совпадает со строкой 12415\n",
                    "output_type": "stream"
                },
                {
                    "name": "stdout",
                    "text": "Строка 6675 совпадает со строкой 12416\n",
                    "output_type": "stream"
                },
                {
                    "name": "stdout",
                    "text": "Строка 6676 совпадает со строкой 12417\n",
                    "output_type": "stream"
                },
                {
                    "name": "stdout",
                    "text": "Строка 6677 совпадает со строкой 12418\n",
                    "output_type": "stream"
                },
                {
                    "name": "stdout",
                    "text": "Строка 6678 совпадает со строкой 12419\n",
                    "output_type": "stream"
                },
                {
                    "name": "stdout",
                    "text": "Строка 6679 совпадает со строкой 12420\n",
                    "output_type": "stream"
                },
                {
                    "name": "stdout",
                    "text": "Строка 6680 совпадает со строкой 12421\n",
                    "output_type": "stream"
                },
                {
                    "name": "stdout",
                    "text": "Строка 6681 совпадает со строкой 12422\n",
                    "output_type": "stream"
                },
                {
                    "name": "stdout",
                    "text": "Строка 6682 совпадает со строкой 12423\n",
                    "output_type": "stream"
                },
                {
                    "name": "stdout",
                    "text": "Строка 6683 совпадает со строкой 12424\n",
                    "output_type": "stream"
                },
                {
                    "name": "stdout",
                    "text": "Строка 6684 совпадает со строкой 12425\n",
                    "output_type": "stream"
                },
                {
                    "name": "stdout",
                    "text": "Строка 6685 совпадает со строкой 12426\n",
                    "output_type": "stream"
                },
                {
                    "name": "stdout",
                    "text": "Строка 6686 совпадает со строкой 12427\n",
                    "output_type": "stream"
                },
                {
                    "name": "stdout",
                    "text": "Строка 6687 совпадает со строкой 12428\n",
                    "output_type": "stream"
                },
                {
                    "name": "stdout",
                    "text": "Строка 6688 совпадает со строкой 12429\n",
                    "output_type": "stream"
                },
                {
                    "name": "stdout",
                    "text": "Строка 6689 совпадает со строкой 12430\n",
                    "output_type": "stream"
                },
                {
                    "name": "stdout",
                    "text": "Строка 6690 совпадает со строкой 12431\n",
                    "output_type": "stream"
                },
                {
                    "name": "stdout",
                    "text": "Строка 6691 совпадает со строкой 12432\n",
                    "output_type": "stream"
                },
                {
                    "name": "stdout",
                    "text": "Строка 6692 совпадает со строкой 12433\n",
                    "output_type": "stream"
                },
                {
                    "name": "stdout",
                    "text": "Строка 6699 совпадает со строкой 12440\n",
                    "output_type": "stream"
                },
                {
                    "name": "stdout",
                    "text": "Строка 6700 совпадает со строкой 12441\n",
                    "output_type": "stream"
                },
                {
                    "name": "stdout",
                    "text": "Строка 6701 совпадает со строкой 12442\n",
                    "output_type": "stream"
                },
                {
                    "name": "stdout",
                    "text": "Строка 6702 совпадает со строкой 12443\n",
                    "output_type": "stream"
                },
                {
                    "name": "stdout",
                    "text": "Строка 6703 совпадает со строкой 12444\n",
                    "output_type": "stream"
                },
                {
                    "name": "stdout",
                    "text": "Строка 6706 совпадает со строкой 12447\n",
                    "output_type": "stream"
                },
                {
                    "name": "stdout",
                    "text": "Строка 6707 совпадает со строкой 12448\n",
                    "output_type": "stream"
                },
                {
                    "name": "stdout",
                    "text": "Строка 6708 совпадает со строкой 12449\n",
                    "output_type": "stream"
                },
                {
                    "name": "stdout",
                    "text": "Строка 6709 совпадает со строкой 12450\n",
                    "output_type": "stream"
                },
                {
                    "name": "stdout",
                    "text": "Строка 6710 совпадает со строкой 12451\n",
                    "output_type": "stream"
                },
                {
                    "name": "stdout",
                    "text": "Строка 6711 совпадает со строкой 12452\n",
                    "output_type": "stream"
                },
                {
                    "name": "stdout",
                    "text": "Строка 6712 совпадает со строкой 12453\n",
                    "output_type": "stream"
                },
                {
                    "name": "stdout",
                    "text": "Строка 6713 совпадает со строкой 12454\n",
                    "output_type": "stream"
                },
                {
                    "name": "stdout",
                    "text": "Строка 6714 совпадает со строкой 12455\n",
                    "output_type": "stream"
                },
                {
                    "name": "stdout",
                    "text": "Строка 6715 совпадает со строкой 12456\n",
                    "output_type": "stream"
                },
                {
                    "name": "stdout",
                    "text": "Строка 6721 совпадает со строкой 12462\n",
                    "output_type": "stream"
                },
                {
                    "name": "stdout",
                    "text": "Строка 6722 совпадает со строкой 12463\n",
                    "output_type": "stream"
                },
                {
                    "name": "stdout",
                    "text": "Строка 6723 совпадает со строкой 12464\n",
                    "output_type": "stream"
                },
                {
                    "name": "stdout",
                    "text": "Строка 6726 совпадает со строкой 12467\n",
                    "output_type": "stream"
                },
                {
                    "name": "stdout",
                    "text": "Строка 6727 совпадает со строкой 12468\n",
                    "output_type": "stream"
                },
                {
                    "name": "stdout",
                    "text": "Строка 6728 совпадает со строкой 12469\n",
                    "output_type": "stream"
                },
                {
                    "name": "stdout",
                    "text": "Строка 6729 совпадает со строкой 12470\n",
                    "output_type": "stream"
                },
                {
                    "name": "stdout",
                    "text": "Строка 6730 совпадает со строкой 12471\n",
                    "output_type": "stream"
                },
                {
                    "name": "stdout",
                    "text": "Строка 6731 совпадает со строкой 12472\n",
                    "output_type": "stream"
                },
                {
                    "name": "stdout",
                    "text": "Строка 6732 совпадает со строкой 12473\n",
                    "output_type": "stream"
                },
                {
                    "name": "stdout",
                    "text": "Строка 6733 совпадает со строкой 12474\n",
                    "output_type": "stream"
                },
                {
                    "name": "stdout",
                    "text": "Строка 6743 совпадает со строкой 7573\n",
                    "output_type": "stream"
                },
                {
                    "name": "stdout",
                    "text": "Строка 6743 совпадает со строкой 12572\n",
                    "output_type": "stream"
                },
                {
                    "name": "stdout",
                    "text": "Строка 6749 совпадает со строкой 7572\n",
                    "output_type": "stream"
                },
                {
                    "name": "stdout",
                    "text": "Строка 6749 совпадает со строкой 12571\n",
                    "output_type": "stream"
                },
                {
                    "name": "stdout",
                    "text": "Строка 6753 совпадает со строкой 6754\n",
                    "output_type": "stream"
                },
                {
                    "name": "stdout",
                    "text": "Строка 6754 совпадает со строкой 7570\n",
                    "output_type": "stream"
                },
                {
                    "name": "stdout",
                    "text": "Строка 6754 совпадает со строкой 12569\n",
                    "output_type": "stream"
                },
                {
                    "name": "stdout",
                    "text": "Строка 6755 совпадает со строкой 6757\n",
                    "output_type": "stream"
                },
                {
                    "name": "stdout",
                    "text": "Строка 6758 совпадает со строкой 7570\n",
                    "output_type": "stream"
                },
                {
                    "name": "stdout",
                    "text": "Строка 6758 совпадает со строкой 12569\n",
                    "output_type": "stream"
                },
                {
                    "name": "stdout",
                    "text": "Строка 6760 совпадает со строкой 7570\n",
                    "output_type": "stream"
                },
                {
                    "name": "stdout",
                    "text": "Строка 6760 совпадает со строкой 12569\n",
                    "output_type": "stream"
                },
                {
                    "name": "stdout",
                    "text": "Строка 6764 совпадает со строкой 7570\n",
                    "output_type": "stream"
                },
                {
                    "name": "stdout",
                    "text": "Строка 6764 совпадает со строкой 12569\n",
                    "output_type": "stream"
                },
                {
                    "name": "stdout",
                    "text": "Строка 6777 совпадает со строкой 7570\n",
                    "output_type": "stream"
                },
                {
                    "name": "stdout",
                    "text": "Строка 6777 совпадает со строкой 12569\n",
                    "output_type": "stream"
                },
                {
                    "name": "stdout",
                    "text": "Строка 6799 совпадает со строкой 7572\n",
                    "output_type": "stream"
                },
                {
                    "name": "stdout",
                    "text": "Строка 6799 совпадает со строкой 12571\n",
                    "output_type": "stream"
                },
                {
                    "name": "stdout",
                    "text": "Строка 6800 совпадает со строкой 7573\n",
                    "output_type": "stream"
                },
                {
                    "name": "stdout",
                    "text": "Строка 6800 совпадает со строкой 12572\n",
                    "output_type": "stream"
                },
                {
                    "name": "stdout",
                    "text": "Строка 6801 совпадает со строкой 7574\n",
                    "output_type": "stream"
                },
                {
                    "name": "stdout",
                    "text": "Строка 6801 совпадает со строкой 12573\n",
                    "output_type": "stream"
                },
                {
                    "name": "stdout",
                    "text": "Строка 6802 совпадает со строкой 7575\n",
                    "output_type": "stream"
                },
                {
                    "name": "stdout",
                    "text": "Строка 6802 совпадает со строкой 12574\n",
                    "output_type": "stream"
                },
                {
                    "name": "stdout",
                    "text": "Строка 6803 совпадает со строкой 7576\n",
                    "output_type": "stream"
                },
                {
                    "name": "stdout",
                    "text": "Строка 6803 совпадает со строкой 12575\n",
                    "output_type": "stream"
                },
                {
                    "name": "stdout",
                    "text": "Строка 6804 совпадает со строкой 7577\n",
                    "output_type": "stream"
                },
                {
                    "name": "stdout",
                    "text": "Строка 6804 совпадает со строкой 12576\n",
                    "output_type": "stream"
                },
                {
                    "name": "stdout",
                    "text": "Строка 6805 совпадает со строкой 7578\n",
                    "output_type": "stream"
                },
                {
                    "name": "stdout",
                    "text": "Строка 6805 совпадает со строкой 12577\n",
                    "output_type": "stream"
                },
                {
                    "name": "stdout",
                    "text": "Строка 6806 совпадает со строкой 7579\n",
                    "output_type": "stream"
                },
                {
                    "name": "stdout",
                    "text": "Строка 6806 совпадает со строкой 12578\n",
                    "output_type": "stream"
                },
                {
                    "name": "stdout",
                    "text": "Строка 6807 совпадает со строкой 7580\n",
                    "output_type": "stream"
                },
                {
                    "name": "stdout",
                    "text": "Строка 6807 совпадает со строкой 12579\n",
                    "output_type": "stream"
                },
                {
                    "name": "stdout",
                    "text": "Строка 6808 совпадает со строкой 7581\n",
                    "output_type": "stream"
                },
                {
                    "name": "stdout",
                    "text": "Строка 6808 совпадает со строкой 12580\n",
                    "output_type": "stream"
                },
                {
                    "name": "stdout",
                    "text": "Строка 6809 совпадает со строкой 7582\n",
                    "output_type": "stream"
                },
                {
                    "name": "stdout",
                    "text": "Строка 6809 совпадает со строкой 12581\n",
                    "output_type": "stream"
                },
                {
                    "name": "stdout",
                    "text": "Строка 6810 совпадает со строкой 7583\n",
                    "output_type": "stream"
                },
                {
                    "name": "stdout",
                    "text": "Строка 6810 совпадает со строкой 12582\n",
                    "output_type": "stream"
                },
                {
                    "name": "stdout",
                    "text": "Строка 6811 совпадает со строкой 7584\n",
                    "output_type": "stream"
                },
                {
                    "name": "stdout",
                    "text": "Строка 6811 совпадает со строкой 12583\n",
                    "output_type": "stream"
                },
                {
                    "name": "stdout",
                    "text": "Строка 6826 совпадает со строкой 7585\n",
                    "output_type": "stream"
                },
                {
                    "name": "stdout",
                    "text": "Строка 6826 совпадает со строкой 12584\n",
                    "output_type": "stream"
                },
                {
                    "name": "stdout",
                    "text": "Строка 6924 совпадает со строкой 7419\n",
                    "output_type": "stream"
                },
                {
                    "name": "stdout",
                    "text": "Строка 6931 совпадает со строкой 7435\n",
                    "output_type": "stream"
                },
                {
                    "name": "stdout",
                    "text": "Строка 6931 совпадает со строкой 12434\n",
                    "output_type": "stream"
                },
                {
                    "name": "stdout",
                    "text": "Строка 6936 совпадает со строкой 7434\n",
                    "output_type": "stream"
                },
                {
                    "name": "stdout",
                    "text": "Строка 6936 совпадает со строкой 12433\n",
                    "output_type": "stream"
                },
                {
                    "name": "stdout",
                    "text": "Строка 6941 совпадает со строкой 7433\n",
                    "output_type": "stream"
                },
                {
                    "name": "stdout",
                    "text": "Строка 6941 совпадает со строкой 12432\n",
                    "output_type": "stream"
                },
                {
                    "name": "stdout",
                    "text": "Строка 6942 совпадает со строкой 7432\n",
                    "output_type": "stream"
                },
                {
                    "name": "stdout",
                    "text": "Строка 6942 совпадает со строкой 12431\n",
                    "output_type": "stream"
                },
                {
                    "name": "stdout",
                    "text": "Строка 6943 совпадает со строкой 7431\n",
                    "output_type": "stream"
                },
                {
                    "name": "stdout",
                    "text": "Строка 6943 совпадает со строкой 12430\n",
                    "output_type": "stream"
                },
                {
                    "name": "stdout",
                    "text": "Строка 6944 совпадает со строкой 7432\n",
                    "output_type": "stream"
                },
                {
                    "name": "stdout",
                    "text": "Строка 6944 совпадает со строкой 12431\n",
                    "output_type": "stream"
                },
                {
                    "name": "stdout",
                    "text": "Строка 6945 совпадает со строкой 7433\n",
                    "output_type": "stream"
                },
                {
                    "name": "stdout",
                    "text": "Строка 6945 совпадает со строкой 12432\n",
                    "output_type": "stream"
                },
                {
                    "name": "stdout",
                    "text": "Строка 6950 совпадает со строкой 7432\n",
                    "output_type": "stream"
                },
                {
                    "name": "stdout",
                    "text": "Строка 6950 совпадает со строкой 12431\n",
                    "output_type": "stream"
                },
                {
                    "name": "stdout",
                    "text": "Строка 6964 совпадает со строкой 7432\n",
                    "output_type": "stream"
                },
                {
                    "name": "stdout",
                    "text": "Строка 6964 совпадает со строкой 12431\n",
                    "output_type": "stream"
                },
                {
                    "name": "stdout",
                    "text": "Строка 6967 совпадает со строкой 7433\n",
                    "output_type": "stream"
                },
                {
                    "name": "stdout",
                    "text": "Строка 6967 совпадает со строкой 12432\n",
                    "output_type": "stream"
                },
                {
                    "name": "stdout",
                    "text": "Строка 6972 совпадает со строкой 7432\n",
                    "output_type": "stream"
                },
                {
                    "name": "stdout",
                    "text": "Строка 6972 совпадает со строкой 12431\n",
                    "output_type": "stream"
                },
                {
                    "name": "stdout",
                    "text": "Строка 7004 совпадает со строкой 7434\n",
                    "output_type": "stream"
                },
                {
                    "name": "stdout",
                    "text": "Строка 7004 совпадает со строкой 12433\n",
                    "output_type": "stream"
                },
                {
                    "name": "stdout",
                    "text": "Строка 7005 совпадает со строкой 7435\n",
                    "output_type": "stream"
                },
                {
                    "name": "stdout",
                    "text": "Строка 7005 совпадает со строкой 12434\n",
                    "output_type": "stream"
                },
                {
                    "name": "stdout",
                    "text": "Строка 7006 совпадает со строкой 7436\n",
                    "output_type": "stream"
                },
                {
                    "name": "stdout",
                    "text": "Строка 7006 совпадает со строкой 12435\n",
                    "output_type": "stream"
                },
                {
                    "name": "stdout",
                    "text": "Строка 7007 совпадает со строкой 7437\n",
                    "output_type": "stream"
                },
                {
                    "name": "stdout",
                    "text": "Строка 7007 совпадает со строкой 12436\n",
                    "output_type": "stream"
                },
                {
                    "name": "stdout",
                    "text": "Строка 7008 совпадает со строкой 7438\n",
                    "output_type": "stream"
                },
                {
                    "name": "stdout",
                    "text": "Строка 7008 совпадает со строкой 12437\n",
                    "output_type": "stream"
                },
                {
                    "name": "stdout",
                    "text": "Строка 7009 совпадает со строкой 7439\n",
                    "output_type": "stream"
                },
                {
                    "name": "stdout",
                    "text": "Строка 7009 совпадает со строкой 12438\n",
                    "output_type": "stream"
                },
                {
                    "name": "stdout",
                    "text": "Строка 7010 совпадает со строкой 7440\n",
                    "output_type": "stream"
                },
                {
                    "name": "stdout",
                    "text": "Строка 7010 совпадает со строкой 12439\n",
                    "output_type": "stream"
                },
                {
                    "name": "stdout",
                    "text": "Строка 7011 совпадает со строкой 7441\n",
                    "output_type": "stream"
                },
                {
                    "name": "stdout",
                    "text": "Строка 7011 совпадает со строкой 12440\n",
                    "output_type": "stream"
                },
                {
                    "name": "stdout",
                    "text": "Строка 7012 совпадает со строкой 7442\n",
                    "output_type": "stream"
                },
                {
                    "name": "stdout",
                    "text": "Строка 7012 совпадает со строкой 12441\n",
                    "output_type": "stream"
                },
                {
                    "name": "stdout",
                    "text": "Строка 7013 совпадает со строкой 7443\n",
                    "output_type": "stream"
                },
                {
                    "name": "stdout",
                    "text": "Строка 7013 совпадает со строкой 12442\n",
                    "output_type": "stream"
                },
                {
                    "name": "stdout",
                    "text": "Строка 7014 совпадает со строкой 7444\n",
                    "output_type": "stream"
                },
                {
                    "name": "stdout",
                    "text": "Строка 7014 совпадает со строкой 12443\n",
                    "output_type": "stream"
                },
                {
                    "name": "stdout",
                    "text": "Строка 7015 совпадает со строкой 7445\n",
                    "output_type": "stream"
                },
                {
                    "name": "stdout",
                    "text": "Строка 7015 совпадает со строкой 12444\n",
                    "output_type": "stream"
                },
                {
                    "name": "stdout",
                    "text": "Строка 7016 совпадает со строкой 7446\n",
                    "output_type": "stream"
                },
                {
                    "name": "stdout",
                    "text": "Строка 7016 совпадает со строкой 12445\n",
                    "output_type": "stream"
                },
                {
                    "name": "stdout",
                    "text": "Строка 7017 совпадает со строкой 7447\n",
                    "output_type": "stream"
                },
                {
                    "name": "stdout",
                    "text": "Строка 7017 совпадает со строкой 12446\n",
                    "output_type": "stream"
                },
                {
                    "name": "stdout",
                    "text": "Строка 7018 совпадает со строкой 7448\n",
                    "output_type": "stream"
                },
                {
                    "name": "stdout",
                    "text": "Строка 7018 совпадает со строкой 12447\n",
                    "output_type": "stream"
                },
                {
                    "name": "stdout",
                    "text": "Строка 7027 совпадает со строкой 7449\n",
                    "output_type": "stream"
                },
                {
                    "name": "stdout",
                    "text": "Строка 7027 совпадает со строкой 12448\n",
                    "output_type": "stream"
                },
                {
                    "name": "stdout",
                    "text": "Строка 7028 совпадает со строкой 7450\n",
                    "output_type": "stream"
                },
                {
                    "name": "stdout",
                    "text": "Строка 7028 совпадает со строкой 12449\n",
                    "output_type": "stream"
                },
                {
                    "name": "stdout",
                    "text": "Строка 7029 совпадает со строкой 7451\n",
                    "output_type": "stream"
                },
                {
                    "name": "stdout",
                    "text": "Строка 7029 совпадает со строкой 12450\n",
                    "output_type": "stream"
                },
                {
                    "name": "stdout",
                    "text": "Строка 7030 совпадает со строкой 7452\n",
                    "output_type": "stream"
                },
                {
                    "name": "stdout",
                    "text": "Строка 7030 совпадает со строкой 12451\n",
                    "output_type": "stream"
                },
                {
                    "name": "stdout",
                    "text": "Строка 7034 совпадает со строкой 7453\n",
                    "output_type": "stream"
                },
                {
                    "name": "stdout",
                    "text": "Строка 7034 совпадает со строкой 12452\n",
                    "output_type": "stream"
                },
                {
                    "name": "stdout",
                    "text": "Строка 7035 совпадает со строкой 7454\n",
                    "output_type": "stream"
                },
                {
                    "name": "stdout",
                    "text": "Строка 7035 совпадает со строкой 12453\n",
                    "output_type": "stream"
                },
                {
                    "name": "stdout",
                    "text": "Строка 7036 совпадает со строкой 7455\n",
                    "output_type": "stream"
                },
                {
                    "name": "stdout",
                    "text": "Строка 7036 совпадает со строкой 12454\n",
                    "output_type": "stream"
                },
                {
                    "name": "stdout",
                    "text": "Строка 7085 совпадает со строкой 7191\n",
                    "output_type": "stream"
                },
                {
                    "name": "stdout",
                    "text": "Строка 7152 совпадает со строкой 7594\n",
                    "output_type": "stream"
                },
                {
                    "name": "stdout",
                    "text": "Строка 7152 совпадает со строкой 12593\n",
                    "output_type": "stream"
                },
                {
                    "name": "stdout",
                    "text": "Строка 7153 совпадает со строкой 7585\n",
                    "output_type": "stream"
                },
                {
                    "name": "stdout",
                    "text": "Строка 7153 совпадает со строкой 12584\n",
                    "output_type": "stream"
                },
                {
                    "name": "stdout",
                    "text": "Строка 7158 совпадает со строкой 7592\n",
                    "output_type": "stream"
                },
                {
                    "name": "stdout",
                    "text": "Строка 7158 совпадает со строкой 12591\n",
                    "output_type": "stream"
                },
                {
                    "name": "stdout",
                    "text": "Строка 7161 совпадает со строкой 7583\n",
                    "output_type": "stream"
                },
                {
                    "name": "stdout",
                    "text": "Строка 7161 совпадает со строкой 12582\n",
                    "output_type": "stream"
                },
                {
                    "name": "stdout",
                    "text": "Строка 7162 совпадает со строкой 7584\n",
                    "output_type": "stream"
                },
                {
                    "name": "stdout",
                    "text": "Строка 7162 совпадает со строкой 12583\n",
                    "output_type": "stream"
                },
                {
                    "name": "stdout",
                    "text": "Строка 7164 совпадает со строкой 7583\n",
                    "output_type": "stream"
                },
                {
                    "name": "stdout",
                    "text": "Строка 7164 совпадает со строкой 12582\n",
                    "output_type": "stream"
                },
                {
                    "name": "stdout",
                    "text": "Строка 7181 совпадает со строкой 7588\n",
                    "output_type": "stream"
                },
                {
                    "name": "stdout",
                    "text": "Строка 7181 совпадает со строкой 12587\n",
                    "output_type": "stream"
                },
                {
                    "name": "stdout",
                    "text": "Строка 7188 совпадает со строкой 7589\n",
                    "output_type": "stream"
                },
                {
                    "name": "stdout",
                    "text": "Строка 7188 совпадает со строкой 12588\n",
                    "output_type": "stream"
                },
                {
                    "name": "stdout",
                    "text": "Строка 7189 совпадает со строкой 7590\n",
                    "output_type": "stream"
                },
                {
                    "name": "stdout",
                    "text": "Строка 7189 совпадает со строкой 12589\n",
                    "output_type": "stream"
                },
                {
                    "name": "stdout",
                    "text": "Строка 7190 совпадает со строкой 7591\n",
                    "output_type": "stream"
                },
                {
                    "name": "stdout",
                    "text": "Строка 7190 совпадает со строкой 12590\n",
                    "output_type": "stream"
                },
                {
                    "name": "stdout",
                    "text": "Строка 7191 совпадает со строкой 7592\n",
                    "output_type": "stream"
                },
                {
                    "name": "stdout",
                    "text": "Строка 7191 совпадает со строкой 12591\n",
                    "output_type": "stream"
                },
                {
                    "name": "stdout",
                    "text": "Строка 7192 совпадает со строкой 7593\n",
                    "output_type": "stream"
                },
                {
                    "name": "stdout",
                    "text": "Строка 7192 совпадает со строкой 12592\n",
                    "output_type": "stream"
                },
                {
                    "name": "stdout",
                    "text": "Строка 7193 совпадает со строкой 7594\n",
                    "output_type": "stream"
                },
                {
                    "name": "stdout",
                    "text": "Строка 7193 совпадает со строкой 12593\n",
                    "output_type": "stream"
                },
                {
                    "name": "stdout",
                    "text": "Строка 7194 совпадает со строкой 7595\n",
                    "output_type": "stream"
                },
                {
                    "name": "stdout",
                    "text": "Строка 7194 совпадает со строкой 12594\n",
                    "output_type": "stream"
                },
                {
                    "name": "stdout",
                    "text": "Строка 7195 совпадает со строкой 7596\n",
                    "output_type": "stream"
                },
                {
                    "name": "stdout",
                    "text": "Строка 7195 совпадает со строкой 12595\n",
                    "output_type": "stream"
                },
                {
                    "name": "stdout",
                    "text": "Строка 7196 совпадает со строкой 7597\n",
                    "output_type": "stream"
                },
                {
                    "name": "stdout",
                    "text": "Строка 7196 совпадает со строкой 12596\n",
                    "output_type": "stream"
                },
                {
                    "name": "stdout",
                    "text": "Строка 7197 совпадает со строкой 7598\n",
                    "output_type": "stream"
                },
                {
                    "name": "stdout",
                    "text": "Строка 7197 совпадает со строкой 12597\n",
                    "output_type": "stream"
                },
                {
                    "name": "stdout",
                    "text": "Строка 7198 совпадает со строкой 7599\n",
                    "output_type": "stream"
                },
                {
                    "name": "stdout",
                    "text": "Строка 7198 совпадает со строкой 12598\n",
                    "output_type": "stream"
                },
                {
                    "name": "stdout",
                    "text": "Строка 7199 совпадает со строкой 7600\n",
                    "output_type": "stream"
                },
                {
                    "name": "stdout",
                    "text": "Строка 7199 совпадает со строкой 12599\n",
                    "output_type": "stream"
                },
                {
                    "name": "stdout",
                    "text": "Строка 7200 совпадает со строкой 7601\n",
                    "output_type": "stream"
                },
                {
                    "name": "stdout",
                    "text": "Строка 7200 совпадает со строкой 12600\n",
                    "output_type": "stream"
                },
                {
                    "name": "stdout",
                    "text": "Строка 7201 совпадает со строкой 7602\n",
                    "output_type": "stream"
                },
                {
                    "name": "stdout",
                    "text": "Строка 7201 совпадает со строкой 12601\n",
                    "output_type": "stream"
                },
                {
                    "name": "stdout",
                    "text": "Строка 7202 совпадает со строкой 7603\n",
                    "output_type": "stream"
                },
                {
                    "name": "stdout",
                    "text": "Строка 7202 совпадает со строкой 12602\n",
                    "output_type": "stream"
                },
                {
                    "name": "stdout",
                    "text": "Строка 7209 совпадает со строкой 7495\n",
                    "output_type": "stream"
                },
                {
                    "name": "stdout",
                    "text": "Строка 7209 совпадает со строкой 12494\n",
                    "output_type": "stream"
                },
                {
                    "name": "stdout",
                    "text": "Строка 7210 совпадает со строкой 7496\n",
                    "output_type": "stream"
                },
                {
                    "name": "stdout",
                    "text": "Строка 7210 совпадает со строкой 12495\n",
                    "output_type": "stream"
                },
                {
                    "name": "stdout",
                    "text": "Строка 7211 совпадает со строкой 7497\n",
                    "output_type": "stream"
                },
                {
                    "name": "stdout",
                    "text": "Строка 7211 совпадает со строкой 12496\n",
                    "output_type": "stream"
                },
                {
                    "name": "stdout",
                    "text": "Строка 7212 совпадает со строкой 7498\n",
                    "output_type": "stream"
                },
                {
                    "name": "stdout",
                    "text": "Строка 7212 совпадает со строкой 12497\n",
                    "output_type": "stream"
                },
                {
                    "name": "stdout",
                    "text": "Строка 7215 совпадает со строкой 7499\n",
                    "output_type": "stream"
                },
                {
                    "name": "stdout",
                    "text": "Строка 7215 совпадает со строкой 12498\n",
                    "output_type": "stream"
                },
                {
                    "name": "stdout",
                    "text": "Строка 7216 совпадает со строкой 7500\n",
                    "output_type": "stream"
                },
                {
                    "name": "stdout",
                    "text": "Строка 7216 совпадает со строкой 12499\n",
                    "output_type": "stream"
                },
                {
                    "name": "stdout",
                    "text": "Строка 7217 совпадает со строкой 7499\n",
                    "output_type": "stream"
                },
                {
                    "name": "stdout",
                    "text": "Строка 7217 совпадает со строкой 12498\n",
                    "output_type": "stream"
                },
                {
                    "name": "stdout",
                    "text": "Строка 7218 совпадает со строкой 7500\n",
                    "output_type": "stream"
                },
                {
                    "name": "stdout",
                    "text": "Строка 7218 совпадает со строкой 12499\n",
                    "output_type": "stream"
                },
                {
                    "name": "stdout",
                    "text": "Строка 7219 совпадает со строкой 7499\n",
                    "output_type": "stream"
                },
                {
                    "name": "stdout",
                    "text": "Строка 7219 совпадает со строкой 12498\n",
                    "output_type": "stream"
                },
                {
                    "name": "stdout",
                    "text": "Строка 7220 совпадает со строкой 7500\n",
                    "output_type": "stream"
                },
                {
                    "name": "stdout",
                    "text": "Строка 7220 совпадает со строкой 12499\n",
                    "output_type": "stream"
                },
                {
                    "name": "stdout",
                    "text": "Строка 7221 совпадает со строкой 7499\n",
                    "output_type": "stream"
                },
                {
                    "name": "stdout",
                    "text": "Строка 7221 совпадает со строкой 12498\n",
                    "output_type": "stream"
                },
                {
                    "name": "stdout",
                    "text": "Строка 7222 совпадает со строкой 7500\n",
                    "output_type": "stream"
                },
                {
                    "name": "stdout",
                    "text": "Строка 7222 совпадает со строкой 12499\n",
                    "output_type": "stream"
                },
                {
                    "name": "stdout",
                    "text": "Строка 7223 совпадает со строкой 7500\n",
                    "output_type": "stream"
                },
                {
                    "name": "stdout",
                    "text": "Строка 7223 совпадает со строкой 12499\n",
                    "output_type": "stream"
                },
                {
                    "name": "stdout",
                    "text": "Строка 7226 совпадает со строкой 7501\n",
                    "output_type": "stream"
                },
                {
                    "name": "stdout",
                    "text": "Строка 7226 совпадает со строкой 12500\n",
                    "output_type": "stream"
                },
                {
                    "name": "stdout",
                    "text": "Строка 7227 совпадает со строкой 7502\n",
                    "output_type": "stream"
                },
                {
                    "name": "stdout",
                    "text": "Строка 7227 совпадает со строкой 12501\n",
                    "output_type": "stream"
                },
                {
                    "name": "stdout",
                    "text": "Строка 7228 совпадает со строкой 7501\n",
                    "output_type": "stream"
                },
                {
                    "name": "stdout",
                    "text": "Строка 7228 совпадает со строкой 12500\n",
                    "output_type": "stream"
                },
                {
                    "name": "stdout",
                    "text": "Строка 7229 совпадает со строкой 7502\n",
                    "output_type": "stream"
                },
                {
                    "name": "stdout",
                    "text": "Строка 7229 совпадает со строкой 12501\n",
                    "output_type": "stream"
                },
                {
                    "name": "stdout",
                    "text": "Строка 7236 совпадает со строкой 7446\n",
                    "output_type": "stream"
                },
                {
                    "name": "stdout",
                    "text": "Строка 7236 совпадает со строкой 12445\n",
                    "output_type": "stream"
                },
                {
                    "name": "stdout",
                    "text": "Строка 7238 совпадает со строкой 7445\n",
                    "output_type": "stream"
                },
                {
                    "name": "stdout",
                    "text": "Строка 7238 совпадает со строкой 12444\n",
                    "output_type": "stream"
                },
                {
                    "name": "stdout",
                    "text": "Строка 7239 совпадает со строкой 7446\n",
                    "output_type": "stream"
                },
                {
                    "name": "stdout",
                    "text": "Строка 7239 совпадает со строкой 12445\n",
                    "output_type": "stream"
                },
                {
                    "name": "stdout",
                    "text": "Строка 7246 совпадает со строкой 7447\n",
                    "output_type": "stream"
                },
                {
                    "name": "stdout",
                    "text": "Строка 7246 совпадает со строкой 12446\n",
                    "output_type": "stream"
                },
                {
                    "name": "stdout",
                    "text": "Строка 7247 совпадает со строкой 7448\n",
                    "output_type": "stream"
                },
                {
                    "name": "stdout",
                    "text": "Строка 7247 совпадает со строкой 12447\n",
                    "output_type": "stream"
                },
                {
                    "name": "stdout",
                    "text": "Строка 7280 совпадает со строкой 12280\n",
                    "output_type": "stream"
                },
                {
                    "name": "stdout",
                    "text": "Строка 7281 совпадает со строкой 12281\n",
                    "output_type": "stream"
                },
                {
                    "name": "stdout",
                    "text": "Строка 7282 совпадает со строкой 12282\n",
                    "output_type": "stream"
                },
                {
                    "name": "stdout",
                    "text": "Строка 7283 совпадает со строкой 12283\n",
                    "output_type": "stream"
                },
                {
                    "name": "stdout",
                    "text": "Строка 7284 совпадает со строкой 12284\n",
                    "output_type": "stream"
                },
                {
                    "name": "stdout",
                    "text": "Строка 7285 совпадает со строкой 12285\n",
                    "output_type": "stream"
                },
                {
                    "name": "stdout",
                    "text": "Строка 7286 совпадает со строкой 12286\n",
                    "output_type": "stream"
                },
                {
                    "name": "stdout",
                    "text": "Строка 7287 совпадает со строкой 12287\n",
                    "output_type": "stream"
                },
                {
                    "name": "stdout",
                    "text": "Строка 7288 совпадает со строкой 12288\n",
                    "output_type": "stream"
                },
                {
                    "name": "stdout",
                    "text": "Строка 7289 совпадает со строкой 12289\n",
                    "output_type": "stream"
                },
                {
                    "name": "stdout",
                    "text": "Строка 7291 совпадает со строкой 12291\n",
                    "output_type": "stream"
                },
                {
                    "name": "stdout",
                    "text": "Строка 7292 совпадает со строкой 12292\n",
                    "output_type": "stream"
                },
                {
                    "name": "stdout",
                    "text": "Строка 7293 совпадает со строкой 12293\n",
                    "output_type": "stream"
                },
                {
                    "name": "stdout",
                    "text": "Строка 7294 совпадает со строкой 12294\n",
                    "output_type": "stream"
                },
                {
                    "name": "stdout",
                    "text": "Строка 7295 совпадает со строкой 12295\n",
                    "output_type": "stream"
                },
                {
                    "name": "stdout",
                    "text": "Строка 7296 совпадает со строкой 12296\n",
                    "output_type": "stream"
                },
                {
                    "name": "stdout",
                    "text": "Строка 7297 совпадает со строкой 12297\n",
                    "output_type": "stream"
                },
                {
                    "name": "stdout",
                    "text": "Строка 7298 совпадает со строкой 12298\n",
                    "output_type": "stream"
                },
                {
                    "name": "stdout",
                    "text": "Строка 7299 совпадает со строкой 12299\n",
                    "output_type": "stream"
                },
                {
                    "name": "stdout",
                    "text": "Строка 7300 совпадает со строкой 12300\n",
                    "output_type": "stream"
                },
                {
                    "name": "stdout",
                    "text": "Строка 7301 совпадает со строкой 12301\n",
                    "output_type": "stream"
                },
                {
                    "name": "stdout",
                    "text": "Строка 7302 совпадает со строкой 12302\n",
                    "output_type": "stream"
                },
                {
                    "name": "stdout",
                    "text": "Строка 7303 совпадает со строкой 12303\n",
                    "output_type": "stream"
                },
                {
                    "name": "stdout",
                    "text": "Строка 7304 совпадает со строкой 12304\n",
                    "output_type": "stream"
                },
                {
                    "name": "stdout",
                    "text": "Строка 7305 совпадает со строкой 12305\n",
                    "output_type": "stream"
                },
                {
                    "name": "stdout",
                    "text": "Строка 7306 совпадает со строкой 12306\n",
                    "output_type": "stream"
                },
                {
                    "name": "stdout",
                    "text": "Строка 7307 совпадает со строкой 12307\n",
                    "output_type": "stream"
                },
                {
                    "name": "stdout",
                    "text": "Строка 7308 совпадает со строкой 12308\n",
                    "output_type": "stream"
                },
                {
                    "name": "stdout",
                    "text": "Строка 7309 совпадает со строкой 12309\n",
                    "output_type": "stream"
                },
                {
                    "name": "stdout",
                    "text": "Строка 7310 совпадает со строкой 12310\n",
                    "output_type": "stream"
                },
                {
                    "name": "stdout",
                    "text": "Строка 7311 совпадает со строкой 12311\n",
                    "output_type": "stream"
                },
                {
                    "name": "stdout",
                    "text": "Строка 7312 совпадает со строкой 12312\n",
                    "output_type": "stream"
                },
                {
                    "name": "stdout",
                    "text": "Строка 7313 совпадает со строкой 12313\n",
                    "output_type": "stream"
                },
                {
                    "name": "stdout",
                    "text": "Строка 7314 совпадает со строкой 12314\n",
                    "output_type": "stream"
                },
                {
                    "name": "stdout",
                    "text": "Строка 7315 совпадает со строкой 12315\n",
                    "output_type": "stream"
                },
                {
                    "name": "stdout",
                    "text": "Строка 7316 совпадает со строкой 12316\n",
                    "output_type": "stream"
                },
                {
                    "name": "stdout",
                    "text": "Строка 7317 совпадает со строкой 12317\n",
                    "output_type": "stream"
                },
                {
                    "name": "stdout",
                    "text": "Строка 7318 совпадает со строкой 12318\n",
                    "output_type": "stream"
                },
                {
                    "name": "stdout",
                    "text": "Строка 7319 совпадает со строкой 12319\n",
                    "output_type": "stream"
                },
                {
                    "name": "stdout",
                    "text": "Строка 7320 совпадает со строкой 12320\n",
                    "output_type": "stream"
                },
                {
                    "name": "stdout",
                    "text": "Строка 7321 совпадает со строкой 12321\n",
                    "output_type": "stream"
                },
                {
                    "name": "stdout",
                    "text": "Строка 7322 совпадает со строкой 12322\n",
                    "output_type": "stream"
                },
                {
                    "name": "stdout",
                    "text": "Строка 7323 совпадает со строкой 12323\n",
                    "output_type": "stream"
                },
                {
                    "name": "stdout",
                    "text": "Строка 7330 совпадает со строкой 12330\n",
                    "output_type": "stream"
                },
                {
                    "name": "stdout",
                    "text": "Строка 7331 совпадает со строкой 12331\n",
                    "output_type": "stream"
                },
                {
                    "name": "stdout",
                    "text": "Строка 7332 совпадает со строкой 12332\n",
                    "output_type": "stream"
                },
                {
                    "name": "stdout",
                    "text": "Строка 7333 совпадает со строкой 12333\n",
                    "output_type": "stream"
                },
                {
                    "name": "stdout",
                    "text": "Строка 7334 совпадает со строкой 12334\n",
                    "output_type": "stream"
                },
                {
                    "name": "stdout",
                    "text": "Строка 7335 совпадает со строкой 12335\n",
                    "output_type": "stream"
                },
                {
                    "name": "stdout",
                    "text": "Строка 7336 совпадает со строкой 12336\n",
                    "output_type": "stream"
                },
                {
                    "name": "stdout",
                    "text": "Строка 7338 совпадает со строкой 12338\n",
                    "output_type": "stream"
                },
                {
                    "name": "stdout",
                    "text": "Строка 7339 совпадает со строкой 12339\n",
                    "output_type": "stream"
                },
                {
                    "name": "stdout",
                    "text": "Строка 7340 совпадает со строкой 12340\n",
                    "output_type": "stream"
                },
                {
                    "name": "stdout",
                    "text": "Строка 7341 совпадает со строкой 12341\n",
                    "output_type": "stream"
                },
                {
                    "name": "stdout",
                    "text": "Строка 7342 совпадает со строкой 12342\n",
                    "output_type": "stream"
                },
                {
                    "name": "stdout",
                    "text": "Строка 7343 совпадает со строкой 12343\n",
                    "output_type": "stream"
                },
                {
                    "name": "stdout",
                    "text": "Строка 7344 совпадает со строкой 12344\n",
                    "output_type": "stream"
                },
                {
                    "name": "stdout",
                    "text": "Строка 7345 совпадает со строкой 12345\n",
                    "output_type": "stream"
                },
                {
                    "name": "stdout",
                    "text": "Строка 7346 совпадает со строкой 12346\n",
                    "output_type": "stream"
                },
                {
                    "name": "stdout",
                    "text": "Строка 7347 совпадает со строкой 12347\n",
                    "output_type": "stream"
                },
                {
                    "name": "stdout",
                    "text": "Строка 7348 совпадает со строкой 12348\n",
                    "output_type": "stream"
                },
                {
                    "name": "stdout",
                    "text": "Строка 7349 совпадает со строкой 12349\n",
                    "output_type": "stream"
                },
                {
                    "name": "stdout",
                    "text": "Строка 7350 совпадает со строкой 12350\n",
                    "output_type": "stream"
                },
                {
                    "name": "stdout",
                    "text": "Строка 7351 совпадает со строкой 12351\n",
                    "output_type": "stream"
                },
                {
                    "name": "stdout",
                    "text": "Строка 7352 совпадает со строкой 12352\n",
                    "output_type": "stream"
                },
                {
                    "name": "stdout",
                    "text": "Строка 7353 совпадает со строкой 12353\n",
                    "output_type": "stream"
                },
                {
                    "name": "stdout",
                    "text": "Строка 7354 совпадает со строкой 12354\n",
                    "output_type": "stream"
                },
                {
                    "name": "stdout",
                    "text": "Строка 7355 совпадает со строкой 12355\n",
                    "output_type": "stream"
                },
                {
                    "name": "stdout",
                    "text": "Строка 7356 совпадает со строкой 12356\n",
                    "output_type": "stream"
                },
                {
                    "name": "stdout",
                    "text": "Строка 7357 совпадает со строкой 12357\n",
                    "output_type": "stream"
                },
                {
                    "name": "stdout",
                    "text": "Строка 7358 совпадает со строкой 12358\n",
                    "output_type": "stream"
                },
                {
                    "name": "stdout",
                    "text": "Строка 7365 совпадает со строкой 12365\n",
                    "output_type": "stream"
                },
                {
                    "name": "stdout",
                    "text": "Строка 7366 совпадает со строкой 12366\n",
                    "output_type": "stream"
                },
                {
                    "name": "stdout",
                    "text": "Строка 7367 совпадает со строкой 12367\n",
                    "output_type": "stream"
                },
                {
                    "name": "stdout",
                    "text": "Строка 7368 совпадает со строкой 12368\n",
                    "output_type": "stream"
                },
                {
                    "name": "stdout",
                    "text": "Строка 7369 совпадает со строкой 12369\n",
                    "output_type": "stream"
                },
                {
                    "name": "stdout",
                    "text": "Строка 7370 совпадает со строкой 12370\n",
                    "output_type": "stream"
                },
                {
                    "name": "stdout",
                    "text": "Строка 7371 совпадает со строкой 12371\n",
                    "output_type": "stream"
                },
                {
                    "name": "stdout",
                    "text": "Строка 7373 совпадает со строкой 12373\n",
                    "output_type": "stream"
                },
                {
                    "name": "stdout",
                    "text": "Строка 7374 совпадает со строкой 12374\n",
                    "output_type": "stream"
                },
                {
                    "name": "stdout",
                    "text": "Строка 7375 совпадает со строкой 12375\n",
                    "output_type": "stream"
                },
                {
                    "name": "stdout",
                    "text": "Строка 7376 совпадает со строкой 12376\n",
                    "output_type": "stream"
                },
                {
                    "name": "stdout",
                    "text": "Строка 7377 совпадает со строкой 12377\n",
                    "output_type": "stream"
                },
                {
                    "name": "stdout",
                    "text": "Строка 7378 совпадает со строкой 12378\n",
                    "output_type": "stream"
                },
                {
                    "name": "stdout",
                    "text": "Строка 7379 совпадает со строкой 12379\n",
                    "output_type": "stream"
                },
                {
                    "name": "stdout",
                    "text": "Строка 7380 совпадает со строкой 12380\n",
                    "output_type": "stream"
                },
                {
                    "name": "stdout",
                    "text": "Строка 7381 совпадает со строкой 12381\n",
                    "output_type": "stream"
                },
                {
                    "name": "stdout",
                    "text": "Строка 7382 совпадает со строкой 12382\n",
                    "output_type": "stream"
                },
                {
                    "name": "stdout",
                    "text": "Строка 7383 совпадает со строкой 12383\n",
                    "output_type": "stream"
                },
                {
                    "name": "stdout",
                    "text": "Строка 7384 совпадает со строкой 12384\n",
                    "output_type": "stream"
                },
                {
                    "name": "stdout",
                    "text": "Строка 7385 совпадает со строкой 12385\n",
                    "output_type": "stream"
                },
                {
                    "name": "stdout",
                    "text": "Строка 7386 совпадает со строкой 12386\n",
                    "output_type": "stream"
                },
                {
                    "name": "stdout",
                    "text": "Строка 7387 совпадает со строкой 12387\n",
                    "output_type": "stream"
                },
                {
                    "name": "stdout",
                    "text": "Строка 7388 совпадает со строкой 12388\n",
                    "output_type": "stream"
                },
                {
                    "name": "stdout",
                    "text": "Строка 7389 совпадает со строкой 12389\n",
                    "output_type": "stream"
                },
                {
                    "name": "stdout",
                    "text": "Строка 7390 совпадает со строкой 12390\n",
                    "output_type": "stream"
                },
                {
                    "name": "stdout",
                    "text": "Строка 7391 совпадает со строкой 12391\n",
                    "output_type": "stream"
                },
                {
                    "name": "stdout",
                    "text": "Строка 7392 совпадает со строкой 12392\n",
                    "output_type": "stream"
                },
                {
                    "name": "stdout",
                    "text": "Строка 7393 совпадает со строкой 12393\n",
                    "output_type": "stream"
                },
                {
                    "name": "stdout",
                    "text": "Строка 7400 совпадает со строкой 12400\n",
                    "output_type": "stream"
                },
                {
                    "name": "stdout",
                    "text": "Строка 7401 совпадает со строкой 12401\n",
                    "output_type": "stream"
                },
                {
                    "name": "stdout",
                    "text": "Строка 7402 совпадает со строкой 12402\n",
                    "output_type": "stream"
                },
                {
                    "name": "stdout",
                    "text": "Строка 7403 совпадает со строкой 12403\n",
                    "output_type": "stream"
                },
                {
                    "name": "stdout",
                    "text": "Строка 7404 совпадает со строкой 12404\n",
                    "output_type": "stream"
                },
                {
                    "name": "stdout",
                    "text": "Строка 7405 совпадает со строкой 12405\n",
                    "output_type": "stream"
                },
                {
                    "name": "stdout",
                    "text": "Строка 7407 совпадает со строкой 12407\n",
                    "output_type": "stream"
                },
                {
                    "name": "stdout",
                    "text": "Строка 7408 совпадает со строкой 12408\n",
                    "output_type": "stream"
                },
                {
                    "name": "stdout",
                    "text": "Строка 7409 совпадает со строкой 12409\n",
                    "output_type": "stream"
                },
                {
                    "name": "stdout",
                    "text": "Строка 7410 совпадает со строкой 12410\n",
                    "output_type": "stream"
                },
                {
                    "name": "stdout",
                    "text": "Строка 7411 совпадает со строкой 12411\n",
                    "output_type": "stream"
                },
                {
                    "name": "stdout",
                    "text": "Строка 7412 совпадает со строкой 12412\n",
                    "output_type": "stream"
                },
                {
                    "name": "stdout",
                    "text": "Строка 7413 совпадает со строкой 12413\n",
                    "output_type": "stream"
                },
                {
                    "name": "stdout",
                    "text": "Строка 7414 совпадает со строкой 12414\n",
                    "output_type": "stream"
                },
                {
                    "name": "stdout",
                    "text": "Строка 7415 совпадает со строкой 12415\n",
                    "output_type": "stream"
                },
                {
                    "name": "stdout",
                    "text": "Строка 7416 совпадает со строкой 12416\n",
                    "output_type": "stream"
                },
                {
                    "name": "stdout",
                    "text": "Строка 7417 совпадает со строкой 12417\n",
                    "output_type": "stream"
                },
                {
                    "name": "stdout",
                    "text": "Строка 7418 совпадает со строкой 12418\n",
                    "output_type": "stream"
                },
                {
                    "name": "stdout",
                    "text": "Строка 7419 совпадает со строкой 12419\n",
                    "output_type": "stream"
                },
                {
                    "name": "stdout",
                    "text": "Строка 7420 совпадает со строкой 12420\n",
                    "output_type": "stream"
                },
                {
                    "name": "stdout",
                    "text": "Строка 7421 совпадает со строкой 12421\n",
                    "output_type": "stream"
                },
                {
                    "name": "stdout",
                    "text": "Строка 7422 совпадает со строкой 12422\n",
                    "output_type": "stream"
                },
                {
                    "name": "stdout",
                    "text": "Строка 7423 совпадает со строкой 12423\n",
                    "output_type": "stream"
                },
                {
                    "name": "stdout",
                    "text": "Строка 7424 совпадает со строкой 12424\n",
                    "output_type": "stream"
                },
                {
                    "name": "stdout",
                    "text": "Строка 7425 совпадает со строкой 12425\n",
                    "output_type": "stream"
                },
                {
                    "name": "stdout",
                    "text": "Строка 7426 совпадает со строкой 12426\n",
                    "output_type": "stream"
                },
                {
                    "name": "stdout",
                    "text": "Строка 7427 совпадает со строкой 12427\n",
                    "output_type": "stream"
                },
                {
                    "name": "stdout",
                    "text": "Строка 7428 совпадает со строкой 12428\n",
                    "output_type": "stream"
                },
                {
                    "name": "stdout",
                    "text": "Строка 7429 совпадает со строкой 12429\n",
                    "output_type": "stream"
                },
                {
                    "name": "stdout",
                    "text": "Строка 7430 совпадает со строкой 12430\n",
                    "output_type": "stream"
                },
                {
                    "name": "stdout",
                    "text": "Строка 7441 совпадает со строкой 8371\n",
                    "output_type": "stream"
                },
                {
                    "name": "stdout",
                    "text": "Строка 7441 совпадает со строкой 12436\n",
                    "output_type": "stream"
                },
                {
                    "name": "stdout",
                    "text": "Строка 7443 совпадает со строкой 8371\n",
                    "output_type": "stream"
                },
                {
                    "name": "stdout",
                    "text": "Строка 7443 совпадает со строкой 12436\n",
                    "output_type": "stream"
                },
                {
                    "name": "stdout",
                    "text": "Строка 7445 совпадает со строкой 8371\n",
                    "output_type": "stream"
                },
                {
                    "name": "stdout",
                    "text": "Строка 7445 совпадает со строкой 12436\n",
                    "output_type": "stream"
                },
                {
                    "name": "stdout",
                    "text": "Строка 7447 совпадает со строкой 8371\n",
                    "output_type": "stream"
                },
                {
                    "name": "stdout",
                    "text": "Строка 7447 совпадает со строкой 12436\n",
                    "output_type": "stream"
                },
                {
                    "name": "stdout",
                    "text": "Строка 7449 совпадает со строкой 8371\n",
                    "output_type": "stream"
                },
                {
                    "name": "stdout",
                    "text": "Строка 7449 совпадает со строкой 12436\n",
                    "output_type": "stream"
                },
                {
                    "name": "stdout",
                    "text": "Строка 7451 совпадает со строкой 8371\n",
                    "output_type": "stream"
                },
                {
                    "name": "stdout",
                    "text": "Строка 7451 совпадает со строкой 12436\n",
                    "output_type": "stream"
                },
                {
                    "name": "stdout",
                    "text": "Строка 7458 совпадает со строкой 8370\n",
                    "output_type": "stream"
                },
                {
                    "name": "stdout",
                    "text": "Строка 7458 совпадает со строкой 12435\n",
                    "output_type": "stream"
                },
                {
                    "name": "stdout",
                    "text": "Строка 7477 совпадает со строкой 8372\n",
                    "output_type": "stream"
                },
                {
                    "name": "stdout",
                    "text": "Строка 7477 совпадает со строкой 12437\n",
                    "output_type": "stream"
                },
                {
                    "name": "stdout",
                    "text": "Строка 7478 совпадает со строкой 8373\n",
                    "output_type": "stream"
                },
                {
                    "name": "stdout",
                    "text": "Строка 7478 совпадает со строкой 12438\n",
                    "output_type": "stream"
                },
                {
                    "name": "stdout",
                    "text": "Строка 7479 совпадает со строкой 8374\n",
                    "output_type": "stream"
                },
                {
                    "name": "stdout",
                    "text": "Строка 7479 совпадает со строкой 12439\n",
                    "output_type": "stream"
                },
                {
                    "name": "stdout",
                    "text": "Строка 7480 совпадает со строкой 8375\n",
                    "output_type": "stream"
                },
                {
                    "name": "stdout",
                    "text": "Строка 7480 совпадает со строкой 12440\n",
                    "output_type": "stream"
                },
                {
                    "name": "stdout",
                    "text": "Строка 7481 совпадает со строкой 8376\n",
                    "output_type": "stream"
                },
                {
                    "name": "stdout",
                    "text": "Строка 7481 совпадает со строкой 12441\n",
                    "output_type": "stream"
                },
                {
                    "name": "stdout",
                    "text": "Строка 7482 совпадает со строкой 8377\n",
                    "output_type": "stream"
                },
                {
                    "name": "stdout",
                    "text": "Строка 7482 совпадает со строкой 12442\n",
                    "output_type": "stream"
                },
                {
                    "name": "stdout",
                    "text": "Строка 7483 совпадает со строкой 8378\n",
                    "output_type": "stream"
                },
                {
                    "name": "stdout",
                    "text": "Строка 7483 совпадает со строкой 12443\n",
                    "output_type": "stream"
                },
                {
                    "name": "stdout",
                    "text": "Строка 7484 совпадает со строкой 8379\n",
                    "output_type": "stream"
                },
                {
                    "name": "stdout",
                    "text": "Строка 7484 совпадает со строкой 12444\n",
                    "output_type": "stream"
                },
                {
                    "name": "stdout",
                    "text": "Строка 7485 совпадает со строкой 8380\n",
                    "output_type": "stream"
                },
                {
                    "name": "stdout",
                    "text": "Строка 7485 совпадает со строкой 12445\n",
                    "output_type": "stream"
                },
                {
                    "name": "stdout",
                    "text": "Строка 7486 совпадает со строкой 8381\n",
                    "output_type": "stream"
                },
                {
                    "name": "stdout",
                    "text": "Строка 7486 совпадает со строкой 12446\n",
                    "output_type": "stream"
                },
                {
                    "name": "stdout",
                    "text": "Строка 7487 совпадает со строкой 8382\n",
                    "output_type": "stream"
                },
                {
                    "name": "stdout",
                    "text": "Строка 7487 совпадает со строкой 12447\n",
                    "output_type": "stream"
                },
                {
                    "name": "stdout",
                    "text": "Строка 7488 совпадает со строкой 8383\n",
                    "output_type": "stream"
                },
                {
                    "name": "stdout",
                    "text": "Строка 7488 совпадает со строкой 12448\n",
                    "output_type": "stream"
                },
                {
                    "name": "stdout",
                    "text": "Строка 7489 совпадает со строкой 8384\n",
                    "output_type": "stream"
                },
                {
                    "name": "stdout",
                    "text": "Строка 7489 совпадает со строкой 12449\n",
                    "output_type": "stream"
                },
                {
                    "name": "stdout",
                    "text": "Строка 7490 совпадает со строкой 8385\n",
                    "output_type": "stream"
                },
                {
                    "name": "stdout",
                    "text": "Строка 7490 совпадает со строкой 12450\n",
                    "output_type": "stream"
                },
                {
                    "name": "stdout",
                    "text": "Строка 7491 совпадает со строкой 8386\n",
                    "output_type": "stream"
                },
                {
                    "name": "stdout",
                    "text": "Строка 7491 совпадает со строкой 12451\n",
                    "output_type": "stream"
                },
                {
                    "name": "stdout",
                    "text": "Строка 7492 совпадает со строкой 8387\n",
                    "output_type": "stream"
                },
                {
                    "name": "stdout",
                    "text": "Строка 7492 совпадает со строкой 12452\n",
                    "output_type": "stream"
                },
                {
                    "name": "stdout",
                    "text": "Строка 7493 совпадает со строкой 8388\n",
                    "output_type": "stream"
                },
                {
                    "name": "stdout",
                    "text": "Строка 7493 совпадает со строкой 12453\n",
                    "output_type": "stream"
                },
                {
                    "name": "stdout",
                    "text": "Строка 7507 совпадает со строкой 8087\n",
                    "output_type": "stream"
                },
                {
                    "name": "stdout",
                    "text": "Строка 7508 совпадает со строкой 8088\n",
                    "output_type": "stream"
                },
                {
                    "name": "stdout",
                    "text": "Строка 7509 совпадает со строкой 8089\n",
                    "output_type": "stream"
                },
                {
                    "name": "stdout",
                    "text": "Строка 7510 совпадает со строкой 8090\n",
                    "output_type": "stream"
                },
                {
                    "name": "stdout",
                    "text": "Строка 7511 совпадает со строкой 8091\n",
                    "output_type": "stream"
                },
                {
                    "name": "stdout",
                    "text": "Строка 7512 совпадает со строкой 8092\n",
                    "output_type": "stream"
                },
                {
                    "name": "stdout",
                    "text": "Строка 7513 совпадает со строкой 8127\n",
                    "output_type": "stream"
                },
                {
                    "name": "stdout",
                    "text": "Строка 7514 совпадает со строкой 8128\n",
                    "output_type": "stream"
                },
                {
                    "name": "stdout",
                    "text": "Строка 7515 совпадает со строкой 8129\n",
                    "output_type": "stream"
                },
                {
                    "name": "stdout",
                    "text": "Строка 7516 совпадает со строкой 8130\n",
                    "output_type": "stream"
                },
                {
                    "name": "stdout",
                    "text": "Строка 7517 совпадает со строкой 8131\n",
                    "output_type": "stream"
                },
                {
                    "name": "stdout",
                    "text": "Строка 7518 совпадает со строкой 8132\n",
                    "output_type": "stream"
                },
                {
                    "name": "stdout",
                    "text": "Строка 7519 совпадает со строкой 8133\n",
                    "output_type": "stream"
                },
                {
                    "name": "stdout",
                    "text": "Строка 7520 совпадает со строкой 8086\n",
                    "output_type": "stream"
                },
                {
                    "name": "stdout",
                    "text": "Строка 7521 совпадает со строкой 8088\n",
                    "output_type": "stream"
                },
                {
                    "name": "stdout",
                    "text": "Строка 7522 совпадает со строкой 8089\n",
                    "output_type": "stream"
                },
                {
                    "name": "stdout",
                    "text": "Строка 7523 совпадает со строкой 8090\n",
                    "output_type": "stream"
                },
                {
                    "name": "stdout",
                    "text": "Строка 7524 совпадает со строкой 8093\n",
                    "output_type": "stream"
                },
                {
                    "name": "stdout",
                    "text": "Строка 7525 совпадает со строкой 8094\n",
                    "output_type": "stream"
                },
                {
                    "name": "stdout",
                    "text": "Строка 7526 совпадает со строкой 8095\n",
                    "output_type": "stream"
                },
                {
                    "name": "stdout",
                    "text": "Строка 7527 совпадает со строкой 8096\n",
                    "output_type": "stream"
                },
                {
                    "name": "stdout",
                    "text": "Строка 7528 совпадает со строкой 8097\n",
                    "output_type": "stream"
                },
                {
                    "name": "stdout",
                    "text": "Строка 7529 совпадает со строкой 8098\n",
                    "output_type": "stream"
                },
                {
                    "name": "stdout",
                    "text": "Строка 7530 совпадает со строкой 8099\n",
                    "output_type": "stream"
                },
                {
                    "name": "stdout",
                    "text": "Строка 7531 совпадает со строкой 8100\n",
                    "output_type": "stream"
                },
                {
                    "name": "stdout",
                    "text": "Строка 7532 совпадает со строкой 8082\n",
                    "output_type": "stream"
                },
                {
                    "name": "stdout",
                    "text": "Строка 7532 совпадает со строкой 8590\n",
                    "output_type": "stream"
                },
                {
                    "name": "stdout",
                    "text": "Строка 7532 совпадает со строкой 12655\n",
                    "output_type": "stream"
                },
                {
                    "name": "stdout",
                    "text": "Строка 7533 совпадает со строкой 8100\n",
                    "output_type": "stream"
                },
                {
                    "name": "stdout",
                    "text": "Строка 7534 совпадает со строкой 8101\n",
                    "output_type": "stream"
                },
                {
                    "name": "stdout",
                    "text": "Строка 7535 совпадает со строкой 8102\n",
                    "output_type": "stream"
                },
                {
                    "name": "stdout",
                    "text": "Строка 7555 совпадает со строкой 8135\n",
                    "output_type": "stream"
                },
                {
                    "name": "stdout",
                    "text": "Строка 7558 совпадает со строкой 8143\n",
                    "output_type": "stream"
                },
                {
                    "name": "stdout",
                    "text": "Строка 7558 совпадает со строкой 8598\n",
                    "output_type": "stream"
                },
                {
                    "name": "stdout",
                    "text": "Строка 7558 совпадает со строкой 12663\n",
                    "output_type": "stream"
                },
                {
                    "name": "stdout",
                    "text": "Строка 7559 совпадает со строкой 8144\n",
                    "output_type": "stream"
                },
                {
                    "name": "stdout",
                    "text": "Строка 7559 совпадает со строкой 8599\n",
                    "output_type": "stream"
                },
                {
                    "name": "stdout",
                    "text": "Строка 7559 совпадает со строкой 12664\n",
                    "output_type": "stream"
                },
                {
                    "name": "stdout",
                    "text": "Строка 7560 совпадает со строкой 8145\n",
                    "output_type": "stream"
                },
                {
                    "name": "stdout",
                    "text": "Строка 7560 совпадает со строкой 8600\n",
                    "output_type": "stream"
                },
                {
                    "name": "stdout",
                    "text": "Строка 7560 совпадает со строкой 12665\n",
                    "output_type": "stream"
                },
                {
                    "name": "stdout",
                    "text": "Строка 7561 совпадает со строкой 8146\n",
                    "output_type": "stream"
                },
                {
                    "name": "stdout",
                    "text": "Строка 7561 совпадает со строкой 8601\n",
                    "output_type": "stream"
                },
                {
                    "name": "stdout",
                    "text": "Строка 7561 совпадает со строкой 12666\n",
                    "output_type": "stream"
                },
                {
                    "name": "stdout",
                    "text": "Строка 7562 совпадает со строкой 8147\n",
                    "output_type": "stream"
                },
                {
                    "name": "stdout",
                    "text": "Строка 7562 совпадает со строкой 8602\n",
                    "output_type": "stream"
                },
                {
                    "name": "stdout",
                    "text": "Строка 7562 совпадает со строкой 12667\n",
                    "output_type": "stream"
                },
                {
                    "name": "stdout",
                    "text": "Строка 7563 совпадает со строкой 8148\n",
                    "output_type": "stream"
                },
                {
                    "name": "stdout",
                    "text": "Строка 7563 совпадает со строкой 8603\n",
                    "output_type": "stream"
                },
                {
                    "name": "stdout",
                    "text": "Строка 7563 совпадает со строкой 12668\n",
                    "output_type": "stream"
                },
                {
                    "name": "stdout",
                    "text": "Строка 7564 совпадает со строкой 8153\n",
                    "output_type": "stream"
                },
                {
                    "name": "stdout",
                    "text": "Строка 7564 совпадает со строкой 8608\n",
                    "output_type": "stream"
                },
                {
                    "name": "stdout",
                    "text": "Строка 7564 совпадает со строкой 12673\n",
                    "output_type": "stream"
                },
                {
                    "name": "stdout",
                    "text": "Строка 7568 совпадает со строкой 8119\n",
                    "output_type": "stream"
                },
                {
                    "name": "stdout",
                    "text": "Строка 7568 совпадает со строкой 8574\n",
                    "output_type": "stream"
                },
                {
                    "name": "stdout",
                    "text": "Строка 7568 совпадает со строкой 12639\n",
                    "output_type": "stream"
                },
                {
                    "name": "stdout",
                    "text": "Строка 7569 совпадает со строкой 8144\n",
                    "output_type": "stream"
                },
                {
                    "name": "stdout",
                    "text": "Строка 7569 совпадает со строкой 8599\n",
                    "output_type": "stream"
                },
                {
                    "name": "stdout",
                    "text": "Строка 7569 совпадает со строкой 12664\n",
                    "output_type": "stream"
                },
                {
                    "name": "stdout",
                    "text": "Строка 7570 совпадает со строкой 8149\n",
                    "output_type": "stream"
                },
                {
                    "name": "stdout",
                    "text": "Строка 7570 совпадает со строкой 8604\n",
                    "output_type": "stream"
                },
                {
                    "name": "stdout",
                    "text": "Строка 7570 совпадает со строкой 12669\n",
                    "output_type": "stream"
                },
                {
                    "name": "stdout",
                    "text": "Строка 7571 совпадает со строкой 8150\n",
                    "output_type": "stream"
                },
                {
                    "name": "stdout",
                    "text": "Строка 7571 совпадает со строкой 8605\n",
                    "output_type": "stream"
                },
                {
                    "name": "stdout",
                    "text": "Строка 7571 совпадает со строкой 12670\n",
                    "output_type": "stream"
                },
                {
                    "name": "stdout",
                    "text": "Строка 7572 совпадает со строкой 8151\n",
                    "output_type": "stream"
                },
                {
                    "name": "stdout",
                    "text": "Строка 7573 совпадает со строкой 8152\n",
                    "output_type": "stream"
                },
                {
                    "name": "stdout",
                    "text": "Строка 7574 совпадает со строкой 8153\n",
                    "output_type": "stream"
                },
                {
                    "name": "stdout",
                    "text": "Строка 7575 совпадает со строкой 8154\n",
                    "output_type": "stream"
                },
                {
                    "name": "stdout",
                    "text": "Строка 7575 совпадает со строкой 8601\n",
                    "output_type": "stream"
                },
                {
                    "name": "stdout",
                    "text": "Строка 7575 совпадает со строкой 12666\n",
                    "output_type": "stream"
                },
                {
                    "name": "stdout",
                    "text": "Строка 7576 совпадает со строкой 8155\n",
                    "output_type": "stream"
                },
                {
                    "name": "stdout",
                    "text": "Строка 7576 совпадает со строкой 8602\n",
                    "output_type": "stream"
                },
                {
                    "name": "stdout",
                    "text": "Строка 7576 совпадает со строкой 12667\n",
                    "output_type": "stream"
                },
                {
                    "name": "stdout",
                    "text": "Строка 7582 совпадает со строкой 8161\n",
                    "output_type": "stream"
                },
                {
                    "name": "stdout",
                    "text": "Строка 7583 совпадает со строкой 8162\n",
                    "output_type": "stream"
                },
                {
                    "name": "stdout",
                    "text": "Строка 7584 совпадает со строкой 8163\n",
                    "output_type": "stream"
                },
                {
                    "name": "stdout",
                    "text": "Строка 7585 совпадает со строкой 8164\n",
                    "output_type": "stream"
                },
                {
                    "name": "stdout",
                    "text": "Строка 7586 совпадает со строкой 8165\n",
                    "output_type": "stream"
                },
                {
                    "name": "stdout",
                    "text": "Строка 7587 совпадает со строкой 8166\n",
                    "output_type": "stream"
                },
                {
                    "name": "stdout",
                    "text": "Строка 7587 совпадает со строкой 8482\n",
                    "output_type": "stream"
                },
                {
                    "name": "stdout",
                    "text": "Строка 7587 совпадает со строкой 12547\n",
                    "output_type": "stream"
                },
                {
                    "name": "stdout",
                    "text": "Строка 7588 совпадает со строкой 8167\n",
                    "output_type": "stream"
                },
                {
                    "name": "stdout",
                    "text": "Строка 7588 совпадает со строкой 8482\n",
                    "output_type": "stream"
                },
                {
                    "name": "stdout",
                    "text": "Строка 7588 совпадает со строкой 12547\n",
                    "output_type": "stream"
                },
                {
                    "name": "stdout",
                    "text": "Строка 7589 совпадает со строкой 8168\n",
                    "output_type": "stream"
                },
                {
                    "name": "stdout",
                    "text": "Строка 7589 совпадает со строкой 8481\n",
                    "output_type": "stream"
                },
                {
                    "name": "stdout",
                    "text": "Строка 7589 совпадает со строкой 12546\n",
                    "output_type": "stream"
                },
                {
                    "name": "stdout",
                    "text": "Строка 7590 совпадает со строкой 8169\n",
                    "output_type": "stream"
                },
                {
                    "name": "stdout",
                    "text": "Строка 7591 совпадает со строкой 8170\n",
                    "output_type": "stream"
                },
                {
                    "name": "stdout",
                    "text": "Строка 7592 совпадает со строкой 8171\n",
                    "output_type": "stream"
                },
                {
                    "name": "stdout",
                    "text": "Строка 7593 совпадает со строкой 8172\n",
                    "output_type": "stream"
                },
                {
                    "name": "stdout",
                    "text": "Строка 7594 совпадает со строкой 8173\n",
                    "output_type": "stream"
                },
                {
                    "name": "stdout",
                    "text": "Строка 7595 совпадает со строкой 8174\n",
                    "output_type": "stream"
                },
                {
                    "name": "stdout",
                    "text": "Строка 7596 совпадает со строкой 8175\n",
                    "output_type": "stream"
                },
                {
                    "name": "stdout",
                    "text": "Строка 7597 совпадает со строкой 8176\n",
                    "output_type": "stream"
                },
                {
                    "name": "stdout",
                    "text": "Строка 7598 совпадает со строкой 8177\n",
                    "output_type": "stream"
                },
                {
                    "name": "stdout",
                    "text": "Строка 7599 совпадает со строкой 8178\n",
                    "output_type": "stream"
                },
                {
                    "name": "stdout",
                    "text": "Строка 7600 совпадает со строкой 8179\n",
                    "output_type": "stream"
                },
                {
                    "name": "stdout",
                    "text": "Строка 7603 совпадает со строкой 8181\n",
                    "output_type": "stream"
                },
                {
                    "name": "stdout",
                    "text": "Строка 7603 совпадает со строкой 8473\n",
                    "output_type": "stream"
                },
                {
                    "name": "stdout",
                    "text": "Строка 7603 совпадает со строкой 12538\n",
                    "output_type": "stream"
                },
                {
                    "name": "stdout",
                    "text": "Строка 7604 совпадает со строкой 8182\n",
                    "output_type": "stream"
                },
                {
                    "name": "stdout",
                    "text": "Строка 7604 совпадает со строкой 8474\n",
                    "output_type": "stream"
                },
                {
                    "name": "stdout",
                    "text": "Строка 7604 совпадает со строкой 12539\n",
                    "output_type": "stream"
                },
                {
                    "name": "stdout",
                    "text": "Строка 7605 совпадает со строкой 8183\n",
                    "output_type": "stream"
                },
                {
                    "name": "stdout",
                    "text": "Строка 7605 совпадает со строкой 8475\n",
                    "output_type": "stream"
                },
                {
                    "name": "stdout",
                    "text": "Строка 7605 совпадает со строкой 12540\n",
                    "output_type": "stream"
                },
                {
                    "name": "stdout",
                    "text": "Строка 7606 совпадает со строкой 8182\n",
                    "output_type": "stream"
                },
                {
                    "name": "stdout",
                    "text": "Строка 7606 совпадает со строкой 8474\n",
                    "output_type": "stream"
                },
                {
                    "name": "stdout",
                    "text": "Строка 7606 совпадает со строкой 12539\n",
                    "output_type": "stream"
                },
                {
                    "name": "stdout",
                    "text": "Строка 7607 совпадает со строкой 8183\n",
                    "output_type": "stream"
                },
                {
                    "name": "stdout",
                    "text": "Строка 7607 совпадает со строкой 8475\n",
                    "output_type": "stream"
                },
                {
                    "name": "stdout",
                    "text": "Строка 7607 совпадает со строкой 12540\n",
                    "output_type": "stream"
                },
                {
                    "name": "stdout",
                    "text": "Строка 7608 совпадает со строкой 8184\n",
                    "output_type": "stream"
                },
                {
                    "name": "stdout",
                    "text": "Строка 7608 совпадает со строкой 8476\n",
                    "output_type": "stream"
                },
                {
                    "name": "stdout",
                    "text": "Строка 7608 совпадает со строкой 12541\n",
                    "output_type": "stream"
                },
                {
                    "name": "stdout",
                    "text": "Строка 7609 совпадает со строкой 8185\n",
                    "output_type": "stream"
                },
                {
                    "name": "stdout",
                    "text": "Строка 7609 совпадает со строкой 8477\n",
                    "output_type": "stream"
                },
                {
                    "name": "stdout",
                    "text": "Строка 7609 совпадает со строкой 12542\n",
                    "output_type": "stream"
                },
                {
                    "name": "stdout",
                    "text": "Строка 7610 совпадает со строкой 8186\n",
                    "output_type": "stream"
                },
                {
                    "name": "stdout",
                    "text": "Строка 7610 совпадает со строкой 8478\n",
                    "output_type": "stream"
                },
                {
                    "name": "stdout",
                    "text": "Строка 7610 совпадает со строкой 12543\n",
                    "output_type": "stream"
                },
                {
                    "name": "stdout",
                    "text": "Строка 7611 совпадает со строкой 8187\n",
                    "output_type": "stream"
                },
                {
                    "name": "stdout",
                    "text": "Строка 7611 совпадает со строкой 8479\n",
                    "output_type": "stream"
                },
                {
                    "name": "stdout",
                    "text": "Строка 7611 совпадает со строкой 12544\n",
                    "output_type": "stream"
                },
                {
                    "name": "stdout",
                    "text": "Строка 7612 совпадает со строкой 8188\n",
                    "output_type": "stream"
                },
                {
                    "name": "stdout",
                    "text": "Строка 7613 совпадает со строкой 8189\n",
                    "output_type": "stream"
                },
                {
                    "name": "stdout",
                    "text": "Строка 7619 совпадает со строкой 8266\n",
                    "output_type": "stream"
                },
                {
                    "name": "stdout",
                    "text": "Строка 7619 совпадает со строкой 12331\n",
                    "output_type": "stream"
                },
                {
                    "name": "stdout",
                    "text": "Строка 7624 совпадает со строкой 8265\n",
                    "output_type": "stream"
                },
                {
                    "name": "stdout",
                    "text": "Строка 7624 совпадает со строкой 12330\n",
                    "output_type": "stream"
                },
                {
                    "name": "stdout",
                    "text": "Строка 7629 совпадает со строкой 8264\n",
                    "output_type": "stream"
                },
                {
                    "name": "stdout",
                    "text": "Строка 7629 совпадает со строкой 12329\n",
                    "output_type": "stream"
                },
                {
                    "name": "stdout",
                    "text": "Строка 7630 совпадает со строкой 8263\n",
                    "output_type": "stream"
                },
                {
                    "name": "stdout",
                    "text": "Строка 7630 совпадает со строкой 12328\n",
                    "output_type": "stream"
                },
                {
                    "name": "stdout",
                    "text": "Строка 7631 совпадает со строкой 8262\n",
                    "output_type": "stream"
                },
                {
                    "name": "stdout",
                    "text": "Строка 7631 совпадает со строкой 12327\n",
                    "output_type": "stream"
                },
                {
                    "name": "stdout",
                    "text": "Строка 7632 совпадает со строкой 8262\n",
                    "output_type": "stream"
                },
                {
                    "name": "stdout",
                    "text": "Строка 7632 совпадает со строкой 12327\n",
                    "output_type": "stream"
                },
                {
                    "name": "stdout",
                    "text": "Строка 7640 совпадает со строкой 8263\n",
                    "output_type": "stream"
                },
                {
                    "name": "stdout",
                    "text": "Строка 7640 совпадает со строкой 12328\n",
                    "output_type": "stream"
                },
                {
                    "name": "stdout",
                    "text": "Строка 7659 совпадает со строкой 8265\n",
                    "output_type": "stream"
                },
                {
                    "name": "stdout",
                    "text": "Строка 7659 совпадает со строкой 12330\n",
                    "output_type": "stream"
                },
                {
                    "name": "stdout",
                    "text": "Строка 7660 совпадает со строкой 8266\n",
                    "output_type": "stream"
                },
                {
                    "name": "stdout",
                    "text": "Строка 7660 совпадает со строкой 12331\n",
                    "output_type": "stream"
                },
                {
                    "name": "stdout",
                    "text": "Строка 7661 совпадает со строкой 8267\n",
                    "output_type": "stream"
                },
                {
                    "name": "stdout",
                    "text": "Строка 7661 совпадает со строкой 12332\n",
                    "output_type": "stream"
                },
                {
                    "name": "stdout",
                    "text": "Строка 7662 совпадает со строкой 8268\n",
                    "output_type": "stream"
                },
                {
                    "name": "stdout",
                    "text": "Строка 7662 совпадает со строкой 12333\n",
                    "output_type": "stream"
                },
                {
                    "name": "stdout",
                    "text": "Строка 7663 совпадает со строкой 8269\n",
                    "output_type": "stream"
                },
                {
                    "name": "stdout",
                    "text": "Строка 7663 совпадает со строкой 12334\n",
                    "output_type": "stream"
                },
                {
                    "name": "stdout",
                    "text": "Строка 7664 совпадает со строкой 8270\n",
                    "output_type": "stream"
                },
                {
                    "name": "stdout",
                    "text": "Строка 7664 совпадает со строкой 12335\n",
                    "output_type": "stream"
                },
                {
                    "name": "stdout",
                    "text": "Строка 7665 совпадает со строкой 8271\n",
                    "output_type": "stream"
                },
                {
                    "name": "stdout",
                    "text": "Строка 7665 совпадает со строкой 12336\n",
                    "output_type": "stream"
                },
                {
                    "name": "stdout",
                    "text": "Строка 7666 совпадает со строкой 8272\n",
                    "output_type": "stream"
                },
                {
                    "name": "stdout",
                    "text": "Строка 7666 совпадает со строкой 12337\n",
                    "output_type": "stream"
                },
                {
                    "name": "stdout",
                    "text": "Строка 7667 совпадает со строкой 8273\n",
                    "output_type": "stream"
                },
                {
                    "name": "stdout",
                    "text": "Строка 7667 совпадает со строкой 12338\n",
                    "output_type": "stream"
                },
                {
                    "name": "stdout",
                    "text": "Строка 7670 совпадает со строкой 8272\n",
                    "output_type": "stream"
                },
                {
                    "name": "stdout",
                    "text": "Строка 7670 совпадает со строкой 12337\n",
                    "output_type": "stream"
                },
                {
                    "name": "stdout",
                    "text": "Строка 7671 совпадает со строкой 8273\n",
                    "output_type": "stream"
                },
                {
                    "name": "stdout",
                    "text": "Строка 7671 совпадает со строкой 12338\n",
                    "output_type": "stream"
                },
                {
                    "name": "stdout",
                    "text": "Строка 7672 совпадает со строкой 8274\n",
                    "output_type": "stream"
                },
                {
                    "name": "stdout",
                    "text": "Строка 7672 совпадает со строкой 12339\n",
                    "output_type": "stream"
                },
                {
                    "name": "stdout",
                    "text": "Строка 7673 совпадает со строкой 8275\n",
                    "output_type": "stream"
                },
                {
                    "name": "stdout",
                    "text": "Строка 7673 совпадает со строкой 12340\n",
                    "output_type": "stream"
                },
                {
                    "name": "stdout",
                    "text": "Строка 7674 совпадает со строкой 8276\n",
                    "output_type": "stream"
                },
                {
                    "name": "stdout",
                    "text": "Строка 7674 совпадает со строкой 12341\n",
                    "output_type": "stream"
                },
                {
                    "name": "stdout",
                    "text": "Строка 7693 совпадает со строкой 8282\n",
                    "output_type": "stream"
                },
                {
                    "name": "stdout",
                    "text": "Строка 7693 совпадает со строкой 12347\n",
                    "output_type": "stream"
                },
                {
                    "name": "stdout",
                    "text": "Строка 7695 совпадает со строкой 8282\n",
                    "output_type": "stream"
                },
                {
                    "name": "stdout",
                    "text": "Строка 7695 совпадает со строкой 12347\n",
                    "output_type": "stream"
                },
                {
                    "name": "stdout",
                    "text": "Строка 7697 совпадает со строкой 8282\n",
                    "output_type": "stream"
                },
                {
                    "name": "stdout",
                    "text": "Строка 7697 совпадает со строкой 12347\n",
                    "output_type": "stream"
                },
                {
                    "name": "stdout",
                    "text": "Строка 7699 совпадает со строкой 8282\n",
                    "output_type": "stream"
                },
                {
                    "name": "stdout",
                    "text": "Строка 7699 совпадает со строкой 12347\n",
                    "output_type": "stream"
                },
                {
                    "name": "stdout",
                    "text": "Строка 7706 совпадает со строкой 8281\n",
                    "output_type": "stream"
                },
                {
                    "name": "stdout",
                    "text": "Строка 7706 совпадает со строкой 12346\n",
                    "output_type": "stream"
                },
                {
                    "name": "stdout",
                    "text": "Строка 7725 совпадает со строкой 8283\n",
                    "output_type": "stream"
                },
                {
                    "name": "stdout",
                    "text": "Строка 7725 совпадает со строкой 12348\n",
                    "output_type": "stream"
                },
                {
                    "name": "stdout",
                    "text": "Строка 7726 совпадает со строкой 8284\n",
                    "output_type": "stream"
                },
                {
                    "name": "stdout",
                    "text": "Строка 7726 совпадает со строкой 12349\n",
                    "output_type": "stream"
                },
                {
                    "name": "stdout",
                    "text": "Строка 7727 совпадает со строкой 8285\n",
                    "output_type": "stream"
                },
                {
                    "name": "stdout",
                    "text": "Строка 7727 совпадает со строкой 12350\n",
                    "output_type": "stream"
                },
                {
                    "name": "stdout",
                    "text": "Строка 7728 совпадает со строкой 8286\n",
                    "output_type": "stream"
                },
                {
                    "name": "stdout",
                    "text": "Строка 7728 совпадает со строкой 12351\n",
                    "output_type": "stream"
                },
                {
                    "name": "stdout",
                    "text": "Строка 7729 совпадает со строкой 8287\n",
                    "output_type": "stream"
                },
                {
                    "name": "stdout",
                    "text": "Строка 7729 совпадает со строкой 12352\n",
                    "output_type": "stream"
                },
                {
                    "name": "stdout",
                    "text": "Строка 7730 совпадает со строкой 8288\n",
                    "output_type": "stream"
                },
                {
                    "name": "stdout",
                    "text": "Строка 7730 совпадает со строкой 12353\n",
                    "output_type": "stream"
                },
                {
                    "name": "stdout",
                    "text": "Строка 7731 совпадает со строкой 8289\n",
                    "output_type": "stream"
                },
                {
                    "name": "stdout",
                    "text": "Строка 7731 совпадает со строкой 12354\n",
                    "output_type": "stream"
                },
                {
                    "name": "stdout",
                    "text": "Строка 7732 совпадает со строкой 8290\n",
                    "output_type": "stream"
                },
                {
                    "name": "stdout",
                    "text": "Строка 7732 совпадает со строкой 12355\n",
                    "output_type": "stream"
                },
                {
                    "name": "stdout",
                    "text": "Строка 7733 совпадает со строкой 8291\n",
                    "output_type": "stream"
                },
                {
                    "name": "stdout",
                    "text": "Строка 7733 совпадает со строкой 12356\n",
                    "output_type": "stream"
                },
                {
                    "name": "stdout",
                    "text": "Строка 7734 совпадает со строкой 8292\n",
                    "output_type": "stream"
                },
                {
                    "name": "stdout",
                    "text": "Строка 7734 совпадает со строкой 12357\n",
                    "output_type": "stream"
                },
                {
                    "name": "stdout",
                    "text": "Строка 7751 совпадает со строкой 8299\n",
                    "output_type": "stream"
                },
                {
                    "name": "stdout",
                    "text": "Строка 7751 совпадает со строкой 12364\n",
                    "output_type": "stream"
                },
                {
                    "name": "stdout",
                    "text": "Строка 7756 совпадает со строкой 8298\n",
                    "output_type": "stream"
                },
                {
                    "name": "stdout",
                    "text": "Строка 7756 совпадает со строкой 12363\n",
                    "output_type": "stream"
                },
                {
                    "name": "stdout",
                    "text": "Строка 7757 совпадает со строкой 8297\n",
                    "output_type": "stream"
                },
                {
                    "name": "stdout",
                    "text": "Строка 7757 совпадает со строкой 12362\n",
                    "output_type": "stream"
                },
                {
                    "name": "stdout",
                    "text": "Строка 7760 совпадает со строкой 8297\n",
                    "output_type": "stream"
                },
                {
                    "name": "stdout",
                    "text": "Строка 7760 совпадает со строкой 12362\n",
                    "output_type": "stream"
                },
                {
                    "name": "stdout",
                    "text": "Строка 7761 совпадает со строкой 8298\n",
                    "output_type": "stream"
                },
                {
                    "name": "stdout",
                    "text": "Строка 7761 совпадает со строкой 12363\n",
                    "output_type": "stream"
                },
                {
                    "name": "stdout",
                    "text": "Строка 7762 совпадает со строкой 8297\n",
                    "output_type": "stream"
                },
                {
                    "name": "stdout",
                    "text": "Строка 7762 совпадает со строкой 12362\n",
                    "output_type": "stream"
                },
                {
                    "name": "stdout",
                    "text": "Строка 7763 совпадает со строкой 8296\n",
                    "output_type": "stream"
                },
                {
                    "name": "stdout",
                    "text": "Строка 7763 совпадает со строкой 12361\n",
                    "output_type": "stream"
                },
                {
                    "name": "stdout",
                    "text": "Строка 7764 совпадает со строкой 8295\n",
                    "output_type": "stream"
                },
                {
                    "name": "stdout",
                    "text": "Строка 7764 совпадает со строкой 12360\n",
                    "output_type": "stream"
                },
                {
                    "name": "stdout",
                    "text": "Строка 7765 совпадает со строкой 8294\n",
                    "output_type": "stream"
                },
                {
                    "name": "stdout",
                    "text": "Строка 7765 совпадает со строкой 12359\n",
                    "output_type": "stream"
                },
                {
                    "name": "stdout",
                    "text": "Строка 7787 совпадает со строкой 8295\n",
                    "output_type": "stream"
                },
                {
                    "name": "stdout",
                    "text": "Строка 7787 совпадает со строкой 12360\n",
                    "output_type": "stream"
                },
                {
                    "name": "stdout",
                    "text": "Строка 7788 совпадает со строкой 8296\n",
                    "output_type": "stream"
                },
                {
                    "name": "stdout",
                    "text": "Строка 7788 совпадает со строкой 12361\n",
                    "output_type": "stream"
                },
                {
                    "name": "stdout",
                    "text": "Строка 7789 совпадает со строкой 8297\n",
                    "output_type": "stream"
                },
                {
                    "name": "stdout",
                    "text": "Строка 7789 совпадает со строкой 12362\n",
                    "output_type": "stream"
                },
                {
                    "name": "stdout",
                    "text": "Строка 7790 совпадает со строкой 8298\n",
                    "output_type": "stream"
                },
                {
                    "name": "stdout",
                    "text": "Строка 7790 совпадает со строкой 12363\n",
                    "output_type": "stream"
                },
                {
                    "name": "stdout",
                    "text": "Строка 7791 совпадает со строкой 8299\n",
                    "output_type": "stream"
                },
                {
                    "name": "stdout",
                    "text": "Строка 7791 совпадает со строкой 12364\n",
                    "output_type": "stream"
                },
                {
                    "name": "stdout",
                    "text": "Строка 7792 совпадает со строкой 8300\n",
                    "output_type": "stream"
                },
                {
                    "name": "stdout",
                    "text": "Строка 7792 совпадает со строкой 12365\n",
                    "output_type": "stream"
                },
                {
                    "name": "stdout",
                    "text": "Строка 7793 совпадает со строкой 8301\n",
                    "output_type": "stream"
                },
                {
                    "name": "stdout",
                    "text": "Строка 7793 совпадает со строкой 12366\n",
                    "output_type": "stream"
                },
                {
                    "name": "stdout",
                    "text": "Строка 7794 совпадает со строкой 8302\n",
                    "output_type": "stream"
                },
                {
                    "name": "stdout",
                    "text": "Строка 7794 совпадает со строкой 12367\n",
                    "output_type": "stream"
                },
                {
                    "name": "stdout",
                    "text": "Строка 7795 совпадает со строкой 8303\n",
                    "output_type": "stream"
                },
                {
                    "name": "stdout",
                    "text": "Строка 7795 совпадает со строкой 12368\n",
                    "output_type": "stream"
                },
                {
                    "name": "stdout",
                    "text": "Строка 7796 совпадает со строкой 8304\n",
                    "output_type": "stream"
                },
                {
                    "name": "stdout",
                    "text": "Строка 7796 совпадает со строкой 12369\n",
                    "output_type": "stream"
                },
                {
                    "name": "stdout",
                    "text": "Строка 7797 совпадает со строкой 8305\n",
                    "output_type": "stream"
                },
                {
                    "name": "stdout",
                    "text": "Строка 7797 совпадает со строкой 12370\n",
                    "output_type": "stream"
                },
                {
                    "name": "stdout",
                    "text": "Строка 7798 совпадает со строкой 8306\n",
                    "output_type": "stream"
                },
                {
                    "name": "stdout",
                    "text": "Строка 7798 совпадает со строкой 12371\n",
                    "output_type": "stream"
                },
                {
                    "name": "stdout",
                    "text": "Строка 7799 совпадает со строкой 8307\n",
                    "output_type": "stream"
                },
                {
                    "name": "stdout",
                    "text": "Строка 7799 совпадает со строкой 12372\n",
                    "output_type": "stream"
                },
                {
                    "name": "stdout",
                    "text": "Строка 7800 совпадает со строкой 8308\n",
                    "output_type": "stream"
                },
                {
                    "name": "stdout",
                    "text": "Строка 7800 совпадает со строкой 12373\n",
                    "output_type": "stream"
                },
                {
                    "name": "stdout",
                    "text": "Строка 7801 совпадает со строкой 8309\n",
                    "output_type": "stream"
                },
                {
                    "name": "stdout",
                    "text": "Строка 7801 совпадает со строкой 12374\n",
                    "output_type": "stream"
                },
                {
                    "name": "stdout",
                    "text": "Строка 7844 совпадает со строкой 8363\n",
                    "output_type": "stream"
                },
                {
                    "name": "stdout",
                    "text": "Строка 7844 совпадает со строкой 12428\n",
                    "output_type": "stream"
                },
                {
                    "name": "stdout",
                    "text": "Строка 7848 совпадает со строкой 8362\n",
                    "output_type": "stream"
                },
                {
                    "name": "stdout",
                    "text": "Строка 7848 совпадает со строкой 12427\n",
                    "output_type": "stream"
                },
                {
                    "name": "stdout",
                    "text": "Строка 7849 совпадает со строкой 8361\n",
                    "output_type": "stream"
                },
                {
                    "name": "stdout",
                    "text": "Строка 7849 совпадает со строкой 12426\n",
                    "output_type": "stream"
                },
                {
                    "name": "stdout",
                    "text": "Строка 7851 совпадает со строкой 8361\n",
                    "output_type": "stream"
                },
                {
                    "name": "stdout",
                    "text": "Строка 7851 совпадает со строкой 12426\n",
                    "output_type": "stream"
                },
                {
                    "name": "stdout",
                    "text": "Строка 7853 совпадает со строкой 8361\n",
                    "output_type": "stream"
                },
                {
                    "name": "stdout",
                    "text": "Строка 7853 совпадает со строкой 12426\n",
                    "output_type": "stream"
                },
                {
                    "name": "stdout",
                    "text": "Строка 7855 совпадает со строкой 8361\n",
                    "output_type": "stream"
                },
                {
                    "name": "stdout",
                    "text": "Строка 7855 совпадает со строкой 12426\n",
                    "output_type": "stream"
                },
                {
                    "name": "stdout",
                    "text": "Строка 7866 совпадает со строкой 8361\n",
                    "output_type": "stream"
                },
                {
                    "name": "stdout",
                    "text": "Строка 7866 совпадает со строкой 12426\n",
                    "output_type": "stream"
                },
                {
                    "name": "stdout",
                    "text": "Строка 7907 совпадает со строкой 8363\n",
                    "output_type": "stream"
                },
                {
                    "name": "stdout",
                    "text": "Строка 7907 совпадает со строкой 12428\n",
                    "output_type": "stream"
                },
                {
                    "name": "stdout",
                    "text": "Строка 7908 совпадает со строкой 8364\n",
                    "output_type": "stream"
                },
                {
                    "name": "stdout",
                    "text": "Строка 7908 совпадает со строкой 12429\n",
                    "output_type": "stream"
                },
                {
                    "name": "stdout",
                    "text": "Строка 7909 совпадает со строкой 8365\n",
                    "output_type": "stream"
                },
                {
                    "name": "stdout",
                    "text": "Строка 7909 совпадает со строкой 12430\n",
                    "output_type": "stream"
                },
                {
                    "name": "stdout",
                    "text": "Строка 7910 совпадает со строкой 8366\n",
                    "output_type": "stream"
                },
                {
                    "name": "stdout",
                    "text": "Строка 7910 совпадает со строкой 12431\n",
                    "output_type": "stream"
                },
                {
                    "name": "stdout",
                    "text": "Строка 7911 совпадает со строкой 8367\n",
                    "output_type": "stream"
                },
                {
                    "name": "stdout",
                    "text": "Строка 7911 совпадает со строкой 12432\n",
                    "output_type": "stream"
                },
                {
                    "name": "stdout",
                    "text": "Строка 7912 совпадает со строкой 8368\n",
                    "output_type": "stream"
                },
                {
                    "name": "stdout",
                    "text": "Строка 7912 совпадает со строкой 12433\n",
                    "output_type": "stream"
                },
                {
                    "name": "stdout",
                    "text": "Строка 7913 совпадает со строкой 8369\n",
                    "output_type": "stream"
                },
                {
                    "name": "stdout",
                    "text": "Строка 7913 совпадает со строкой 12434\n",
                    "output_type": "stream"
                },
                {
                    "name": "stdout",
                    "text": "Строка 7914 совпадает со строкой 8370\n",
                    "output_type": "stream"
                },
                {
                    "name": "stdout",
                    "text": "Строка 7914 совпадает со строкой 12435\n",
                    "output_type": "stream"
                },
                {
                    "name": "stdout",
                    "text": "Строка 7915 совпадает со строкой 8371\n",
                    "output_type": "stream"
                },
                {
                    "name": "stdout",
                    "text": "Строка 7915 совпадает со строкой 12436\n",
                    "output_type": "stream"
                },
                {
                    "name": "stdout",
                    "text": "Строка 7916 совпадает со строкой 8372\n",
                    "output_type": "stream"
                },
                {
                    "name": "stdout",
                    "text": "Строка 7916 совпадает со строкой 12437\n",
                    "output_type": "stream"
                },
                {
                    "name": "stdout",
                    "text": "Строка 7917 совпадает со строкой 8373\n",
                    "output_type": "stream"
                },
                {
                    "name": "stdout",
                    "text": "Строка 7917 совпадает со строкой 12438\n",
                    "output_type": "stream"
                },
                {
                    "name": "stdout",
                    "text": "Строка 7918 совпадает со строкой 8374\n",
                    "output_type": "stream"
                },
                {
                    "name": "stdout",
                    "text": "Строка 7918 совпадает со строкой 12439\n",
                    "output_type": "stream"
                },
                {
                    "name": "stdout",
                    "text": "Строка 7919 совпадает со строкой 8375\n",
                    "output_type": "stream"
                },
                {
                    "name": "stdout",
                    "text": "Строка 7919 совпадает со строкой 12440\n",
                    "output_type": "stream"
                },
                {
                    "name": "stdout",
                    "text": "Строка 7920 совпадает со строкой 8376\n",
                    "output_type": "stream"
                },
                {
                    "name": "stdout",
                    "text": "Строка 7920 совпадает со строкой 12441\n",
                    "output_type": "stream"
                },
                {
                    "name": "stdout",
                    "text": "Строка 7921 совпадает со строкой 8377\n",
                    "output_type": "stream"
                },
                {
                    "name": "stdout",
                    "text": "Строка 7921 совпадает со строкой 12442\n",
                    "output_type": "stream"
                },
                {
                    "name": "stdout",
                    "text": "Строка 7929 совпадает со строкой 8377\n",
                    "output_type": "stream"
                },
                {
                    "name": "stdout",
                    "text": "Строка 7929 совпадает со строкой 12442\n",
                    "output_type": "stream"
                },
                {
                    "name": "stdout",
                    "text": "Строка 7930 совпадает со строкой 8378\n",
                    "output_type": "stream"
                },
                {
                    "name": "stdout",
                    "text": "Строка 7930 совпадает со строкой 12443\n",
                    "output_type": "stream"
                },
                {
                    "name": "stdout",
                    "text": "Строка 7931 совпадает со строкой 8379\n",
                    "output_type": "stream"
                },
                {
                    "name": "stdout",
                    "text": "Строка 7931 совпадает со строкой 12444\n",
                    "output_type": "stream"
                },
                {
                    "name": "stdout",
                    "text": "Строка 7947 совпадает со строкой 8264\n",
                    "output_type": "stream"
                },
                {
                    "name": "stdout",
                    "text": "Строка 7947 совпадает со строкой 12329\n",
                    "output_type": "stream"
                },
                {
                    "name": "stdout",
                    "text": "Строка 7948 совпадает со строкой 8264\n",
                    "output_type": "stream"
                },
                {
                    "name": "stdout",
                    "text": "Строка 7948 совпадает со строкой 12329\n",
                    "output_type": "stream"
                },
                {
                    "name": "stdout",
                    "text": "Строка 7950 совпадает со строкой 8264\n",
                    "output_type": "stream"
                },
                {
                    "name": "stdout",
                    "text": "Строка 7950 совпадает со строкой 12329\n",
                    "output_type": "stream"
                },
                {
                    "name": "stdout",
                    "text": "Строка 7951 совпадает со строкой 8265\n",
                    "output_type": "stream"
                },
                {
                    "name": "stdout",
                    "text": "Строка 7951 совпадает со строкой 12330\n",
                    "output_type": "stream"
                },
                {
                    "name": "stdout",
                    "text": "Строка 7974 совпадает со строкой 8267\n",
                    "output_type": "stream"
                },
                {
                    "name": "stdout",
                    "text": "Строка 7974 совпадает со строкой 12332\n",
                    "output_type": "stream"
                },
                {
                    "name": "stdout",
                    "text": "Строка 7975 совпадает со строкой 8268\n",
                    "output_type": "stream"
                },
                {
                    "name": "stdout",
                    "text": "Строка 7975 совпадает со строкой 12333\n",
                    "output_type": "stream"
                },
                {
                    "name": "stdout",
                    "text": "Строка 7976 совпадает со строкой 8269\n",
                    "output_type": "stream"
                },
                {
                    "name": "stdout",
                    "text": "Строка 7976 совпадает со строкой 12334\n",
                    "output_type": "stream"
                },
                {
                    "name": "stdout",
                    "text": "Строка 7977 совпадает со строкой 8270\n",
                    "output_type": "stream"
                },
                {
                    "name": "stdout",
                    "text": "Строка 7977 совпадает со строкой 12335\n",
                    "output_type": "stream"
                },
                {
                    "name": "stdout",
                    "text": "Строка 7978 совпадает со строкой 8271\n",
                    "output_type": "stream"
                },
                {
                    "name": "stdout",
                    "text": "Строка 7978 совпадает со строкой 12336\n",
                    "output_type": "stream"
                },
                {
                    "name": "stdout",
                    "text": "Строка 7979 совпадает со строкой 8272\n",
                    "output_type": "stream"
                },
                {
                    "name": "stdout",
                    "text": "Строка 7979 совпадает со строкой 12337\n",
                    "output_type": "stream"
                },
                {
                    "name": "stdout",
                    "text": "Строка 7980 совпадает со строкой 8273\n",
                    "output_type": "stream"
                },
                {
                    "name": "stdout",
                    "text": "Строка 7980 совпадает со строкой 12338\n",
                    "output_type": "stream"
                },
                {
                    "name": "stdout",
                    "text": "Строка 7981 совпадает со строкой 8274\n",
                    "output_type": "stream"
                },
                {
                    "name": "stdout",
                    "text": "Строка 7981 совпадает со строкой 12339\n",
                    "output_type": "stream"
                },
                {
                    "name": "stdout",
                    "text": "Строка 7982 совпадает со строкой 8275\n",
                    "output_type": "stream"
                },
                {
                    "name": "stdout",
                    "text": "Строка 7982 совпадает со строкой 12340\n",
                    "output_type": "stream"
                },
                {
                    "name": "stdout",
                    "text": "Строка 7983 совпадает со строкой 8276\n",
                    "output_type": "stream"
                },
                {
                    "name": "stdout",
                    "text": "Строка 7983 совпадает со строкой 12341\n",
                    "output_type": "stream"
                },
                {
                    "name": "stdout",
                    "text": "Строка 7984 совпадает со строкой 8277\n",
                    "output_type": "stream"
                },
                {
                    "name": "stdout",
                    "text": "Строка 7984 совпадает со строкой 12342\n",
                    "output_type": "stream"
                },
                {
                    "name": "stdout",
                    "text": "Строка 7995 совпадает со строкой 12061\n",
                    "output_type": "stream"
                },
                {
                    "name": "stdout",
                    "text": "Строка 7996 совпадает со строкой 12062\n",
                    "output_type": "stream"
                },
                {
                    "name": "stdout",
                    "text": "Строка 7997 совпадает со строкой 12063\n",
                    "output_type": "stream"
                },
                {
                    "name": "stdout",
                    "text": "Строка 7998 совпадает со строкой 12064\n",
                    "output_type": "stream"
                },
                {
                    "name": "stdout",
                    "text": "Строка 7999 совпадает со строкой 12065\n",
                    "output_type": "stream"
                },
                {
                    "name": "stdout",
                    "text": "Строка 8000 совпадает со строкой 12066\n",
                    "output_type": "stream"
                },
                {
                    "name": "stdout",
                    "text": "Строка 8001 совпадает со строкой 12067\n",
                    "output_type": "stream"
                },
                {
                    "name": "stdout",
                    "text": "Строка 8003 совпадает со строкой 12069\n",
                    "output_type": "stream"
                },
                {
                    "name": "stdout",
                    "text": "Строка 8004 совпадает со строкой 12070\n",
                    "output_type": "stream"
                },
                {
                    "name": "stdout",
                    "text": "Строка 8005 совпадает со строкой 12071\n",
                    "output_type": "stream"
                },
                {
                    "name": "stdout",
                    "text": "Строка 8006 совпадает со строкой 12072\n",
                    "output_type": "stream"
                },
                {
                    "name": "stdout",
                    "text": "Строка 8007 совпадает со строкой 12073\n",
                    "output_type": "stream"
                },
                {
                    "name": "stdout",
                    "text": "Строка 8008 совпадает со строкой 12074\n",
                    "output_type": "stream"
                },
                {
                    "name": "stdout",
                    "text": "Строка 8009 совпадает со строкой 12075\n",
                    "output_type": "stream"
                },
                {
                    "name": "stdout",
                    "text": "Строка 8010 совпадает со строкой 12076\n",
                    "output_type": "stream"
                },
                {
                    "name": "stdout",
                    "text": "Строка 8011 совпадает со строкой 12077\n",
                    "output_type": "stream"
                },
                {
                    "name": "stdout",
                    "text": "Строка 8012 совпадает со строкой 12078\n",
                    "output_type": "stream"
                },
                {
                    "name": "stdout",
                    "text": "Строка 8013 совпадает со строкой 12079\n",
                    "output_type": "stream"
                },
                {
                    "name": "stdout",
                    "text": "Строка 8014 совпадает со строкой 12080\n",
                    "output_type": "stream"
                },
                {
                    "name": "stdout",
                    "text": "Строка 8015 совпадает со строкой 12081\n",
                    "output_type": "stream"
                },
                {
                    "name": "stdout",
                    "text": "Строка 8016 совпадает со строкой 12082\n",
                    "output_type": "stream"
                },
                {
                    "name": "stdout",
                    "text": "Строка 8017 совпадает со строкой 12083\n",
                    "output_type": "stream"
                },
                {
                    "name": "stdout",
                    "text": "Строка 8018 совпадает со строкой 12084\n",
                    "output_type": "stream"
                },
                {
                    "name": "stdout",
                    "text": "Строка 8019 совпадает со строкой 12085\n",
                    "output_type": "stream"
                },
                {
                    "name": "stdout",
                    "text": "Строка 8020 совпадает со строкой 12086\n",
                    "output_type": "stream"
                },
                {
                    "name": "stdout",
                    "text": "Строка 8021 совпадает со строкой 12087\n",
                    "output_type": "stream"
                },
                {
                    "name": "stdout",
                    "text": "Строка 8022 совпадает со строкой 12088\n",
                    "output_type": "stream"
                },
                {
                    "name": "stdout",
                    "text": "Строка 8023 совпадает со строкой 12089\n",
                    "output_type": "stream"
                },
                {
                    "name": "stdout",
                    "text": "Строка 8024 совпадает со строкой 12090\n",
                    "output_type": "stream"
                },
                {
                    "name": "stdout",
                    "text": "Строка 8025 совпадает со строкой 12091\n",
                    "output_type": "stream"
                },
                {
                    "name": "stdout",
                    "text": "Строка 8026 совпадает со строкой 12092\n",
                    "output_type": "stream"
                },
                {
                    "name": "stdout",
                    "text": "Строка 8027 совпадает со строкой 12093\n",
                    "output_type": "stream"
                },
                {
                    "name": "stdout",
                    "text": "Строка 8034 совпадает со строкой 12100\n",
                    "output_type": "stream"
                },
                {
                    "name": "stdout",
                    "text": "Строка 8035 совпадает со строкой 12101\n",
                    "output_type": "stream"
                },
                {
                    "name": "stdout",
                    "text": "Строка 8036 совпадает со строкой 12102\n",
                    "output_type": "stream"
                },
                {
                    "name": "stdout",
                    "text": "Строка 8037 совпадает со строкой 12103\n",
                    "output_type": "stream"
                },
                {
                    "name": "stdout",
                    "text": "Строка 8038 совпадает со строкой 12104\n",
                    "output_type": "stream"
                },
                {
                    "name": "stdout",
                    "text": "Строка 8039 совпадает со строкой 12105\n",
                    "output_type": "stream"
                },
                {
                    "name": "stdout",
                    "text": "Строка 8041 совпадает со строкой 12107\n",
                    "output_type": "stream"
                },
                {
                    "name": "stdout",
                    "text": "Строка 8042 совпадает со строкой 12108\n",
                    "output_type": "stream"
                },
                {
                    "name": "stdout",
                    "text": "Строка 8043 совпадает со строкой 12109\n",
                    "output_type": "stream"
                },
                {
                    "name": "stdout",
                    "text": "Строка 8044 совпадает со строкой 12110\n",
                    "output_type": "stream"
                },
                {
                    "name": "stdout",
                    "text": "Строка 8045 совпадает со строкой 12111\n",
                    "output_type": "stream"
                },
                {
                    "name": "stdout",
                    "text": "Строка 8046 совпадает со строкой 12112\n",
                    "output_type": "stream"
                },
                {
                    "name": "stdout",
                    "text": "Строка 8047 совпадает со строкой 12113\n",
                    "output_type": "stream"
                },
                {
                    "name": "stdout",
                    "text": "Строка 8048 совпадает со строкой 12114\n",
                    "output_type": "stream"
                },
                {
                    "name": "stdout",
                    "text": "Строка 8049 совпадает со строкой 12115\n",
                    "output_type": "stream"
                },
                {
                    "name": "stdout",
                    "text": "Строка 8050 совпадает со строкой 12116\n",
                    "output_type": "stream"
                },
                {
                    "name": "stdout",
                    "text": "Строка 8051 совпадает со строкой 12117\n",
                    "output_type": "stream"
                },
                {
                    "name": "stdout",
                    "text": "Строка 8052 совпадает со строкой 12118\n",
                    "output_type": "stream"
                },
                {
                    "name": "stdout",
                    "text": "Строка 8053 совпадает со строкой 12119\n",
                    "output_type": "stream"
                },
                {
                    "name": "stdout",
                    "text": "Строка 8054 совпадает со строкой 12120\n",
                    "output_type": "stream"
                },
                {
                    "name": "stdout",
                    "text": "Строка 8055 совпадает со строкой 12121\n",
                    "output_type": "stream"
                },
                {
                    "name": "stdout",
                    "text": "Строка 8056 совпадает со строкой 12122\n",
                    "output_type": "stream"
                },
                {
                    "name": "stdout",
                    "text": "Строка 8057 совпадает со строкой 12123\n",
                    "output_type": "stream"
                },
                {
                    "name": "stdout",
                    "text": "Строка 8058 совпадает со строкой 12124\n",
                    "output_type": "stream"
                },
                {
                    "name": "stdout",
                    "text": "Строка 8059 совпадает со строкой 12125\n",
                    "output_type": "stream"
                },
                {
                    "name": "stdout",
                    "text": "Строка 8060 совпадает со строкой 12126\n",
                    "output_type": "stream"
                },
                {
                    "name": "stdout",
                    "text": "Строка 8066 совпадает со строкой 12132\n",
                    "output_type": "stream"
                },
                {
                    "name": "stdout",
                    "text": "Строка 8067 совпадает со строкой 12133\n",
                    "output_type": "stream"
                },
                {
                    "name": "stdout",
                    "text": "Строка 8068 совпадает со строкой 12134\n",
                    "output_type": "stream"
                },
                {
                    "name": "stdout",
                    "text": "Строка 8069 совпадает со строкой 12135\n",
                    "output_type": "stream"
                },
                {
                    "name": "stdout",
                    "text": "Строка 8070 совпадает со строкой 12136\n",
                    "output_type": "stream"
                },
                {
                    "name": "stdout",
                    "text": "Строка 8072 совпадает со строкой 12138\n",
                    "output_type": "stream"
                },
                {
                    "name": "stdout",
                    "text": "Строка 8073 совпадает со строкой 12139\n",
                    "output_type": "stream"
                },
                {
                    "name": "stdout",
                    "text": "Строка 8074 совпадает со строкой 12140\n",
                    "output_type": "stream"
                },
                {
                    "name": "stdout",
                    "text": "Строка 8075 совпадает со строкой 12141\n",
                    "output_type": "stream"
                },
                {
                    "name": "stdout",
                    "text": "Строка 8076 совпадает со строкой 12142\n",
                    "output_type": "stream"
                },
                {
                    "name": "stdout",
                    "text": "Строка 8077 совпадает со строкой 12143\n",
                    "output_type": "stream"
                },
                {
                    "name": "stdout",
                    "text": "Строка 8078 совпадает со строкой 12144\n",
                    "output_type": "stream"
                },
                {
                    "name": "stdout",
                    "text": "Строка 8079 совпадает со строкой 12145\n",
                    "output_type": "stream"
                },
                {
                    "name": "stdout",
                    "text": "Строка 8080 совпадает со строкой 12146\n",
                    "output_type": "stream"
                },
                {
                    "name": "stdout",
                    "text": "Строка 8081 совпадает со строкой 12147\n",
                    "output_type": "stream"
                },
                {
                    "name": "stdout",
                    "text": "Строка 8082 совпадает со строкой 12148\n",
                    "output_type": "stream"
                },
                {
                    "name": "stdout",
                    "text": "Строка 8083 совпадает со строкой 12149\n",
                    "output_type": "stream"
                },
                {
                    "name": "stdout",
                    "text": "Строка 8084 совпадает со строкой 12150\n",
                    "output_type": "stream"
                },
                {
                    "name": "stdout",
                    "text": "Строка 8085 совпадает со строкой 12151\n",
                    "output_type": "stream"
                },
                {
                    "name": "stdout",
                    "text": "Строка 8086 совпадает со строкой 12152\n",
                    "output_type": "stream"
                },
                {
                    "name": "stdout",
                    "text": "Строка 8093 совпадает со строкой 12159\n",
                    "output_type": "stream"
                },
                {
                    "name": "stdout",
                    "text": "Строка 8094 совпадает со строкой 12160\n",
                    "output_type": "stream"
                },
                {
                    "name": "stdout",
                    "text": "Строка 8095 совпадает со строкой 12161\n",
                    "output_type": "stream"
                },
                {
                    "name": "stdout",
                    "text": "Строка 8096 совпадает со строкой 12162\n",
                    "output_type": "stream"
                },
                {
                    "name": "stdout",
                    "text": "Строка 8097 совпадает со строкой 12163\n",
                    "output_type": "stream"
                },
                {
                    "name": "stdout",
                    "text": "Строка 8098 совпадает со строкой 12164\n",
                    "output_type": "stream"
                },
                {
                    "name": "stdout",
                    "text": "Строка 8101 совпадает со строкой 12167\n",
                    "output_type": "stream"
                },
                {
                    "name": "stdout",
                    "text": "Строка 8102 совпадает со строкой 12168\n",
                    "output_type": "stream"
                },
                {
                    "name": "stdout",
                    "text": "Строка 8103 совпадает со строкой 12169\n",
                    "output_type": "stream"
                },
                {
                    "name": "stdout",
                    "text": "Строка 8104 совпадает со строкой 12170\n",
                    "output_type": "stream"
                },
                {
                    "name": "stdout",
                    "text": "Строка 8105 совпадает со строкой 12171\n",
                    "output_type": "stream"
                },
                {
                    "name": "stdout",
                    "text": "Строка 8106 совпадает со строкой 12172\n",
                    "output_type": "stream"
                },
                {
                    "name": "stdout",
                    "text": "Строка 8107 совпадает со строкой 12173\n",
                    "output_type": "stream"
                },
                {
                    "name": "stdout",
                    "text": "Строка 8108 совпадает со строкой 12174\n",
                    "output_type": "stream"
                },
                {
                    "name": "stdout",
                    "text": "Строка 8109 совпадает со строкой 12175\n",
                    "output_type": "stream"
                },
                {
                    "name": "stdout",
                    "text": "Строка 8110 совпадает со строкой 12176\n",
                    "output_type": "stream"
                },
                {
                    "name": "stdout",
                    "text": "Строка 8111 совпадает со строкой 12177\n",
                    "output_type": "stream"
                },
                {
                    "name": "stdout",
                    "text": "Строка 8112 совпадает со строкой 12178\n",
                    "output_type": "stream"
                },
                {
                    "name": "stdout",
                    "text": "Строка 8113 совпадает со строкой 12179\n",
                    "output_type": "stream"
                },
                {
                    "name": "stdout",
                    "text": "Строка 8114 совпадает со строкой 12180\n",
                    "output_type": "stream"
                },
                {
                    "name": "stdout",
                    "text": "Строка 8115 совпадает со строкой 12181\n",
                    "output_type": "stream"
                },
                {
                    "name": "stdout",
                    "text": "Строка 8116 совпадает со строкой 12182\n",
                    "output_type": "stream"
                },
                {
                    "name": "stdout",
                    "text": "Строка 8117 совпадает со строкой 12183\n",
                    "output_type": "stream"
                },
                {
                    "name": "stdout",
                    "text": "Строка 8118 совпадает со строкой 12184\n",
                    "output_type": "stream"
                },
                {
                    "name": "stdout",
                    "text": "Строка 8119 совпадает со строкой 12185\n",
                    "output_type": "stream"
                },
                {
                    "name": "stdout",
                    "text": "Строка 8120 совпадает со строкой 12186\n",
                    "output_type": "stream"
                },
                {
                    "name": "stdout",
                    "text": "Строка 8121 совпадает со строкой 12187\n",
                    "output_type": "stream"
                },
                {
                    "name": "stdout",
                    "text": "Строка 8122 совпадает со строкой 12188\n",
                    "output_type": "stream"
                },
                {
                    "name": "stdout",
                    "text": "Строка 8128 совпадает со строкой 12194\n",
                    "output_type": "stream"
                },
                {
                    "name": "stdout",
                    "text": "Строка 8129 совпадает со строкой 12195\n",
                    "output_type": "stream"
                },
                {
                    "name": "stdout",
                    "text": "Строка 8130 совпадает со строкой 12196\n",
                    "output_type": "stream"
                },
                {
                    "name": "stdout",
                    "text": "Строка 8131 совпадает со строкой 12197\n",
                    "output_type": "stream"
                },
                {
                    "name": "stdout",
                    "text": "Строка 8132 совпадает со строкой 12198\n",
                    "output_type": "stream"
                },
                {
                    "name": "stdout",
                    "text": "Строка 8134 совпадает со строкой 12200\n",
                    "output_type": "stream"
                },
                {
                    "name": "stdout",
                    "text": "Строка 8135 совпадает со строкой 12201\n",
                    "output_type": "stream"
                },
                {
                    "name": "stdout",
                    "text": "Строка 8136 совпадает со строкой 12202\n",
                    "output_type": "stream"
                },
                {
                    "name": "stdout",
                    "text": "Строка 8137 совпадает со строкой 12203\n",
                    "output_type": "stream"
                },
                {
                    "name": "stdout",
                    "text": "Строка 8138 совпадает со строкой 12204\n",
                    "output_type": "stream"
                },
                {
                    "name": "stdout",
                    "text": "Строка 8139 совпадает со строкой 12205\n",
                    "output_type": "stream"
                },
                {
                    "name": "stdout",
                    "text": "Строка 8140 совпадает со строкой 12206\n",
                    "output_type": "stream"
                },
                {
                    "name": "stdout",
                    "text": "Строка 8141 совпадает со строкой 12207\n",
                    "output_type": "stream"
                },
                {
                    "name": "stdout",
                    "text": "Строка 8142 совпадает со строкой 12208\n",
                    "output_type": "stream"
                },
                {
                    "name": "stdout",
                    "text": "Строка 8143 совпадает со строкой 12209\n",
                    "output_type": "stream"
                },
                {
                    "name": "stdout",
                    "text": "Строка 8144 совпадает со строкой 12210\n",
                    "output_type": "stream"
                },
                {
                    "name": "stdout",
                    "text": "Строка 8145 совпадает со строкой 12211\n",
                    "output_type": "stream"
                },
                {
                    "name": "stdout",
                    "text": "Строка 8146 совпадает со строкой 12212\n",
                    "output_type": "stream"
                },
                {
                    "name": "stdout",
                    "text": "Строка 8147 совпадает со строкой 12213\n",
                    "output_type": "stream"
                },
                {
                    "name": "stdout",
                    "text": "Строка 8148 совпадает со строкой 12214\n",
                    "output_type": "stream"
                },
                {
                    "name": "stdout",
                    "text": "Строка 8149 совпадает со строкой 12215\n",
                    "output_type": "stream"
                },
                {
                    "name": "stdout",
                    "text": "Строка 8156 совпадает со строкой 12222\n",
                    "output_type": "stream"
                },
                {
                    "name": "stdout",
                    "text": "Строка 8157 совпадает со строкой 12223\n",
                    "output_type": "stream"
                },
                {
                    "name": "stdout",
                    "text": "Строка 8158 совпадает со строкой 12224\n",
                    "output_type": "stream"
                },
                {
                    "name": "stdout",
                    "text": "Строка 8159 совпадает со строкой 12225\n",
                    "output_type": "stream"
                },
                {
                    "name": "stdout",
                    "text": "Строка 8160 совпадает со строкой 12226\n",
                    "output_type": "stream"
                },
                {
                    "name": "stdout",
                    "text": "Строка 8161 совпадает со строкой 12227\n",
                    "output_type": "stream"
                },
                {
                    "name": "stdout",
                    "text": "Строка 8164 совпадает со строкой 12230\n",
                    "output_type": "stream"
                },
                {
                    "name": "stdout",
                    "text": "Строка 8165 совпадает со строкой 12231\n",
                    "output_type": "stream"
                },
                {
                    "name": "stdout",
                    "text": "Строка 8166 совпадает со строкой 12232\n",
                    "output_type": "stream"
                },
                {
                    "name": "stdout",
                    "text": "Строка 8167 совпадает со строкой 12233\n",
                    "output_type": "stream"
                },
                {
                    "name": "stdout",
                    "text": "Строка 8168 совпадает со строкой 12234\n",
                    "output_type": "stream"
                },
                {
                    "name": "stdout",
                    "text": "Строка 8169 совпадает со строкой 12235\n",
                    "output_type": "stream"
                },
                {
                    "name": "stdout",
                    "text": "Строка 8170 совпадает со строкой 12236\n",
                    "output_type": "stream"
                },
                {
                    "name": "stdout",
                    "text": "Строка 8171 совпадает со строкой 12237\n",
                    "output_type": "stream"
                },
                {
                    "name": "stdout",
                    "text": "Строка 8172 совпадает со строкой 12238\n",
                    "output_type": "stream"
                },
                {
                    "name": "stdout",
                    "text": "Строка 8173 совпадает со строкой 12239\n",
                    "output_type": "stream"
                },
                {
                    "name": "stdout",
                    "text": "Строка 8174 совпадает со строкой 12240\n",
                    "output_type": "stream"
                },
                {
                    "name": "stdout",
                    "text": "Строка 8175 совпадает со строкой 12241\n",
                    "output_type": "stream"
                },
                {
                    "name": "stdout",
                    "text": "Строка 8176 совпадает со строкой 12242\n",
                    "output_type": "stream"
                },
                {
                    "name": "stdout",
                    "text": "Строка 8177 совпадает со строкой 12243\n",
                    "output_type": "stream"
                },
                {
                    "name": "stdout",
                    "text": "Строка 8178 совпадает со строкой 12244\n",
                    "output_type": "stream"
                },
                {
                    "name": "stdout",
                    "text": "Строка 8179 совпадает со строкой 12245\n",
                    "output_type": "stream"
                },
                {
                    "name": "stdout",
                    "text": "Строка 8180 совпадает со строкой 12246\n",
                    "output_type": "stream"
                },
                {
                    "name": "stdout",
                    "text": "Строка 8181 совпадает со строкой 12247\n",
                    "output_type": "stream"
                },
                {
                    "name": "stdout",
                    "text": "Строка 8182 совпадает со строкой 12248\n",
                    "output_type": "stream"
                },
                {
                    "name": "stdout",
                    "text": "Строка 8183 совпадает со строкой 12249\n",
                    "output_type": "stream"
                },
                {
                    "name": "stdout",
                    "text": "Строка 8184 совпадает со строкой 12250\n",
                    "output_type": "stream"
                },
                {
                    "name": "stdout",
                    "text": "Строка 8185 совпадает со строкой 12251\n",
                    "output_type": "stream"
                },
                {
                    "name": "stdout",
                    "text": "Строка 8186 совпадает со строкой 12252\n",
                    "output_type": "stream"
                },
                {
                    "name": "stdout",
                    "text": "Строка 8187 совпадает со строкой 12253\n",
                    "output_type": "stream"
                },
                {
                    "name": "stdout",
                    "text": "Строка 8188 совпадает со строкой 12254\n",
                    "output_type": "stream"
                },
                {
                    "name": "stdout",
                    "text": "Строка 8189 совпадает со строкой 12255\n",
                    "output_type": "stream"
                },
                {
                    "name": "stdout",
                    "text": "Строка 8260 совпадает со строкой 12262\n",
                    "output_type": "stream"
                },
                {
                    "name": "stdout",
                    "text": "Строка 8261 совпадает со строкой 12263\n",
                    "output_type": "stream"
                },
                {
                    "name": "stdout",
                    "text": "Строка 8262 совпадает со строкой 12264\n",
                    "output_type": "stream"
                },
                {
                    "name": "stdout",
                    "text": "Строка 8263 совпадает со строкой 12265\n",
                    "output_type": "stream"
                },
                {
                    "name": "stdout",
                    "text": "Строка 8264 совпадает со строкой 12266\n",
                    "output_type": "stream"
                },
                {
                    "name": "stdout",
                    "text": "Строка 8265 совпадает со строкой 12267\n",
                    "output_type": "stream"
                },
                {
                    "name": "stdout",
                    "text": "Строка 8266 совпадает со строкой 12268\n",
                    "output_type": "stream"
                },
                {
                    "name": "stdout",
                    "text": "Строка 8267 совпадает со строкой 12269\n",
                    "output_type": "stream"
                },
                {
                    "name": "stdout",
                    "text": "Строка 8268 совпадает со строкой 12270\n",
                    "output_type": "stream"
                },
                {
                    "name": "stdout",
                    "text": "Строка 8269 совпадает со строкой 12271\n",
                    "output_type": "stream"
                },
                {
                    "name": "stdout",
                    "text": "Строка 8270 совпадает со строкой 12272\n",
                    "output_type": "stream"
                },
                {
                    "name": "stdout",
                    "text": "Строка 8271 совпадает со строкой 12273\n",
                    "output_type": "stream"
                },
                {
                    "name": "stdout",
                    "text": "Строка 8272 совпадает со строкой 12274\n",
                    "output_type": "stream"
                },
                {
                    "name": "stdout",
                    "text": "Строка 8273 совпадает со строкой 12275\n",
                    "output_type": "stream"
                },
                {
                    "name": "stdout",
                    "text": "Строка 8274 совпадает со строкой 12276\n",
                    "output_type": "stream"
                },
                {
                    "name": "stdout",
                    "text": "Строка 8275 совпадает со строкой 12277\n",
                    "output_type": "stream"
                },
                {
                    "name": "stdout",
                    "text": "Строка 8276 совпадает со строкой 12278\n",
                    "output_type": "stream"
                },
                {
                    "name": "stdout",
                    "text": "Строка 8277 совпадает со строкой 12279\n",
                    "output_type": "stream"
                },
                {
                    "name": "stdout",
                    "text": "Строка 8278 совпадает со строкой 12280\n",
                    "output_type": "stream"
                },
                {
                    "name": "stdout",
                    "text": "Строка 8279 совпадает со строкой 12281\n",
                    "output_type": "stream"
                },
                {
                    "name": "stdout",
                    "text": "Строка 8280 совпадает со строкой 12282\n",
                    "output_type": "stream"
                },
                {
                    "name": "stdout",
                    "text": "Строка 8281 совпадает со строкой 12282\n",
                    "output_type": "stream"
                },
                {
                    "name": "stdout",
                    "text": "Строка 8282 совпадает со строкой 12298\n",
                    "output_type": "stream"
                },
                {
                    "name": "stdout",
                    "text": "Строка 8283 совпадает со строкой 12299\n",
                    "output_type": "stream"
                },
                {
                    "name": "stdout",
                    "text": "Строка 8286 совпадает со строкой 12302\n",
                    "output_type": "stream"
                },
                {
                    "name": "stdout",
                    "text": "Строка 8287 совпадает со строкой 12303\n",
                    "output_type": "stream"
                },
                {
                    "name": "stdout",
                    "text": "Строка 8288 совпадает со строкой 12304\n",
                    "output_type": "stream"
                },
                {
                    "name": "stdout",
                    "text": "Строка 8289 совпадает со строкой 12305\n",
                    "output_type": "stream"
                },
                {
                    "name": "stdout",
                    "text": "Строка 8290 совпадает со строкой 12306\n",
                    "output_type": "stream"
                },
                {
                    "name": "stdout",
                    "text": "Строка 8291 совпадает со строкой 12307\n",
                    "output_type": "stream"
                },
                {
                    "name": "stdout",
                    "text": "Строка 8292 совпадает со строкой 12308\n",
                    "output_type": "stream"
                },
                {
                    "name": "stdout",
                    "text": "Строка 8293 совпадает со строкой 12309\n",
                    "output_type": "stream"
                },
                {
                    "name": "stdout",
                    "text": "Строка 8294 совпадает со строкой 12310\n",
                    "output_type": "stream"
                },
                {
                    "name": "stdout",
                    "text": "Строка 8295 совпадает со строкой 12311\n",
                    "output_type": "stream"
                },
                {
                    "name": "stdout",
                    "text": "Строка 8296 совпадает со строкой 12312\n",
                    "output_type": "stream"
                },
                {
                    "name": "stdout",
                    "text": "Строка 8297 совпадает со строкой 12313\n",
                    "output_type": "stream"
                },
                {
                    "name": "stdout",
                    "text": "Строка 8298 совпадает со строкой 12314\n",
                    "output_type": "stream"
                },
                {
                    "name": "stdout",
                    "text": "Строка 8299 совпадает со строкой 12315\n",
                    "output_type": "stream"
                },
                {
                    "name": "stdout",
                    "text": "Строка 8300 совпадает со строкой 12316\n",
                    "output_type": "stream"
                },
                {
                    "name": "stdout",
                    "text": "Строка 8301 совпадает со строкой 12317\n",
                    "output_type": "stream"
                },
                {
                    "name": "stdout",
                    "text": "Строка 8302 совпадает со строкой 12318\n",
                    "output_type": "stream"
                },
                {
                    "name": "stdout",
                    "text": "Строка 8303 совпадает со строкой 12319\n",
                    "output_type": "stream"
                },
                {
                    "name": "stdout",
                    "text": "Строка 8304 совпадает со строкой 12320\n",
                    "output_type": "stream"
                },
                {
                    "name": "stdout",
                    "text": "Строка 8305 совпадает со строкой 12321\n",
                    "output_type": "stream"
                },
                {
                    "name": "stdout",
                    "text": "Строка 8306 совпадает со строкой 12322\n",
                    "output_type": "stream"
                },
                {
                    "name": "stdout",
                    "text": "Строка 8307 совпадает со строкой 12323\n",
                    "output_type": "stream"
                },
                {
                    "name": "stdout",
                    "text": "Строка 8308 совпадает со строкой 12324\n",
                    "output_type": "stream"
                },
                {
                    "name": "stdout",
                    "text": "Строка 8309 совпадает со строкой 12325\n",
                    "output_type": "stream"
                },
                {
                    "name": "stdout",
                    "text": "Строка 8310 совпадает со строкой 12326\n",
                    "output_type": "stream"
                },
                {
                    "name": "stdout",
                    "text": "Строка 8311 совпадает со строкой 12327\n",
                    "output_type": "stream"
                },
                {
                    "name": "stdout",
                    "text": "Строка 8312 совпадает со строкой 12328\n",
                    "output_type": "stream"
                },
                {
                    "name": "stdout",
                    "text": "Строка 8313 совпадает со строкой 12329\n",
                    "output_type": "stream"
                },
                {
                    "name": "stdout",
                    "text": "Строка 8314 совпадает со строкой 12330\n",
                    "output_type": "stream"
                },
                {
                    "name": "stdout",
                    "text": "Строка 8315 совпадает со строкой 12331\n",
                    "output_type": "stream"
                },
                {
                    "name": "stdout",
                    "text": "Строка 8316 совпадает со строкой 12332\n",
                    "output_type": "stream"
                },
                {
                    "name": "stdout",
                    "text": "Строка 8317 совпадает со строкой 12333\n",
                    "output_type": "stream"
                },
                {
                    "name": "stdout",
                    "text": "Строка 8318 совпадает со строкой 12334\n",
                    "output_type": "stream"
                },
                {
                    "name": "stdout",
                    "text": "Строка 8319 совпадает со строкой 12335\n",
                    "output_type": "stream"
                },
                {
                    "name": "stdout",
                    "text": "Строка 8320 совпадает со строкой 12336\n",
                    "output_type": "stream"
                },
                {
                    "name": "stdout",
                    "text": "Строка 8321 совпадает со строкой 12337\n",
                    "output_type": "stream"
                },
                {
                    "name": "stdout",
                    "text": "Строка 8322 совпадает со строкой 12338\n",
                    "output_type": "stream"
                },
                {
                    "name": "stdout",
                    "text": "Строка 8323 совпадает со строкой 12339\n",
                    "output_type": "stream"
                },
                {
                    "name": "stdout",
                    "text": "Строка 8324 совпадает со строкой 12340\n",
                    "output_type": "stream"
                },
                {
                    "name": "stdout",
                    "text": "Строка 8325 совпадает со строкой 12341\n",
                    "output_type": "stream"
                },
                {
                    "name": "stdout",
                    "text": "Строка 8326 совпадает со строкой 12342\n",
                    "output_type": "stream"
                },
                {
                    "name": "stdout",
                    "text": "Строка 8327 совпадает со строкой 12343\n",
                    "output_type": "stream"
                },
                {
                    "name": "stdout",
                    "text": "Строка 8328 совпадает со строкой 12344\n",
                    "output_type": "stream"
                },
                {
                    "name": "stdout",
                    "text": "Строка 8329 совпадает со строкой 12345\n",
                    "output_type": "stream"
                },
                {
                    "name": "stdout",
                    "text": "Строка 8330 совпадает со строкой 12346\n",
                    "output_type": "stream"
                },
                {
                    "name": "stdout",
                    "text": "Строка 8331 совпадает со строкой 12347\n",
                    "output_type": "stream"
                },
                {
                    "name": "stdout",
                    "text": "Строка 8332 совпадает со строкой 12348\n",
                    "output_type": "stream"
                },
                {
                    "name": "stdout",
                    "text": "Строка 8333 совпадает со строкой 12349\n",
                    "output_type": "stream"
                },
                {
                    "name": "stdout",
                    "text": "Строка 8334 совпадает со строкой 12350\n",
                    "output_type": "stream"
                },
                {
                    "name": "stdout",
                    "text": "Строка 8335 совпадает со строкой 12351\n",
                    "output_type": "stream"
                },
                {
                    "name": "stdout",
                    "text": "Строка 8336 совпадает со строкой 12352\n",
                    "output_type": "stream"
                },
                {
                    "name": "stdout",
                    "text": "Строка 8337 совпадает со строкой 12353\n",
                    "output_type": "stream"
                },
                {
                    "name": "stdout",
                    "text": "Строка 8338 совпадает со строкой 12354\n",
                    "output_type": "stream"
                },
                {
                    "name": "stdout",
                    "text": "Строка 8339 совпадает со строкой 12355\n",
                    "output_type": "stream"
                },
                {
                    "name": "stdout",
                    "text": "Строка 8340 совпадает со строкой 12356\n",
                    "output_type": "stream"
                },
                {
                    "name": "stdout",
                    "text": "Строка 8341 совпадает со строкой 12357\n",
                    "output_type": "stream"
                },
                {
                    "name": "stdout",
                    "text": "Строка 8342 совпадает со строкой 12358\n",
                    "output_type": "stream"
                },
                {
                    "name": "stdout",
                    "text": "Строка 8343 совпадает со строкой 12359\n",
                    "output_type": "stream"
                },
                {
                    "name": "stdout",
                    "text": "Строка 8344 совпадает со строкой 12360\n",
                    "output_type": "stream"
                },
                {
                    "name": "stdout",
                    "text": "Строка 8345 совпадает со строкой 12361\n",
                    "output_type": "stream"
                },
                {
                    "name": "stdout",
                    "text": "Строка 8346 совпадает со строкой 12362\n",
                    "output_type": "stream"
                },
                {
                    "name": "stdout",
                    "text": "Строка 8347 совпадает со строкой 12363\n",
                    "output_type": "stream"
                },
                {
                    "name": "stdout",
                    "text": "Строка 8348 совпадает со строкой 12364\n",
                    "output_type": "stream"
                },
                {
                    "name": "stdout",
                    "text": "Строка 8349 совпадает со строкой 12365\n",
                    "output_type": "stream"
                },
                {
                    "name": "stdout",
                    "text": "Строка 8350 совпадает со строкой 12366\n",
                    "output_type": "stream"
                },
                {
                    "name": "stdout",
                    "text": "Строка 8351 совпадает со строкой 12367\n",
                    "output_type": "stream"
                },
                {
                    "name": "stdout",
                    "text": "Строка 8352 совпадает со строкой 12368\n",
                    "output_type": "stream"
                },
                {
                    "name": "stdout",
                    "text": "Строка 8353 совпадает со строкой 12369\n",
                    "output_type": "stream"
                },
                {
                    "name": "stdout",
                    "text": "Строка 8354 совпадает со строкой 12370\n",
                    "output_type": "stream"
                },
                {
                    "name": "stdout",
                    "text": "Строка 8355 совпадает со строкой 12371\n",
                    "output_type": "stream"
                },
                {
                    "name": "stdout",
                    "text": "Строка 8356 совпадает со строкой 12372\n",
                    "output_type": "stream"
                },
                {
                    "name": "stdout",
                    "text": "Строка 8357 совпадает со строкой 12373\n",
                    "output_type": "stream"
                },
                {
                    "name": "stdout",
                    "text": "Строка 8358 совпадает со строкой 12374\n",
                    "output_type": "stream"
                },
                {
                    "name": "stdout",
                    "text": "Строка 8359 совпадает со строкой 12375\n",
                    "output_type": "stream"
                },
                {
                    "name": "stdout",
                    "text": "Строка 8360 совпадает со строкой 12376\n",
                    "output_type": "stream"
                },
                {
                    "name": "stdout",
                    "text": "Строка 8361 совпадает со строкой 12377\n",
                    "output_type": "stream"
                },
                {
                    "name": "stdout",
                    "text": "Строка 8362 совпадает со строкой 12378\n",
                    "output_type": "stream"
                },
                {
                    "name": "stdout",
                    "text": "Строка 8363 совпадает со строкой 12379\n",
                    "output_type": "stream"
                },
                {
                    "name": "stdout",
                    "text": "Строка 8364 совпадает со строкой 12380\n",
                    "output_type": "stream"
                },
                {
                    "name": "stdout",
                    "text": "Строка 8366 совпадает со строкой 12431\n",
                    "output_type": "stream"
                },
                {
                    "name": "stdout",
                    "text": "Строка 8367 совпадает со строкой 12432\n",
                    "output_type": "stream"
                },
                {
                    "name": "stdout",
                    "text": "Строка 8368 совпадает со строкой 12433\n",
                    "output_type": "stream"
                },
                {
                    "name": "stdout",
                    "text": "Строка 8369 совпадает со строкой 12434\n",
                    "output_type": "stream"
                },
                {
                    "name": "stdout",
                    "text": "Строка 8370 совпадает со строкой 12435\n",
                    "output_type": "stream"
                },
                {
                    "name": "stdout",
                    "text": "Строка 8371 совпадает со строкой 12436\n",
                    "output_type": "stream"
                },
                {
                    "name": "stdout",
                    "text": "Строка 8373 совпадает со строкой 12438\n",
                    "output_type": "stream"
                },
                {
                    "name": "stdout",
                    "text": "Строка 8374 совпадает со строкой 12439\n",
                    "output_type": "stream"
                },
                {
                    "name": "stdout",
                    "text": "Строка 8375 совпадает со строкой 12440\n",
                    "output_type": "stream"
                },
                {
                    "name": "stdout",
                    "text": "Строка 8376 совпадает со строкой 12441\n",
                    "output_type": "stream"
                },
                {
                    "name": "stdout",
                    "text": "Строка 8377 совпадает со строкой 12442\n",
                    "output_type": "stream"
                },
                {
                    "name": "stdout",
                    "text": "Строка 8378 совпадает со строкой 12443\n",
                    "output_type": "stream"
                },
                {
                    "name": "stdout",
                    "text": "Строка 8379 совпадает со строкой 12444\n",
                    "output_type": "stream"
                },
                {
                    "name": "stdout",
                    "text": "Строка 8380 совпадает со строкой 12445\n",
                    "output_type": "stream"
                },
                {
                    "name": "stdout",
                    "text": "Строка 8381 совпадает со строкой 12446\n",
                    "output_type": "stream"
                },
                {
                    "name": "stdout",
                    "text": "Строка 8382 совпадает со строкой 12447\n",
                    "output_type": "stream"
                },
                {
                    "name": "stdout",
                    "text": "Строка 8383 совпадает со строкой 12448\n",
                    "output_type": "stream"
                },
                {
                    "name": "stdout",
                    "text": "Строка 8384 совпадает со строкой 12449\n",
                    "output_type": "stream"
                },
                {
                    "name": "stdout",
                    "text": "Строка 8385 совпадает со строкой 12450\n",
                    "output_type": "stream"
                },
                {
                    "name": "stdout",
                    "text": "Строка 8386 совпадает со строкой 12451\n",
                    "output_type": "stream"
                },
                {
                    "name": "stdout",
                    "text": "Строка 8387 совпадает со строкой 12452\n",
                    "output_type": "stream"
                },
                {
                    "name": "stdout",
                    "text": "Строка 8388 совпадает со строкой 12453\n",
                    "output_type": "stream"
                },
                {
                    "name": "stdout",
                    "text": "Строка 8389 совпадает со строкой 12454\n",
                    "output_type": "stream"
                },
                {
                    "name": "stdout",
                    "text": "Строка 8390 совпадает со строкой 12455\n",
                    "output_type": "stream"
                },
                {
                    "name": "stdout",
                    "text": "Строка 8391 совпадает со строкой 12456\n",
                    "output_type": "stream"
                },
                {
                    "name": "stdout",
                    "text": "Строка 8392 совпадает со строкой 12457\n",
                    "output_type": "stream"
                },
                {
                    "name": "stdout",
                    "text": "Строка 8393 совпадает со строкой 12458\n",
                    "output_type": "stream"
                },
                {
                    "name": "stdout",
                    "text": "Строка 8396 совпадает со строкой 12465\n",
                    "output_type": "stream"
                },
                {
                    "name": "stdout",
                    "text": "Строка 8397 совпадает со строкой 12466\n",
                    "output_type": "stream"
                },
                {
                    "name": "stdout",
                    "text": "Строка 8398 совпадает со строкой 12467\n",
                    "output_type": "stream"
                },
                {
                    "name": "stdout",
                    "text": "Строка 8399 совпадает со строкой 12468\n",
                    "output_type": "stream"
                },
                {
                    "name": "stdout",
                    "text": "Строка 8400 совпадает со строкой 12469\n",
                    "output_type": "stream"
                },
                {
                    "name": "stdout",
                    "text": "Строка 8403 совпадает со строкой 12472\n",
                    "output_type": "stream"
                },
                {
                    "name": "stdout",
                    "text": "Строка 8404 совпадает со строкой 12473\n",
                    "output_type": "stream"
                },
                {
                    "name": "stdout",
                    "text": "Строка 8405 совпадает со строкой 12474\n",
                    "output_type": "stream"
                },
                {
                    "name": "stdout",
                    "text": "Строка 8406 совпадает со строкой 12475\n",
                    "output_type": "stream"
                },
                {
                    "name": "stdout",
                    "text": "Строка 8407 совпадает со строкой 12476\n",
                    "output_type": "stream"
                },
                {
                    "name": "stdout",
                    "text": "Строка 8408 совпадает со строкой 12477\n",
                    "output_type": "stream"
                },
                {
                    "name": "stdout",
                    "text": "Строка 8409 совпадает со строкой 12478\n",
                    "output_type": "stream"
                },
                {
                    "name": "stdout",
                    "text": "Строка 8410 совпадает со строкой 12479\n",
                    "output_type": "stream"
                },
                {
                    "name": "stdout",
                    "text": "Строка 8411 совпадает со строкой 12480\n",
                    "output_type": "stream"
                },
                {
                    "name": "stdout",
                    "text": "Строка 8412 совпадает со строкой 12481\n",
                    "output_type": "stream"
                },
                {
                    "name": "stdout",
                    "text": "Строка 8413 совпадает со строкой 12482\n",
                    "output_type": "stream"
                },
                {
                    "name": "stdout",
                    "text": "Строка 8414 совпадает со строкой 12483\n",
                    "output_type": "stream"
                },
                {
                    "name": "stdout",
                    "text": "Строка 8415 совпадает со строкой 12484\n",
                    "output_type": "stream"
                },
                {
                    "name": "stdout",
                    "text": "Строка 8416 совпадает со строкой 12485\n",
                    "output_type": "stream"
                },
                {
                    "name": "stdout",
                    "text": "Строка 8418 совпадает со строкой 12491\n",
                    "output_type": "stream"
                },
                {
                    "name": "stdout",
                    "text": "Строка 8419 совпадает со строкой 12492\n",
                    "output_type": "stream"
                },
                {
                    "name": "stdout",
                    "text": "Строка 8420 совпадает со строкой 12493\n",
                    "output_type": "stream"
                },
                {
                    "name": "stdout",
                    "text": "Строка 8421 совпадает со строкой 12494\n",
                    "output_type": "stream"
                },
                {
                    "name": "stdout",
                    "text": "Строка 8422 совпадает со строкой 12495\n",
                    "output_type": "stream"
                },
                {
                    "name": "stdout",
                    "text": "Строка 8423 совпадает со строкой 12496\n",
                    "output_type": "stream"
                },
                {
                    "name": "stdout",
                    "text": "Строка 8426 совпадает со строкой 12499\n",
                    "output_type": "stream"
                },
                {
                    "name": "stdout",
                    "text": "Строка 8427 совпадает со строкой 12500\n",
                    "output_type": "stream"
                },
                {
                    "name": "stdout",
                    "text": "Строка 8428 совпадает со строкой 12501\n",
                    "output_type": "stream"
                },
                {
                    "name": "stdout",
                    "text": "Строка 8429 совпадает со строкой 12502\n",
                    "output_type": "stream"
                },
                {
                    "name": "stdout",
                    "text": "Строка 8430 совпадает со строкой 12503\n",
                    "output_type": "stream"
                },
                {
                    "name": "stdout",
                    "text": "Строка 8431 совпадает со строкой 12504\n",
                    "output_type": "stream"
                },
                {
                    "name": "stdout",
                    "text": "Строка 8432 совпадает со строкой 12505\n",
                    "output_type": "stream"
                },
                {
                    "name": "stdout",
                    "text": "Строка 8433 совпадает со строкой 12506\n",
                    "output_type": "stream"
                },
                {
                    "name": "stdout",
                    "text": "Строка 8434 совпадает со строкой 12507\n",
                    "output_type": "stream"
                },
                {
                    "name": "stdout",
                    "text": "Строка 8435 совпадает со строкой 12508\n",
                    "output_type": "stream"
                },
                {
                    "name": "stdout",
                    "text": "Строка 8436 совпадает со строкой 12509\n",
                    "output_type": "stream"
                },
                {
                    "name": "stdout",
                    "text": "Строка 8437 совпадает со строкой 12510\n",
                    "output_type": "stream"
                },
                {
                    "name": "stdout",
                    "text": "Строка 8438 совпадает со строкой 12511\n",
                    "output_type": "stream"
                },
                {
                    "name": "stdout",
                    "text": "Строка 8439 совпадает со строкой 12512\n",
                    "output_type": "stream"
                },
                {
                    "name": "stdout",
                    "text": "Строка 8440 совпадает со строкой 12513\n",
                    "output_type": "stream"
                },
                {
                    "name": "stdout",
                    "text": "Строка 8441 совпадает со строкой 12514\n",
                    "output_type": "stream"
                },
                {
                    "name": "stdout",
                    "text": "Строка 8442 совпадает со строкой 12515\n",
                    "output_type": "stream"
                },
                {
                    "name": "stdout",
                    "text": "Строка 8443 совпадает со строкой 12516\n",
                    "output_type": "stream"
                },
                {
                    "name": "stdout",
                    "text": "Строка 8444 совпадает со строкой 12517\n",
                    "output_type": "stream"
                },
                {
                    "name": "stdout",
                    "text": "Строка 8445 совпадает со строкой 12518\n",
                    "output_type": "stream"
                },
                {
                    "name": "stdout",
                    "text": "Строка 8447 совпадает со строкой 12524\n",
                    "output_type": "stream"
                },
                {
                    "name": "stdout",
                    "text": "Строка 8448 совпадает со строкой 12524\n",
                    "output_type": "stream"
                },
                {
                    "name": "stdout",
                    "text": "Строка 8449 совпадает со строкой 12525\n",
                    "output_type": "stream"
                },
                {
                    "name": "stdout",
                    "text": "Строка 8450 совпадает со строкой 12526\n",
                    "output_type": "stream"
                },
                {
                    "name": "stdout",
                    "text": "Строка 8451 совпадает со строкой 8452\n",
                    "output_type": "stream"
                },
                {
                    "name": "stdout",
                    "text": "Строка 8451 совпадает со строкой 12526\n",
                    "output_type": "stream"
                },
                {
                    "name": "stdout",
                    "text": "Строка 8451 совпадает со строкой 12527\n",
                    "output_type": "stream"
                },
                {
                    "name": "stdout",
                    "text": "Строка 8452 совпадает со строкой 12528\n",
                    "output_type": "stream"
                },
                {
                    "name": "stdout",
                    "text": "Строка 8454 совпадает со строкой 12531\n",
                    "output_type": "stream"
                },
                {
                    "name": "stdout",
                    "text": "Строка 8455 совпадает со строкой 12532\n",
                    "output_type": "stream"
                },
                {
                    "name": "stdout",
                    "text": "Строка 8456 совпадает со строкой 12533\n",
                    "output_type": "stream"
                },
                {
                    "name": "stdout",
                    "text": "Строка 8457 совпадает со строкой 12534\n",
                    "output_type": "stream"
                },
                {
                    "name": "stdout",
                    "text": "Строка 8458 совпадает со строкой 12535\n",
                    "output_type": "stream"
                },
                {
                    "name": "stdout",
                    "text": "Строка 8459 совпадает со строкой 12536\n",
                    "output_type": "stream"
                },
                {
                    "name": "stdout",
                    "text": "Строка 8460 совпадает со строкой 12537\n",
                    "output_type": "stream"
                },
                {
                    "name": "stdout",
                    "text": "Строка 8461 совпадает со строкой 12538\n",
                    "output_type": "stream"
                },
                {
                    "name": "stdout",
                    "text": "Строка 8462 совпадает со строкой 12539\n",
                    "output_type": "stream"
                },
                {
                    "name": "stdout",
                    "text": "Строка 8463 совпадает со строкой 12540\n",
                    "output_type": "stream"
                },
                {
                    "name": "stdout",
                    "text": "Строка 8464 совпадает со строкой 12541\n",
                    "output_type": "stream"
                },
                {
                    "name": "stdout",
                    "text": "Строка 8465 совпадает со строкой 12542\n",
                    "output_type": "stream"
                },
                {
                    "name": "stdout",
                    "text": "Строка 8466 совпадает со строкой 12543\n",
                    "output_type": "stream"
                },
                {
                    "name": "stdout",
                    "text": "Строка 8467 совпадает со строкой 12544\n",
                    "output_type": "stream"
                },
                {
                    "name": "stdout",
                    "text": "Строка 8468 совпадает со строкой 12545\n",
                    "output_type": "stream"
                },
                {
                    "name": "stdout",
                    "text": "Строка 8469 совпадает со строкой 12546\n",
                    "output_type": "stream"
                },
                {
                    "name": "stdout",
                    "text": "Строка 8470 совпадает со строкой 12547\n",
                    "output_type": "stream"
                },
                {
                    "name": "stdout",
                    "text": "Строка 8471 совпадает со строкой 12548\n",
                    "output_type": "stream"
                },
                {
                    "name": "stdout",
                    "text": "Строка 8472 совпадает со строкой 12549\n",
                    "output_type": "stream"
                },
                {
                    "name": "stdout",
                    "text": "Строка 8473 совпадает со строкой 12550\n",
                    "output_type": "stream"
                },
                {
                    "name": "stdout",
                    "text": "Строка 8474 совпадает со строкой 12551\n",
                    "output_type": "stream"
                },
                {
                    "name": "stdout",
                    "text": "Строка 8475 совпадает со строкой 12552\n",
                    "output_type": "stream"
                },
                {
                    "name": "stdout",
                    "text": "Строка 8476 совпадает со строкой 12553\n",
                    "output_type": "stream"
                },
                {
                    "name": "stdout",
                    "text": "Строка 8477 совпадает со строкой 12554\n",
                    "output_type": "stream"
                },
                {
                    "name": "stdout",
                    "text": "Строка 8478 совпадает со строкой 12555\n",
                    "output_type": "stream"
                },
                {
                    "name": "stdout",
                    "text": "Строка 8479 совпадает со строкой 12556\n",
                    "output_type": "stream"
                },
                {
                    "name": "stdout",
                    "text": "Строка 8480 совпадает со строкой 12557\n",
                    "output_type": "stream"
                },
                {
                    "name": "stdout",
                    "text": "Строка 8481 совпадает со строкой 12558\n",
                    "output_type": "stream"
                },
                {
                    "name": "stdout",
                    "text": "Строка 8482 совпадает со строкой 12559\n",
                    "output_type": "stream"
                },
                {
                    "name": "stdout",
                    "text": "Строка 8483 совпадает со строкой 12560\n",
                    "output_type": "stream"
                },
                {
                    "name": "stdout",
                    "text": "Строка 8486 совпадает со строкой 12567\n",
                    "output_type": "stream"
                },
                {
                    "name": "stdout",
                    "text": "Строка 8487 совпадает со строкой 12568\n",
                    "output_type": "stream"
                },
                {
                    "name": "stdout",
                    "text": "Строка 8488 совпадает со строкой 12569\n",
                    "output_type": "stream"
                },
                {
                    "name": "stdout",
                    "text": "Строка 8489 совпадает со строкой 12570\n",
                    "output_type": "stream"
                },
                {
                    "name": "stdout",
                    "text": "Строка 8490 совпадает со строкой 12571\n",
                    "output_type": "stream"
                },
                {
                    "name": "stdout",
                    "text": "Строка 8491 совпадает со строкой 12572\n",
                    "output_type": "stream"
                },
                {
                    "name": "stdout",
                    "text": "Строка 8492 совпадает со строкой 12573\n",
                    "output_type": "stream"
                },
                {
                    "name": "stdout",
                    "text": "Строка 8493 совпадает со строкой 12574\n",
                    "output_type": "stream"
                },
                {
                    "name": "stdout",
                    "text": "Строка 8495 совпадает со строкой 12576\n",
                    "output_type": "stream"
                },
                {
                    "name": "stdout",
                    "text": "Строка 8496 совпадает со строкой 12577\n",
                    "output_type": "stream"
                },
                {
                    "name": "stdout",
                    "text": "Строка 8497 совпадает со строкой 12578\n",
                    "output_type": "stream"
                },
                {
                    "name": "stdout",
                    "text": "Строка 8498 совпадает со строкой 12579\n",
                    "output_type": "stream"
                },
                {
                    "name": "stdout",
                    "text": "Строка 8499 совпадает со строкой 12580\n",
                    "output_type": "stream"
                },
                {
                    "name": "stdout",
                    "text": "Строка 8500 совпадает со строкой 12581\n",
                    "output_type": "stream"
                },
                {
                    "name": "stdout",
                    "text": "Строка 8501 совпадает со строкой 12582\n",
                    "output_type": "stream"
                },
                {
                    "name": "stdout",
                    "text": "Строка 8502 совпадает со строкой 12583\n",
                    "output_type": "stream"
                },
                {
                    "name": "stdout",
                    "text": "Строка 8503 совпадает со строкой 12584\n",
                    "output_type": "stream"
                },
                {
                    "name": "stdout",
                    "text": "Строка 8504 совпадает со строкой 12585\n",
                    "output_type": "stream"
                },
                {
                    "name": "stdout",
                    "text": "Строка 8505 совпадает со строкой 12586\n",
                    "output_type": "stream"
                },
                {
                    "name": "stdout",
                    "text": "Строка 8506 совпадает со строкой 12587\n",
                    "output_type": "stream"
                },
                {
                    "name": "stdout",
                    "text": "Строка 8507 совпадает со строкой 12588\n",
                    "output_type": "stream"
                },
                {
                    "name": "stdout",
                    "text": "Строка 8508 совпадает со строкой 12589\n",
                    "output_type": "stream"
                },
                {
                    "name": "stdout",
                    "text": "Строка 8509 совпадает со строкой 12590\n",
                    "output_type": "stream"
                },
                {
                    "name": "stdout",
                    "text": "Строка 8510 совпадает со строкой 12591\n",
                    "output_type": "stream"
                },
                {
                    "name": "stdout",
                    "text": "Строка 8511 совпадает со строкой 12592\n",
                    "output_type": "stream"
                },
                {
                    "name": "stdout",
                    "text": "Строка 8512 совпадает со строкой 12593\n",
                    "output_type": "stream"
                },
                {
                    "name": "stdout",
                    "text": "Строка 8513 совпадает со строкой 12594\n",
                    "output_type": "stream"
                },
                {
                    "name": "stdout",
                    "text": "Строка 8514 совпадает со строкой 12595\n",
                    "output_type": "stream"
                },
                {
                    "name": "stdout",
                    "text": "Строка 8515 совпадает со строкой 12596\n",
                    "output_type": "stream"
                },
                {
                    "name": "stdout",
                    "text": "Строка 8516 совпадает со строкой 12597\n",
                    "output_type": "stream"
                },
                {
                    "name": "stdout",
                    "text": "Строка 8517 совпадает со строкой 12598\n",
                    "output_type": "stream"
                },
                {
                    "name": "stdout",
                    "text": "Строка 8518 совпадает со строкой 12599\n",
                    "output_type": "stream"
                },
                {
                    "name": "stdout",
                    "text": "Строка 8519 совпадает со строкой 12600\n",
                    "output_type": "stream"
                },
                {
                    "name": "stdout",
                    "text": "Строка 8520 совпадает со строкой 12601\n",
                    "output_type": "stream"
                },
                {
                    "name": "stdout",
                    "text": "Строка 8523 совпадает со строкой 12058\n",
                    "output_type": "stream"
                },
                {
                    "name": "stdout",
                    "text": "Строка 8524 совпадает со строкой 12059\n",
                    "output_type": "stream"
                },
                {
                    "name": "stdout",
                    "text": "Строка 8525 совпадает со строкой 12060\n",
                    "output_type": "stream"
                },
                {
                    "name": "stdout",
                    "text": "Строка 8526 совпадает со строкой 12061\n",
                    "output_type": "stream"
                },
                {
                    "name": "stdout",
                    "text": "Строка 8527 совпадает со строкой 12062\n",
                    "output_type": "stream"
                },
                {
                    "name": "stdout",
                    "text": "Строка 8528 совпадает со строкой 12063\n",
                    "output_type": "stream"
                },
                {
                    "name": "stdout",
                    "text": "Строка 8529 совпадает со строкой 12064\n",
                    "output_type": "stream"
                },
                {
                    "name": "stdout",
                    "text": "Строка 8532 совпадает со строкой 12229\n",
                    "output_type": "stream"
                },
                {
                    "name": "stdout",
                    "text": "Строка 8533 совпадает со строкой 12230\n",
                    "output_type": "stream"
                },
                {
                    "name": "stdout",
                    "text": "Строка 8534 совпадает со строкой 12231\n",
                    "output_type": "stream"
                },
                {
                    "name": "stdout",
                    "text": "Строка 8535 совпадает со строкой 12232\n",
                    "output_type": "stream"
                },
                {
                    "name": "stdout",
                    "text": "Строка 8536 совпадает со строкой 12233\n",
                    "output_type": "stream"
                },
                {
                    "name": "stdout",
                    "text": "Строка 8537 совпадает со строкой 12234\n",
                    "output_type": "stream"
                },
                {
                    "name": "stdout",
                    "text": "Строка 8538 совпадает со строкой 12235\n",
                    "output_type": "stream"
                },
                {
                    "name": "stdout",
                    "text": "Строка 8539 совпадает со строкой 12236\n",
                    "output_type": "stream"
                },
                {
                    "name": "stdout",
                    "text": "Строка 8540 совпадает со строкой 12237\n",
                    "output_type": "stream"
                },
                {
                    "name": "stdout",
                    "text": "Строка 8541 совпадает со строкой 12238\n",
                    "output_type": "stream"
                },
                {
                    "name": "stdout",
                    "text": "Строка 8542 совпадает со строкой 12239\n",
                    "output_type": "stream"
                },
                {
                    "name": "stdout",
                    "text": "Строка 8543 совпадает со строкой 12240\n",
                    "output_type": "stream"
                },
                {
                    "name": "stdout",
                    "text": "Строка 8544 совпадает со строкой 12241\n",
                    "output_type": "stream"
                },
                {
                    "name": "stdout",
                    "text": "Строка 8545 совпадает со строкой 12242\n",
                    "output_type": "stream"
                },
                {
                    "name": "stdout",
                    "text": "Строка 8546 совпадает со строкой 12243\n",
                    "output_type": "stream"
                },
                {
                    "name": "stdout",
                    "text": "Строка 8547 совпадает со строкой 12244\n",
                    "output_type": "stream"
                },
                {
                    "name": "stdout",
                    "text": "Строка 8548 совпадает со строкой 12245\n",
                    "output_type": "stream"
                },
                {
                    "name": "stdout",
                    "text": "Строка 8549 совпадает со строкой 12246\n",
                    "output_type": "stream"
                },
                {
                    "name": "stdout",
                    "text": "Строка 8550 совпадает со строкой 12247\n",
                    "output_type": "stream"
                },
                {
                    "name": "stdout",
                    "text": "Строка 8551 совпадает со строкой 12248\n",
                    "output_type": "stream"
                },
                {
                    "name": "stdout",
                    "text": "Строка 8552 совпадает со строкой 12249\n",
                    "output_type": "stream"
                },
                {
                    "name": "stdout",
                    "text": "Строка 8553 совпадает со строкой 12250\n",
                    "output_type": "stream"
                },
                {
                    "name": "stdout",
                    "text": "Строка 8554 совпадает со строкой 12251\n",
                    "output_type": "stream"
                },
                {
                    "name": "stdout",
                    "text": "Строка 8650 совпадает со строкой 8966\n",
                    "output_type": "stream"
                },
                {
                    "name": "stdout",
                    "text": "Строка 8651 совпадает со строкой 8967\n",
                    "output_type": "stream"
                },
                {
                    "name": "stdout",
                    "text": "Строка 8653 совпадает со строкой 8969\n",
                    "output_type": "stream"
                },
                {
                    "name": "stdout",
                    "text": "Строка 8654 совпадает со строкой 8970\n",
                    "output_type": "stream"
                },
                {
                    "name": "stdout",
                    "text": "Строка 8655 совпадает со строкой 8971\n",
                    "output_type": "stream"
                },
                {
                    "name": "stdout",
                    "text": "Строка 8656 совпадает со строкой 8972\n",
                    "output_type": "stream"
                },
                {
                    "name": "stdout",
                    "text": "Строка 8657 совпадает со строкой 8973\n",
                    "output_type": "stream"
                },
                {
                    "name": "stdout",
                    "text": "Строка 8658 совпадает со строкой 8974\n",
                    "output_type": "stream"
                },
                {
                    "name": "stdout",
                    "text": "Строка 8659 совпадает со строкой 8975\n",
                    "output_type": "stream"
                },
                {
                    "name": "stdout",
                    "text": "Строка 8660 совпадает со строкой 8976\n",
                    "output_type": "stream"
                },
                {
                    "name": "stdout",
                    "text": "Строка 8661 совпадает со строкой 8977\n",
                    "output_type": "stream"
                },
                {
                    "name": "stdout",
                    "text": "Строка 8664 совпадает со строкой 8980\n",
                    "output_type": "stream"
                },
                {
                    "name": "stdout",
                    "text": "Строка 8665 совпадает со строкой 8981\n",
                    "output_type": "stream"
                },
                {
                    "name": "stdout",
                    "text": "Строка 8667 совпадает со строкой 8983\n",
                    "output_type": "stream"
                },
                {
                    "name": "stdout",
                    "text": "Строка 8668 совпадает со строкой 8984\n",
                    "output_type": "stream"
                },
                {
                    "name": "stdout",
                    "text": "Строка 8669 совпадает со строкой 8985\n",
                    "output_type": "stream"
                },
                {
                    "name": "stdout",
                    "text": "Строка 8670 совпадает со строкой 8986\n",
                    "output_type": "stream"
                },
                {
                    "name": "stdout",
                    "text": "Строка 8671 совпадает со строкой 8987\n",
                    "output_type": "stream"
                },
                {
                    "name": "stdout",
                    "text": "Строка 8672 совпадает со строкой 8988\n",
                    "output_type": "stream"
                },
                {
                    "name": "stdout",
                    "text": "Строка 8673 совпадает со строкой 8989\n",
                    "output_type": "stream"
                },
                {
                    "name": "stdout",
                    "text": "Строка 8674 совпадает со строкой 8990\n",
                    "output_type": "stream"
                },
                {
                    "name": "stdout",
                    "text": "Строка 8675 совпадает со строкой 8991\n",
                    "output_type": "stream"
                },
                {
                    "name": "stdout",
                    "text": "Строка 8678 совпадает со строкой 8994\n",
                    "output_type": "stream"
                },
                {
                    "name": "stdout",
                    "text": "Строка 8680 совпадает со строкой 8996\n",
                    "output_type": "stream"
                },
                {
                    "name": "stdout",
                    "text": "Строка 8681 совпадает со строкой 8997\n",
                    "output_type": "stream"
                },
                {
                    "name": "stdout",
                    "text": "Строка 8687 совпадает со строкой 9003\n",
                    "output_type": "stream"
                },
                {
                    "name": "stdout",
                    "text": "Строка 8689 совпадает со строкой 9005\n",
                    "output_type": "stream"
                },
                {
                    "name": "stdout",
                    "text": "Строка 8690 совпадает со строкой 9006\n",
                    "output_type": "stream"
                },
                {
                    "name": "stdout",
                    "text": "Строка 8692 совпадает со строкой 9008\n",
                    "output_type": "stream"
                },
                {
                    "name": "stdout",
                    "text": "Строка 8694 совпадает со строкой 9010\n",
                    "output_type": "stream"
                },
                {
                    "name": "stdout",
                    "text": "Строка 8695 совпадает со строкой 9011\n",
                    "output_type": "stream"
                },
                {
                    "name": "stdout",
                    "text": "Строка 8697 совпадает со строкой 9013\n",
                    "output_type": "stream"
                },
                {
                    "name": "stdout",
                    "text": "Строка 8699 совпадает со строкой 9015\n",
                    "output_type": "stream"
                },
                {
                    "name": "stdout",
                    "text": "Строка 8700 совпадает со строкой 9016\n",
                    "output_type": "stream"
                },
                {
                    "name": "stdout",
                    "text": "Строка 8702 совпадает со строкой 9018\n",
                    "output_type": "stream"
                },
                {
                    "name": "stdout",
                    "text": "Строка 8704 совпадает со строкой 9020\n",
                    "output_type": "stream"
                },
                {
                    "name": "stdout",
                    "text": "Строка 8705 совпадает со строкой 9021\n",
                    "output_type": "stream"
                },
                {
                    "name": "stdout",
                    "text": "Строка 8707 совпадает со строкой 9023\n",
                    "output_type": "stream"
                },
                {
                    "name": "stdout",
                    "text": "Строка 8709 совпадает со строкой 9025\n",
                    "output_type": "stream"
                },
                {
                    "name": "stdout",
                    "text": "Строка 8710 совпадает со строкой 9026\n",
                    "output_type": "stream"
                },
                {
                    "name": "stdout",
                    "text": "Строка 8712 совпадает со строкой 9028\n",
                    "output_type": "stream"
                },
                {
                    "name": "stdout",
                    "text": "Строка 8714 совпадает со строкой 9030\n",
                    "output_type": "stream"
                },
                {
                    "name": "stdout",
                    "text": "Строка 8715 совпадает со строкой 9031\n",
                    "output_type": "stream"
                },
                {
                    "name": "stdout",
                    "text": "Строка 8717 совпадает со строкой 9033\n",
                    "output_type": "stream"
                },
                {
                    "name": "stdout",
                    "text": "Строка 8719 совпадает со строкой 9035\n",
                    "output_type": "stream"
                },
                {
                    "name": "stdout",
                    "text": "Строка 8720 совпадает со строкой 9036\n",
                    "output_type": "stream"
                },
                {
                    "name": "stdout",
                    "text": "Строка 8722 совпадает со строкой 9038\n",
                    "output_type": "stream"
                },
                {
                    "name": "stdout",
                    "text": "Строка 8724 совпадает со строкой 9040\n",
                    "output_type": "stream"
                },
                {
                    "name": "stdout",
                    "text": "Строка 8725 совпадает со строкой 9041\n",
                    "output_type": "stream"
                },
                {
                    "name": "stdout",
                    "text": "Строка 8727 совпадает со строкой 9043\n",
                    "output_type": "stream"
                },
                {
                    "name": "stdout",
                    "text": "Строка 8729 совпадает со строкой 9045\n",
                    "output_type": "stream"
                },
                {
                    "name": "stdout",
                    "text": "Строка 8730 совпадает со строкой 9046\n",
                    "output_type": "stream"
                },
                {
                    "name": "stdout",
                    "text": "Строка 8732 совпадает со строкой 9048\n",
                    "output_type": "stream"
                },
                {
                    "name": "stdout",
                    "text": "Строка 8734 совпадает со строкой 9050\n",
                    "output_type": "stream"
                },
                {
                    "name": "stdout",
                    "text": "Строка 8735 совпадает со строкой 9051\n",
                    "output_type": "stream"
                },
                {
                    "name": "stdout",
                    "text": "Строка 8737 совпадает со строкой 9053\n",
                    "output_type": "stream"
                },
                {
                    "name": "stdout",
                    "text": "Строка 8739 совпадает со строкой 9055\n",
                    "output_type": "stream"
                },
                {
                    "name": "stdout",
                    "text": "Строка 8740 совпадает со строкой 9056\n",
                    "output_type": "stream"
                },
                {
                    "name": "stdout",
                    "text": "Строка 8742 совпадает со строкой 9058\n",
                    "output_type": "stream"
                },
                {
                    "name": "stdout",
                    "text": "Строка 8744 совпадает со строкой 9060\n",
                    "output_type": "stream"
                },
                {
                    "name": "stdout",
                    "text": "Строка 8745 совпадает со строкой 9061\n",
                    "output_type": "stream"
                },
                {
                    "name": "stdout",
                    "text": "Строка 8747 совпадает со строкой 9063\n",
                    "output_type": "stream"
                },
                {
                    "name": "stdout",
                    "text": "Строка 8749 совпадает со строкой 9065\n",
                    "output_type": "stream"
                },
                {
                    "name": "stdout",
                    "text": "Строка 8750 совпадает со строкой 9066\n",
                    "output_type": "stream"
                },
                {
                    "name": "stdout",
                    "text": "Строка 8752 совпадает со строкой 9068\n",
                    "output_type": "stream"
                },
                {
                    "name": "stdout",
                    "text": "Строка 8754 совпадает со строкой 9070\n",
                    "output_type": "stream"
                },
                {
                    "name": "stdout",
                    "text": "Строка 8755 совпадает со строкой 9071\n",
                    "output_type": "stream"
                },
                {
                    "name": "stdout",
                    "text": "Строка 8757 совпадает со строкой 9073\n",
                    "output_type": "stream"
                },
                {
                    "name": "stdout",
                    "text": "Строка 8759 совпадает со строкой 9075\n",
                    "output_type": "stream"
                },
                {
                    "name": "stdout",
                    "text": "Строка 8760 совпадает со строкой 9076\n",
                    "output_type": "stream"
                },
                {
                    "name": "stdout",
                    "text": "Строка 8762 совпадает со строкой 9078\n",
                    "output_type": "stream"
                },
                {
                    "name": "stdout",
                    "text": "Строка 8764 совпадает со строкой 9080\n",
                    "output_type": "stream"
                },
                {
                    "name": "stdout",
                    "text": "Строка 8765 совпадает со строкой 9081\n",
                    "output_type": "stream"
                },
                {
                    "name": "stdout",
                    "text": "Строка 8767 совпадает со строкой 9083\n",
                    "output_type": "stream"
                },
                {
                    "name": "stdout",
                    "text": "Строка 8769 совпадает со строкой 9085\n",
                    "output_type": "stream"
                },
                {
                    "name": "stdout",
                    "text": "Строка 8770 совпадает со строкой 9086\n",
                    "output_type": "stream"
                },
                {
                    "name": "stdout",
                    "text": "Строка 8772 совпадает со строкой 9088\n",
                    "output_type": "stream"
                },
                {
                    "name": "stdout",
                    "text": "Строка 8774 совпадает со строкой 9090\n",
                    "output_type": "stream"
                },
                {
                    "name": "stdout",
                    "text": "Строка 8775 совпадает со строкой 9091\n",
                    "output_type": "stream"
                },
                {
                    "name": "stdout",
                    "text": "Строка 8781 совпадает со строкой 9097\n",
                    "output_type": "stream"
                },
                {
                    "name": "stdout",
                    "text": "Строка 8782 совпадает со строкой 9098\n",
                    "output_type": "stream"
                },
                {
                    "name": "stdout",
                    "text": "Строка 8785 совпадает со строкой 9101\n",
                    "output_type": "stream"
                },
                {
                    "name": "stdout",
                    "text": "Строка 8786 совпадает со строкой 9102\n",
                    "output_type": "stream"
                },
                {
                    "name": "stdout",
                    "text": "Строка 8787 совпадает со строкой 9103\n",
                    "output_type": "stream"
                },
                {
                    "name": "stdout",
                    "text": "Строка 8788 совпадает со строкой 9104\n",
                    "output_type": "stream"
                },
                {
                    "name": "stdout",
                    "text": "Строка 8794 совпадает со строкой 9110\n",
                    "output_type": "stream"
                },
                {
                    "name": "stdout",
                    "text": "Строка 8797 совпадает со строкой 9113\n",
                    "output_type": "stream"
                },
                {
                    "name": "stdout",
                    "text": "Строка 8798 совпадает со строкой 9114\n",
                    "output_type": "stream"
                },
                {
                    "name": "stdout",
                    "text": "Строка 8799 совпадает со строкой 9115\n",
                    "output_type": "stream"
                },
                {
                    "name": "stdout",
                    "text": "Строка 8801 совпадает со строкой 9127\n",
                    "output_type": "stream"
                },
                {
                    "name": "stdout",
                    "text": "Строка 8803 совпадает со строкой 9129\n",
                    "output_type": "stream"
                },
                {
                    "name": "stdout",
                    "text": "Строка 8804 совпадает со строкой 9130\n",
                    "output_type": "stream"
                },
                {
                    "name": "stdout",
                    "text": "Строка 8805 совпадает со строкой 9131\n",
                    "output_type": "stream"
                },
                {
                    "name": "stdout",
                    "text": "Строка 8807 совпадает со строкой 9133\n",
                    "output_type": "stream"
                },
                {
                    "name": "stdout",
                    "text": "Строка 8809 совпадает со строкой 9135\n",
                    "output_type": "stream"
                },
                {
                    "name": "stdout",
                    "text": "Строка 8810 совпадает со строкой 9136\n",
                    "output_type": "stream"
                },
                {
                    "name": "stdout",
                    "text": "Строка 8811 совпадает со строкой 9137\n",
                    "output_type": "stream"
                },
                {
                    "name": "stdout",
                    "text": "Строка 8812 совпадает со строкой 9148\n",
                    "output_type": "stream"
                },
                {
                    "name": "stdout",
                    "text": "Строка 8813 совпадает со строкой 9149\n",
                    "output_type": "stream"
                },
                {
                    "name": "stdout",
                    "text": "Строка 8814 совпадает со строкой 9150\n",
                    "output_type": "stream"
                },
                {
                    "name": "stdout",
                    "text": "Строка 8815 совпадает со строкой 9151\n",
                    "output_type": "stream"
                },
                {
                    "name": "stdout",
                    "text": "Строка 8816 совпадает со строкой 9172\n",
                    "output_type": "stream"
                },
                {
                    "name": "stdout",
                    "text": "Строка 8817 совпадает со строкой 9173\n",
                    "output_type": "stream"
                },
                {
                    "name": "stdout",
                    "text": "Строка 8818 совпадает со строкой 9166\n",
                    "output_type": "stream"
                },
                {
                    "name": "stdout",
                    "text": "Строка 8819 совпадает со строкой 9167\n",
                    "output_type": "stream"
                },
                {
                    "name": "stdout",
                    "text": "Строка 8822 совпадает со строкой 9160\n",
                    "output_type": "stream"
                },
                {
                    "name": "stdout",
                    "text": "Строка 8824 совпадает со строкой 9152\n",
                    "output_type": "stream"
                },
                {
                    "name": "stdout",
                    "text": "Строка 8825 совпадает со строкой 9153\n",
                    "output_type": "stream"
                },
                {
                    "name": "stdout",
                    "text": "Строка 8826 совпадает со строкой 9154\n",
                    "output_type": "stream"
                },
                {
                    "name": "stdout",
                    "text": "Строка 8828 совпадает со строкой 9146\n",
                    "output_type": "stream"
                },
                {
                    "name": "stdout",
                    "text": "Строка 8830 совпадает со строкой 9099\n",
                    "output_type": "stream"
                },
                {
                    "name": "stdout",
                    "text": "Строка 8831 совпадает со строкой 9100\n",
                    "output_type": "stream"
                },
                {
                    "name": "stdout",
                    "text": "Строка 8832 совпадает со строкой 9101\n",
                    "output_type": "stream"
                },
                {
                    "name": "stdout",
                    "text": "Строка 8834 совпадает со строкой 9093\n",
                    "output_type": "stream"
                },
                {
                    "name": "stdout",
                    "text": "Строка 8837 совпадает со строкой 9125\n",
                    "output_type": "stream"
                },
                {
                    "name": "stdout",
                    "text": "Строка 8838 совпадает со строкой 9126\n",
                    "output_type": "stream"
                },
                {
                    "name": "stdout",
                    "text": "Строка 8839 совпадает со строкой 9127\n",
                    "output_type": "stream"
                },
                {
                    "name": "stdout",
                    "text": "Строка 11909 совпадает со строкой 11910\n",
                    "output_type": "stream"
                },
                {
                    "name": "stdout",
                    "text": "Строка 12311 совпадает со строкой 12312\n",
                    "output_type": "stream"
                },
                {
                    "name": "stdout",
                    "text": "Количество удаленных строк: 3415\nКоличество сравнений: 120840738\nВремя выполнения программы: 0:40:17.227668\n",
                    "output_type": "stream"
                }
            ],
            "execution_count": 27
        }
    ]
}